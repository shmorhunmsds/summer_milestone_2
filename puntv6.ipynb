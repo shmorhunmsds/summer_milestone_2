{
 "cells": [
  {
   "cell_type": "code",
   "execution_count": 7,
   "id": "440b22dc",
   "metadata": {},
   "outputs": [
    {
     "name": "stderr",
     "output_type": "stream",
     "text": [
      "/tmp/ipykernel_10623/3235047421.py:6: DtypeWarning: Columns (10) have mixed types. Specify dtype option on import or set low_memory=False.\n",
      "  df = pd.read_csv(path)\n"
     ]
    },
    {
     "name": "stdout",
     "output_type": "stream",
     "text": [
      "Processed 10 of 632 games\n",
      "Processed 20 of 632 games\n",
      "Processed 30 of 632 games\n",
      "Processed 40 of 632 games\n",
      "Processed 50 of 632 games\n",
      "Processed 60 of 632 games\n",
      "Processed 70 of 632 games\n",
      "Processed 80 of 632 games\n",
      "Processed 90 of 632 games\n",
      "Processed 100 of 632 games\n",
      "Processed 110 of 632 games\n",
      "Processed 120 of 632 games\n",
      "Processed 130 of 632 games\n",
      "Processed 140 of 632 games\n",
      "Processed 150 of 632 games\n",
      "Processed 160 of 632 games\n",
      "Processed 170 of 632 games\n"
     ]
    },
    {
     "name": "stderr",
     "output_type": "stream",
     "text": [
      "/tmp/ipykernel_10623/3235047421.py:48: UserWarning: Could not infer format, so each element will be parsed individually, falling back to `dateutil`. To ensure parsing is consistent and as-expected, please specify a format.\n",
      "  chunk_df['time'] = pd.to_datetime(chunk_df['time'])\n"
     ]
    },
    {
     "name": "stdout",
     "output_type": "stream",
     "text": [
      "Processed 180 of 632 games\n",
      "Processed 190 of 632 games\n",
      "Processed 200 of 632 games\n",
      "Processed 210 of 632 games\n",
      "Processed 220 of 632 games\n",
      "Processed 230 of 632 games\n",
      "Processed 240 of 632 games\n",
      "Processed 250 of 632 games\n",
      "Processed 260 of 632 games\n",
      "Processed 270 of 632 games\n",
      "Processed 280 of 632 games\n",
      "Processed 290 of 632 games\n",
      "Processed 300 of 632 games\n",
      "Processed 310 of 632 games\n",
      "Processed 320 of 632 games\n",
      "Processed 330 of 632 games\n",
      "Processed 340 of 632 games\n",
      "Processed 350 of 632 games\n",
      "Processed 360 of 632 games\n",
      "Processed 370 of 632 games\n",
      "Processed 380 of 632 games\n",
      "Processed 390 of 632 games\n",
      "Processed 400 of 632 games\n",
      "Processed 410 of 632 games\n",
      "Processed 420 of 632 games\n",
      "Processed 430 of 632 games\n",
      "Processed 440 of 632 games\n",
      "Processed 450 of 632 games\n",
      "Processed 460 of 632 games\n",
      "Processed 470 of 632 games\n",
      "Processed 480 of 632 games\n",
      "Processed 490 of 632 games\n",
      "Processed 500 of 632 games\n",
      "Processed 510 of 632 games\n",
      "Processed 520 of 632 games\n",
      "Processed 530 of 632 games\n",
      "Processed 540 of 632 games\n",
      "Processed 550 of 632 games\n",
      "Processed 560 of 632 games\n",
      "Processed 570 of 632 games\n",
      "Processed 580 of 632 games\n",
      "Processed 590 of 632 games\n",
      "Processed 600 of 632 games\n",
      "Processed 610 of 632 games\n",
      "Processed 620 of 632 games\n",
      "Processed 630 of 632 games\n",
      "Processed 632 of 632 games\n",
      "274208 (274208, 240)\n"
     ]
    },
    {
     "name": "stderr",
     "output_type": "stream",
     "text": [
      "/tmp/ipykernel_10623/3235047421.py:96: PerformanceWarning: DataFrame is highly fragmented.  This is usually the result of calling `frame.insert` many times, which has poor performance.  Consider joining all columns at once using pd.concat(axis=1) instead. To get a de-fragmented frame, use `newframe = frame.copy()`\n",
      "  motion_wide.reset_index(inplace=True)\n",
      "/tmp/ipykernel_10623/3235047421.py:96: PerformanceWarning: DataFrame is highly fragmented.  This is usually the result of calling `frame.insert` many times, which has poor performance.  Consider joining all columns at once using pd.concat(axis=1) instead. To get a de-fragmented frame, use `newframe = frame.copy()`\n",
      "  motion_wide.reset_index(inplace=True)\n",
      "/tmp/ipykernel_10623/3235047421.py:96: PerformanceWarning: DataFrame is highly fragmented.  This is usually the result of calling `frame.insert` many times, which has poor performance.  Consider joining all columns at once using pd.concat(axis=1) instead. To get a de-fragmented frame, use `newframe = frame.copy()`\n",
      "  motion_wide.reset_index(inplace=True)\n",
      "/tmp/ipykernel_10623/3235047421.py:96: PerformanceWarning: DataFrame is highly fragmented.  This is usually the result of calling `frame.insert` many times, which has poor performance.  Consider joining all columns at once using pd.concat(axis=1) instead. To get a de-fragmented frame, use `newframe = frame.copy()`\n",
      "  motion_wide.reset_index(inplace=True)\n"
     ]
    }
   ],
   "source": [
    "import numpy as np\n",
    "import pandas as pd\n",
    "\n",
    "def load_and_normalize(path):\n",
    "    \"\"\"Load a CSV, strip and lowercase its column names.\"\"\"\n",
    "    df = pd.read_csv(path)\n",
    "    df.columns = df.columns.str.strip().str.lower()\n",
    "    return df\n",
    "\n",
    "\n",
    "# NGS chunks for 2016 & 2017\n",
    "ngs_paths = [\n",
    "    'datasets/NFL-Punt-Analytics-Competition/NGS-2016-pre.csv',\n",
    "    'datasets/NFL-Punt-Analytics-Competition/NGS-2016-post.csv',\n",
    "    'datasets/NFL-Punt-Analytics-Competition/NGS-2016-reg-wk1-6.csv',\n",
    "    'datasets/NFL-Punt-Analytics-Competition/NGS-2016-reg-wk7-12.csv',\n",
    "    'datasets/NFL-Punt-Analytics-Competition/NGS-2016-reg-wk13-17.csv',\n",
    "    'datasets/NFL-Punt-Analytics-Competition/NGS-2017-pre.csv',\n",
    "    'datasets/NFL-Punt-Analytics-Competition/NGS-2017-post.csv',\n",
    "    'datasets/NFL-Punt-Analytics-Competition/NGS-2017-reg-wk1-6.csv',\n",
    "    'datasets/NFL-Punt-Analytics-Competition/NGS-2017-reg-wk7-12.csv',\n",
    "    'datasets/NFL-Punt-Analytics-Competition/NGS-2017-reg-wk13-17.csv',\n",
    "]\n",
    "df = pd.concat([load_and_normalize(p) for p in ngs_paths], ignore_index=True)\n",
    "\n",
    "ndtypes = {'gamekey': 'int16',         \n",
    "           'playid': 'int16',         \n",
    "           'gsisid': 'float32',        \n",
    "           'time': 'str',         \n",
    "           'x': 'float32',         \n",
    "           'y': 'float32',         \n",
    "           'dis': 'float32',\n",
    "           'o': 'float32',\n",
    "           'event': 'str'}\n",
    "\n",
    "df = df.astype(ndtypes)\n",
    "df.dropna(subset='gsisid', inplace=True)\n",
    "#df['gsisid'] = df['gsisid'].fillna(-1)\n",
    "\n",
    "import warnings\n",
    "warnings.filterwarnings('ignore', category=pd.errors.SettingWithCopyWarning)\n",
    "\n",
    "def process_motion_chunk(chunk_df):\n",
    "    # Make an explicit copy to avoid warnings\n",
    "    chunk_df = chunk_df.copy()\n",
    "    \n",
    "    # Convert to datetime\n",
    "    chunk_df['time'] = pd.to_datetime(chunk_df['time'])\n",
    "    \n",
    "    # Calculate relative time from play start\n",
    "    chunk_df['relative_time'] = chunk_df.groupby(['season_year', 'gamekey', 'playid', 'gsisid'])['time'].transform(\n",
    "        lambda x: (x - x.min()).dt.total_seconds()\n",
    "    )\n",
    "    \n",
    "    # Create time deciles\n",
    "    chunk_df['time_decile'] = chunk_df.groupby(['season_year', 'gamekey', 'playid', 'gsisid'])['relative_time'].transform(\n",
    "        lambda x: pd.cut(x, bins=60, labels=[f'slice_{i}' for i in range(60)])\n",
    "    )\n",
    "    \n",
    "    # Pivot to wide\n",
    "    motion_wide = chunk_df.pivot_table(\n",
    "        index=['season_year', 'gamekey', 'playid', 'gsisid'], \n",
    "        columns='time_decile',\n",
    "        values=['dis', 'x', 'y', 'o'],\n",
    "        aggfunc='mean',\n",
    "        observed=True\n",
    "    )\n",
    "    \n",
    "    # Flatten columns\n",
    "    motion_wide.columns = [f'{metric}_{time}' for metric, time in motion_wide.columns]\n",
    "    \n",
    "    # Fill missing values by interpolating across time slices\n",
    "    for metric in ['dis', 'x', 'y', 'o']:\n",
    "        metric_cols = [f'{metric}_slice_{i}' for i in range(60)]\n",
    "        motion_wide[metric_cols] = motion_wide[metric_cols].interpolate(axis=1, method='linear')\n",
    "    \n",
    "    return motion_wide\n",
    "\n",
    "# Process in chunks\n",
    "motion_wide_list = []\n",
    "unique_games = df['gamekey'].unique()\n",
    "\n",
    "for i in range(0, len(unique_games), 10):  # Process 10 games at a time\n",
    "    game_chunk = unique_games[i:i+10]\n",
    "    chunk_df = df[df['gamekey'].isin(game_chunk)]\n",
    "    \n",
    "    motion_wide_chunk = process_motion_chunk(chunk_df)\n",
    "    motion_wide_list.append(motion_wide_chunk)\n",
    "    \n",
    "    print(f\"Processed {i+len(game_chunk)} of {len(unique_games)} games\")\n",
    "\n",
    "# Combine all chunks\n",
    "motion_wide = pd.concat(motion_wide_list, axis=0)\n",
    "\n",
    "print(len(motion_wide), motion_wide.shape)\n",
    "motion_wide.reset_index(inplace=True)\n",
    "revs = load_and_normalize('datasets/NFL-Punt-Analytics-Competition/video_review.csv')\n",
    "df_final = motion_wide.merge(revs, on=['season_year', 'gamekey', 'playid', 'gsisid'], how='left')\n",
    "df_final['concussed'] = df_final['player_activity_derived'].notnull().astype(int)\n",
    "df_final.dropna(subset=['dis_slice_0'], inplace=True)"
   ]
  },
  {
   "cell_type": "code",
   "execution_count": 8,
   "id": "6b7158cb",
   "metadata": {},
   "outputs": [
    {
     "data": {
      "application/vnd.microsoft.datawrangler.viewer.v0+json": {
       "columns": [
        {
         "name": "index",
         "rawType": "int64",
         "type": "integer"
        },
        {
         "name": "season_year",
         "rawType": "int64",
         "type": "integer"
        },
        {
         "name": "gamekey",
         "rawType": "int16",
         "type": "integer"
        },
        {
         "name": "playid",
         "rawType": "int16",
         "type": "integer"
        },
        {
         "name": "gsisid",
         "rawType": "float32",
         "type": "float"
        },
        {
         "name": "dis_slice_0",
         "rawType": "float32",
         "type": "float"
        },
        {
         "name": "dis_slice_1",
         "rawType": "float32",
         "type": "float"
        },
        {
         "name": "dis_slice_2",
         "rawType": "float32",
         "type": "float"
        },
        {
         "name": "dis_slice_3",
         "rawType": "float32",
         "type": "float"
        },
        {
         "name": "dis_slice_4",
         "rawType": "float32",
         "type": "float"
        },
        {
         "name": "dis_slice_5",
         "rawType": "float32",
         "type": "float"
        },
        {
         "name": "dis_slice_6",
         "rawType": "float32",
         "type": "float"
        },
        {
         "name": "dis_slice_7",
         "rawType": "float32",
         "type": "float"
        },
        {
         "name": "dis_slice_8",
         "rawType": "float32",
         "type": "float"
        },
        {
         "name": "dis_slice_9",
         "rawType": "float32",
         "type": "float"
        },
        {
         "name": "dis_slice_10",
         "rawType": "float32",
         "type": "float"
        },
        {
         "name": "dis_slice_11",
         "rawType": "float32",
         "type": "float"
        },
        {
         "name": "dis_slice_12",
         "rawType": "float32",
         "type": "float"
        },
        {
         "name": "dis_slice_13",
         "rawType": "float32",
         "type": "float"
        },
        {
         "name": "dis_slice_14",
         "rawType": "float32",
         "type": "float"
        },
        {
         "name": "dis_slice_15",
         "rawType": "float32",
         "type": "float"
        },
        {
         "name": "dis_slice_16",
         "rawType": "float32",
         "type": "float"
        },
        {
         "name": "dis_slice_17",
         "rawType": "float32",
         "type": "float"
        },
        {
         "name": "dis_slice_18",
         "rawType": "float32",
         "type": "float"
        },
        {
         "name": "dis_slice_19",
         "rawType": "float32",
         "type": "float"
        },
        {
         "name": "dis_slice_20",
         "rawType": "float32",
         "type": "float"
        },
        {
         "name": "dis_slice_21",
         "rawType": "float32",
         "type": "float"
        },
        {
         "name": "dis_slice_22",
         "rawType": "float32",
         "type": "float"
        },
        {
         "name": "dis_slice_23",
         "rawType": "float32",
         "type": "float"
        },
        {
         "name": "dis_slice_24",
         "rawType": "float32",
         "type": "float"
        },
        {
         "name": "dis_slice_25",
         "rawType": "float32",
         "type": "float"
        },
        {
         "name": "dis_slice_26",
         "rawType": "float32",
         "type": "float"
        },
        {
         "name": "dis_slice_27",
         "rawType": "float32",
         "type": "float"
        },
        {
         "name": "dis_slice_28",
         "rawType": "float32",
         "type": "float"
        },
        {
         "name": "dis_slice_29",
         "rawType": "float32",
         "type": "float"
        },
        {
         "name": "dis_slice_30",
         "rawType": "float32",
         "type": "float"
        },
        {
         "name": "dis_slice_31",
         "rawType": "float32",
         "type": "float"
        },
        {
         "name": "dis_slice_32",
         "rawType": "float32",
         "type": "float"
        },
        {
         "name": "dis_slice_33",
         "rawType": "float32",
         "type": "float"
        },
        {
         "name": "dis_slice_34",
         "rawType": "float32",
         "type": "float"
        },
        {
         "name": "dis_slice_35",
         "rawType": "float32",
         "type": "float"
        },
        {
         "name": "dis_slice_36",
         "rawType": "float32",
         "type": "float"
        },
        {
         "name": "dis_slice_37",
         "rawType": "float32",
         "type": "float"
        },
        {
         "name": "dis_slice_38",
         "rawType": "float32",
         "type": "float"
        },
        {
         "name": "dis_slice_39",
         "rawType": "float32",
         "type": "float"
        },
        {
         "name": "dis_slice_40",
         "rawType": "float32",
         "type": "float"
        },
        {
         "name": "dis_slice_41",
         "rawType": "float32",
         "type": "float"
        },
        {
         "name": "dis_slice_42",
         "rawType": "float32",
         "type": "float"
        },
        {
         "name": "dis_slice_43",
         "rawType": "float32",
         "type": "float"
        },
        {
         "name": "dis_slice_44",
         "rawType": "float32",
         "type": "float"
        },
        {
         "name": "dis_slice_45",
         "rawType": "float32",
         "type": "float"
        },
        {
         "name": "dis_slice_46",
         "rawType": "float32",
         "type": "float"
        },
        {
         "name": "dis_slice_47",
         "rawType": "float32",
         "type": "float"
        },
        {
         "name": "dis_slice_48",
         "rawType": "float32",
         "type": "float"
        },
        {
         "name": "dis_slice_49",
         "rawType": "float32",
         "type": "float"
        },
        {
         "name": "dis_slice_50",
         "rawType": "float32",
         "type": "float"
        },
        {
         "name": "dis_slice_51",
         "rawType": "float32",
         "type": "float"
        },
        {
         "name": "dis_slice_52",
         "rawType": "float32",
         "type": "float"
        },
        {
         "name": "dis_slice_53",
         "rawType": "float32",
         "type": "float"
        },
        {
         "name": "dis_slice_54",
         "rawType": "float32",
         "type": "float"
        },
        {
         "name": "dis_slice_55",
         "rawType": "float32",
         "type": "float"
        },
        {
         "name": "dis_slice_56",
         "rawType": "float32",
         "type": "float"
        },
        {
         "name": "dis_slice_57",
         "rawType": "float32",
         "type": "float"
        },
        {
         "name": "dis_slice_58",
         "rawType": "float32",
         "type": "float"
        },
        {
         "name": "dis_slice_59",
         "rawType": "float32",
         "type": "float"
        },
        {
         "name": "o_slice_0",
         "rawType": "float32",
         "type": "float"
        },
        {
         "name": "o_slice_1",
         "rawType": "float32",
         "type": "float"
        },
        {
         "name": "o_slice_2",
         "rawType": "float32",
         "type": "float"
        },
        {
         "name": "o_slice_3",
         "rawType": "float32",
         "type": "float"
        },
        {
         "name": "o_slice_4",
         "rawType": "float32",
         "type": "float"
        },
        {
         "name": "o_slice_5",
         "rawType": "float32",
         "type": "float"
        },
        {
         "name": "o_slice_6",
         "rawType": "float32",
         "type": "float"
        },
        {
         "name": "o_slice_7",
         "rawType": "float32",
         "type": "float"
        },
        {
         "name": "o_slice_8",
         "rawType": "float32",
         "type": "float"
        },
        {
         "name": "o_slice_9",
         "rawType": "float32",
         "type": "float"
        },
        {
         "name": "o_slice_10",
         "rawType": "float32",
         "type": "float"
        },
        {
         "name": "o_slice_11",
         "rawType": "float32",
         "type": "float"
        },
        {
         "name": "o_slice_12",
         "rawType": "float32",
         "type": "float"
        },
        {
         "name": "o_slice_13",
         "rawType": "float32",
         "type": "float"
        },
        {
         "name": "o_slice_14",
         "rawType": "float32",
         "type": "float"
        },
        {
         "name": "o_slice_15",
         "rawType": "float32",
         "type": "float"
        },
        {
         "name": "o_slice_16",
         "rawType": "float32",
         "type": "float"
        },
        {
         "name": "o_slice_17",
         "rawType": "float32",
         "type": "float"
        },
        {
         "name": "o_slice_18",
         "rawType": "float32",
         "type": "float"
        },
        {
         "name": "o_slice_19",
         "rawType": "float32",
         "type": "float"
        },
        {
         "name": "o_slice_20",
         "rawType": "float32",
         "type": "float"
        },
        {
         "name": "o_slice_21",
         "rawType": "float32",
         "type": "float"
        },
        {
         "name": "o_slice_22",
         "rawType": "float32",
         "type": "float"
        },
        {
         "name": "o_slice_23",
         "rawType": "float32",
         "type": "float"
        },
        {
         "name": "o_slice_24",
         "rawType": "float32",
         "type": "float"
        },
        {
         "name": "o_slice_25",
         "rawType": "float32",
         "type": "float"
        },
        {
         "name": "o_slice_26",
         "rawType": "float32",
         "type": "float"
        },
        {
         "name": "o_slice_27",
         "rawType": "float32",
         "type": "float"
        },
        {
         "name": "o_slice_28",
         "rawType": "float32",
         "type": "float"
        },
        {
         "name": "o_slice_29",
         "rawType": "float32",
         "type": "float"
        },
        {
         "name": "o_slice_30",
         "rawType": "float32",
         "type": "float"
        },
        {
         "name": "o_slice_31",
         "rawType": "float32",
         "type": "float"
        },
        {
         "name": "o_slice_32",
         "rawType": "float32",
         "type": "float"
        },
        {
         "name": "o_slice_33",
         "rawType": "float32",
         "type": "float"
        },
        {
         "name": "o_slice_34",
         "rawType": "float32",
         "type": "float"
        },
        {
         "name": "o_slice_35",
         "rawType": "float32",
         "type": "float"
        },
        {
         "name": "o_slice_36",
         "rawType": "float32",
         "type": "float"
        },
        {
         "name": "o_slice_37",
         "rawType": "float32",
         "type": "float"
        },
        {
         "name": "o_slice_38",
         "rawType": "float32",
         "type": "float"
        },
        {
         "name": "o_slice_39",
         "rawType": "float32",
         "type": "float"
        },
        {
         "name": "o_slice_40",
         "rawType": "float32",
         "type": "float"
        },
        {
         "name": "o_slice_41",
         "rawType": "float32",
         "type": "float"
        },
        {
         "name": "o_slice_42",
         "rawType": "float32",
         "type": "float"
        },
        {
         "name": "o_slice_43",
         "rawType": "float32",
         "type": "float"
        },
        {
         "name": "o_slice_44",
         "rawType": "float32",
         "type": "float"
        },
        {
         "name": "o_slice_45",
         "rawType": "float32",
         "type": "float"
        },
        {
         "name": "o_slice_46",
         "rawType": "float32",
         "type": "float"
        },
        {
         "name": "o_slice_47",
         "rawType": "float32",
         "type": "float"
        },
        {
         "name": "o_slice_48",
         "rawType": "float32",
         "type": "float"
        },
        {
         "name": "o_slice_49",
         "rawType": "float32",
         "type": "float"
        },
        {
         "name": "o_slice_50",
         "rawType": "float32",
         "type": "float"
        },
        {
         "name": "o_slice_51",
         "rawType": "float32",
         "type": "float"
        },
        {
         "name": "o_slice_52",
         "rawType": "float32",
         "type": "float"
        },
        {
         "name": "o_slice_53",
         "rawType": "float32",
         "type": "float"
        },
        {
         "name": "o_slice_54",
         "rawType": "float32",
         "type": "float"
        },
        {
         "name": "o_slice_55",
         "rawType": "float32",
         "type": "float"
        },
        {
         "name": "o_slice_56",
         "rawType": "float32",
         "type": "float"
        },
        {
         "name": "o_slice_57",
         "rawType": "float32",
         "type": "float"
        },
        {
         "name": "o_slice_58",
         "rawType": "float32",
         "type": "float"
        },
        {
         "name": "o_slice_59",
         "rawType": "float32",
         "type": "float"
        },
        {
         "name": "x_slice_0",
         "rawType": "float32",
         "type": "float"
        },
        {
         "name": "x_slice_1",
         "rawType": "float32",
         "type": "float"
        },
        {
         "name": "x_slice_2",
         "rawType": "float32",
         "type": "float"
        },
        {
         "name": "x_slice_3",
         "rawType": "float32",
         "type": "float"
        },
        {
         "name": "x_slice_4",
         "rawType": "float32",
         "type": "float"
        },
        {
         "name": "x_slice_5",
         "rawType": "float32",
         "type": "float"
        },
        {
         "name": "x_slice_6",
         "rawType": "float32",
         "type": "float"
        },
        {
         "name": "x_slice_7",
         "rawType": "float32",
         "type": "float"
        },
        {
         "name": "x_slice_8",
         "rawType": "float32",
         "type": "float"
        },
        {
         "name": "x_slice_9",
         "rawType": "float32",
         "type": "float"
        },
        {
         "name": "x_slice_10",
         "rawType": "float32",
         "type": "float"
        },
        {
         "name": "x_slice_11",
         "rawType": "float32",
         "type": "float"
        },
        {
         "name": "x_slice_12",
         "rawType": "float32",
         "type": "float"
        },
        {
         "name": "x_slice_13",
         "rawType": "float32",
         "type": "float"
        },
        {
         "name": "x_slice_14",
         "rawType": "float32",
         "type": "float"
        },
        {
         "name": "x_slice_15",
         "rawType": "float32",
         "type": "float"
        },
        {
         "name": "x_slice_16",
         "rawType": "float32",
         "type": "float"
        },
        {
         "name": "x_slice_17",
         "rawType": "float32",
         "type": "float"
        },
        {
         "name": "x_slice_18",
         "rawType": "float32",
         "type": "float"
        },
        {
         "name": "x_slice_19",
         "rawType": "float32",
         "type": "float"
        },
        {
         "name": "x_slice_20",
         "rawType": "float32",
         "type": "float"
        },
        {
         "name": "x_slice_21",
         "rawType": "float32",
         "type": "float"
        },
        {
         "name": "x_slice_22",
         "rawType": "float32",
         "type": "float"
        },
        {
         "name": "x_slice_23",
         "rawType": "float32",
         "type": "float"
        },
        {
         "name": "x_slice_24",
         "rawType": "float32",
         "type": "float"
        },
        {
         "name": "x_slice_25",
         "rawType": "float32",
         "type": "float"
        },
        {
         "name": "x_slice_26",
         "rawType": "float32",
         "type": "float"
        },
        {
         "name": "x_slice_27",
         "rawType": "float32",
         "type": "float"
        },
        {
         "name": "x_slice_28",
         "rawType": "float32",
         "type": "float"
        },
        {
         "name": "x_slice_29",
         "rawType": "float32",
         "type": "float"
        },
        {
         "name": "x_slice_30",
         "rawType": "float32",
         "type": "float"
        },
        {
         "name": "x_slice_31",
         "rawType": "float32",
         "type": "float"
        },
        {
         "name": "x_slice_32",
         "rawType": "float32",
         "type": "float"
        },
        {
         "name": "x_slice_33",
         "rawType": "float32",
         "type": "float"
        },
        {
         "name": "x_slice_34",
         "rawType": "float32",
         "type": "float"
        },
        {
         "name": "x_slice_35",
         "rawType": "float32",
         "type": "float"
        },
        {
         "name": "x_slice_36",
         "rawType": "float32",
         "type": "float"
        },
        {
         "name": "x_slice_37",
         "rawType": "float32",
         "type": "float"
        },
        {
         "name": "x_slice_38",
         "rawType": "float32",
         "type": "float"
        },
        {
         "name": "x_slice_39",
         "rawType": "float32",
         "type": "float"
        },
        {
         "name": "x_slice_40",
         "rawType": "float32",
         "type": "float"
        },
        {
         "name": "x_slice_41",
         "rawType": "float32",
         "type": "float"
        },
        {
         "name": "x_slice_42",
         "rawType": "float32",
         "type": "float"
        },
        {
         "name": "x_slice_43",
         "rawType": "float32",
         "type": "float"
        },
        {
         "name": "x_slice_44",
         "rawType": "float32",
         "type": "float"
        },
        {
         "name": "x_slice_45",
         "rawType": "float32",
         "type": "float"
        },
        {
         "name": "x_slice_46",
         "rawType": "float32",
         "type": "float"
        },
        {
         "name": "x_slice_47",
         "rawType": "float32",
         "type": "float"
        },
        {
         "name": "x_slice_48",
         "rawType": "float32",
         "type": "float"
        },
        {
         "name": "x_slice_49",
         "rawType": "float32",
         "type": "float"
        },
        {
         "name": "x_slice_50",
         "rawType": "float32",
         "type": "float"
        },
        {
         "name": "x_slice_51",
         "rawType": "float32",
         "type": "float"
        },
        {
         "name": "x_slice_52",
         "rawType": "float32",
         "type": "float"
        },
        {
         "name": "x_slice_53",
         "rawType": "float32",
         "type": "float"
        },
        {
         "name": "x_slice_54",
         "rawType": "float32",
         "type": "float"
        },
        {
         "name": "x_slice_55",
         "rawType": "float32",
         "type": "float"
        },
        {
         "name": "x_slice_56",
         "rawType": "float32",
         "type": "float"
        },
        {
         "name": "x_slice_57",
         "rawType": "float32",
         "type": "float"
        },
        {
         "name": "x_slice_58",
         "rawType": "float32",
         "type": "float"
        },
        {
         "name": "x_slice_59",
         "rawType": "float32",
         "type": "float"
        },
        {
         "name": "y_slice_0",
         "rawType": "float32",
         "type": "float"
        },
        {
         "name": "y_slice_1",
         "rawType": "float32",
         "type": "float"
        },
        {
         "name": "y_slice_2",
         "rawType": "float32",
         "type": "float"
        },
        {
         "name": "y_slice_3",
         "rawType": "float32",
         "type": "float"
        },
        {
         "name": "y_slice_4",
         "rawType": "float32",
         "type": "float"
        },
        {
         "name": "y_slice_5",
         "rawType": "float32",
         "type": "float"
        },
        {
         "name": "y_slice_6",
         "rawType": "float32",
         "type": "float"
        },
        {
         "name": "y_slice_7",
         "rawType": "float32",
         "type": "float"
        },
        {
         "name": "y_slice_8",
         "rawType": "float32",
         "type": "float"
        },
        {
         "name": "y_slice_9",
         "rawType": "float32",
         "type": "float"
        },
        {
         "name": "y_slice_10",
         "rawType": "float32",
         "type": "float"
        },
        {
         "name": "y_slice_11",
         "rawType": "float32",
         "type": "float"
        },
        {
         "name": "y_slice_12",
         "rawType": "float32",
         "type": "float"
        },
        {
         "name": "y_slice_13",
         "rawType": "float32",
         "type": "float"
        },
        {
         "name": "y_slice_14",
         "rawType": "float32",
         "type": "float"
        },
        {
         "name": "y_slice_15",
         "rawType": "float32",
         "type": "float"
        },
        {
         "name": "y_slice_16",
         "rawType": "float32",
         "type": "float"
        },
        {
         "name": "y_slice_17",
         "rawType": "float32",
         "type": "float"
        },
        {
         "name": "y_slice_18",
         "rawType": "float32",
         "type": "float"
        },
        {
         "name": "y_slice_19",
         "rawType": "float32",
         "type": "float"
        },
        {
         "name": "y_slice_20",
         "rawType": "float32",
         "type": "float"
        },
        {
         "name": "y_slice_21",
         "rawType": "float32",
         "type": "float"
        },
        {
         "name": "y_slice_22",
         "rawType": "float32",
         "type": "float"
        },
        {
         "name": "y_slice_23",
         "rawType": "float32",
         "type": "float"
        },
        {
         "name": "y_slice_24",
         "rawType": "float32",
         "type": "float"
        },
        {
         "name": "y_slice_25",
         "rawType": "float32",
         "type": "float"
        },
        {
         "name": "y_slice_26",
         "rawType": "float32",
         "type": "float"
        },
        {
         "name": "y_slice_27",
         "rawType": "float32",
         "type": "float"
        },
        {
         "name": "y_slice_28",
         "rawType": "float32",
         "type": "float"
        },
        {
         "name": "y_slice_29",
         "rawType": "float32",
         "type": "float"
        },
        {
         "name": "y_slice_30",
         "rawType": "float32",
         "type": "float"
        },
        {
         "name": "y_slice_31",
         "rawType": "float32",
         "type": "float"
        },
        {
         "name": "y_slice_32",
         "rawType": "float32",
         "type": "float"
        },
        {
         "name": "y_slice_33",
         "rawType": "float32",
         "type": "float"
        },
        {
         "name": "y_slice_34",
         "rawType": "float32",
         "type": "float"
        },
        {
         "name": "y_slice_35",
         "rawType": "float32",
         "type": "float"
        },
        {
         "name": "y_slice_36",
         "rawType": "float32",
         "type": "float"
        },
        {
         "name": "y_slice_37",
         "rawType": "float32",
         "type": "float"
        },
        {
         "name": "y_slice_38",
         "rawType": "float32",
         "type": "float"
        },
        {
         "name": "y_slice_39",
         "rawType": "float32",
         "type": "float"
        },
        {
         "name": "y_slice_40",
         "rawType": "float32",
         "type": "float"
        },
        {
         "name": "y_slice_41",
         "rawType": "float32",
         "type": "float"
        },
        {
         "name": "y_slice_42",
         "rawType": "float32",
         "type": "float"
        },
        {
         "name": "y_slice_43",
         "rawType": "float32",
         "type": "float"
        },
        {
         "name": "y_slice_44",
         "rawType": "float32",
         "type": "float"
        },
        {
         "name": "y_slice_45",
         "rawType": "float32",
         "type": "float"
        },
        {
         "name": "y_slice_46",
         "rawType": "float32",
         "type": "float"
        },
        {
         "name": "y_slice_47",
         "rawType": "float32",
         "type": "float"
        },
        {
         "name": "y_slice_48",
         "rawType": "float32",
         "type": "float"
        },
        {
         "name": "y_slice_49",
         "rawType": "float32",
         "type": "float"
        },
        {
         "name": "y_slice_50",
         "rawType": "float32",
         "type": "float"
        },
        {
         "name": "y_slice_51",
         "rawType": "float32",
         "type": "float"
        },
        {
         "name": "y_slice_52",
         "rawType": "float32",
         "type": "float"
        },
        {
         "name": "y_slice_53",
         "rawType": "float32",
         "type": "float"
        },
        {
         "name": "y_slice_54",
         "rawType": "float32",
         "type": "float"
        },
        {
         "name": "y_slice_55",
         "rawType": "float32",
         "type": "float"
        },
        {
         "name": "y_slice_56",
         "rawType": "float32",
         "type": "float"
        },
        {
         "name": "y_slice_57",
         "rawType": "float32",
         "type": "float"
        },
        {
         "name": "y_slice_58",
         "rawType": "float32",
         "type": "float"
        },
        {
         "name": "y_slice_59",
         "rawType": "float32",
         "type": "float"
        },
        {
         "name": "player_activity_derived",
         "rawType": "object",
         "type": "unknown"
        },
        {
         "name": "turnover_related",
         "rawType": "object",
         "type": "unknown"
        },
        {
         "name": "primary_impact_type",
         "rawType": "object",
         "type": "unknown"
        },
        {
         "name": "primary_partner_gsisid",
         "rawType": "object",
         "type": "unknown"
        },
        {
         "name": "primary_partner_activity_derived",
         "rawType": "object",
         "type": "unknown"
        },
        {
         "name": "friendly_fire",
         "rawType": "object",
         "type": "unknown"
        },
        {
         "name": "concussed",
         "rawType": "int64",
         "type": "integer"
        }
       ],
       "ref": "0ee6cc78-e4c8-4818-88dd-dca41e55bb47",
       "rows": [
        [
         "0",
         "2016",
         "6",
         "3236",
         "26957.0",
         "0.10333333",
         "0.067999996",
         "0.066",
         "0.056",
         "0.068",
         "0.022",
         "0.031999998",
         "0.044",
         "0.031999998",
         "0.062",
         "0.062",
         "0.060000002",
         "0.030000001",
         "0.054",
         "0.059999995",
         "0.02",
         "0.025999999",
         "0.031999998",
         "0.05",
         "0.030000001",
         "0.025999999",
         "0.05",
         "0.02",
         "0.038",
         "0.028",
         "0.038",
         "0.072000004",
         "0.044",
         "0.060000002",
         "0.038",
         "0.086",
         "0.076",
         "0.146",
         "0.19600001",
         "0.14",
         "0.08",
         "0.154",
         "0.322",
         "0.302",
         "0.112",
         "0.098000005",
         "0.058",
         "0.166",
         "0.37",
         "0.516",
         "0.53400004",
         "0.602",
         "0.656",
         "0.62600005",
         "0.582",
         "0.562",
         "0.41",
         "0.31",
         "0.20799999",
         "0.15",
         "0.1",
         "0.10599999",
         "0.11799999",
         "0.124",
         "0.138",
         "273.08334",
         "278.126",
         "289.292",
         "302.652",
         "325.258",
         "351.48798",
         "358.992",
         "353.724",
         "353.26",
         "357.03",
         "353.26602",
         "349.596",
         "214.23799",
         "9.958",
         "76.808",
         "356.892",
         "357.038",
         "355.114",
         "345.39398",
         "339.672",
         "340.794",
         "343.914",
         "345.26",
         "340.654",
         "334.416",
         "338.214",
         "342.13202",
         "336.506",
         "339.146",
         "351.822",
         "351.918",
         "352.294",
         "147.298",
         "12.304",
         "76.55",
         "353.38998",
         "350.002",
         "285.332",
         "28.085999",
         "78.591995",
         "88.1",
         "32.797997",
         "347.448",
         "341.776",
         "340.176",
         "337.05",
         "337.65",
         "335.22",
         "332.108",
         "328.094",
         "319.9",
         "312.1",
         "316.188",
         "321.428",
         "320.15",
         "332.35602",
         "352.614",
         "2.754",
         "13.274",
         "27.135998",
         "37.548332",
         "37.346",
         "37.314003",
         "37.348",
         "37.124",
         "37.082",
         "37.118",
         "37.204",
         "37.332",
         "37.573997",
         "37.85",
         "38.134",
         "38.276",
         "38.476",
         "38.688",
         "38.75",
         "38.758",
         "38.838",
         "38.991997",
         "39.142",
         "39.106",
         "39.248",
         "39.344",
         "39.444",
         "39.547997",
         "39.698",
         "39.748",
         "39.510002",
         "39.616",
         "39.762",
         "39.635998",
         "39.264",
         "38.726",
         "37.823997",
         "37.106",
         "36.916",
         "36.468",
         "35.329998",
         "34.088",
         "33.774",
         "33.941998",
         "34.03",
         "34.218",
         "35.264",
         "37.357998",
         "39.920002",
         "42.438",
         "45.135998",
         "48.02",
         "50.818",
         "53.476",
         "55.694",
         "57.159996",
         "58.171997",
         "58.846",
         "59.283997",
         "59.76",
         "60.322002",
         "60.844",
         "61.28",
         "31.223333",
         "31.602",
         "31.934",
         "32.138",
         "32.416",
         "32.6",
         "32.55",
         "32.366",
         "32.334",
         "32.432",
         "32.506",
         "32.378",
         "32.254",
         "32.228",
         "32.101997",
         "31.91",
         "31.939999",
         "32.056",
         "31.934",
         "31.817999",
         "31.838001",
         "31.714",
         "31.692001",
         "31.661999",
         "31.685999",
         "31.656",
         "31.646",
         "31.845999",
         "31.788",
         "31.748001",
         "31.73",
         "31.808002",
         "31.820002",
         "31.7",
         "31.45",
         "31.008",
         "30.722",
         "30.114002",
         "29.05",
         "28.307999",
         "28.292002",
         "28.439999",
         "27.957998",
         "26.929998",
         "26.032001",
         "26.135998",
         "27.414001",
         "29.176",
         "30.66",
         "31.712",
         "32.697998",
         "33.604",
         "34.582",
         "35.267998",
         "35.739998",
         "36.134",
         "36.22",
         "36.258003",
         "35.994",
         "35.484",
         null,
         null,
         null,
         null,
         null,
         null,
         "0"
        ],
        [
         "1",
         "2016",
         "6",
         "3236",
         "28932.0",
         "0.10833333",
         "0.096",
         "0.082",
         "0.063999996",
         "0.036",
         "0.034",
         "0.038",
         "0.056",
         "0.060000002",
         "0.066",
         "0.094",
         "0.060000002",
         "0.034",
         "0.048",
         "0.044",
         "0.015999999",
         "0.018",
         "0.007999999",
         "0.022",
         "0.089999996",
         "0.038",
         "0.045999996",
         "0.031999998",
         "0.063999996",
         "0.054",
         "0.059999995",
         "0.08",
         "0.053999998",
         "0.045999996",
         "0.054",
         "0.068",
         "0.060000002",
         "0.178",
         "0.182",
         "0.246",
         "0.41799998",
         "0.566",
         "0.704",
         "0.80599993",
         "0.90200007",
         "0.936",
         "0.95",
         "0.94200003",
         "0.93999994",
         "0.9",
         "0.796",
         "0.694",
         "0.514",
         "0.272",
         "0.282",
         "0.15400001",
         "0.11",
         "0.176",
         "0.326",
         "0.47199997",
         "0.556",
         "0.566",
         "0.542",
         "0.518",
         "0.49400002",
         "238.02501",
         "248.56198",
         "265.0",
         "287.296",
         "304.76202",
         "328.11603",
         "282.94598",
         "3.546",
         "286.344",
         "285.898",
         "4.104",
         "6.7879996",
         "6.4620004",
         "144.288",
         "355.472",
         "215.194",
         "2.6100001",
         "214.772",
         "354.22",
         "357.416",
         "1.342",
         "3.08",
         "287.148",
         "358.194",
         "353.73602",
         "344.01398",
         "337.51602",
         "338.876",
         "339.478",
         "330.75",
         "324.89398",
         "337.622",
         "145.36",
         "4.492",
         "356.51202",
         "214.61401",
         "6.394",
         "5.5059996",
         "73.212",
         "357.094",
         "354.194",
         "352.84198",
         "353.166",
         "353.318",
         "351.086",
         "338.36603",
         "319.63998",
         "298.89398",
         "308.734",
         "341.192",
         "216.552",
         "51.654003",
         "139.34",
         "140.754",
         "108.212",
         "82.142",
         "73.334",
         "75.1",
         "94.416",
         "111.645996",
         "37.265",
         "37.222",
         "37.176003",
         "37.252",
         "37.329998",
         "37.304",
         "37.368",
         "37.56",
         "37.786",
         "38.134",
         "38.486",
         "38.84",
         "39.04",
         "39.078",
         "39.062",
         "39.046",
         "39.066",
         "39.05",
         "39.09",
         "39.336",
         "39.486",
         "39.241997",
         "39.214",
         "39.378",
         "39.61",
         "39.554",
         "39.28",
         "39.384",
         "39.364002",
         "39.178",
         "39.39",
         "39.45",
         "38.794",
         "38.082",
         "37.784",
         "38.69",
         "40.832",
         "44.042",
         "47.864002",
         "52.174",
         "56.809998",
         "61.517998",
         "66.25",
         "70.923996",
         "75.562",
         "79.616",
         "82.944",
         "84.756",
         "85.236",
         "85.3",
         "85.212",
         "84.729996",
         "84.186",
         "83.06",
         "81.871994",
         "80.788",
         "79.994",
         "79.176",
         "78.28",
         "77.196",
         "26.949999",
         "27.49",
         "27.914001",
         "28.24",
         "28.460001",
         "28.582",
         "28.685999",
         "28.522",
         "28.428",
         "28.418",
         "28.244",
         "28.072",
         "28.067999",
         "27.935999",
         "27.654001",
         "27.582",
         "27.608002",
         "27.672",
         "27.714",
         "27.9",
         "28.088001",
         "28.122",
         "28.170002",
         "28.1",
         "28.156",
         "28.292002",
         "28.289999",
         "28.207998",
         "28.192001",
         "28.105999",
         "28.052002",
         "28.105999",
         "27.988",
         "27.576",
         "26.59",
         "25.198002",
         "23.897999",
         "23.18",
         "22.902",
         "22.782001",
         "22.868",
         "23.067999",
         "23.382",
         "23.808",
         "24.326",
         "25.11",
         "26.726002",
         "28.908",
         "30.616001",
         "32.118",
         "32.222",
         "31.786",
         "31.39",
         "30.618",
         "29.112",
         "26.564001",
         "23.855999",
         "21.26",
         "18.789999",
         "16.49",
         null,
         null,
         null,
         null,
         null,
         null,
         "0"
        ],
        [
         "2",
         "2016",
         "6",
         "3236",
         "28943.0",
         "0.030000001",
         "0.014",
         "0.018",
         "0.01",
         "0.024",
         "0.063999996",
         "0.068",
         "0.066",
         "0.072000004",
         "0.076",
         "0.02",
         "0.05",
         "0.018",
         "0.02",
         "0.045999996",
         "0.042",
         "0.031999998",
         "0.018",
         "0.007999999",
         "0.014",
         "0.007999999",
         "0.053999998",
         "0.094",
         "0.126",
         "0.092",
         "0.05",
         "0.051999997",
         "0.028",
         "0.077999994",
         "0.066",
         "0.04",
         "0.15",
         "0.134",
         "0.089999996",
         "0.238",
         "0.34600002",
         "0.47800002",
         "0.634",
         "0.766",
         "0.78400004",
         "0.886",
         "0.9",
         "0.9",
         "0.87399995",
         "0.83000004",
         "0.746",
         "0.514",
         "0.302",
         "0.408",
         "0.268",
         "0.172",
         "0.063999996",
         "0.048",
         "0.034",
         "0.024",
         "0.058000006",
         "0.09199999",
         "0.114",
         "0.122",
         "0.14",
         "356.53165",
         "144.19",
         "355.53",
         "355.984",
         "4.5620003",
         "13.624001",
         "13.4800005",
         "6.814",
         "285.032",
         "350.398",
         "348.594",
         "348.062",
         "351.146",
         "353.38397",
         "354.41202",
         "352.76",
         "352.11002",
         "348.424",
         "343.34198",
         "342.836",
         "344.704",
         "329.16602",
         "301.046",
         "291.468",
         "304.08398",
         "313.812",
         "318.848",
         "317.58798",
         "310.898",
         "307.874",
         "309.08002",
         "314.614",
         "331.138",
         "149.44",
         "35.746002",
         "35.234",
         "81.626",
         "349.332",
         "342.378",
         "345.902",
         "352.782",
         "356.336",
         "358.64",
         "359.168",
         "357.414",
         "356.024",
         "357.476",
         "72.482",
         "285.53198",
         "335.888",
         "254.772",
         "183.522",
         "161.20999",
         "148.804",
         "146.844",
         "150.534",
         "151.20401",
         "154.528",
         "162.03",
         "164.376",
         "37.795002",
         "37.85",
         "37.874",
         "37.858",
         "37.884",
         "38.084",
         "38.318",
         "38.548",
         "38.85",
         "39.166",
         "39.302002",
         "39.148",
         "39.042",
         "39.054",
         "39.208",
         "39.185997",
         "39.034",
         "38.98",
         "38.984",
         "38.986",
         "38.97",
         "39.07",
         "39.272",
         "39.547997",
         "39.885998",
         "39.989998",
         "39.846",
         "39.941998",
         "39.868",
         "39.82",
         "39.584",
         "39.414",
         "38.670002",
         "38.484",
         "39.166",
         "40.418",
         "42.204002",
         "44.972",
         "48.504",
         "52.35",
         "56.614002",
         "61.068",
         "65.556",
         "69.956",
         "74.198",
         "78.054",
         "81.226",
         "82.91",
         "84.676",
         "86.254",
         "87.270004",
         "87.542",
         "87.652",
         "87.591995",
         "87.5",
         "87.312",
         "86.976",
         "86.532",
         "86.072",
         "85.482",
         "31.858332",
         "31.854",
         "31.8",
         "31.768",
         "31.707998",
         "31.592",
         "31.342",
         "31.123999",
         "30.957998",
         "30.744",
         "30.702",
         "30.808002",
         "30.848001",
         "30.854",
         "30.723999",
         "30.682001",
         "30.698002",
         "30.73",
         "30.780003",
         "30.798",
         "30.816",
         "30.789999",
         "30.938",
         "30.873999",
         "30.61",
         "30.616001",
         "30.636002",
         "30.672",
         "30.726002",
         "30.736002",
         "30.588001",
         "30.64",
         "30.632",
         "30.704",
         "31.314001",
         "32.21",
         "33.211998",
         "34.044",
         "34.424",
         "34.3",
         "33.986",
         "33.528",
         "33.120003",
         "32.711998",
         "32.384003",
         "32.478",
         "32.84",
         "32.697998",
         "32.098",
         "32.02",
         "32.288002",
         "32.35",
         "32.528",
         "32.59",
         "32.536",
         "32.454002",
         "32.254",
         "31.932001",
         "31.614002",
         "31.241999",
         null,
         null,
         null,
         null,
         null,
         null,
         "0"
        ],
        [
         "3",
         "2016",
         "6",
         "3236",
         "29414.0",
         "0.30166665",
         "0.294",
         "0.272",
         "0.23599999",
         "0.21199998",
         "0.15799999",
         "0.15",
         "0.138",
         "0.136",
         "0.11",
         "0.077999994",
         "0.074",
         "0.014",
         "0.02",
         "0.025999999",
         "0.034",
         "0.025999999",
         "0.038",
         "0.036",
         "0.066",
         "0.060000002",
         "0.086",
         "0.028",
         "0.05",
         "0.046",
         "0.042000003",
         "0.056",
         "0.044",
         "0.056",
         "0.048",
         "0.060000002",
         "0.092",
         "0.296",
         "0.304",
         "0.23799999",
         "0.31",
         "0.356",
         "0.47599998",
         "0.55",
         "0.646",
         "0.744",
         "0.752",
         "0.816",
         "0.838",
         "0.82600003",
         "0.8",
         "0.77",
         "0.684",
         "0.704",
         "0.586",
         "0.368",
         "0.21400002",
         "0.13399999",
         "0.11",
         "0.063999996",
         "0.042",
         "0.034",
         "0.033999998",
         "0.029999997",
         "0.031999998",
         "143.81834",
         "145.014",
         "147.3",
         "147.26001",
         "146.98",
         "150.462",
         "153.75601",
         "162.76999",
         "172.06601",
         "180.698",
         "186.24199",
         "186.944",
         "183.896",
         "182.338",
         "183.012",
         "183.382",
         "180.062",
         "175.1",
         "173.722",
         "174.538",
         "174.998",
         "170.874",
         "158.032",
         "144.828",
         "139.444",
         "140.088",
         "140.24399",
         "139.096",
         "137.42",
         "137.40201",
         "145.206",
         "162.626",
         "175.48001",
         "169.93001",
         "152.59201",
         "139.888",
         "118.636",
         "74.074",
         "41.073997",
         "24.506",
         "15.8619995",
         "11.194",
         "9.41",
         "7.746",
         "7.318",
         "4.13",
         "357.028",
         "354.05402",
         "345.878",
         "316.734",
         "297.354",
         "311.794",
         "329.192",
         "319.104",
         "267.076",
         "213.26599",
         "195.968",
         "194.034",
         "195.44",
         "201.614",
         "49.808334",
         "48.803997",
         "47.856",
         "47.042",
         "46.197998",
         "45.54",
         "44.938",
         "44.306",
         "43.672",
         "43.094",
         "42.670002",
         "42.316",
         "42.214",
         "42.242",
         "42.298",
         "42.379997",
         "42.323997",
         "42.464",
         "42.510002",
         "42.29",
         "42.028",
         "41.624",
         "41.420002",
         "41.252003",
         "41.068",
         "41.042",
         "40.984",
         "41.104",
         "40.97",
         "40.834",
         "41.079998",
         "41.045998",
         "40.090004",
         "38.952003",
         "37.924",
         "37.976",
         "38.668",
         "40.138",
         "42.406",
         "45.316",
         "48.874",
         "52.682",
         "56.538002",
         "60.71",
         "64.858",
         "68.886",
         "72.678",
         "75.96",
         "78.92",
         "81.882",
         "83.746",
         "84.98399",
         "85.645996",
         "85.97",
         "86.002",
         "86.078",
         "86.044",
         "85.932",
         "85.852005",
         "85.81999",
         "36.461666",
         "35.18",
         "34.118",
         "33.19",
         "32.447998",
         "31.9",
         "31.446",
         "31.14",
         "30.907999",
         "30.883999",
         "30.816",
         "30.978",
         "31.034",
         "31.029999",
         "30.929998",
         "30.798",
         "30.77",
         "30.679998",
         "30.691998",
         "30.864002",
         "31.004002",
         "30.901999",
         "30.929998",
         "31.032001",
         "31.207998",
         "31.324",
         "31.338001",
         "31.204",
         "31.322",
         "31.326",
         "31.11",
         "30.938",
         "30.338001",
         "29.385998",
         "28.578",
         "27.344",
         "25.776001",
         "24.286",
         "23.062",
         "22.312",
         "22.01",
         "21.722",
         "21.576",
         "21.614",
         "21.918",
         "22.414",
         "23.24",
         "24.560001",
         "26.41",
         "27.848001",
         "28.973999",
         "29.618",
         "30.038",
         "30.541998",
         "30.929998",
         "31.133999",
         "31.029999",
         "30.91",
         "30.794",
         "30.689999",
         null,
         null,
         null,
         null,
         null,
         null,
         "0"
        ],
        [
         "4",
         "2016",
         "6",
         "3236",
         "29963.0",
         "0.15",
         "0.15222223",
         "0.15444446",
         "0.15666667",
         "0.15888889",
         "0.16111112",
         "0.16333334",
         "0.16555555",
         "0.16777778",
         "0.17",
         "0.17300001",
         "0.176",
         "0.179",
         "0.182",
         "0.185",
         "0.18800001",
         "0.191",
         "0.194",
         "0.197",
         "0.2",
         "0.198",
         "0.19600001",
         "0.194",
         "0.192",
         "0.19",
         "0.18800001",
         "0.186",
         "0.184",
         "0.18200001",
         "0.18",
         "0.183",
         "0.186",
         "0.18900001",
         "0.192",
         "0.195",
         "0.198",
         "0.201",
         "0.204",
         "0.20699999",
         "0.21",
         "0.213",
         "0.21599999",
         "0.219",
         "0.22199999",
         "0.225",
         "0.228",
         "0.23099999",
         "0.234",
         "0.23699999",
         "0.24",
         "0.233",
         "0.226",
         "0.219",
         "0.212",
         "0.205",
         "0.198",
         "0.191",
         "0.184",
         "0.177",
         "0.17",
         "63.91",
         "63.984444",
         "64.05889",
         "64.13333",
         "64.20778",
         "64.28223",
         "64.35667",
         "64.431114",
         "64.505554",
         "64.58",
         "64.655",
         "64.73",
         "64.805",
         "64.880005",
         "64.955",
         "65.03",
         "65.105",
         "65.18",
         "65.255005",
         "65.33",
         "65.348",
         "65.366005",
         "65.384",
         "65.402",
         "65.42",
         "65.438",
         "65.456",
         "65.474",
         "65.492004",
         "65.51",
         "65.445",
         "65.380005",
         "65.315",
         "65.25",
         "65.185",
         "65.12",
         "65.055",
         "64.99",
         "64.925",
         "64.86",
         "64.714005",
         "64.568",
         "64.422",
         "64.276",
         "64.130005",
         "63.984",
         "63.838",
         "63.692",
         "63.546",
         "63.4",
         "63.243",
         "63.086002",
         "62.929",
         "62.772003",
         "62.615",
         "62.458",
         "62.301003",
         "62.144",
         "61.987003",
         "61.83",
         "40.14",
         "40.146667",
         "40.15333",
         "40.16",
         "40.166668",
         "40.173332",
         "40.18",
         "40.18667",
         "40.193333",
         "40.2",
         "40.206",
         "40.212",
         "40.218",
         "40.224",
         "40.23",
         "40.236",
         "40.242",
         "40.247997",
         "40.253998",
         "40.26",
         "40.267",
         "40.274",
         "40.281",
         "40.288",
         "40.295",
         "40.302002",
         "40.309002",
         "40.316",
         "40.323",
         "40.33",
         "40.338",
         "40.346",
         "40.354",
         "40.362",
         "40.370003",
         "40.378002",
         "40.386",
         "40.394",
         "40.402",
         "40.41",
         "40.417",
         "40.424",
         "40.431",
         "40.438",
         "40.445",
         "40.452",
         "40.459",
         "40.466",
         "40.473",
         "40.48",
         "40.488",
         "40.496",
         "40.504",
         "40.512",
         "40.52",
         "40.528",
         "40.536",
         "40.544003",
         "40.552002",
         "40.56",
         "0.63",
         "0.6122222",
         "0.59444445",
         "0.57666665",
         "0.5588889",
         "0.5411111",
         "0.5233333",
         "0.50555557",
         "0.48777777",
         "0.47",
         "0.451",
         "0.432",
         "0.413",
         "0.394",
         "0.375",
         "0.356",
         "0.337",
         "0.318",
         "0.299",
         "0.28",
         "0.263",
         "0.246",
         "0.229",
         "0.212",
         "0.195",
         "0.178",
         "0.161",
         "0.144",
         "0.127",
         "0.11",
         "0.091",
         "0.072",
         "0.053",
         "0.034",
         "0.015000001",
         "-0.0039999993",
         "-0.022999998",
         "-0.042",
         "-0.060999997",
         "-0.08",
         "-0.103",
         "-0.126",
         "-0.149",
         "-0.172",
         "-0.195",
         "-0.218",
         "-0.241",
         "-0.264",
         "-0.287",
         "-0.31",
         "-0.325",
         "-0.34",
         "-0.35500002",
         "-0.37",
         "-0.385",
         "-0.4",
         "-0.41500002",
         "-0.43",
         "-0.445",
         "-0.46",
         null,
         null,
         null,
         null,
         null,
         null,
         "0"
        ]
       ],
       "shape": {
        "columns": 251,
        "rows": 5
       }
      },
      "text/html": [
       "<div>\n",
       "<style scoped>\n",
       "    .dataframe tbody tr th:only-of-type {\n",
       "        vertical-align: middle;\n",
       "    }\n",
       "\n",
       "    .dataframe tbody tr th {\n",
       "        vertical-align: top;\n",
       "    }\n",
       "\n",
       "    .dataframe thead th {\n",
       "        text-align: right;\n",
       "    }\n",
       "</style>\n",
       "<table border=\"1\" class=\"dataframe\">\n",
       "  <thead>\n",
       "    <tr style=\"text-align: right;\">\n",
       "      <th></th>\n",
       "      <th>season_year</th>\n",
       "      <th>gamekey</th>\n",
       "      <th>playid</th>\n",
       "      <th>gsisid</th>\n",
       "      <th>dis_slice_0</th>\n",
       "      <th>dis_slice_1</th>\n",
       "      <th>dis_slice_2</th>\n",
       "      <th>dis_slice_3</th>\n",
       "      <th>dis_slice_4</th>\n",
       "      <th>dis_slice_5</th>\n",
       "      <th>...</th>\n",
       "      <th>y_slice_57</th>\n",
       "      <th>y_slice_58</th>\n",
       "      <th>y_slice_59</th>\n",
       "      <th>player_activity_derived</th>\n",
       "      <th>turnover_related</th>\n",
       "      <th>primary_impact_type</th>\n",
       "      <th>primary_partner_gsisid</th>\n",
       "      <th>primary_partner_activity_derived</th>\n",
       "      <th>friendly_fire</th>\n",
       "      <th>concussed</th>\n",
       "    </tr>\n",
       "  </thead>\n",
       "  <tbody>\n",
       "    <tr>\n",
       "      <th>0</th>\n",
       "      <td>2016</td>\n",
       "      <td>6</td>\n",
       "      <td>3236</td>\n",
       "      <td>26957.0</td>\n",
       "      <td>0.103333</td>\n",
       "      <td>0.068000</td>\n",
       "      <td>0.066000</td>\n",
       "      <td>0.056000</td>\n",
       "      <td>0.068000</td>\n",
       "      <td>0.022000</td>\n",
       "      <td>...</td>\n",
       "      <td>36.258003</td>\n",
       "      <td>35.993999</td>\n",
       "      <td>35.484001</td>\n",
       "      <td>NaN</td>\n",
       "      <td>NaN</td>\n",
       "      <td>NaN</td>\n",
       "      <td>NaN</td>\n",
       "      <td>NaN</td>\n",
       "      <td>NaN</td>\n",
       "      <td>0</td>\n",
       "    </tr>\n",
       "    <tr>\n",
       "      <th>1</th>\n",
       "      <td>2016</td>\n",
       "      <td>6</td>\n",
       "      <td>3236</td>\n",
       "      <td>28932.0</td>\n",
       "      <td>0.108333</td>\n",
       "      <td>0.096000</td>\n",
       "      <td>0.082000</td>\n",
       "      <td>0.064000</td>\n",
       "      <td>0.036000</td>\n",
       "      <td>0.034000</td>\n",
       "      <td>...</td>\n",
       "      <td>21.260000</td>\n",
       "      <td>18.789999</td>\n",
       "      <td>16.490000</td>\n",
       "      <td>NaN</td>\n",
       "      <td>NaN</td>\n",
       "      <td>NaN</td>\n",
       "      <td>NaN</td>\n",
       "      <td>NaN</td>\n",
       "      <td>NaN</td>\n",
       "      <td>0</td>\n",
       "    </tr>\n",
       "    <tr>\n",
       "      <th>2</th>\n",
       "      <td>2016</td>\n",
       "      <td>6</td>\n",
       "      <td>3236</td>\n",
       "      <td>28943.0</td>\n",
       "      <td>0.030000</td>\n",
       "      <td>0.014000</td>\n",
       "      <td>0.018000</td>\n",
       "      <td>0.010000</td>\n",
       "      <td>0.024000</td>\n",
       "      <td>0.064000</td>\n",
       "      <td>...</td>\n",
       "      <td>31.932001</td>\n",
       "      <td>31.614002</td>\n",
       "      <td>31.241999</td>\n",
       "      <td>NaN</td>\n",
       "      <td>NaN</td>\n",
       "      <td>NaN</td>\n",
       "      <td>NaN</td>\n",
       "      <td>NaN</td>\n",
       "      <td>NaN</td>\n",
       "      <td>0</td>\n",
       "    </tr>\n",
       "    <tr>\n",
       "      <th>3</th>\n",
       "      <td>2016</td>\n",
       "      <td>6</td>\n",
       "      <td>3236</td>\n",
       "      <td>29414.0</td>\n",
       "      <td>0.301667</td>\n",
       "      <td>0.294000</td>\n",
       "      <td>0.272000</td>\n",
       "      <td>0.236000</td>\n",
       "      <td>0.212000</td>\n",
       "      <td>0.158000</td>\n",
       "      <td>...</td>\n",
       "      <td>30.910000</td>\n",
       "      <td>30.794001</td>\n",
       "      <td>30.689999</td>\n",
       "      <td>NaN</td>\n",
       "      <td>NaN</td>\n",
       "      <td>NaN</td>\n",
       "      <td>NaN</td>\n",
       "      <td>NaN</td>\n",
       "      <td>NaN</td>\n",
       "      <td>0</td>\n",
       "    </tr>\n",
       "    <tr>\n",
       "      <th>4</th>\n",
       "      <td>2016</td>\n",
       "      <td>6</td>\n",
       "      <td>3236</td>\n",
       "      <td>29963.0</td>\n",
       "      <td>0.150000</td>\n",
       "      <td>0.152222</td>\n",
       "      <td>0.154444</td>\n",
       "      <td>0.156667</td>\n",
       "      <td>0.158889</td>\n",
       "      <td>0.161111</td>\n",
       "      <td>...</td>\n",
       "      <td>-0.430000</td>\n",
       "      <td>-0.445000</td>\n",
       "      <td>-0.460000</td>\n",
       "      <td>NaN</td>\n",
       "      <td>NaN</td>\n",
       "      <td>NaN</td>\n",
       "      <td>NaN</td>\n",
       "      <td>NaN</td>\n",
       "      <td>NaN</td>\n",
       "      <td>0</td>\n",
       "    </tr>\n",
       "  </tbody>\n",
       "</table>\n",
       "<p>5 rows × 251 columns</p>\n",
       "</div>"
      ],
      "text/plain": [
       "   season_year  gamekey  playid   gsisid  dis_slice_0  dis_slice_1  \\\n",
       "0         2016        6    3236  26957.0     0.103333     0.068000   \n",
       "1         2016        6    3236  28932.0     0.108333     0.096000   \n",
       "2         2016        6    3236  28943.0     0.030000     0.014000   \n",
       "3         2016        6    3236  29414.0     0.301667     0.294000   \n",
       "4         2016        6    3236  29963.0     0.150000     0.152222   \n",
       "\n",
       "   dis_slice_2  dis_slice_3  dis_slice_4  dis_slice_5  ...  y_slice_57  \\\n",
       "0     0.066000     0.056000     0.068000     0.022000  ...   36.258003   \n",
       "1     0.082000     0.064000     0.036000     0.034000  ...   21.260000   \n",
       "2     0.018000     0.010000     0.024000     0.064000  ...   31.932001   \n",
       "3     0.272000     0.236000     0.212000     0.158000  ...   30.910000   \n",
       "4     0.154444     0.156667     0.158889     0.161111  ...   -0.430000   \n",
       "\n",
       "   y_slice_58  y_slice_59  player_activity_derived  turnover_related  \\\n",
       "0   35.993999   35.484001                      NaN               NaN   \n",
       "1   18.789999   16.490000                      NaN               NaN   \n",
       "2   31.614002   31.241999                      NaN               NaN   \n",
       "3   30.794001   30.689999                      NaN               NaN   \n",
       "4   -0.445000   -0.460000                      NaN               NaN   \n",
       "\n",
       "   primary_impact_type  primary_partner_gsisid  \\\n",
       "0                  NaN                     NaN   \n",
       "1                  NaN                     NaN   \n",
       "2                  NaN                     NaN   \n",
       "3                  NaN                     NaN   \n",
       "4                  NaN                     NaN   \n",
       "\n",
       "   primary_partner_activity_derived  friendly_fire  concussed  \n",
       "0                               NaN            NaN          0  \n",
       "1                               NaN            NaN          0  \n",
       "2                               NaN            NaN          0  \n",
       "3                               NaN            NaN          0  \n",
       "4                               NaN            NaN          0  \n",
       "\n",
       "[5 rows x 251 columns]"
      ]
     },
     "execution_count": 8,
     "metadata": {},
     "output_type": "execute_result"
    }
   ],
   "source": [
    "df_final.head()"
   ]
  },
  {
   "cell_type": "code",
   "execution_count": 9,
   "id": "b434eba2",
   "metadata": {},
   "outputs": [],
   "source": [
    "concussion_features = ['primary_partner_gsisid', 'primary_partner_activity_derived', 'player_activity_derived', 'turnover_related', 'primary_impact_type', 'friendly_fire']\n",
    "target = 'concussed'\n",
    "\n",
    "X = df_final.set_index(['season_year', 'gamekey', 'playid', 'gsisid']).drop(columns=concussion_features + [target])\n",
    "y = df_final[target]"
   ]
  },
  {
   "cell_type": "code",
   "execution_count": 10,
   "id": "9198f76c",
   "metadata": {},
   "outputs": [
    {
     "data": {
      "application/vnd.microsoft.datawrangler.viewer.v0+json": {
       "columns": [
        {
         "name": "index",
         "rawType": "object",
         "type": "string"
        },
        {
         "name": "0",
         "rawType": "int64",
         "type": "integer"
        }
       ],
       "ref": "cc8c35f2-7f29-48a1-b70e-dd78b2e8fff7",
       "rows": [
        [
         "dis_slice_0",
         "0"
        ],
        [
         "dis_slice_1",
         "0"
        ],
        [
         "dis_slice_2",
         "0"
        ],
        [
         "dis_slice_3",
         "0"
        ],
        [
         "dis_slice_4",
         "0"
        ],
        [
         "dis_slice_5",
         "0"
        ],
        [
         "dis_slice_6",
         "0"
        ],
        [
         "dis_slice_7",
         "0"
        ],
        [
         "dis_slice_8",
         "0"
        ],
        [
         "dis_slice_9",
         "0"
        ],
        [
         "dis_slice_10",
         "0"
        ],
        [
         "dis_slice_11",
         "0"
        ],
        [
         "dis_slice_12",
         "0"
        ],
        [
         "dis_slice_13",
         "0"
        ],
        [
         "dis_slice_14",
         "0"
        ],
        [
         "dis_slice_15",
         "0"
        ],
        [
         "dis_slice_16",
         "0"
        ],
        [
         "dis_slice_17",
         "0"
        ],
        [
         "dis_slice_18",
         "0"
        ],
        [
         "dis_slice_19",
         "0"
        ],
        [
         "dis_slice_20",
         "0"
        ],
        [
         "dis_slice_21",
         "0"
        ],
        [
         "dis_slice_22",
         "0"
        ],
        [
         "dis_slice_23",
         "0"
        ],
        [
         "dis_slice_24",
         "0"
        ],
        [
         "dis_slice_25",
         "0"
        ],
        [
         "dis_slice_26",
         "0"
        ],
        [
         "dis_slice_27",
         "0"
        ],
        [
         "dis_slice_28",
         "0"
        ],
        [
         "dis_slice_29",
         "0"
        ],
        [
         "dis_slice_30",
         "0"
        ],
        [
         "dis_slice_31",
         "0"
        ],
        [
         "dis_slice_32",
         "0"
        ],
        [
         "dis_slice_33",
         "0"
        ],
        [
         "dis_slice_34",
         "0"
        ],
        [
         "dis_slice_35",
         "0"
        ],
        [
         "dis_slice_36",
         "0"
        ],
        [
         "dis_slice_37",
         "0"
        ],
        [
         "dis_slice_38",
         "0"
        ],
        [
         "dis_slice_39",
         "0"
        ],
        [
         "dis_slice_40",
         "0"
        ],
        [
         "dis_slice_41",
         "0"
        ],
        [
         "dis_slice_42",
         "0"
        ],
        [
         "dis_slice_43",
         "0"
        ],
        [
         "dis_slice_44",
         "0"
        ],
        [
         "dis_slice_45",
         "0"
        ],
        [
         "dis_slice_46",
         "0"
        ],
        [
         "dis_slice_47",
         "0"
        ],
        [
         "dis_slice_48",
         "0"
        ],
        [
         "dis_slice_49",
         "0"
        ]
       ],
       "shape": {
        "columns": 1,
        "rows": 240
       }
      },
      "text/plain": [
       "dis_slice_0    0\n",
       "dis_slice_1    0\n",
       "dis_slice_2    0\n",
       "dis_slice_3    0\n",
       "dis_slice_4    0\n",
       "              ..\n",
       "y_slice_55     0\n",
       "y_slice_56     0\n",
       "y_slice_57     0\n",
       "y_slice_58     0\n",
       "y_slice_59     0\n",
       "Length: 240, dtype: int64"
      ]
     },
     "execution_count": 10,
     "metadata": {},
     "output_type": "execute_result"
    }
   ],
   "source": [
    "X.isna().sum()"
   ]
  },
  {
   "cell_type": "code",
   "execution_count": 11,
   "id": "c423179d",
   "metadata": {},
   "outputs": [
    {
     "name": "stdout",
     "output_type": "stream",
     "text": [
      "Original: concussed\n",
      "0    272716\n",
      "1        32\n",
      "Name: count, dtype: int64\n",
      "Resampled: concussed\n",
      "0    3200\n",
      "1     320\n",
      "Name: count, dtype: int64\n",
      "\n",
      "Cross-Validation Results:\n",
      "Accuracy: 0.958 (+/- 0.015)\n",
      "F1: 0.811 (+/- 0.056)\n",
      "Precision: 0.686 (+/- 0.076)\n",
      "Recall: 0.994 (+/- 0.025)\n",
      "\n",
      "Test Set Results:\n",
      "              precision    recall  f1-score   support\n",
      "\n",
      "           0       1.00      0.95      0.97       640\n",
      "           1       0.66      1.00      0.80        64\n",
      "\n",
      "    accuracy                           0.95       704\n",
      "   macro avg       0.83      0.97      0.88       704\n",
      "weighted avg       0.97      0.95      0.96       704\n",
      "\n",
      "[[607  33]\n",
      " [  0  64]]\n"
     ]
    }
   ],
   "source": [
    "from imblearn.over_sampling import SMOTE\n",
    "from imblearn.under_sampling import RandomUnderSampler\n",
    "from imblearn.pipeline import Pipeline as ImbPipeline\n",
    "from sklearn.model_selection import train_test_split, cross_val_score, StratifiedKFold\n",
    "from sklearn.neighbors import KNeighborsClassifier\n",
    "from sklearn.preprocessing import StandardScaler\n",
    "from sklearn.metrics import classification_report, confusion_matrix\n",
    "\n",
    "# Scale features\n",
    "scaler = StandardScaler()\n",
    "X_scaled = scaler.fit_transform(X)\n",
    "\n",
    "# Let's be more conservative with the ratios\n",
    "undersample = RandomUnderSampler(sampling_strategy=0.01)\n",
    "oversample = SMOTE(sampling_strategy=0.1)\n",
    "\n",
    "pipeline = ImbPipeline([\n",
    "    ('undersample', undersample),\n",
    "    ('oversample', oversample)\n",
    "])\n",
    "\n",
    "X_resampled, y_resampled = pipeline.fit_resample(X_scaled, y)\n",
    "print(f\"Original: {y.value_counts()}\")\n",
    "print(f\"Resampled: {pd.Series(y_resampled).value_counts()}\")\n",
    "\n",
    "# Cross-validation before train/test split\n",
    "knn = KNeighborsClassifier(n_neighbors=5)\n",
    "\n",
    "# Use stratified k-fold to maintain class balance\n",
    "cv = StratifiedKFold(n_splits=5, shuffle=True, random_state=42)\n",
    "\n",
    "# Test multiple metrics\n",
    "cv_accuracy = cross_val_score(knn, X_resampled, y_resampled, cv=cv, scoring='accuracy')\n",
    "cv_f1 = cross_val_score(knn, X_resampled, y_resampled, cv=cv, scoring='f1')\n",
    "cv_precision = cross_val_score(knn, X_resampled, y_resampled, cv=cv, scoring='precision')\n",
    "cv_recall = cross_val_score(knn, X_resampled, y_resampled, cv=cv, scoring='recall')\n",
    "\n",
    "print(f\"\\nCross-Validation Results:\")\n",
    "print(f\"Accuracy: {cv_accuracy.mean():.3f} (+/- {cv_accuracy.std() * 2:.3f})\")\n",
    "print(f\"F1: {cv_f1.mean():.3f} (+/- {cv_f1.std() * 2:.3f})\")\n",
    "print(f\"Precision: {cv_precision.mean():.3f} (+/- {cv_precision.std() * 2:.3f})\")\n",
    "print(f\"Recall: {cv_recall.mean():.3f} (+/- {cv_recall.std() * 2:.3f})\")\n",
    "\n",
    "# Then your original train/test split\n",
    "X_train, X_test, y_train, y_test = train_test_split(X_resampled, y_resampled, test_size=0.2, random_state=42, stratify=y_resampled)\n",
    "\n",
    "knn.fit(X_train, y_train)\n",
    "y_pred = knn.predict(X_test)\n",
    "\n",
    "print(f\"\\nTest Set Results:\")\n",
    "print(classification_report(y_test, y_pred))\n",
    "print(confusion_matrix(y_test, y_pred))"
   ]
  },
  {
   "cell_type": "code",
   "execution_count": 12,
   "id": "a7a965df",
   "metadata": {},
   "outputs": [
    {
     "name": "stdout",
     "output_type": "stream",
     "text": [
      "Unique plays in dataset: 274208\n",
      "Train + Test samples: 3520\n"
     ]
    }
   ],
   "source": [
    "# Verify no leakage - check if any plays appear in both train/test\n",
    "# (if you have play-level features, this could be an issue)\n",
    "print(\"Unique plays in dataset:\", len(motion_wide))\n",
    "print(\"Train + Test samples:\", len(X_train) + len(X_test))"
   ]
  },
  {
   "cell_type": "code",
   "execution_count": 13,
   "id": "655c5d7b",
   "metadata": {},
   "outputs": [
    {
     "data": {
      "text/plain": [
       "Index(['dis_slice_0', 'dis_slice_1', 'dis_slice_2', 'dis_slice_3',\n",
       "       'dis_slice_4', 'dis_slice_5', 'dis_slice_6', 'dis_slice_7',\n",
       "       'dis_slice_8', 'dis_slice_9',\n",
       "       ...\n",
       "       'y_slice_50', 'y_slice_51', 'y_slice_52', 'y_slice_53', 'y_slice_54',\n",
       "       'y_slice_55', 'y_slice_56', 'y_slice_57', 'y_slice_58', 'y_slice_59'],\n",
       "      dtype='object', length=240)"
      ]
     },
     "execution_count": 13,
     "metadata": {},
     "output_type": "execute_result"
    }
   ],
   "source": [
    "X.columns"
   ]
  },
  {
   "cell_type": "code",
   "execution_count": 14,
   "id": "2ac101ef",
   "metadata": {},
   "outputs": [
    {
     "name": "stdout",
     "output_type": "stream",
     "text": [
      "Original holdout distribution:\n",
      "Holdout set: concussed\n",
      "0    54544\n",
      "1        6\n",
      "Name: count, dtype: int64\n",
      "Training set: concussed\n",
      "0    218172\n",
      "1        26\n",
      "Name: count, dtype: int64\n",
      "All datasets saved!\n"
     ]
    }
   ],
   "source": [
    "from sklearn.model_selection import train_test_split\n",
    "\n",
    "# First, split the ORIGINAL data before any resampling\n",
    "X_original_train, X_holdout, y_original_train, y_holdout = train_test_split(\n",
    "    X, y, test_size=0.2, random_state=42, stratify=y\n",
    ")\n",
    "\n",
    "print(f\"Original holdout distribution:\")\n",
    "print(f\"Holdout set: {pd.Series(y_holdout).value_counts()}\")\n",
    "print(f\"Training set: {pd.Series(y_original_train).value_counts()}\")\n",
    "\n",
    "# SAVE HERE - before scaling/resampling\n",
    "# Create proper column names\n",
    "columns = []\n",
    "for metric in ['dis', 'x', 'y', 'o']:\n",
    "    for i in range(60):  # or 20 if you used 20 slices\n",
    "        columns.append(f'{metric}_slice_{i}')\n",
    "\n",
    "# Save original splits\n",
    "pd.DataFrame(X, columns=columns).to_csv('scripts/punt_analytics/motion_features_X_full.csv', index=False)\n",
    "pd.DataFrame({'concussed': y}).to_csv('scripts/punt_analytics/motion_labels_y_full.csv', index=False)\n",
    "\n",
    "pd.DataFrame(X_original_train, columns=columns).to_csv('scripts/punt_analytics/motion_train_X_original.csv', index=False)\n",
    "pd.DataFrame({'concussed': y_original_train}).to_csv('scripts/punt_analytics/motion_train_y_original.csv', index=False)\n",
    "\n",
    "pd.DataFrame(X_holdout, columns=columns).to_csv('scripts/punt_analytics/motion_holdout_X.csv', index=False)\n",
    "pd.DataFrame({'concussed': y_holdout}).to_csv('scripts/punt_analytics/motion_holdout_y.csv', index=False)\n",
    "\n",
    "# Now do your resampling ONLY on the training portion\n",
    "scaler = StandardScaler()\n",
    "X_train_scaled = scaler.fit_transform(X_original_train)\n",
    "\n",
    "# Resample only the training data\n",
    "undersample = RandomUnderSampler(sampling_strategy=0.01)\n",
    "oversample = SMOTE(sampling_strategy=0.1)\n",
    "\n",
    "pipeline = ImbPipeline([\n",
    "    ('undersample', undersample),\n",
    "    ('oversample', oversample)\n",
    "])\n",
    "\n",
    "X_resampled, y_resampled = pipeline.fit_resample(X_train_scaled, y_original_train)\n",
    "\n",
    "# SAVE RESAMPLED DATA TOO\n",
    "pd.DataFrame(X_resampled, columns=columns).to_csv('scripts/punt_analytics/motion_train_X_resampled.csv', index=False)\n",
    "pd.DataFrame({'concussed': y_resampled}).to_csv('scripts/punt_analytics/motion_train_y_resampled.csv', index=False)\n",
    "\n",
    "# Save the fitted scaler for future use\n",
    "import joblib\n",
    "joblib.dump(scaler, 'scripts/punt_analytics/motion_scaler.pkl')\n",
    "\n",
    "print(\"All datasets saved!\")"
   ]
  },
  {
   "cell_type": "code",
   "execution_count": 15,
   "id": "3989367c",
   "metadata": {},
   "outputs": [
    {
     "name": "stdout",
     "output_type": "stream",
     "text": [
      "\n",
      "Test Set Results after resampling:\n",
      "              precision    recall  f1-score   support\n",
      "\n",
      "           0       1.00      0.95      0.97       520\n",
      "           1       0.66      1.00      0.79        52\n",
      "\n",
      "    accuracy                           0.95       572\n",
      "   macro avg       0.83      0.97      0.88       572\n",
      "weighted avg       0.97      0.95      0.96       572\n",
      "\n"
     ]
    }
   ],
   "source": [
    "# train again on our properly scaled/resampled data\n",
    "# Then your original train/test split\n",
    "X_train, X_test, y_train, y_test = train_test_split(X_resampled, y_resampled, test_size=0.2, random_state=42, stratify=y_resampled)\n",
    "\n",
    "knn = KNeighborsClassifier(n_neighbors=5)\n",
    "knn.fit(X_train, y_train)\n",
    "y_pred = knn.predict(X_test)\n",
    "print(f\"\\nTest Set Results after resampling:\")\n",
    "print(classification_report(y_test, y_pred))\n"
   ]
  },
  {
   "cell_type": "code",
   "execution_count": 16,
   "id": "ec4d1f14",
   "metadata": {},
   "outputs": [
    {
     "name": "stdout",
     "output_type": "stream",
     "text": [
      "Probability scores for the 6 actual concussions:\n",
      "[0.6 0.  0.6 0.  0.  0.6]\n"
     ]
    }
   ],
   "source": [
    "# Check if probability scores are more useful\n",
    "X_holdout_scaled = scaler.transform(X_holdout)  \n",
    "y_proba_holdout = knn.predict_proba(X_holdout_scaled)[:, 1]\n",
    "print(f\"Probability scores for the 6 actual concussions:\")\n",
    "print(y_proba_holdout[y_holdout == 1])"
   ]
  },
  {
   "cell_type": "code",
   "execution_count": 17,
   "id": "d21262f2",
   "metadata": {},
   "outputs": [
    {
     "name": "stdout",
     "output_type": "stream",
     "text": [
      "Threshold | Precision | Recall | False Positives | True Positives\n",
      "-----------------------------------------------------------------\n",
      "     0.1 |     0.000 |  0.500 |            6113 |              3\n",
      "     0.2 |     0.000 |  0.500 |            6113 |              3\n",
      "     0.3 |     0.001 |  0.500 |            3723 |              3\n",
      "     0.4 |     0.001 |  0.500 |            3723 |              3\n",
      "     0.5 |     0.001 |  0.500 |            2172 |              3\n"
     ]
    }
   ],
   "source": [
    "from sklearn.metrics import precision_recall_curve\n",
    "import matplotlib.pyplot as plt\n",
    "\n",
    "# Get probabilities for entire holdout set\n",
    "y_proba_holdout = knn.predict_proba(X_holdout_scaled)[:, 1]\n",
    "\n",
    "# Calculate precision-recall curve\n",
    "precision, recall, thresholds = precision_recall_curve(y_holdout, y_proba_holdout)\n",
    "\n",
    "# Try different thresholds\n",
    "thresholds_to_try = [0.1, 0.2, 0.3, 0.4, 0.5]\n",
    "\n",
    "print(\"Threshold | Precision | Recall | False Positives | True Positives\")\n",
    "print(\"-\" * 65)\n",
    "\n",
    "for thresh in thresholds_to_try:\n",
    "    y_pred_thresh = (y_proba_holdout >= thresh).astype(int)\n",
    "    \n",
    "    # Calculate metrics manually\n",
    "    tp = np.sum((y_holdout == 1) & (y_pred_thresh == 1))\n",
    "    fp = np.sum((y_holdout == 0) & (y_pred_thresh == 1))\n",
    "    fn = np.sum((y_holdout == 1) & (y_pred_thresh == 0))\n",
    "    \n",
    "    precision_val = tp / (tp + fp) if (tp + fp) > 0 else 0\n",
    "    recall_val = tp / (tp + fn) if (tp + fn) > 0 else 0\n",
    "    \n",
    "    print(f\"{thresh:8.1f} | {precision_val:9.3f} | {recall_val:6.3f} | {fp:15d} | {tp:14d}\")"
   ]
  },
  {
   "cell_type": "code",
   "execution_count": null,
   "id": "284de96d",
   "metadata": {},
   "outputs": [],
   "source": []
  }
 ],
 "metadata": {
  "kernelspec": {
   "display_name": "rapids-25.02",
   "language": "python",
   "name": "python3"
  },
  "language_info": {
   "codemirror_mode": {
    "name": "ipython",
    "version": 3
   },
   "file_extension": ".py",
   "mimetype": "text/x-python",
   "name": "python",
   "nbconvert_exporter": "python",
   "pygments_lexer": "ipython3",
   "version": "3.12.9"
  }
 },
 "nbformat": 4,
 "nbformat_minor": 5
}
