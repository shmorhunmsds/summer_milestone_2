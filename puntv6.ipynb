{
 "cells": [
  {
   "cell_type": "code",
   "execution_count": 1,
   "id": "440b22dc",
   "metadata": {},
   "outputs": [
    {
     "name": "stderr",
     "output_type": "stream",
     "text": [
      "/tmp/ipykernel_6073/3235047421.py:6: DtypeWarning: Columns (10) have mixed types. Specify dtype option on import or set low_memory=False.\n",
      "  df = pd.read_csv(path)\n"
     ]
    },
    {
     "name": "stdout",
     "output_type": "stream",
     "text": [
      "Processed 10 of 632 games\n",
      "Processed 20 of 632 games\n",
      "Processed 30 of 632 games\n",
      "Processed 40 of 632 games\n",
      "Processed 50 of 632 games\n",
      "Processed 60 of 632 games\n",
      "Processed 70 of 632 games\n",
      "Processed 80 of 632 games\n",
      "Processed 90 of 632 games\n",
      "Processed 100 of 632 games\n",
      "Processed 110 of 632 games\n",
      "Processed 120 of 632 games\n",
      "Processed 130 of 632 games\n",
      "Processed 140 of 632 games\n",
      "Processed 150 of 632 games\n",
      "Processed 160 of 632 games\n",
      "Processed 170 of 632 games\n"
     ]
    },
    {
     "name": "stderr",
     "output_type": "stream",
     "text": [
      "/tmp/ipykernel_6073/3235047421.py:48: UserWarning: Could not infer format, so each element will be parsed individually, falling back to `dateutil`. To ensure parsing is consistent and as-expected, please specify a format.\n",
      "  chunk_df['time'] = pd.to_datetime(chunk_df['time'])\n"
     ]
    },
    {
     "name": "stdout",
     "output_type": "stream",
     "text": [
      "Processed 180 of 632 games\n",
      "Processed 190 of 632 games\n",
      "Processed 200 of 632 games\n",
      "Processed 210 of 632 games\n",
      "Processed 220 of 632 games\n",
      "Processed 230 of 632 games\n",
      "Processed 240 of 632 games\n",
      "Processed 250 of 632 games\n",
      "Processed 260 of 632 games\n",
      "Processed 270 of 632 games\n",
      "Processed 280 of 632 games\n",
      "Processed 290 of 632 games\n",
      "Processed 300 of 632 games\n",
      "Processed 310 of 632 games\n",
      "Processed 320 of 632 games\n",
      "Processed 330 of 632 games\n",
      "Processed 340 of 632 games\n",
      "Processed 350 of 632 games\n",
      "Processed 360 of 632 games\n",
      "Processed 370 of 632 games\n",
      "Processed 380 of 632 games\n",
      "Processed 390 of 632 games\n",
      "Processed 400 of 632 games\n",
      "Processed 410 of 632 games\n",
      "Processed 420 of 632 games\n",
      "Processed 430 of 632 games\n",
      "Processed 440 of 632 games\n",
      "Processed 450 of 632 games\n",
      "Processed 460 of 632 games\n",
      "Processed 470 of 632 games\n",
      "Processed 480 of 632 games\n",
      "Processed 490 of 632 games\n",
      "Processed 500 of 632 games\n",
      "Processed 510 of 632 games\n",
      "Processed 520 of 632 games\n",
      "Processed 530 of 632 games\n",
      "Processed 540 of 632 games\n",
      "Processed 550 of 632 games\n",
      "Processed 560 of 632 games\n",
      "Processed 570 of 632 games\n",
      "Processed 580 of 632 games\n",
      "Processed 590 of 632 games\n",
      "Processed 600 of 632 games\n",
      "Processed 610 of 632 games\n",
      "Processed 620 of 632 games\n",
      "Processed 630 of 632 games\n",
      "Processed 632 of 632 games\n",
      "274208 (274208, 240)\n"
     ]
    },
    {
     "name": "stderr",
     "output_type": "stream",
     "text": [
      "/tmp/ipykernel_6073/3235047421.py:96: PerformanceWarning: DataFrame is highly fragmented.  This is usually the result of calling `frame.insert` many times, which has poor performance.  Consider joining all columns at once using pd.concat(axis=1) instead. To get a de-fragmented frame, use `newframe = frame.copy()`\n",
      "  motion_wide.reset_index(inplace=True)\n",
      "/tmp/ipykernel_6073/3235047421.py:96: PerformanceWarning: DataFrame is highly fragmented.  This is usually the result of calling `frame.insert` many times, which has poor performance.  Consider joining all columns at once using pd.concat(axis=1) instead. To get a de-fragmented frame, use `newframe = frame.copy()`\n",
      "  motion_wide.reset_index(inplace=True)\n",
      "/tmp/ipykernel_6073/3235047421.py:96: PerformanceWarning: DataFrame is highly fragmented.  This is usually the result of calling `frame.insert` many times, which has poor performance.  Consider joining all columns at once using pd.concat(axis=1) instead. To get a de-fragmented frame, use `newframe = frame.copy()`\n",
      "  motion_wide.reset_index(inplace=True)\n",
      "/tmp/ipykernel_6073/3235047421.py:96: PerformanceWarning: DataFrame is highly fragmented.  This is usually the result of calling `frame.insert` many times, which has poor performance.  Consider joining all columns at once using pd.concat(axis=1) instead. To get a de-fragmented frame, use `newframe = frame.copy()`\n",
      "  motion_wide.reset_index(inplace=True)\n"
     ]
    }
   ],
   "source": [
    "import numpy as np\n",
    "import pandas as pd\n",
    "\n",
    "def load_and_normalize(path):\n",
    "    \"\"\"Load a CSV, strip and lowercase its column names.\"\"\"\n",
    "    df = pd.read_csv(path)\n",
    "    df.columns = df.columns.str.strip().str.lower()\n",
    "    return df\n",
    "\n",
    "\n",
    "# NGS chunks for 2016 & 2017\n",
    "ngs_paths = [\n",
    "    'datasets/NFL-Punt-Analytics-Competition/NGS-2016-pre.csv',\n",
    "    'datasets/NFL-Punt-Analytics-Competition/NGS-2016-post.csv',\n",
    "    'datasets/NFL-Punt-Analytics-Competition/NGS-2016-reg-wk1-6.csv',\n",
    "    'datasets/NFL-Punt-Analytics-Competition/NGS-2016-reg-wk7-12.csv',\n",
    "    'datasets/NFL-Punt-Analytics-Competition/NGS-2016-reg-wk13-17.csv',\n",
    "    'datasets/NFL-Punt-Analytics-Competition/NGS-2017-pre.csv',\n",
    "    'datasets/NFL-Punt-Analytics-Competition/NGS-2017-post.csv',\n",
    "    'datasets/NFL-Punt-Analytics-Competition/NGS-2017-reg-wk1-6.csv',\n",
    "    'datasets/NFL-Punt-Analytics-Competition/NGS-2017-reg-wk7-12.csv',\n",
    "    'datasets/NFL-Punt-Analytics-Competition/NGS-2017-reg-wk13-17.csv',\n",
    "]\n",
    "df = pd.concat([load_and_normalize(p) for p in ngs_paths], ignore_index=True)\n",
    "\n",
    "ndtypes = {'gamekey': 'int16',         \n",
    "           'playid': 'int16',         \n",
    "           'gsisid': 'float32',        \n",
    "           'time': 'str',         \n",
    "           'x': 'float32',         \n",
    "           'y': 'float32',         \n",
    "           'dis': 'float32',\n",
    "           'o': 'float32',\n",
    "           'event': 'str'}\n",
    "\n",
    "df = df.astype(ndtypes)\n",
    "df.dropna(subset='gsisid', inplace=True)\n",
    "#df['gsisid'] = df['gsisid'].fillna(-1)\n",
    "\n",
    "import warnings\n",
    "warnings.filterwarnings('ignore', category=pd.errors.SettingWithCopyWarning)\n",
    "\n",
    "def process_motion_chunk(chunk_df):\n",
    "    # Make an explicit copy to avoid warnings\n",
    "    chunk_df = chunk_df.copy()\n",
    "    \n",
    "    # Convert to datetime\n",
    "    chunk_df['time'] = pd.to_datetime(chunk_df['time'])\n",
    "    \n",
    "    # Calculate relative time from play start\n",
    "    chunk_df['relative_time'] = chunk_df.groupby(['season_year', 'gamekey', 'playid', 'gsisid'])['time'].transform(\n",
    "        lambda x: (x - x.min()).dt.total_seconds()\n",
    "    )\n",
    "    \n",
    "    # Create time deciles\n",
    "    chunk_df['time_decile'] = chunk_df.groupby(['season_year', 'gamekey', 'playid', 'gsisid'])['relative_time'].transform(\n",
    "        lambda x: pd.cut(x, bins=60, labels=[f'slice_{i}' for i in range(60)])\n",
    "    )\n",
    "    \n",
    "    # Pivot to wide\n",
    "    motion_wide = chunk_df.pivot_table(\n",
    "        index=['season_year', 'gamekey', 'playid', 'gsisid'], \n",
    "        columns='time_decile',\n",
    "        values=['dis', 'x', 'y', 'o'],\n",
    "        aggfunc='mean',\n",
    "        observed=True\n",
    "    )\n",
    "    \n",
    "    # Flatten columns\n",
    "    motion_wide.columns = [f'{metric}_{time}' for metric, time in motion_wide.columns]\n",
    "    \n",
    "    # Fill missing values by interpolating across time slices\n",
    "    for metric in ['dis', 'x', 'y', 'o']:\n",
    "        metric_cols = [f'{metric}_slice_{i}' for i in range(60)]\n",
    "        motion_wide[metric_cols] = motion_wide[metric_cols].interpolate(axis=1, method='linear')\n",
    "    \n",
    "    return motion_wide\n",
    "\n",
    "# Process in chunks\n",
    "motion_wide_list = []\n",
    "unique_games = df['gamekey'].unique()\n",
    "\n",
    "for i in range(0, len(unique_games), 10):  # Process 10 games at a time\n",
    "    game_chunk = unique_games[i:i+10]\n",
    "    chunk_df = df[df['gamekey'].isin(game_chunk)]\n",
    "    \n",
    "    motion_wide_chunk = process_motion_chunk(chunk_df)\n",
    "    motion_wide_list.append(motion_wide_chunk)\n",
    "    \n",
    "    print(f\"Processed {i+len(game_chunk)} of {len(unique_games)} games\")\n",
    "\n",
    "# Combine all chunks\n",
    "motion_wide = pd.concat(motion_wide_list, axis=0)\n",
    "\n",
    "print(len(motion_wide), motion_wide.shape)\n",
    "motion_wide.reset_index(inplace=True)\n",
    "revs = load_and_normalize('datasets/NFL-Punt-Analytics-Competition/video_review.csv')\n",
    "df_final = motion_wide.merge(revs, on=['season_year', 'gamekey', 'playid', 'gsisid'], how='left')\n",
    "df_final['concussed'] = df_final['player_activity_derived'].notnull().astype(int)\n",
    "df_final.dropna(subset=['dis_slice_0'], inplace=True)"
   ]
  },
  {
   "cell_type": "code",
   "execution_count": 2,
   "id": "6b7158cb",
   "metadata": {},
   "outputs": [
    {
     "data": {
      "application/vnd.microsoft.datawrangler.viewer.v0+json": {
       "columns": [
        {
         "name": "index",
         "rawType": "int64",
         "type": "integer"
        },
        {
         "name": "season_year",
         "rawType": "int64",
         "type": "integer"
        },
        {
         "name": "gamekey",
         "rawType": "int16",
         "type": "integer"
        },
        {
         "name": "playid",
         "rawType": "int16",
         "type": "integer"
        },
        {
         "name": "gsisid",
         "rawType": "float32",
         "type": "float"
        },
        {
         "name": "dis_slice_0",
         "rawType": "float32",
         "type": "float"
        },
        {
         "name": "dis_slice_1",
         "rawType": "float32",
         "type": "float"
        },
        {
         "name": "dis_slice_2",
         "rawType": "float32",
         "type": "float"
        },
        {
         "name": "dis_slice_3",
         "rawType": "float32",
         "type": "float"
        },
        {
         "name": "dis_slice_4",
         "rawType": "float32",
         "type": "float"
        },
        {
         "name": "dis_slice_5",
         "rawType": "float32",
         "type": "float"
        },
        {
         "name": "dis_slice_6",
         "rawType": "float32",
         "type": "float"
        },
        {
         "name": "dis_slice_7",
         "rawType": "float32",
         "type": "float"
        },
        {
         "name": "dis_slice_8",
         "rawType": "float32",
         "type": "float"
        },
        {
         "name": "dis_slice_9",
         "rawType": "float32",
         "type": "float"
        },
        {
         "name": "dis_slice_10",
         "rawType": "float32",
         "type": "float"
        },
        {
         "name": "dis_slice_11",
         "rawType": "float32",
         "type": "float"
        },
        {
         "name": "dis_slice_12",
         "rawType": "float32",
         "type": "float"
        },
        {
         "name": "dis_slice_13",
         "rawType": "float32",
         "type": "float"
        },
        {
         "name": "dis_slice_14",
         "rawType": "float32",
         "type": "float"
        },
        {
         "name": "dis_slice_15",
         "rawType": "float32",
         "type": "float"
        },
        {
         "name": "dis_slice_16",
         "rawType": "float32",
         "type": "float"
        },
        {
         "name": "dis_slice_17",
         "rawType": "float32",
         "type": "float"
        },
        {
         "name": "dis_slice_18",
         "rawType": "float32",
         "type": "float"
        },
        {
         "name": "dis_slice_19",
         "rawType": "float32",
         "type": "float"
        },
        {
         "name": "dis_slice_20",
         "rawType": "float32",
         "type": "float"
        },
        {
         "name": "dis_slice_21",
         "rawType": "float32",
         "type": "float"
        },
        {
         "name": "dis_slice_22",
         "rawType": "float32",
         "type": "float"
        },
        {
         "name": "dis_slice_23",
         "rawType": "float32",
         "type": "float"
        },
        {
         "name": "dis_slice_24",
         "rawType": "float32",
         "type": "float"
        },
        {
         "name": "dis_slice_25",
         "rawType": "float32",
         "type": "float"
        },
        {
         "name": "dis_slice_26",
         "rawType": "float32",
         "type": "float"
        },
        {
         "name": "dis_slice_27",
         "rawType": "float32",
         "type": "float"
        },
        {
         "name": "dis_slice_28",
         "rawType": "float32",
         "type": "float"
        },
        {
         "name": "dis_slice_29",
         "rawType": "float32",
         "type": "float"
        },
        {
         "name": "dis_slice_30",
         "rawType": "float32",
         "type": "float"
        },
        {
         "name": "dis_slice_31",
         "rawType": "float32",
         "type": "float"
        },
        {
         "name": "dis_slice_32",
         "rawType": "float32",
         "type": "float"
        },
        {
         "name": "dis_slice_33",
         "rawType": "float32",
         "type": "float"
        },
        {
         "name": "dis_slice_34",
         "rawType": "float32",
         "type": "float"
        },
        {
         "name": "dis_slice_35",
         "rawType": "float32",
         "type": "float"
        },
        {
         "name": "dis_slice_36",
         "rawType": "float32",
         "type": "float"
        },
        {
         "name": "dis_slice_37",
         "rawType": "float32",
         "type": "float"
        },
        {
         "name": "dis_slice_38",
         "rawType": "float32",
         "type": "float"
        },
        {
         "name": "dis_slice_39",
         "rawType": "float32",
         "type": "float"
        },
        {
         "name": "dis_slice_40",
         "rawType": "float32",
         "type": "float"
        },
        {
         "name": "dis_slice_41",
         "rawType": "float32",
         "type": "float"
        },
        {
         "name": "dis_slice_42",
         "rawType": "float32",
         "type": "float"
        },
        {
         "name": "dis_slice_43",
         "rawType": "float32",
         "type": "float"
        },
        {
         "name": "dis_slice_44",
         "rawType": "float32",
         "type": "float"
        },
        {
         "name": "dis_slice_45",
         "rawType": "float32",
         "type": "float"
        },
        {
         "name": "dis_slice_46",
         "rawType": "float32",
         "type": "float"
        },
        {
         "name": "dis_slice_47",
         "rawType": "float32",
         "type": "float"
        },
        {
         "name": "dis_slice_48",
         "rawType": "float32",
         "type": "float"
        },
        {
         "name": "dis_slice_49",
         "rawType": "float32",
         "type": "float"
        },
        {
         "name": "dis_slice_50",
         "rawType": "float32",
         "type": "float"
        },
        {
         "name": "dis_slice_51",
         "rawType": "float32",
         "type": "float"
        },
        {
         "name": "dis_slice_52",
         "rawType": "float32",
         "type": "float"
        },
        {
         "name": "dis_slice_53",
         "rawType": "float32",
         "type": "float"
        },
        {
         "name": "dis_slice_54",
         "rawType": "float32",
         "type": "float"
        },
        {
         "name": "dis_slice_55",
         "rawType": "float32",
         "type": "float"
        },
        {
         "name": "dis_slice_56",
         "rawType": "float32",
         "type": "float"
        },
        {
         "name": "dis_slice_57",
         "rawType": "float32",
         "type": "float"
        },
        {
         "name": "dis_slice_58",
         "rawType": "float32",
         "type": "float"
        },
        {
         "name": "dis_slice_59",
         "rawType": "float32",
         "type": "float"
        },
        {
         "name": "o_slice_0",
         "rawType": "float32",
         "type": "float"
        },
        {
         "name": "o_slice_1",
         "rawType": "float32",
         "type": "float"
        },
        {
         "name": "o_slice_2",
         "rawType": "float32",
         "type": "float"
        },
        {
         "name": "o_slice_3",
         "rawType": "float32",
         "type": "float"
        },
        {
         "name": "o_slice_4",
         "rawType": "float32",
         "type": "float"
        },
        {
         "name": "o_slice_5",
         "rawType": "float32",
         "type": "float"
        },
        {
         "name": "o_slice_6",
         "rawType": "float32",
         "type": "float"
        },
        {
         "name": "o_slice_7",
         "rawType": "float32",
         "type": "float"
        },
        {
         "name": "o_slice_8",
         "rawType": "float32",
         "type": "float"
        },
        {
         "name": "o_slice_9",
         "rawType": "float32",
         "type": "float"
        },
        {
         "name": "o_slice_10",
         "rawType": "float32",
         "type": "float"
        },
        {
         "name": "o_slice_11",
         "rawType": "float32",
         "type": "float"
        },
        {
         "name": "o_slice_12",
         "rawType": "float32",
         "type": "float"
        },
        {
         "name": "o_slice_13",
         "rawType": "float32",
         "type": "float"
        },
        {
         "name": "o_slice_14",
         "rawType": "float32",
         "type": "float"
        },
        {
         "name": "o_slice_15",
         "rawType": "float32",
         "type": "float"
        },
        {
         "name": "o_slice_16",
         "rawType": "float32",
         "type": "float"
        },
        {
         "name": "o_slice_17",
         "rawType": "float32",
         "type": "float"
        },
        {
         "name": "o_slice_18",
         "rawType": "float32",
         "type": "float"
        },
        {
         "name": "o_slice_19",
         "rawType": "float32",
         "type": "float"
        },
        {
         "name": "o_slice_20",
         "rawType": "float32",
         "type": "float"
        },
        {
         "name": "o_slice_21",
         "rawType": "float32",
         "type": "float"
        },
        {
         "name": "o_slice_22",
         "rawType": "float32",
         "type": "float"
        },
        {
         "name": "o_slice_23",
         "rawType": "float32",
         "type": "float"
        },
        {
         "name": "o_slice_24",
         "rawType": "float32",
         "type": "float"
        },
        {
         "name": "o_slice_25",
         "rawType": "float32",
         "type": "float"
        },
        {
         "name": "o_slice_26",
         "rawType": "float32",
         "type": "float"
        },
        {
         "name": "o_slice_27",
         "rawType": "float32",
         "type": "float"
        },
        {
         "name": "o_slice_28",
         "rawType": "float32",
         "type": "float"
        },
        {
         "name": "o_slice_29",
         "rawType": "float32",
         "type": "float"
        },
        {
         "name": "o_slice_30",
         "rawType": "float32",
         "type": "float"
        },
        {
         "name": "o_slice_31",
         "rawType": "float32",
         "type": "float"
        },
        {
         "name": "o_slice_32",
         "rawType": "float32",
         "type": "float"
        },
        {
         "name": "o_slice_33",
         "rawType": "float32",
         "type": "float"
        },
        {
         "name": "o_slice_34",
         "rawType": "float32",
         "type": "float"
        },
        {
         "name": "o_slice_35",
         "rawType": "float32",
         "type": "float"
        },
        {
         "name": "o_slice_36",
         "rawType": "float32",
         "type": "float"
        },
        {
         "name": "o_slice_37",
         "rawType": "float32",
         "type": "float"
        },
        {
         "name": "o_slice_38",
         "rawType": "float32",
         "type": "float"
        },
        {
         "name": "o_slice_39",
         "rawType": "float32",
         "type": "float"
        },
        {
         "name": "o_slice_40",
         "rawType": "float32",
         "type": "float"
        },
        {
         "name": "o_slice_41",
         "rawType": "float32",
         "type": "float"
        },
        {
         "name": "o_slice_42",
         "rawType": "float32",
         "type": "float"
        },
        {
         "name": "o_slice_43",
         "rawType": "float32",
         "type": "float"
        },
        {
         "name": "o_slice_44",
         "rawType": "float32",
         "type": "float"
        },
        {
         "name": "o_slice_45",
         "rawType": "float32",
         "type": "float"
        },
        {
         "name": "o_slice_46",
         "rawType": "float32",
         "type": "float"
        },
        {
         "name": "o_slice_47",
         "rawType": "float32",
         "type": "float"
        },
        {
         "name": "o_slice_48",
         "rawType": "float32",
         "type": "float"
        },
        {
         "name": "o_slice_49",
         "rawType": "float32",
         "type": "float"
        },
        {
         "name": "o_slice_50",
         "rawType": "float32",
         "type": "float"
        },
        {
         "name": "o_slice_51",
         "rawType": "float32",
         "type": "float"
        },
        {
         "name": "o_slice_52",
         "rawType": "float32",
         "type": "float"
        },
        {
         "name": "o_slice_53",
         "rawType": "float32",
         "type": "float"
        },
        {
         "name": "o_slice_54",
         "rawType": "float32",
         "type": "float"
        },
        {
         "name": "o_slice_55",
         "rawType": "float32",
         "type": "float"
        },
        {
         "name": "o_slice_56",
         "rawType": "float32",
         "type": "float"
        },
        {
         "name": "o_slice_57",
         "rawType": "float32",
         "type": "float"
        },
        {
         "name": "o_slice_58",
         "rawType": "float32",
         "type": "float"
        },
        {
         "name": "o_slice_59",
         "rawType": "float32",
         "type": "float"
        },
        {
         "name": "x_slice_0",
         "rawType": "float32",
         "type": "float"
        },
        {
         "name": "x_slice_1",
         "rawType": "float32",
         "type": "float"
        },
        {
         "name": "x_slice_2",
         "rawType": "float32",
         "type": "float"
        },
        {
         "name": "x_slice_3",
         "rawType": "float32",
         "type": "float"
        },
        {
         "name": "x_slice_4",
         "rawType": "float32",
         "type": "float"
        },
        {
         "name": "x_slice_5",
         "rawType": "float32",
         "type": "float"
        },
        {
         "name": "x_slice_6",
         "rawType": "float32",
         "type": "float"
        },
        {
         "name": "x_slice_7",
         "rawType": "float32",
         "type": "float"
        },
        {
         "name": "x_slice_8",
         "rawType": "float32",
         "type": "float"
        },
        {
         "name": "x_slice_9",
         "rawType": "float32",
         "type": "float"
        },
        {
         "name": "x_slice_10",
         "rawType": "float32",
         "type": "float"
        },
        {
         "name": "x_slice_11",
         "rawType": "float32",
         "type": "float"
        },
        {
         "name": "x_slice_12",
         "rawType": "float32",
         "type": "float"
        },
        {
         "name": "x_slice_13",
         "rawType": "float32",
         "type": "float"
        },
        {
         "name": "x_slice_14",
         "rawType": "float32",
         "type": "float"
        },
        {
         "name": "x_slice_15",
         "rawType": "float32",
         "type": "float"
        },
        {
         "name": "x_slice_16",
         "rawType": "float32",
         "type": "float"
        },
        {
         "name": "x_slice_17",
         "rawType": "float32",
         "type": "float"
        },
        {
         "name": "x_slice_18",
         "rawType": "float32",
         "type": "float"
        },
        {
         "name": "x_slice_19",
         "rawType": "float32",
         "type": "float"
        },
        {
         "name": "x_slice_20",
         "rawType": "float32",
         "type": "float"
        },
        {
         "name": "x_slice_21",
         "rawType": "float32",
         "type": "float"
        },
        {
         "name": "x_slice_22",
         "rawType": "float32",
         "type": "float"
        },
        {
         "name": "x_slice_23",
         "rawType": "float32",
         "type": "float"
        },
        {
         "name": "x_slice_24",
         "rawType": "float32",
         "type": "float"
        },
        {
         "name": "x_slice_25",
         "rawType": "float32",
         "type": "float"
        },
        {
         "name": "x_slice_26",
         "rawType": "float32",
         "type": "float"
        },
        {
         "name": "x_slice_27",
         "rawType": "float32",
         "type": "float"
        },
        {
         "name": "x_slice_28",
         "rawType": "float32",
         "type": "float"
        },
        {
         "name": "x_slice_29",
         "rawType": "float32",
         "type": "float"
        },
        {
         "name": "x_slice_30",
         "rawType": "float32",
         "type": "float"
        },
        {
         "name": "x_slice_31",
         "rawType": "float32",
         "type": "float"
        },
        {
         "name": "x_slice_32",
         "rawType": "float32",
         "type": "float"
        },
        {
         "name": "x_slice_33",
         "rawType": "float32",
         "type": "float"
        },
        {
         "name": "x_slice_34",
         "rawType": "float32",
         "type": "float"
        },
        {
         "name": "x_slice_35",
         "rawType": "float32",
         "type": "float"
        },
        {
         "name": "x_slice_36",
         "rawType": "float32",
         "type": "float"
        },
        {
         "name": "x_slice_37",
         "rawType": "float32",
         "type": "float"
        },
        {
         "name": "x_slice_38",
         "rawType": "float32",
         "type": "float"
        },
        {
         "name": "x_slice_39",
         "rawType": "float32",
         "type": "float"
        },
        {
         "name": "x_slice_40",
         "rawType": "float32",
         "type": "float"
        },
        {
         "name": "x_slice_41",
         "rawType": "float32",
         "type": "float"
        },
        {
         "name": "x_slice_42",
         "rawType": "float32",
         "type": "float"
        },
        {
         "name": "x_slice_43",
         "rawType": "float32",
         "type": "float"
        },
        {
         "name": "x_slice_44",
         "rawType": "float32",
         "type": "float"
        },
        {
         "name": "x_slice_45",
         "rawType": "float32",
         "type": "float"
        },
        {
         "name": "x_slice_46",
         "rawType": "float32",
         "type": "float"
        },
        {
         "name": "x_slice_47",
         "rawType": "float32",
         "type": "float"
        },
        {
         "name": "x_slice_48",
         "rawType": "float32",
         "type": "float"
        },
        {
         "name": "x_slice_49",
         "rawType": "float32",
         "type": "float"
        },
        {
         "name": "x_slice_50",
         "rawType": "float32",
         "type": "float"
        },
        {
         "name": "x_slice_51",
         "rawType": "float32",
         "type": "float"
        },
        {
         "name": "x_slice_52",
         "rawType": "float32",
         "type": "float"
        },
        {
         "name": "x_slice_53",
         "rawType": "float32",
         "type": "float"
        },
        {
         "name": "x_slice_54",
         "rawType": "float32",
         "type": "float"
        },
        {
         "name": "x_slice_55",
         "rawType": "float32",
         "type": "float"
        },
        {
         "name": "x_slice_56",
         "rawType": "float32",
         "type": "float"
        },
        {
         "name": "x_slice_57",
         "rawType": "float32",
         "type": "float"
        },
        {
         "name": "x_slice_58",
         "rawType": "float32",
         "type": "float"
        },
        {
         "name": "x_slice_59",
         "rawType": "float32",
         "type": "float"
        },
        {
         "name": "y_slice_0",
         "rawType": "float32",
         "type": "float"
        },
        {
         "name": "y_slice_1",
         "rawType": "float32",
         "type": "float"
        },
        {
         "name": "y_slice_2",
         "rawType": "float32",
         "type": "float"
        },
        {
         "name": "y_slice_3",
         "rawType": "float32",
         "type": "float"
        },
        {
         "name": "y_slice_4",
         "rawType": "float32",
         "type": "float"
        },
        {
         "name": "y_slice_5",
         "rawType": "float32",
         "type": "float"
        },
        {
         "name": "y_slice_6",
         "rawType": "float32",
         "type": "float"
        },
        {
         "name": "y_slice_7",
         "rawType": "float32",
         "type": "float"
        },
        {
         "name": "y_slice_8",
         "rawType": "float32",
         "type": "float"
        },
        {
         "name": "y_slice_9",
         "rawType": "float32",
         "type": "float"
        },
        {
         "name": "y_slice_10",
         "rawType": "float32",
         "type": "float"
        },
        {
         "name": "y_slice_11",
         "rawType": "float32",
         "type": "float"
        },
        {
         "name": "y_slice_12",
         "rawType": "float32",
         "type": "float"
        },
        {
         "name": "y_slice_13",
         "rawType": "float32",
         "type": "float"
        },
        {
         "name": "y_slice_14",
         "rawType": "float32",
         "type": "float"
        },
        {
         "name": "y_slice_15",
         "rawType": "float32",
         "type": "float"
        },
        {
         "name": "y_slice_16",
         "rawType": "float32",
         "type": "float"
        },
        {
         "name": "y_slice_17",
         "rawType": "float32",
         "type": "float"
        },
        {
         "name": "y_slice_18",
         "rawType": "float32",
         "type": "float"
        },
        {
         "name": "y_slice_19",
         "rawType": "float32",
         "type": "float"
        },
        {
         "name": "y_slice_20",
         "rawType": "float32",
         "type": "float"
        },
        {
         "name": "y_slice_21",
         "rawType": "float32",
         "type": "float"
        },
        {
         "name": "y_slice_22",
         "rawType": "float32",
         "type": "float"
        },
        {
         "name": "y_slice_23",
         "rawType": "float32",
         "type": "float"
        },
        {
         "name": "y_slice_24",
         "rawType": "float32",
         "type": "float"
        },
        {
         "name": "y_slice_25",
         "rawType": "float32",
         "type": "float"
        },
        {
         "name": "y_slice_26",
         "rawType": "float32",
         "type": "float"
        },
        {
         "name": "y_slice_27",
         "rawType": "float32",
         "type": "float"
        },
        {
         "name": "y_slice_28",
         "rawType": "float32",
         "type": "float"
        },
        {
         "name": "y_slice_29",
         "rawType": "float32",
         "type": "float"
        },
        {
         "name": "y_slice_30",
         "rawType": "float32",
         "type": "float"
        },
        {
         "name": "y_slice_31",
         "rawType": "float32",
         "type": "float"
        },
        {
         "name": "y_slice_32",
         "rawType": "float32",
         "type": "float"
        },
        {
         "name": "y_slice_33",
         "rawType": "float32",
         "type": "float"
        },
        {
         "name": "y_slice_34",
         "rawType": "float32",
         "type": "float"
        },
        {
         "name": "y_slice_35",
         "rawType": "float32",
         "type": "float"
        },
        {
         "name": "y_slice_36",
         "rawType": "float32",
         "type": "float"
        },
        {
         "name": "y_slice_37",
         "rawType": "float32",
         "type": "float"
        },
        {
         "name": "y_slice_38",
         "rawType": "float32",
         "type": "float"
        },
        {
         "name": "y_slice_39",
         "rawType": "float32",
         "type": "float"
        },
        {
         "name": "y_slice_40",
         "rawType": "float32",
         "type": "float"
        },
        {
         "name": "y_slice_41",
         "rawType": "float32",
         "type": "float"
        },
        {
         "name": "y_slice_42",
         "rawType": "float32",
         "type": "float"
        },
        {
         "name": "y_slice_43",
         "rawType": "float32",
         "type": "float"
        },
        {
         "name": "y_slice_44",
         "rawType": "float32",
         "type": "float"
        },
        {
         "name": "y_slice_45",
         "rawType": "float32",
         "type": "float"
        },
        {
         "name": "y_slice_46",
         "rawType": "float32",
         "type": "float"
        },
        {
         "name": "y_slice_47",
         "rawType": "float32",
         "type": "float"
        },
        {
         "name": "y_slice_48",
         "rawType": "float32",
         "type": "float"
        },
        {
         "name": "y_slice_49",
         "rawType": "float32",
         "type": "float"
        },
        {
         "name": "y_slice_50",
         "rawType": "float32",
         "type": "float"
        },
        {
         "name": "y_slice_51",
         "rawType": "float32",
         "type": "float"
        },
        {
         "name": "y_slice_52",
         "rawType": "float32",
         "type": "float"
        },
        {
         "name": "y_slice_53",
         "rawType": "float32",
         "type": "float"
        },
        {
         "name": "y_slice_54",
         "rawType": "float32",
         "type": "float"
        },
        {
         "name": "y_slice_55",
         "rawType": "float32",
         "type": "float"
        },
        {
         "name": "y_slice_56",
         "rawType": "float32",
         "type": "float"
        },
        {
         "name": "y_slice_57",
         "rawType": "float32",
         "type": "float"
        },
        {
         "name": "y_slice_58",
         "rawType": "float32",
         "type": "float"
        },
        {
         "name": "y_slice_59",
         "rawType": "float32",
         "type": "float"
        },
        {
         "name": "player_activity_derived",
         "rawType": "object",
         "type": "unknown"
        },
        {
         "name": "turnover_related",
         "rawType": "object",
         "type": "unknown"
        },
        {
         "name": "primary_impact_type",
         "rawType": "object",
         "type": "unknown"
        },
        {
         "name": "primary_partner_gsisid",
         "rawType": "object",
         "type": "unknown"
        },
        {
         "name": "primary_partner_activity_derived",
         "rawType": "object",
         "type": "unknown"
        },
        {
         "name": "friendly_fire",
         "rawType": "object",
         "type": "unknown"
        },
        {
         "name": "concussed",
         "rawType": "int64",
         "type": "integer"
        }
       ],
       "ref": "92e8f41f-dd94-42c0-b030-86b0910e4e99",
       "rows": [
        [
         "0",
         "2016",
         "6",
         "3236",
         "26957.0",
         "0.10333333",
         "0.067999996",
         "0.066",
         "0.056",
         "0.068",
         "0.022",
         "0.031999998",
         "0.044",
         "0.031999998",
         "0.062",
         "0.062",
         "0.060000002",
         "0.030000001",
         "0.054",
         "0.059999995",
         "0.02",
         "0.025999999",
         "0.031999998",
         "0.05",
         "0.030000001",
         "0.025999999",
         "0.05",
         "0.02",
         "0.038",
         "0.028",
         "0.038",
         "0.072000004",
         "0.044",
         "0.060000002",
         "0.038",
         "0.086",
         "0.076",
         "0.146",
         "0.19600001",
         "0.14",
         "0.08",
         "0.154",
         "0.322",
         "0.302",
         "0.112",
         "0.098000005",
         "0.058",
         "0.166",
         "0.37",
         "0.516",
         "0.53400004",
         "0.602",
         "0.656",
         "0.62600005",
         "0.582",
         "0.562",
         "0.41",
         "0.31",
         "0.20799999",
         "0.15",
         "0.1",
         "0.10599999",
         "0.11799999",
         "0.124",
         "0.138",
         "273.08334",
         "278.126",
         "289.292",
         "302.652",
         "325.258",
         "351.48798",
         "358.992",
         "353.724",
         "353.26",
         "357.03",
         "353.26602",
         "349.596",
         "214.23799",
         "9.958",
         "76.808",
         "356.892",
         "357.038",
         "355.114",
         "345.39398",
         "339.672",
         "340.794",
         "343.914",
         "345.26",
         "340.654",
         "334.416",
         "338.214",
         "342.13202",
         "336.506",
         "339.146",
         "351.822",
         "351.918",
         "352.294",
         "147.298",
         "12.304",
         "76.55",
         "353.38998",
         "350.002",
         "285.332",
         "28.085999",
         "78.591995",
         "88.1",
         "32.797997",
         "347.448",
         "341.776",
         "340.176",
         "337.05",
         "337.65",
         "335.22",
         "332.108",
         "328.094",
         "319.9",
         "312.1",
         "316.188",
         "321.428",
         "320.15",
         "332.35602",
         "352.614",
         "2.754",
         "13.274",
         "27.135998",
         "37.548332",
         "37.346",
         "37.314003",
         "37.348",
         "37.124",
         "37.082",
         "37.118",
         "37.204",
         "37.332",
         "37.573997",
         "37.85",
         "38.134",
         "38.276",
         "38.476",
         "38.688",
         "38.75",
         "38.758",
         "38.838",
         "38.991997",
         "39.142",
         "39.106",
         "39.248",
         "39.344",
         "39.444",
         "39.547997",
         "39.698",
         "39.748",
         "39.510002",
         "39.616",
         "39.762",
         "39.635998",
         "39.264",
         "38.726",
         "37.823997",
         "37.106",
         "36.916",
         "36.468",
         "35.329998",
         "34.088",
         "33.774",
         "33.941998",
         "34.03",
         "34.218",
         "35.264",
         "37.357998",
         "39.920002",
         "42.438",
         "45.135998",
         "48.02",
         "50.818",
         "53.476",
         "55.694",
         "57.159996",
         "58.171997",
         "58.846",
         "59.283997",
         "59.76",
         "60.322002",
         "60.844",
         "61.28",
         "31.223333",
         "31.602",
         "31.934",
         "32.138",
         "32.416",
         "32.6",
         "32.55",
         "32.366",
         "32.334",
         "32.432",
         "32.506",
         "32.378",
         "32.254",
         "32.228",
         "32.101997",
         "31.91",
         "31.939999",
         "32.056",
         "31.934",
         "31.817999",
         "31.838001",
         "31.714",
         "31.692001",
         "31.661999",
         "31.685999",
         "31.656",
         "31.646",
         "31.845999",
         "31.788",
         "31.748001",
         "31.73",
         "31.808002",
         "31.820002",
         "31.7",
         "31.45",
         "31.008",
         "30.722",
         "30.114002",
         "29.05",
         "28.307999",
         "28.292002",
         "28.439999",
         "27.957998",
         "26.929998",
         "26.032001",
         "26.135998",
         "27.414001",
         "29.176",
         "30.66",
         "31.712",
         "32.697998",
         "33.604",
         "34.582",
         "35.267998",
         "35.739998",
         "36.134",
         "36.22",
         "36.258003",
         "35.994",
         "35.484",
         null,
         null,
         null,
         null,
         null,
         null,
         "0"
        ],
        [
         "1",
         "2016",
         "6",
         "3236",
         "28932.0",
         "0.10833333",
         "0.096",
         "0.082",
         "0.063999996",
         "0.036",
         "0.034",
         "0.038",
         "0.056",
         "0.060000002",
         "0.066",
         "0.094",
         "0.060000002",
         "0.034",
         "0.048",
         "0.044",
         "0.015999999",
         "0.018",
         "0.007999999",
         "0.022",
         "0.089999996",
         "0.038",
         "0.045999996",
         "0.031999998",
         "0.063999996",
         "0.054",
         "0.059999995",
         "0.08",
         "0.053999998",
         "0.045999996",
         "0.054",
         "0.068",
         "0.060000002",
         "0.178",
         "0.182",
         "0.246",
         "0.41799998",
         "0.566",
         "0.704",
         "0.80599993",
         "0.90200007",
         "0.936",
         "0.95",
         "0.94200003",
         "0.93999994",
         "0.9",
         "0.796",
         "0.694",
         "0.514",
         "0.272",
         "0.282",
         "0.15400001",
         "0.11",
         "0.176",
         "0.326",
         "0.47199997",
         "0.556",
         "0.566",
         "0.542",
         "0.518",
         "0.49400002",
         "238.02501",
         "248.56198",
         "265.0",
         "287.296",
         "304.76202",
         "328.11603",
         "282.94598",
         "3.546",
         "286.344",
         "285.898",
         "4.104",
         "6.7879996",
         "6.4620004",
         "144.288",
         "355.472",
         "215.194",
         "2.6100001",
         "214.772",
         "354.22",
         "357.416",
         "1.342",
         "3.08",
         "287.148",
         "358.194",
         "353.73602",
         "344.01398",
         "337.51602",
         "338.876",
         "339.478",
         "330.75",
         "324.89398",
         "337.622",
         "145.36",
         "4.492",
         "356.51202",
         "214.61401",
         "6.394",
         "5.5059996",
         "73.212",
         "357.094",
         "354.194",
         "352.84198",
         "353.166",
         "353.318",
         "351.086",
         "338.36603",
         "319.63998",
         "298.89398",
         "308.734",
         "341.192",
         "216.552",
         "51.654003",
         "139.34",
         "140.754",
         "108.212",
         "82.142",
         "73.334",
         "75.1",
         "94.416",
         "111.645996",
         "37.265",
         "37.222",
         "37.176003",
         "37.252",
         "37.329998",
         "37.304",
         "37.368",
         "37.56",
         "37.786",
         "38.134",
         "38.486",
         "38.84",
         "39.04",
         "39.078",
         "39.062",
         "39.046",
         "39.066",
         "39.05",
         "39.09",
         "39.336",
         "39.486",
         "39.241997",
         "39.214",
         "39.378",
         "39.61",
         "39.554",
         "39.28",
         "39.384",
         "39.364002",
         "39.178",
         "39.39",
         "39.45",
         "38.794",
         "38.082",
         "37.784",
         "38.69",
         "40.832",
         "44.042",
         "47.864002",
         "52.174",
         "56.809998",
         "61.517998",
         "66.25",
         "70.923996",
         "75.562",
         "79.616",
         "82.944",
         "84.756",
         "85.236",
         "85.3",
         "85.212",
         "84.729996",
         "84.186",
         "83.06",
         "81.871994",
         "80.788",
         "79.994",
         "79.176",
         "78.28",
         "77.196",
         "26.949999",
         "27.49",
         "27.914001",
         "28.24",
         "28.460001",
         "28.582",
         "28.685999",
         "28.522",
         "28.428",
         "28.418",
         "28.244",
         "28.072",
         "28.067999",
         "27.935999",
         "27.654001",
         "27.582",
         "27.608002",
         "27.672",
         "27.714",
         "27.9",
         "28.088001",
         "28.122",
         "28.170002",
         "28.1",
         "28.156",
         "28.292002",
         "28.289999",
         "28.207998",
         "28.192001",
         "28.105999",
         "28.052002",
         "28.105999",
         "27.988",
         "27.576",
         "26.59",
         "25.198002",
         "23.897999",
         "23.18",
         "22.902",
         "22.782001",
         "22.868",
         "23.067999",
         "23.382",
         "23.808",
         "24.326",
         "25.11",
         "26.726002",
         "28.908",
         "30.616001",
         "32.118",
         "32.222",
         "31.786",
         "31.39",
         "30.618",
         "29.112",
         "26.564001",
         "23.855999",
         "21.26",
         "18.789999",
         "16.49",
         null,
         null,
         null,
         null,
         null,
         null,
         "0"
        ],
        [
         "2",
         "2016",
         "6",
         "3236",
         "28943.0",
         "0.030000001",
         "0.014",
         "0.018",
         "0.01",
         "0.024",
         "0.063999996",
         "0.068",
         "0.066",
         "0.072000004",
         "0.076",
         "0.02",
         "0.05",
         "0.018",
         "0.02",
         "0.045999996",
         "0.042",
         "0.031999998",
         "0.018",
         "0.007999999",
         "0.014",
         "0.007999999",
         "0.053999998",
         "0.094",
         "0.126",
         "0.092",
         "0.05",
         "0.051999997",
         "0.028",
         "0.077999994",
         "0.066",
         "0.04",
         "0.15",
         "0.134",
         "0.089999996",
         "0.238",
         "0.34600002",
         "0.47800002",
         "0.634",
         "0.766",
         "0.78400004",
         "0.886",
         "0.9",
         "0.9",
         "0.87399995",
         "0.83000004",
         "0.746",
         "0.514",
         "0.302",
         "0.408",
         "0.268",
         "0.172",
         "0.063999996",
         "0.048",
         "0.034",
         "0.024",
         "0.058000006",
         "0.09199999",
         "0.114",
         "0.122",
         "0.14",
         "356.53165",
         "144.19",
         "355.53",
         "355.984",
         "4.5620003",
         "13.624001",
         "13.4800005",
         "6.814",
         "285.032",
         "350.398",
         "348.594",
         "348.062",
         "351.146",
         "353.38397",
         "354.41202",
         "352.76",
         "352.11002",
         "348.424",
         "343.34198",
         "342.836",
         "344.704",
         "329.16602",
         "301.046",
         "291.468",
         "304.08398",
         "313.812",
         "318.848",
         "317.58798",
         "310.898",
         "307.874",
         "309.08002",
         "314.614",
         "331.138",
         "149.44",
         "35.746002",
         "35.234",
         "81.626",
         "349.332",
         "342.378",
         "345.902",
         "352.782",
         "356.336",
         "358.64",
         "359.168",
         "357.414",
         "356.024",
         "357.476",
         "72.482",
         "285.53198",
         "335.888",
         "254.772",
         "183.522",
         "161.20999",
         "148.804",
         "146.844",
         "150.534",
         "151.20401",
         "154.528",
         "162.03",
         "164.376",
         "37.795002",
         "37.85",
         "37.874",
         "37.858",
         "37.884",
         "38.084",
         "38.318",
         "38.548",
         "38.85",
         "39.166",
         "39.302002",
         "39.148",
         "39.042",
         "39.054",
         "39.208",
         "39.185997",
         "39.034",
         "38.98",
         "38.984",
         "38.986",
         "38.97",
         "39.07",
         "39.272",
         "39.547997",
         "39.885998",
         "39.989998",
         "39.846",
         "39.941998",
         "39.868",
         "39.82",
         "39.584",
         "39.414",
         "38.670002",
         "38.484",
         "39.166",
         "40.418",
         "42.204002",
         "44.972",
         "48.504",
         "52.35",
         "56.614002",
         "61.068",
         "65.556",
         "69.956",
         "74.198",
         "78.054",
         "81.226",
         "82.91",
         "84.676",
         "86.254",
         "87.270004",
         "87.542",
         "87.652",
         "87.591995",
         "87.5",
         "87.312",
         "86.976",
         "86.532",
         "86.072",
         "85.482",
         "31.858332",
         "31.854",
         "31.8",
         "31.768",
         "31.707998",
         "31.592",
         "31.342",
         "31.123999",
         "30.957998",
         "30.744",
         "30.702",
         "30.808002",
         "30.848001",
         "30.854",
         "30.723999",
         "30.682001",
         "30.698002",
         "30.73",
         "30.780003",
         "30.798",
         "30.816",
         "30.789999",
         "30.938",
         "30.873999",
         "30.61",
         "30.616001",
         "30.636002",
         "30.672",
         "30.726002",
         "30.736002",
         "30.588001",
         "30.64",
         "30.632",
         "30.704",
         "31.314001",
         "32.21",
         "33.211998",
         "34.044",
         "34.424",
         "34.3",
         "33.986",
         "33.528",
         "33.120003",
         "32.711998",
         "32.384003",
         "32.478",
         "32.84",
         "32.697998",
         "32.098",
         "32.02",
         "32.288002",
         "32.35",
         "32.528",
         "32.59",
         "32.536",
         "32.454002",
         "32.254",
         "31.932001",
         "31.614002",
         "31.241999",
         null,
         null,
         null,
         null,
         null,
         null,
         "0"
        ],
        [
         "3",
         "2016",
         "6",
         "3236",
         "29414.0",
         "0.30166665",
         "0.294",
         "0.272",
         "0.23599999",
         "0.21199998",
         "0.15799999",
         "0.15",
         "0.138",
         "0.136",
         "0.11",
         "0.077999994",
         "0.074",
         "0.014",
         "0.02",
         "0.025999999",
         "0.034",
         "0.025999999",
         "0.038",
         "0.036",
         "0.066",
         "0.060000002",
         "0.086",
         "0.028",
         "0.05",
         "0.046",
         "0.042000003",
         "0.056",
         "0.044",
         "0.056",
         "0.048",
         "0.060000002",
         "0.092",
         "0.296",
         "0.304",
         "0.23799999",
         "0.31",
         "0.356",
         "0.47599998",
         "0.55",
         "0.646",
         "0.744",
         "0.752",
         "0.816",
         "0.838",
         "0.82600003",
         "0.8",
         "0.77",
         "0.684",
         "0.704",
         "0.586",
         "0.368",
         "0.21400002",
         "0.13399999",
         "0.11",
         "0.063999996",
         "0.042",
         "0.034",
         "0.033999998",
         "0.029999997",
         "0.031999998",
         "143.81834",
         "145.014",
         "147.3",
         "147.26001",
         "146.98",
         "150.462",
         "153.75601",
         "162.76999",
         "172.06601",
         "180.698",
         "186.24199",
         "186.944",
         "183.896",
         "182.338",
         "183.012",
         "183.382",
         "180.062",
         "175.1",
         "173.722",
         "174.538",
         "174.998",
         "170.874",
         "158.032",
         "144.828",
         "139.444",
         "140.088",
         "140.24399",
         "139.096",
         "137.42",
         "137.40201",
         "145.206",
         "162.626",
         "175.48001",
         "169.93001",
         "152.59201",
         "139.888",
         "118.636",
         "74.074",
         "41.073997",
         "24.506",
         "15.8619995",
         "11.194",
         "9.41",
         "7.746",
         "7.318",
         "4.13",
         "357.028",
         "354.05402",
         "345.878",
         "316.734",
         "297.354",
         "311.794",
         "329.192",
         "319.104",
         "267.076",
         "213.26599",
         "195.968",
         "194.034",
         "195.44",
         "201.614",
         "49.808334",
         "48.803997",
         "47.856",
         "47.042",
         "46.197998",
         "45.54",
         "44.938",
         "44.306",
         "43.672",
         "43.094",
         "42.670002",
         "42.316",
         "42.214",
         "42.242",
         "42.298",
         "42.379997",
         "42.323997",
         "42.464",
         "42.510002",
         "42.29",
         "42.028",
         "41.624",
         "41.420002",
         "41.252003",
         "41.068",
         "41.042",
         "40.984",
         "41.104",
         "40.97",
         "40.834",
         "41.079998",
         "41.045998",
         "40.090004",
         "38.952003",
         "37.924",
         "37.976",
         "38.668",
         "40.138",
         "42.406",
         "45.316",
         "48.874",
         "52.682",
         "56.538002",
         "60.71",
         "64.858",
         "68.886",
         "72.678",
         "75.96",
         "78.92",
         "81.882",
         "83.746",
         "84.98399",
         "85.645996",
         "85.97",
         "86.002",
         "86.078",
         "86.044",
         "85.932",
         "85.852005",
         "85.81999",
         "36.461666",
         "35.18",
         "34.118",
         "33.19",
         "32.447998",
         "31.9",
         "31.446",
         "31.14",
         "30.907999",
         "30.883999",
         "30.816",
         "30.978",
         "31.034",
         "31.029999",
         "30.929998",
         "30.798",
         "30.77",
         "30.679998",
         "30.691998",
         "30.864002",
         "31.004002",
         "30.901999",
         "30.929998",
         "31.032001",
         "31.207998",
         "31.324",
         "31.338001",
         "31.204",
         "31.322",
         "31.326",
         "31.11",
         "30.938",
         "30.338001",
         "29.385998",
         "28.578",
         "27.344",
         "25.776001",
         "24.286",
         "23.062",
         "22.312",
         "22.01",
         "21.722",
         "21.576",
         "21.614",
         "21.918",
         "22.414",
         "23.24",
         "24.560001",
         "26.41",
         "27.848001",
         "28.973999",
         "29.618",
         "30.038",
         "30.541998",
         "30.929998",
         "31.133999",
         "31.029999",
         "30.91",
         "30.794",
         "30.689999",
         null,
         null,
         null,
         null,
         null,
         null,
         "0"
        ],
        [
         "4",
         "2016",
         "6",
         "3236",
         "29963.0",
         "0.15",
         "0.15222223",
         "0.15444446",
         "0.15666667",
         "0.15888889",
         "0.16111112",
         "0.16333334",
         "0.16555555",
         "0.16777778",
         "0.17",
         "0.17300001",
         "0.176",
         "0.179",
         "0.182",
         "0.185",
         "0.18800001",
         "0.191",
         "0.194",
         "0.197",
         "0.2",
         "0.198",
         "0.19600001",
         "0.194",
         "0.192",
         "0.19",
         "0.18800001",
         "0.186",
         "0.184",
         "0.18200001",
         "0.18",
         "0.183",
         "0.186",
         "0.18900001",
         "0.192",
         "0.195",
         "0.198",
         "0.201",
         "0.204",
         "0.20699999",
         "0.21",
         "0.213",
         "0.21599999",
         "0.219",
         "0.22199999",
         "0.225",
         "0.228",
         "0.23099999",
         "0.234",
         "0.23699999",
         "0.24",
         "0.233",
         "0.226",
         "0.219",
         "0.212",
         "0.205",
         "0.198",
         "0.191",
         "0.184",
         "0.177",
         "0.17",
         "63.91",
         "63.984444",
         "64.05889",
         "64.13333",
         "64.20778",
         "64.28223",
         "64.35667",
         "64.431114",
         "64.505554",
         "64.58",
         "64.655",
         "64.73",
         "64.805",
         "64.880005",
         "64.955",
         "65.03",
         "65.105",
         "65.18",
         "65.255005",
         "65.33",
         "65.348",
         "65.366005",
         "65.384",
         "65.402",
         "65.42",
         "65.438",
         "65.456",
         "65.474",
         "65.492004",
         "65.51",
         "65.445",
         "65.380005",
         "65.315",
         "65.25",
         "65.185",
         "65.12",
         "65.055",
         "64.99",
         "64.925",
         "64.86",
         "64.714005",
         "64.568",
         "64.422",
         "64.276",
         "64.130005",
         "63.984",
         "63.838",
         "63.692",
         "63.546",
         "63.4",
         "63.243",
         "63.086002",
         "62.929",
         "62.772003",
         "62.615",
         "62.458",
         "62.301003",
         "62.144",
         "61.987003",
         "61.83",
         "40.14",
         "40.146667",
         "40.15333",
         "40.16",
         "40.166668",
         "40.173332",
         "40.18",
         "40.18667",
         "40.193333",
         "40.2",
         "40.206",
         "40.212",
         "40.218",
         "40.224",
         "40.23",
         "40.236",
         "40.242",
         "40.247997",
         "40.253998",
         "40.26",
         "40.267",
         "40.274",
         "40.281",
         "40.288",
         "40.295",
         "40.302002",
         "40.309002",
         "40.316",
         "40.323",
         "40.33",
         "40.338",
         "40.346",
         "40.354",
         "40.362",
         "40.370003",
         "40.378002",
         "40.386",
         "40.394",
         "40.402",
         "40.41",
         "40.417",
         "40.424",
         "40.431",
         "40.438",
         "40.445",
         "40.452",
         "40.459",
         "40.466",
         "40.473",
         "40.48",
         "40.488",
         "40.496",
         "40.504",
         "40.512",
         "40.52",
         "40.528",
         "40.536",
         "40.544003",
         "40.552002",
         "40.56",
         "0.63",
         "0.6122222",
         "0.59444445",
         "0.57666665",
         "0.5588889",
         "0.5411111",
         "0.5233333",
         "0.50555557",
         "0.48777777",
         "0.47",
         "0.451",
         "0.432",
         "0.413",
         "0.394",
         "0.375",
         "0.356",
         "0.337",
         "0.318",
         "0.299",
         "0.28",
         "0.263",
         "0.246",
         "0.229",
         "0.212",
         "0.195",
         "0.178",
         "0.161",
         "0.144",
         "0.127",
         "0.11",
         "0.091",
         "0.072",
         "0.053",
         "0.034",
         "0.015000001",
         "-0.0039999993",
         "-0.022999998",
         "-0.042",
         "-0.060999997",
         "-0.08",
         "-0.103",
         "-0.126",
         "-0.149",
         "-0.172",
         "-0.195",
         "-0.218",
         "-0.241",
         "-0.264",
         "-0.287",
         "-0.31",
         "-0.325",
         "-0.34",
         "-0.35500002",
         "-0.37",
         "-0.385",
         "-0.4",
         "-0.41500002",
         "-0.43",
         "-0.445",
         "-0.46",
         null,
         null,
         null,
         null,
         null,
         null,
         "0"
        ]
       ],
       "shape": {
        "columns": 251,
        "rows": 5
       }
      },
      "text/html": [
       "<div>\n",
       "<style scoped>\n",
       "    .dataframe tbody tr th:only-of-type {\n",
       "        vertical-align: middle;\n",
       "    }\n",
       "\n",
       "    .dataframe tbody tr th {\n",
       "        vertical-align: top;\n",
       "    }\n",
       "\n",
       "    .dataframe thead th {\n",
       "        text-align: right;\n",
       "    }\n",
       "</style>\n",
       "<table border=\"1\" class=\"dataframe\">\n",
       "  <thead>\n",
       "    <tr style=\"text-align: right;\">\n",
       "      <th></th>\n",
       "      <th>season_year</th>\n",
       "      <th>gamekey</th>\n",
       "      <th>playid</th>\n",
       "      <th>gsisid</th>\n",
       "      <th>dis_slice_0</th>\n",
       "      <th>dis_slice_1</th>\n",
       "      <th>dis_slice_2</th>\n",
       "      <th>dis_slice_3</th>\n",
       "      <th>dis_slice_4</th>\n",
       "      <th>dis_slice_5</th>\n",
       "      <th>...</th>\n",
       "      <th>y_slice_57</th>\n",
       "      <th>y_slice_58</th>\n",
       "      <th>y_slice_59</th>\n",
       "      <th>player_activity_derived</th>\n",
       "      <th>turnover_related</th>\n",
       "      <th>primary_impact_type</th>\n",
       "      <th>primary_partner_gsisid</th>\n",
       "      <th>primary_partner_activity_derived</th>\n",
       "      <th>friendly_fire</th>\n",
       "      <th>concussed</th>\n",
       "    </tr>\n",
       "  </thead>\n",
       "  <tbody>\n",
       "    <tr>\n",
       "      <th>0</th>\n",
       "      <td>2016</td>\n",
       "      <td>6</td>\n",
       "      <td>3236</td>\n",
       "      <td>26957.0</td>\n",
       "      <td>0.103333</td>\n",
       "      <td>0.068000</td>\n",
       "      <td>0.066000</td>\n",
       "      <td>0.056000</td>\n",
       "      <td>0.068000</td>\n",
       "      <td>0.022000</td>\n",
       "      <td>...</td>\n",
       "      <td>36.258003</td>\n",
       "      <td>35.993999</td>\n",
       "      <td>35.484001</td>\n",
       "      <td>NaN</td>\n",
       "      <td>NaN</td>\n",
       "      <td>NaN</td>\n",
       "      <td>NaN</td>\n",
       "      <td>NaN</td>\n",
       "      <td>NaN</td>\n",
       "      <td>0</td>\n",
       "    </tr>\n",
       "    <tr>\n",
       "      <th>1</th>\n",
       "      <td>2016</td>\n",
       "      <td>6</td>\n",
       "      <td>3236</td>\n",
       "      <td>28932.0</td>\n",
       "      <td>0.108333</td>\n",
       "      <td>0.096000</td>\n",
       "      <td>0.082000</td>\n",
       "      <td>0.064000</td>\n",
       "      <td>0.036000</td>\n",
       "      <td>0.034000</td>\n",
       "      <td>...</td>\n",
       "      <td>21.260000</td>\n",
       "      <td>18.789999</td>\n",
       "      <td>16.490000</td>\n",
       "      <td>NaN</td>\n",
       "      <td>NaN</td>\n",
       "      <td>NaN</td>\n",
       "      <td>NaN</td>\n",
       "      <td>NaN</td>\n",
       "      <td>NaN</td>\n",
       "      <td>0</td>\n",
       "    </tr>\n",
       "    <tr>\n",
       "      <th>2</th>\n",
       "      <td>2016</td>\n",
       "      <td>6</td>\n",
       "      <td>3236</td>\n",
       "      <td>28943.0</td>\n",
       "      <td>0.030000</td>\n",
       "      <td>0.014000</td>\n",
       "      <td>0.018000</td>\n",
       "      <td>0.010000</td>\n",
       "      <td>0.024000</td>\n",
       "      <td>0.064000</td>\n",
       "      <td>...</td>\n",
       "      <td>31.932001</td>\n",
       "      <td>31.614002</td>\n",
       "      <td>31.241999</td>\n",
       "      <td>NaN</td>\n",
       "      <td>NaN</td>\n",
       "      <td>NaN</td>\n",
       "      <td>NaN</td>\n",
       "      <td>NaN</td>\n",
       "      <td>NaN</td>\n",
       "      <td>0</td>\n",
       "    </tr>\n",
       "    <tr>\n",
       "      <th>3</th>\n",
       "      <td>2016</td>\n",
       "      <td>6</td>\n",
       "      <td>3236</td>\n",
       "      <td>29414.0</td>\n",
       "      <td>0.301667</td>\n",
       "      <td>0.294000</td>\n",
       "      <td>0.272000</td>\n",
       "      <td>0.236000</td>\n",
       "      <td>0.212000</td>\n",
       "      <td>0.158000</td>\n",
       "      <td>...</td>\n",
       "      <td>30.910000</td>\n",
       "      <td>30.794001</td>\n",
       "      <td>30.689999</td>\n",
       "      <td>NaN</td>\n",
       "      <td>NaN</td>\n",
       "      <td>NaN</td>\n",
       "      <td>NaN</td>\n",
       "      <td>NaN</td>\n",
       "      <td>NaN</td>\n",
       "      <td>0</td>\n",
       "    </tr>\n",
       "    <tr>\n",
       "      <th>4</th>\n",
       "      <td>2016</td>\n",
       "      <td>6</td>\n",
       "      <td>3236</td>\n",
       "      <td>29963.0</td>\n",
       "      <td>0.150000</td>\n",
       "      <td>0.152222</td>\n",
       "      <td>0.154444</td>\n",
       "      <td>0.156667</td>\n",
       "      <td>0.158889</td>\n",
       "      <td>0.161111</td>\n",
       "      <td>...</td>\n",
       "      <td>-0.430000</td>\n",
       "      <td>-0.445000</td>\n",
       "      <td>-0.460000</td>\n",
       "      <td>NaN</td>\n",
       "      <td>NaN</td>\n",
       "      <td>NaN</td>\n",
       "      <td>NaN</td>\n",
       "      <td>NaN</td>\n",
       "      <td>NaN</td>\n",
       "      <td>0</td>\n",
       "    </tr>\n",
       "  </tbody>\n",
       "</table>\n",
       "<p>5 rows × 251 columns</p>\n",
       "</div>"
      ],
      "text/plain": [
       "   season_year  gamekey  playid   gsisid  dis_slice_0  dis_slice_1  \\\n",
       "0         2016        6    3236  26957.0     0.103333     0.068000   \n",
       "1         2016        6    3236  28932.0     0.108333     0.096000   \n",
       "2         2016        6    3236  28943.0     0.030000     0.014000   \n",
       "3         2016        6    3236  29414.0     0.301667     0.294000   \n",
       "4         2016        6    3236  29963.0     0.150000     0.152222   \n",
       "\n",
       "   dis_slice_2  dis_slice_3  dis_slice_4  dis_slice_5  ...  y_slice_57  \\\n",
       "0     0.066000     0.056000     0.068000     0.022000  ...   36.258003   \n",
       "1     0.082000     0.064000     0.036000     0.034000  ...   21.260000   \n",
       "2     0.018000     0.010000     0.024000     0.064000  ...   31.932001   \n",
       "3     0.272000     0.236000     0.212000     0.158000  ...   30.910000   \n",
       "4     0.154444     0.156667     0.158889     0.161111  ...   -0.430000   \n",
       "\n",
       "   y_slice_58  y_slice_59  player_activity_derived  turnover_related  \\\n",
       "0   35.993999   35.484001                      NaN               NaN   \n",
       "1   18.789999   16.490000                      NaN               NaN   \n",
       "2   31.614002   31.241999                      NaN               NaN   \n",
       "3   30.794001   30.689999                      NaN               NaN   \n",
       "4   -0.445000   -0.460000                      NaN               NaN   \n",
       "\n",
       "   primary_impact_type  primary_partner_gsisid  \\\n",
       "0                  NaN                     NaN   \n",
       "1                  NaN                     NaN   \n",
       "2                  NaN                     NaN   \n",
       "3                  NaN                     NaN   \n",
       "4                  NaN                     NaN   \n",
       "\n",
       "   primary_partner_activity_derived  friendly_fire  concussed  \n",
       "0                               NaN            NaN          0  \n",
       "1                               NaN            NaN          0  \n",
       "2                               NaN            NaN          0  \n",
       "3                               NaN            NaN          0  \n",
       "4                               NaN            NaN          0  \n",
       "\n",
       "[5 rows x 251 columns]"
      ]
     },
     "execution_count": 2,
     "metadata": {},
     "output_type": "execute_result"
    }
   ],
   "source": [
    "df_final.head()"
   ]
  },
  {
   "cell_type": "code",
   "execution_count": 3,
   "id": "b434eba2",
   "metadata": {},
   "outputs": [],
   "source": [
    "concussion_features = ['primary_partner_gsisid', 'primary_partner_activity_derived', 'player_activity_derived', 'turnover_related', 'primary_impact_type', 'friendly_fire']\n",
    "target = 'concussed'\n",
    "\n",
    "X = df_final.set_index(['season_year', 'gamekey', 'playid', 'gsisid']).drop(columns=concussion_features + [target])\n",
    "y = df_final[target]"
   ]
  },
  {
   "cell_type": "code",
   "execution_count": 4,
   "id": "9198f76c",
   "metadata": {},
   "outputs": [
    {
     "data": {
      "application/vnd.microsoft.datawrangler.viewer.v0+json": {
       "columns": [
        {
         "name": "index",
         "rawType": "object",
         "type": "string"
        },
        {
         "name": "0",
         "rawType": "int64",
         "type": "integer"
        }
       ],
       "ref": "fc1346d2-110e-45f6-bf95-e17ffac98698",
       "rows": [
        [
         "dis_slice_0",
         "0"
        ],
        [
         "dis_slice_1",
         "0"
        ],
        [
         "dis_slice_2",
         "0"
        ],
        [
         "dis_slice_3",
         "0"
        ],
        [
         "dis_slice_4",
         "0"
        ],
        [
         "dis_slice_5",
         "0"
        ],
        [
         "dis_slice_6",
         "0"
        ],
        [
         "dis_slice_7",
         "0"
        ],
        [
         "dis_slice_8",
         "0"
        ],
        [
         "dis_slice_9",
         "0"
        ],
        [
         "dis_slice_10",
         "0"
        ],
        [
         "dis_slice_11",
         "0"
        ],
        [
         "dis_slice_12",
         "0"
        ],
        [
         "dis_slice_13",
         "0"
        ],
        [
         "dis_slice_14",
         "0"
        ],
        [
         "dis_slice_15",
         "0"
        ],
        [
         "dis_slice_16",
         "0"
        ],
        [
         "dis_slice_17",
         "0"
        ],
        [
         "dis_slice_18",
         "0"
        ],
        [
         "dis_slice_19",
         "0"
        ],
        [
         "dis_slice_20",
         "0"
        ],
        [
         "dis_slice_21",
         "0"
        ],
        [
         "dis_slice_22",
         "0"
        ],
        [
         "dis_slice_23",
         "0"
        ],
        [
         "dis_slice_24",
         "0"
        ],
        [
         "dis_slice_25",
         "0"
        ],
        [
         "dis_slice_26",
         "0"
        ],
        [
         "dis_slice_27",
         "0"
        ],
        [
         "dis_slice_28",
         "0"
        ],
        [
         "dis_slice_29",
         "0"
        ],
        [
         "dis_slice_30",
         "0"
        ],
        [
         "dis_slice_31",
         "0"
        ],
        [
         "dis_slice_32",
         "0"
        ],
        [
         "dis_slice_33",
         "0"
        ],
        [
         "dis_slice_34",
         "0"
        ],
        [
         "dis_slice_35",
         "0"
        ],
        [
         "dis_slice_36",
         "0"
        ],
        [
         "dis_slice_37",
         "0"
        ],
        [
         "dis_slice_38",
         "0"
        ],
        [
         "dis_slice_39",
         "0"
        ],
        [
         "dis_slice_40",
         "0"
        ],
        [
         "dis_slice_41",
         "0"
        ],
        [
         "dis_slice_42",
         "0"
        ],
        [
         "dis_slice_43",
         "0"
        ],
        [
         "dis_slice_44",
         "0"
        ],
        [
         "dis_slice_45",
         "0"
        ],
        [
         "dis_slice_46",
         "0"
        ],
        [
         "dis_slice_47",
         "0"
        ],
        [
         "dis_slice_48",
         "0"
        ],
        [
         "dis_slice_49",
         "0"
        ]
       ],
       "shape": {
        "columns": 1,
        "rows": 240
       }
      },
      "text/plain": [
       "dis_slice_0    0\n",
       "dis_slice_1    0\n",
       "dis_slice_2    0\n",
       "dis_slice_3    0\n",
       "dis_slice_4    0\n",
       "              ..\n",
       "y_slice_55     0\n",
       "y_slice_56     0\n",
       "y_slice_57     0\n",
       "y_slice_58     0\n",
       "y_slice_59     0\n",
       "Length: 240, dtype: int64"
      ]
     },
     "execution_count": 4,
     "metadata": {},
     "output_type": "execute_result"
    }
   ],
   "source": [
    "X.isna().sum()"
   ]
  },
  {
   "cell_type": "code",
   "execution_count": 5,
   "id": "c423179d",
   "metadata": {},
   "outputs": [
    {
     "name": "stdout",
     "output_type": "stream",
     "text": [
      "Original: concussed\n",
      "0    272716\n",
      "1        32\n",
      "Name: count, dtype: int64\n",
      "Resampled: concussed\n",
      "0    3200\n",
      "1     320\n",
      "Name: count, dtype: int64\n",
      "\n",
      "Cross-Validation Results:\n",
      "Accuracy: 0.952 (+/- 0.012)\n",
      "F1: 0.793 (+/- 0.041)\n",
      "Precision: 0.657 (+/- 0.056)\n",
      "Recall: 1.000 (+/- 0.000)\n",
      "\n",
      "Test Set Results:\n",
      "              precision    recall  f1-score   support\n",
      "\n",
      "           0       1.00      0.94      0.97       640\n",
      "           1       0.62      1.00      0.76        64\n",
      "\n",
      "    accuracy                           0.94       704\n",
      "   macro avg       0.81      0.97      0.86       704\n",
      "weighted avg       0.97      0.94      0.95       704\n",
      "\n",
      "[[600  40]\n",
      " [  0  64]]\n"
     ]
    }
   ],
   "source": [
    "from imblearn.over_sampling import SMOTE\n",
    "from imblearn.under_sampling import RandomUnderSampler\n",
    "from imblearn.pipeline import Pipeline as ImbPipeline\n",
    "from sklearn.model_selection import train_test_split, cross_val_score, StratifiedKFold\n",
    "from sklearn.neighbors import KNeighborsClassifier\n",
    "from sklearn.preprocessing import StandardScaler\n",
    "from sklearn.metrics import classification_report, confusion_matrix\n",
    "\n",
    "# Scale features\n",
    "scaler = StandardScaler()\n",
    "X_scaled = scaler.fit_transform(X)\n",
    "\n",
    "# Let's be more conservative with the ratios\n",
    "undersample = RandomUnderSampler(sampling_strategy=0.01)\n",
    "oversample = SMOTE(sampling_strategy=0.1)\n",
    "\n",
    "pipeline = ImbPipeline([\n",
    "    ('undersample', undersample),\n",
    "    ('oversample', oversample)\n",
    "])\n",
    "\n",
    "X_resampled, y_resampled = pipeline.fit_resample(X_scaled, y)\n",
    "print(f\"Original: {y.value_counts()}\")\n",
    "print(f\"Resampled: {pd.Series(y_resampled).value_counts()}\")\n",
    "\n",
    "# Cross-validation before train/test split\n",
    "knn = KNeighborsClassifier(n_neighbors=5)\n",
    "\n",
    "# Use stratified k-fold to maintain class balance\n",
    "cv = StratifiedKFold(n_splits=5, shuffle=True, random_state=42)\n",
    "\n",
    "# Test multiple metrics\n",
    "cv_accuracy = cross_val_score(knn, X_resampled, y_resampled, cv=cv, scoring='accuracy')\n",
    "cv_f1 = cross_val_score(knn, X_resampled, y_resampled, cv=cv, scoring='f1')\n",
    "cv_precision = cross_val_score(knn, X_resampled, y_resampled, cv=cv, scoring='precision')\n",
    "cv_recall = cross_val_score(knn, X_resampled, y_resampled, cv=cv, scoring='recall')\n",
    "\n",
    "print(f\"\\nCross-Validation Results:\")\n",
    "print(f\"Accuracy: {cv_accuracy.mean():.3f} (+/- {cv_accuracy.std() * 2:.3f})\")\n",
    "print(f\"F1: {cv_f1.mean():.3f} (+/- {cv_f1.std() * 2:.3f})\")\n",
    "print(f\"Precision: {cv_precision.mean():.3f} (+/- {cv_precision.std() * 2:.3f})\")\n",
    "print(f\"Recall: {cv_recall.mean():.3f} (+/- {cv_recall.std() * 2:.3f})\")\n",
    "\n",
    "# Then your original train/test split\n",
    "X_train, X_test, y_train, y_test = train_test_split(X_resampled, y_resampled, test_size=0.2, random_state=42, stratify=y_resampled)\n",
    "\n",
    "knn.fit(X_train, y_train)\n",
    "y_pred = knn.predict(X_test)\n",
    "\n",
    "print(f\"\\nTest Set Results:\")\n",
    "print(classification_report(y_test, y_pred))\n",
    "print(confusion_matrix(y_test, y_pred))"
   ]
  },
  {
   "cell_type": "code",
   "execution_count": 6,
   "id": "a7a965df",
   "metadata": {},
   "outputs": [
    {
     "name": "stdout",
     "output_type": "stream",
     "text": [
      "Unique plays in dataset: 274208\n",
      "Train + Test samples: 3520\n"
     ]
    }
   ],
   "source": [
    "# Verify no leakage - check if any plays appear in both train/test\n",
    "# (if you have play-level features, this could be an issue)\n",
    "print(\"Unique plays in dataset:\", len(motion_wide))\n",
    "print(\"Train + Test samples:\", len(X_train) + len(X_test))"
   ]
  },
  {
   "cell_type": "code",
   "execution_count": 7,
   "id": "655c5d7b",
   "metadata": {},
   "outputs": [
    {
     "data": {
      "text/plain": [
       "Index(['dis_slice_0', 'dis_slice_1', 'dis_slice_2', 'dis_slice_3',\n",
       "       'dis_slice_4', 'dis_slice_5', 'dis_slice_6', 'dis_slice_7',\n",
       "       'dis_slice_8', 'dis_slice_9',\n",
       "       ...\n",
       "       'y_slice_50', 'y_slice_51', 'y_slice_52', 'y_slice_53', 'y_slice_54',\n",
       "       'y_slice_55', 'y_slice_56', 'y_slice_57', 'y_slice_58', 'y_slice_59'],\n",
       "      dtype='object', length=240)"
      ]
     },
     "execution_count": 7,
     "metadata": {},
     "output_type": "execute_result"
    }
   ],
   "source": [
    "X.columns"
   ]
  },
  {
   "cell_type": "code",
   "execution_count": 8,
   "id": "2ac101ef",
   "metadata": {},
   "outputs": [
    {
     "name": "stdout",
     "output_type": "stream",
     "text": [
      "Original holdout distribution:\n",
      "Holdout set: concussed\n",
      "0    54544\n",
      "1        6\n",
      "Name: count, dtype: int64\n",
      "Training set: concussed\n",
      "0    218172\n",
      "1        26\n",
      "Name: count, dtype: int64\n",
      "All datasets saved!\n"
     ]
    }
   ],
   "source": [
    "from sklearn.model_selection import train_test_split\n",
    "\n",
    "# First, split the ORIGINAL data before any resampling\n",
    "X_original_train, X_holdout, y_original_train, y_holdout = train_test_split(\n",
    "    X, y, test_size=0.2, random_state=42, stratify=y\n",
    ")\n",
    "\n",
    "print(f\"Original holdout distribution:\")\n",
    "print(f\"Holdout set: {pd.Series(y_holdout).value_counts()}\")\n",
    "print(f\"Training set: {pd.Series(y_original_train).value_counts()}\")\n",
    "\n",
    "# SAVE HERE - before scaling/resampling\n",
    "# Create proper column names\n",
    "columns = []\n",
    "for metric in ['dis', 'x', 'y', 'o']:\n",
    "    for i in range(60):  # or 20 if you used 20 slices\n",
    "        columns.append(f'{metric}_slice_{i}')\n",
    "\n",
    "# Save original splits\n",
    "pd.DataFrame(X, columns=columns).to_csv('scripts/punt_analytics/motion_features_X_full.csv', index=False)\n",
    "pd.DataFrame({'concussed': y}).to_csv('scripts/punt_analytics/motion_labels_y_full.csv', index=False)\n",
    "\n",
    "pd.DataFrame(X_original_train, columns=columns).to_csv('scripts/punt_analytics/motion_train_X_original.csv', index=False)\n",
    "pd.DataFrame({'concussed': y_original_train}).to_csv('scripts/punt_analytics/motion_train_y_original.csv', index=False)\n",
    "\n",
    "pd.DataFrame(X_holdout, columns=columns).to_csv('scripts/punt_analytics/motion_holdout_X.csv', index=False)\n",
    "pd.DataFrame({'concussed': y_holdout}).to_csv('scripts/punt_analytics/motion_holdout_y.csv', index=False)\n",
    "\n",
    "# Now do your resampling ONLY on the training portion\n",
    "scaler = StandardScaler()\n",
    "X_train_scaled = scaler.fit_transform(X_original_train)\n",
    "\n",
    "# Resample only the training data\n",
    "undersample = RandomUnderSampler(sampling_strategy=0.01)\n",
    "oversample = SMOTE(sampling_strategy=0.1)\n",
    "\n",
    "pipeline = ImbPipeline([\n",
    "    ('undersample', undersample),\n",
    "    ('oversample', oversample)\n",
    "])\n",
    "\n",
    "X_resampled, y_resampled = pipeline.fit_resample(X_train_scaled, y_original_train)\n",
    "\n",
    "# SAVE RESAMPLED DATA TOO\n",
    "pd.DataFrame(X_resampled, columns=columns).to_csv('scripts/punt_analytics/motion_train_X_resampled.csv', index=False)\n",
    "pd.DataFrame({'concussed': y_resampled}).to_csv('scripts/punt_analytics/motion_train_y_resampled.csv', index=False)\n",
    "\n",
    "# Save the fitted scaler for future use\n",
    "import joblib\n",
    "joblib.dump(scaler, 'scripts/punt_analytics/motion_scaler.pkl')\n",
    "\n",
    "print(\"All datasets saved!\")"
   ]
  },
  {
   "cell_type": "code",
   "execution_count": 9,
   "id": "3989367c",
   "metadata": {},
   "outputs": [
    {
     "name": "stdout",
     "output_type": "stream",
     "text": [
      "\n",
      "Test Set Results after resampling:\n",
      "              precision    recall  f1-score   support\n",
      "\n",
      "           0       1.00      0.97      0.98       520\n",
      "           1       0.76      1.00      0.87        52\n",
      "\n",
      "    accuracy                           0.97       572\n",
      "   macro avg       0.88      0.98      0.93       572\n",
      "weighted avg       0.98      0.97      0.97       572\n",
      "\n"
     ]
    }
   ],
   "source": [
    "# train again on our properly scaled/resampled data\n",
    "# Then your original train/test split\n",
    "X_train, X_test, y_train, y_test = train_test_split(X_resampled, y_resampled, test_size=0.2, random_state=42, stratify=y_resampled)\n",
    "\n",
    "knn = KNeighborsClassifier(n_neighbors=5)\n",
    "knn.fit(X_train, y_train)\n",
    "y_pred = knn.predict(X_test)\n",
    "print(f\"\\nTest Set Results after resampling:\")\n",
    "print(classification_report(y_test, y_pred))\n"
   ]
  },
  {
   "cell_type": "code",
   "execution_count": 10,
   "id": "ec4d1f14",
   "metadata": {},
   "outputs": [
    {
     "name": "stdout",
     "output_type": "stream",
     "text": [
      "Probability scores for the 6 actual concussions:\n",
      "[0.6 0.  0.6 0.  0.  0.6]\n"
     ]
    }
   ],
   "source": [
    "# Check if probability scores are more useful\n",
    "X_holdout_scaled = scaler.transform(X_holdout)  \n",
    "y_proba_holdout = knn.predict_proba(X_holdout_scaled)[:, 1]\n",
    "print(f\"Probability scores for the 6 actual concussions:\")\n",
    "print(y_proba_holdout[y_holdout == 1])"
   ]
  },
  {
   "cell_type": "code",
   "execution_count": 12,
   "id": "d21262f2",
   "metadata": {},
   "outputs": [
    {
     "name": "stdout",
     "output_type": "stream",
     "text": [
      "Threshold | Precision | Recall | False Positives | True Positives\n",
      "-----------------------------------------------------------------\n",
      "     0.1 |     0.001 |  0.500 |            5874 |              3\n",
      "     0.2 |     0.001 |  0.500 |            5874 |              3\n",
      "     0.3 |     0.001 |  0.500 |            3708 |              3\n",
      "     0.4 |     0.001 |  0.500 |            3708 |              3\n",
      "     0.5 |     0.001 |  0.500 |            2175 |              3\n"
     ]
    }
   ],
   "source": [
    "from sklearn.metrics import precision_recall_curve\n",
    "import matplotlib.pyplot as plt\n",
    "\n",
    "# Get probabilities for entire holdout set\n",
    "y_proba_holdout = knn.predict_proba(X_holdout_scaled)[:, 1]\n",
    "\n",
    "# Calculate precision-recall curve\n",
    "precision, recall, thresholds = precision_recall_curve(y_holdout, y_proba_holdout)\n",
    "\n",
    "# Try different thresholds\n",
    "thresholds_to_try = [0.1, 0.2, 0.3, 0.4, 0.5]\n",
    "\n",
    "print(\"Threshold | Precision | Recall | False Positives | True Positives\")\n",
    "print(\"-\" * 65)\n",
    "\n",
    "for thresh in thresholds_to_try:\n",
    "    y_pred_thresh = (y_proba_holdout >= thresh).astype(int)\n",
    "    \n",
    "    # Calculate metrics manually\n",
    "    tp = np.sum((y_holdout == 1) & (y_pred_thresh == 1))\n",
    "    fp = np.sum((y_holdout == 0) & (y_pred_thresh == 1))\n",
    "    fn = np.sum((y_holdout == 1) & (y_pred_thresh == 0))\n",
    "    \n",
    "    precision_val = tp / (tp + fp) if (tp + fp) > 0 else 0\n",
    "    recall_val = tp / (tp + fn) if (tp + fn) > 0 else 0\n",
    "    \n",
    "    print(f\"{thresh:8.1f} | {precision_val:9.3f} | {recall_val:6.3f} | {fp:15d} | {tp:14d}\")"
   ]
  },
  {
   "cell_type": "code",
   "execution_count": 13,
   "id": "284de96d",
   "metadata": {},
   "outputs": [],
   "source": [
    "df2 = pd.read_csv('/home/pshmo/summer_milestone_2-1/datasets/NFL-Punt-Analytics-Competition/play_player_role_data.csv')"
   ]
  },
  {
   "cell_type": "code",
   "execution_count": 15,
   "id": "8749cdc0",
   "metadata": {},
   "outputs": [
    {
     "data": {
      "application/vnd.microsoft.datawrangler.viewer.v0+json": {
       "columns": [
        {
         "name": "index",
         "rawType": "int64",
         "type": "integer"
        },
        {
         "name": "season_year",
         "rawType": "int64",
         "type": "integer"
        },
        {
         "name": "gamekey",
         "rawType": "int16",
         "type": "integer"
        },
        {
         "name": "playid",
         "rawType": "int16",
         "type": "integer"
        },
        {
         "name": "gsisid",
         "rawType": "float32",
         "type": "float"
        },
        {
         "name": "dis_slice_0",
         "rawType": "float32",
         "type": "float"
        },
        {
         "name": "dis_slice_1",
         "rawType": "float32",
         "type": "float"
        },
        {
         "name": "dis_slice_2",
         "rawType": "float32",
         "type": "float"
        },
        {
         "name": "dis_slice_3",
         "rawType": "float32",
         "type": "float"
        },
        {
         "name": "dis_slice_4",
         "rawType": "float32",
         "type": "float"
        },
        {
         "name": "dis_slice_5",
         "rawType": "float32",
         "type": "float"
        },
        {
         "name": "dis_slice_6",
         "rawType": "float32",
         "type": "float"
        },
        {
         "name": "dis_slice_7",
         "rawType": "float32",
         "type": "float"
        },
        {
         "name": "dis_slice_8",
         "rawType": "float32",
         "type": "float"
        },
        {
         "name": "dis_slice_9",
         "rawType": "float32",
         "type": "float"
        },
        {
         "name": "dis_slice_10",
         "rawType": "float32",
         "type": "float"
        },
        {
         "name": "dis_slice_11",
         "rawType": "float32",
         "type": "float"
        },
        {
         "name": "dis_slice_12",
         "rawType": "float32",
         "type": "float"
        },
        {
         "name": "dis_slice_13",
         "rawType": "float32",
         "type": "float"
        },
        {
         "name": "dis_slice_14",
         "rawType": "float32",
         "type": "float"
        },
        {
         "name": "dis_slice_15",
         "rawType": "float32",
         "type": "float"
        },
        {
         "name": "dis_slice_16",
         "rawType": "float32",
         "type": "float"
        },
        {
         "name": "dis_slice_17",
         "rawType": "float32",
         "type": "float"
        },
        {
         "name": "dis_slice_18",
         "rawType": "float32",
         "type": "float"
        },
        {
         "name": "dis_slice_19",
         "rawType": "float32",
         "type": "float"
        },
        {
         "name": "dis_slice_20",
         "rawType": "float32",
         "type": "float"
        },
        {
         "name": "dis_slice_21",
         "rawType": "float32",
         "type": "float"
        },
        {
         "name": "dis_slice_22",
         "rawType": "float32",
         "type": "float"
        },
        {
         "name": "dis_slice_23",
         "rawType": "float32",
         "type": "float"
        },
        {
         "name": "dis_slice_24",
         "rawType": "float32",
         "type": "float"
        },
        {
         "name": "dis_slice_25",
         "rawType": "float32",
         "type": "float"
        },
        {
         "name": "dis_slice_26",
         "rawType": "float32",
         "type": "float"
        },
        {
         "name": "dis_slice_27",
         "rawType": "float32",
         "type": "float"
        },
        {
         "name": "dis_slice_28",
         "rawType": "float32",
         "type": "float"
        },
        {
         "name": "dis_slice_29",
         "rawType": "float32",
         "type": "float"
        },
        {
         "name": "dis_slice_30",
         "rawType": "float32",
         "type": "float"
        },
        {
         "name": "dis_slice_31",
         "rawType": "float32",
         "type": "float"
        },
        {
         "name": "dis_slice_32",
         "rawType": "float32",
         "type": "float"
        },
        {
         "name": "dis_slice_33",
         "rawType": "float32",
         "type": "float"
        },
        {
         "name": "dis_slice_34",
         "rawType": "float32",
         "type": "float"
        },
        {
         "name": "dis_slice_35",
         "rawType": "float32",
         "type": "float"
        },
        {
         "name": "dis_slice_36",
         "rawType": "float32",
         "type": "float"
        },
        {
         "name": "dis_slice_37",
         "rawType": "float32",
         "type": "float"
        },
        {
         "name": "dis_slice_38",
         "rawType": "float32",
         "type": "float"
        },
        {
         "name": "dis_slice_39",
         "rawType": "float32",
         "type": "float"
        },
        {
         "name": "dis_slice_40",
         "rawType": "float32",
         "type": "float"
        },
        {
         "name": "dis_slice_41",
         "rawType": "float32",
         "type": "float"
        },
        {
         "name": "dis_slice_42",
         "rawType": "float32",
         "type": "float"
        },
        {
         "name": "dis_slice_43",
         "rawType": "float32",
         "type": "float"
        },
        {
         "name": "dis_slice_44",
         "rawType": "float32",
         "type": "float"
        },
        {
         "name": "dis_slice_45",
         "rawType": "float32",
         "type": "float"
        },
        {
         "name": "dis_slice_46",
         "rawType": "float32",
         "type": "float"
        },
        {
         "name": "dis_slice_47",
         "rawType": "float32",
         "type": "float"
        },
        {
         "name": "dis_slice_48",
         "rawType": "float32",
         "type": "float"
        },
        {
         "name": "dis_slice_49",
         "rawType": "float32",
         "type": "float"
        },
        {
         "name": "dis_slice_50",
         "rawType": "float32",
         "type": "float"
        },
        {
         "name": "dis_slice_51",
         "rawType": "float32",
         "type": "float"
        },
        {
         "name": "dis_slice_52",
         "rawType": "float32",
         "type": "float"
        },
        {
         "name": "dis_slice_53",
         "rawType": "float32",
         "type": "float"
        },
        {
         "name": "dis_slice_54",
         "rawType": "float32",
         "type": "float"
        },
        {
         "name": "dis_slice_55",
         "rawType": "float32",
         "type": "float"
        },
        {
         "name": "dis_slice_56",
         "rawType": "float32",
         "type": "float"
        },
        {
         "name": "dis_slice_57",
         "rawType": "float32",
         "type": "float"
        },
        {
         "name": "dis_slice_58",
         "rawType": "float32",
         "type": "float"
        },
        {
         "name": "dis_slice_59",
         "rawType": "float32",
         "type": "float"
        },
        {
         "name": "o_slice_0",
         "rawType": "float32",
         "type": "float"
        },
        {
         "name": "o_slice_1",
         "rawType": "float32",
         "type": "float"
        },
        {
         "name": "o_slice_2",
         "rawType": "float32",
         "type": "float"
        },
        {
         "name": "o_slice_3",
         "rawType": "float32",
         "type": "float"
        },
        {
         "name": "o_slice_4",
         "rawType": "float32",
         "type": "float"
        },
        {
         "name": "o_slice_5",
         "rawType": "float32",
         "type": "float"
        },
        {
         "name": "o_slice_6",
         "rawType": "float32",
         "type": "float"
        },
        {
         "name": "o_slice_7",
         "rawType": "float32",
         "type": "float"
        },
        {
         "name": "o_slice_8",
         "rawType": "float32",
         "type": "float"
        },
        {
         "name": "o_slice_9",
         "rawType": "float32",
         "type": "float"
        },
        {
         "name": "o_slice_10",
         "rawType": "float32",
         "type": "float"
        },
        {
         "name": "o_slice_11",
         "rawType": "float32",
         "type": "float"
        },
        {
         "name": "o_slice_12",
         "rawType": "float32",
         "type": "float"
        },
        {
         "name": "o_slice_13",
         "rawType": "float32",
         "type": "float"
        },
        {
         "name": "o_slice_14",
         "rawType": "float32",
         "type": "float"
        },
        {
         "name": "o_slice_15",
         "rawType": "float32",
         "type": "float"
        },
        {
         "name": "o_slice_16",
         "rawType": "float32",
         "type": "float"
        },
        {
         "name": "o_slice_17",
         "rawType": "float32",
         "type": "float"
        },
        {
         "name": "o_slice_18",
         "rawType": "float32",
         "type": "float"
        },
        {
         "name": "o_slice_19",
         "rawType": "float32",
         "type": "float"
        },
        {
         "name": "o_slice_20",
         "rawType": "float32",
         "type": "float"
        },
        {
         "name": "o_slice_21",
         "rawType": "float32",
         "type": "float"
        },
        {
         "name": "o_slice_22",
         "rawType": "float32",
         "type": "float"
        },
        {
         "name": "o_slice_23",
         "rawType": "float32",
         "type": "float"
        },
        {
         "name": "o_slice_24",
         "rawType": "float32",
         "type": "float"
        },
        {
         "name": "o_slice_25",
         "rawType": "float32",
         "type": "float"
        },
        {
         "name": "o_slice_26",
         "rawType": "float32",
         "type": "float"
        },
        {
         "name": "o_slice_27",
         "rawType": "float32",
         "type": "float"
        },
        {
         "name": "o_slice_28",
         "rawType": "float32",
         "type": "float"
        },
        {
         "name": "o_slice_29",
         "rawType": "float32",
         "type": "float"
        },
        {
         "name": "o_slice_30",
         "rawType": "float32",
         "type": "float"
        },
        {
         "name": "o_slice_31",
         "rawType": "float32",
         "type": "float"
        },
        {
         "name": "o_slice_32",
         "rawType": "float32",
         "type": "float"
        },
        {
         "name": "o_slice_33",
         "rawType": "float32",
         "type": "float"
        },
        {
         "name": "o_slice_34",
         "rawType": "float32",
         "type": "float"
        },
        {
         "name": "o_slice_35",
         "rawType": "float32",
         "type": "float"
        },
        {
         "name": "o_slice_36",
         "rawType": "float32",
         "type": "float"
        },
        {
         "name": "o_slice_37",
         "rawType": "float32",
         "type": "float"
        },
        {
         "name": "o_slice_38",
         "rawType": "float32",
         "type": "float"
        },
        {
         "name": "o_slice_39",
         "rawType": "float32",
         "type": "float"
        },
        {
         "name": "o_slice_40",
         "rawType": "float32",
         "type": "float"
        },
        {
         "name": "o_slice_41",
         "rawType": "float32",
         "type": "float"
        },
        {
         "name": "o_slice_42",
         "rawType": "float32",
         "type": "float"
        },
        {
         "name": "o_slice_43",
         "rawType": "float32",
         "type": "float"
        },
        {
         "name": "o_slice_44",
         "rawType": "float32",
         "type": "float"
        },
        {
         "name": "o_slice_45",
         "rawType": "float32",
         "type": "float"
        },
        {
         "name": "o_slice_46",
         "rawType": "float32",
         "type": "float"
        },
        {
         "name": "o_slice_47",
         "rawType": "float32",
         "type": "float"
        },
        {
         "name": "o_slice_48",
         "rawType": "float32",
         "type": "float"
        },
        {
         "name": "o_slice_49",
         "rawType": "float32",
         "type": "float"
        },
        {
         "name": "o_slice_50",
         "rawType": "float32",
         "type": "float"
        },
        {
         "name": "o_slice_51",
         "rawType": "float32",
         "type": "float"
        },
        {
         "name": "o_slice_52",
         "rawType": "float32",
         "type": "float"
        },
        {
         "name": "o_slice_53",
         "rawType": "float32",
         "type": "float"
        },
        {
         "name": "o_slice_54",
         "rawType": "float32",
         "type": "float"
        },
        {
         "name": "o_slice_55",
         "rawType": "float32",
         "type": "float"
        },
        {
         "name": "o_slice_56",
         "rawType": "float32",
         "type": "float"
        },
        {
         "name": "o_slice_57",
         "rawType": "float32",
         "type": "float"
        },
        {
         "name": "o_slice_58",
         "rawType": "float32",
         "type": "float"
        },
        {
         "name": "o_slice_59",
         "rawType": "float32",
         "type": "float"
        },
        {
         "name": "x_slice_0",
         "rawType": "float32",
         "type": "float"
        },
        {
         "name": "x_slice_1",
         "rawType": "float32",
         "type": "float"
        },
        {
         "name": "x_slice_2",
         "rawType": "float32",
         "type": "float"
        },
        {
         "name": "x_slice_3",
         "rawType": "float32",
         "type": "float"
        },
        {
         "name": "x_slice_4",
         "rawType": "float32",
         "type": "float"
        },
        {
         "name": "x_slice_5",
         "rawType": "float32",
         "type": "float"
        },
        {
         "name": "x_slice_6",
         "rawType": "float32",
         "type": "float"
        },
        {
         "name": "x_slice_7",
         "rawType": "float32",
         "type": "float"
        },
        {
         "name": "x_slice_8",
         "rawType": "float32",
         "type": "float"
        },
        {
         "name": "x_slice_9",
         "rawType": "float32",
         "type": "float"
        },
        {
         "name": "x_slice_10",
         "rawType": "float32",
         "type": "float"
        },
        {
         "name": "x_slice_11",
         "rawType": "float32",
         "type": "float"
        },
        {
         "name": "x_slice_12",
         "rawType": "float32",
         "type": "float"
        },
        {
         "name": "x_slice_13",
         "rawType": "float32",
         "type": "float"
        },
        {
         "name": "x_slice_14",
         "rawType": "float32",
         "type": "float"
        },
        {
         "name": "x_slice_15",
         "rawType": "float32",
         "type": "float"
        },
        {
         "name": "x_slice_16",
         "rawType": "float32",
         "type": "float"
        },
        {
         "name": "x_slice_17",
         "rawType": "float32",
         "type": "float"
        },
        {
         "name": "x_slice_18",
         "rawType": "float32",
         "type": "float"
        },
        {
         "name": "x_slice_19",
         "rawType": "float32",
         "type": "float"
        },
        {
         "name": "x_slice_20",
         "rawType": "float32",
         "type": "float"
        },
        {
         "name": "x_slice_21",
         "rawType": "float32",
         "type": "float"
        },
        {
         "name": "x_slice_22",
         "rawType": "float32",
         "type": "float"
        },
        {
         "name": "x_slice_23",
         "rawType": "float32",
         "type": "float"
        },
        {
         "name": "x_slice_24",
         "rawType": "float32",
         "type": "float"
        },
        {
         "name": "x_slice_25",
         "rawType": "float32",
         "type": "float"
        },
        {
         "name": "x_slice_26",
         "rawType": "float32",
         "type": "float"
        },
        {
         "name": "x_slice_27",
         "rawType": "float32",
         "type": "float"
        },
        {
         "name": "x_slice_28",
         "rawType": "float32",
         "type": "float"
        },
        {
         "name": "x_slice_29",
         "rawType": "float32",
         "type": "float"
        },
        {
         "name": "x_slice_30",
         "rawType": "float32",
         "type": "float"
        },
        {
         "name": "x_slice_31",
         "rawType": "float32",
         "type": "float"
        },
        {
         "name": "x_slice_32",
         "rawType": "float32",
         "type": "float"
        },
        {
         "name": "x_slice_33",
         "rawType": "float32",
         "type": "float"
        },
        {
         "name": "x_slice_34",
         "rawType": "float32",
         "type": "float"
        },
        {
         "name": "x_slice_35",
         "rawType": "float32",
         "type": "float"
        },
        {
         "name": "x_slice_36",
         "rawType": "float32",
         "type": "float"
        },
        {
         "name": "x_slice_37",
         "rawType": "float32",
         "type": "float"
        },
        {
         "name": "x_slice_38",
         "rawType": "float32",
         "type": "float"
        },
        {
         "name": "x_slice_39",
         "rawType": "float32",
         "type": "float"
        },
        {
         "name": "x_slice_40",
         "rawType": "float32",
         "type": "float"
        },
        {
         "name": "x_slice_41",
         "rawType": "float32",
         "type": "float"
        },
        {
         "name": "x_slice_42",
         "rawType": "float32",
         "type": "float"
        },
        {
         "name": "x_slice_43",
         "rawType": "float32",
         "type": "float"
        },
        {
         "name": "x_slice_44",
         "rawType": "float32",
         "type": "float"
        },
        {
         "name": "x_slice_45",
         "rawType": "float32",
         "type": "float"
        },
        {
         "name": "x_slice_46",
         "rawType": "float32",
         "type": "float"
        },
        {
         "name": "x_slice_47",
         "rawType": "float32",
         "type": "float"
        },
        {
         "name": "x_slice_48",
         "rawType": "float32",
         "type": "float"
        },
        {
         "name": "x_slice_49",
         "rawType": "float32",
         "type": "float"
        },
        {
         "name": "x_slice_50",
         "rawType": "float32",
         "type": "float"
        },
        {
         "name": "x_slice_51",
         "rawType": "float32",
         "type": "float"
        },
        {
         "name": "x_slice_52",
         "rawType": "float32",
         "type": "float"
        },
        {
         "name": "x_slice_53",
         "rawType": "float32",
         "type": "float"
        },
        {
         "name": "x_slice_54",
         "rawType": "float32",
         "type": "float"
        },
        {
         "name": "x_slice_55",
         "rawType": "float32",
         "type": "float"
        },
        {
         "name": "x_slice_56",
         "rawType": "float32",
         "type": "float"
        },
        {
         "name": "x_slice_57",
         "rawType": "float32",
         "type": "float"
        },
        {
         "name": "x_slice_58",
         "rawType": "float32",
         "type": "float"
        },
        {
         "name": "x_slice_59",
         "rawType": "float32",
         "type": "float"
        },
        {
         "name": "y_slice_0",
         "rawType": "float32",
         "type": "float"
        },
        {
         "name": "y_slice_1",
         "rawType": "float32",
         "type": "float"
        },
        {
         "name": "y_slice_2",
         "rawType": "float32",
         "type": "float"
        },
        {
         "name": "y_slice_3",
         "rawType": "float32",
         "type": "float"
        },
        {
         "name": "y_slice_4",
         "rawType": "float32",
         "type": "float"
        },
        {
         "name": "y_slice_5",
         "rawType": "float32",
         "type": "float"
        },
        {
         "name": "y_slice_6",
         "rawType": "float32",
         "type": "float"
        },
        {
         "name": "y_slice_7",
         "rawType": "float32",
         "type": "float"
        },
        {
         "name": "y_slice_8",
         "rawType": "float32",
         "type": "float"
        },
        {
         "name": "y_slice_9",
         "rawType": "float32",
         "type": "float"
        },
        {
         "name": "y_slice_10",
         "rawType": "float32",
         "type": "float"
        },
        {
         "name": "y_slice_11",
         "rawType": "float32",
         "type": "float"
        },
        {
         "name": "y_slice_12",
         "rawType": "float32",
         "type": "float"
        },
        {
         "name": "y_slice_13",
         "rawType": "float32",
         "type": "float"
        },
        {
         "name": "y_slice_14",
         "rawType": "float32",
         "type": "float"
        },
        {
         "name": "y_slice_15",
         "rawType": "float32",
         "type": "float"
        },
        {
         "name": "y_slice_16",
         "rawType": "float32",
         "type": "float"
        },
        {
         "name": "y_slice_17",
         "rawType": "float32",
         "type": "float"
        },
        {
         "name": "y_slice_18",
         "rawType": "float32",
         "type": "float"
        },
        {
         "name": "y_slice_19",
         "rawType": "float32",
         "type": "float"
        },
        {
         "name": "y_slice_20",
         "rawType": "float32",
         "type": "float"
        },
        {
         "name": "y_slice_21",
         "rawType": "float32",
         "type": "float"
        },
        {
         "name": "y_slice_22",
         "rawType": "float32",
         "type": "float"
        },
        {
         "name": "y_slice_23",
         "rawType": "float32",
         "type": "float"
        },
        {
         "name": "y_slice_24",
         "rawType": "float32",
         "type": "float"
        },
        {
         "name": "y_slice_25",
         "rawType": "float32",
         "type": "float"
        },
        {
         "name": "y_slice_26",
         "rawType": "float32",
         "type": "float"
        },
        {
         "name": "y_slice_27",
         "rawType": "float32",
         "type": "float"
        },
        {
         "name": "y_slice_28",
         "rawType": "float32",
         "type": "float"
        },
        {
         "name": "y_slice_29",
         "rawType": "float32",
         "type": "float"
        },
        {
         "name": "y_slice_30",
         "rawType": "float32",
         "type": "float"
        },
        {
         "name": "y_slice_31",
         "rawType": "float32",
         "type": "float"
        },
        {
         "name": "y_slice_32",
         "rawType": "float32",
         "type": "float"
        },
        {
         "name": "y_slice_33",
         "rawType": "float32",
         "type": "float"
        },
        {
         "name": "y_slice_34",
         "rawType": "float32",
         "type": "float"
        },
        {
         "name": "y_slice_35",
         "rawType": "float32",
         "type": "float"
        },
        {
         "name": "y_slice_36",
         "rawType": "float32",
         "type": "float"
        },
        {
         "name": "y_slice_37",
         "rawType": "float32",
         "type": "float"
        },
        {
         "name": "y_slice_38",
         "rawType": "float32",
         "type": "float"
        },
        {
         "name": "y_slice_39",
         "rawType": "float32",
         "type": "float"
        },
        {
         "name": "y_slice_40",
         "rawType": "float32",
         "type": "float"
        },
        {
         "name": "y_slice_41",
         "rawType": "float32",
         "type": "float"
        },
        {
         "name": "y_slice_42",
         "rawType": "float32",
         "type": "float"
        },
        {
         "name": "y_slice_43",
         "rawType": "float32",
         "type": "float"
        },
        {
         "name": "y_slice_44",
         "rawType": "float32",
         "type": "float"
        },
        {
         "name": "y_slice_45",
         "rawType": "float32",
         "type": "float"
        },
        {
         "name": "y_slice_46",
         "rawType": "float32",
         "type": "float"
        },
        {
         "name": "y_slice_47",
         "rawType": "float32",
         "type": "float"
        },
        {
         "name": "y_slice_48",
         "rawType": "float32",
         "type": "float"
        },
        {
         "name": "y_slice_49",
         "rawType": "float32",
         "type": "float"
        },
        {
         "name": "y_slice_50",
         "rawType": "float32",
         "type": "float"
        },
        {
         "name": "y_slice_51",
         "rawType": "float32",
         "type": "float"
        },
        {
         "name": "y_slice_52",
         "rawType": "float32",
         "type": "float"
        },
        {
         "name": "y_slice_53",
         "rawType": "float32",
         "type": "float"
        },
        {
         "name": "y_slice_54",
         "rawType": "float32",
         "type": "float"
        },
        {
         "name": "y_slice_55",
         "rawType": "float32",
         "type": "float"
        },
        {
         "name": "y_slice_56",
         "rawType": "float32",
         "type": "float"
        },
        {
         "name": "y_slice_57",
         "rawType": "float32",
         "type": "float"
        },
        {
         "name": "y_slice_58",
         "rawType": "float32",
         "type": "float"
        },
        {
         "name": "y_slice_59",
         "rawType": "float32",
         "type": "float"
        },
        {
         "name": "player_activity_derived",
         "rawType": "object",
         "type": "unknown"
        },
        {
         "name": "turnover_related",
         "rawType": "object",
         "type": "unknown"
        },
        {
         "name": "primary_impact_type",
         "rawType": "object",
         "type": "unknown"
        },
        {
         "name": "primary_partner_gsisid",
         "rawType": "object",
         "type": "unknown"
        },
        {
         "name": "primary_partner_activity_derived",
         "rawType": "object",
         "type": "unknown"
        },
        {
         "name": "friendly_fire",
         "rawType": "object",
         "type": "unknown"
        },
        {
         "name": "concussed",
         "rawType": "int64",
         "type": "integer"
        }
       ],
       "ref": "3be325dd-d541-489d-89bf-0b4b281428e2",
       "rows": [
        [
         "0",
         "2016",
         "6",
         "3236",
         "26957.0",
         "0.10333333",
         "0.067999996",
         "0.066",
         "0.056",
         "0.068",
         "0.022",
         "0.031999998",
         "0.044",
         "0.031999998",
         "0.062",
         "0.062",
         "0.060000002",
         "0.030000001",
         "0.054",
         "0.059999995",
         "0.02",
         "0.025999999",
         "0.031999998",
         "0.05",
         "0.030000001",
         "0.025999999",
         "0.05",
         "0.02",
         "0.038",
         "0.028",
         "0.038",
         "0.072000004",
         "0.044",
         "0.060000002",
         "0.038",
         "0.086",
         "0.076",
         "0.146",
         "0.19600001",
         "0.14",
         "0.08",
         "0.154",
         "0.322",
         "0.302",
         "0.112",
         "0.098000005",
         "0.058",
         "0.166",
         "0.37",
         "0.516",
         "0.53400004",
         "0.602",
         "0.656",
         "0.62600005",
         "0.582",
         "0.562",
         "0.41",
         "0.31",
         "0.20799999",
         "0.15",
         "0.1",
         "0.10599999",
         "0.11799999",
         "0.124",
         "0.138",
         "273.08334",
         "278.126",
         "289.292",
         "302.652",
         "325.258",
         "351.48798",
         "358.992",
         "353.724",
         "353.26",
         "357.03",
         "353.26602",
         "349.596",
         "214.23799",
         "9.958",
         "76.808",
         "356.892",
         "357.038",
         "355.114",
         "345.39398",
         "339.672",
         "340.794",
         "343.914",
         "345.26",
         "340.654",
         "334.416",
         "338.214",
         "342.13202",
         "336.506",
         "339.146",
         "351.822",
         "351.918",
         "352.294",
         "147.298",
         "12.304",
         "76.55",
         "353.38998",
         "350.002",
         "285.332",
         "28.085999",
         "78.591995",
         "88.1",
         "32.797997",
         "347.448",
         "341.776",
         "340.176",
         "337.05",
         "337.65",
         "335.22",
         "332.108",
         "328.094",
         "319.9",
         "312.1",
         "316.188",
         "321.428",
         "320.15",
         "332.35602",
         "352.614",
         "2.754",
         "13.274",
         "27.135998",
         "37.548332",
         "37.346",
         "37.314003",
         "37.348",
         "37.124",
         "37.082",
         "37.118",
         "37.204",
         "37.332",
         "37.573997",
         "37.85",
         "38.134",
         "38.276",
         "38.476",
         "38.688",
         "38.75",
         "38.758",
         "38.838",
         "38.991997",
         "39.142",
         "39.106",
         "39.248",
         "39.344",
         "39.444",
         "39.547997",
         "39.698",
         "39.748",
         "39.510002",
         "39.616",
         "39.762",
         "39.635998",
         "39.264",
         "38.726",
         "37.823997",
         "37.106",
         "36.916",
         "36.468",
         "35.329998",
         "34.088",
         "33.774",
         "33.941998",
         "34.03",
         "34.218",
         "35.264",
         "37.357998",
         "39.920002",
         "42.438",
         "45.135998",
         "48.02",
         "50.818",
         "53.476",
         "55.694",
         "57.159996",
         "58.171997",
         "58.846",
         "59.283997",
         "59.76",
         "60.322002",
         "60.844",
         "61.28",
         "31.223333",
         "31.602",
         "31.934",
         "32.138",
         "32.416",
         "32.6",
         "32.55",
         "32.366",
         "32.334",
         "32.432",
         "32.506",
         "32.378",
         "32.254",
         "32.228",
         "32.101997",
         "31.91",
         "31.939999",
         "32.056",
         "31.934",
         "31.817999",
         "31.838001",
         "31.714",
         "31.692001",
         "31.661999",
         "31.685999",
         "31.656",
         "31.646",
         "31.845999",
         "31.788",
         "31.748001",
         "31.73",
         "31.808002",
         "31.820002",
         "31.7",
         "31.45",
         "31.008",
         "30.722",
         "30.114002",
         "29.05",
         "28.307999",
         "28.292002",
         "28.439999",
         "27.957998",
         "26.929998",
         "26.032001",
         "26.135998",
         "27.414001",
         "29.176",
         "30.66",
         "31.712",
         "32.697998",
         "33.604",
         "34.582",
         "35.267998",
         "35.739998",
         "36.134",
         "36.22",
         "36.258003",
         "35.994",
         "35.484",
         null,
         null,
         null,
         null,
         null,
         null,
         "0"
        ],
        [
         "1",
         "2016",
         "6",
         "3236",
         "28932.0",
         "0.10833333",
         "0.096",
         "0.082",
         "0.063999996",
         "0.036",
         "0.034",
         "0.038",
         "0.056",
         "0.060000002",
         "0.066",
         "0.094",
         "0.060000002",
         "0.034",
         "0.048",
         "0.044",
         "0.015999999",
         "0.018",
         "0.007999999",
         "0.022",
         "0.089999996",
         "0.038",
         "0.045999996",
         "0.031999998",
         "0.063999996",
         "0.054",
         "0.059999995",
         "0.08",
         "0.053999998",
         "0.045999996",
         "0.054",
         "0.068",
         "0.060000002",
         "0.178",
         "0.182",
         "0.246",
         "0.41799998",
         "0.566",
         "0.704",
         "0.80599993",
         "0.90200007",
         "0.936",
         "0.95",
         "0.94200003",
         "0.93999994",
         "0.9",
         "0.796",
         "0.694",
         "0.514",
         "0.272",
         "0.282",
         "0.15400001",
         "0.11",
         "0.176",
         "0.326",
         "0.47199997",
         "0.556",
         "0.566",
         "0.542",
         "0.518",
         "0.49400002",
         "238.02501",
         "248.56198",
         "265.0",
         "287.296",
         "304.76202",
         "328.11603",
         "282.94598",
         "3.546",
         "286.344",
         "285.898",
         "4.104",
         "6.7879996",
         "6.4620004",
         "144.288",
         "355.472",
         "215.194",
         "2.6100001",
         "214.772",
         "354.22",
         "357.416",
         "1.342",
         "3.08",
         "287.148",
         "358.194",
         "353.73602",
         "344.01398",
         "337.51602",
         "338.876",
         "339.478",
         "330.75",
         "324.89398",
         "337.622",
         "145.36",
         "4.492",
         "356.51202",
         "214.61401",
         "6.394",
         "5.5059996",
         "73.212",
         "357.094",
         "354.194",
         "352.84198",
         "353.166",
         "353.318",
         "351.086",
         "338.36603",
         "319.63998",
         "298.89398",
         "308.734",
         "341.192",
         "216.552",
         "51.654003",
         "139.34",
         "140.754",
         "108.212",
         "82.142",
         "73.334",
         "75.1",
         "94.416",
         "111.645996",
         "37.265",
         "37.222",
         "37.176003",
         "37.252",
         "37.329998",
         "37.304",
         "37.368",
         "37.56",
         "37.786",
         "38.134",
         "38.486",
         "38.84",
         "39.04",
         "39.078",
         "39.062",
         "39.046",
         "39.066",
         "39.05",
         "39.09",
         "39.336",
         "39.486",
         "39.241997",
         "39.214",
         "39.378",
         "39.61",
         "39.554",
         "39.28",
         "39.384",
         "39.364002",
         "39.178",
         "39.39",
         "39.45",
         "38.794",
         "38.082",
         "37.784",
         "38.69",
         "40.832",
         "44.042",
         "47.864002",
         "52.174",
         "56.809998",
         "61.517998",
         "66.25",
         "70.923996",
         "75.562",
         "79.616",
         "82.944",
         "84.756",
         "85.236",
         "85.3",
         "85.212",
         "84.729996",
         "84.186",
         "83.06",
         "81.871994",
         "80.788",
         "79.994",
         "79.176",
         "78.28",
         "77.196",
         "26.949999",
         "27.49",
         "27.914001",
         "28.24",
         "28.460001",
         "28.582",
         "28.685999",
         "28.522",
         "28.428",
         "28.418",
         "28.244",
         "28.072",
         "28.067999",
         "27.935999",
         "27.654001",
         "27.582",
         "27.608002",
         "27.672",
         "27.714",
         "27.9",
         "28.088001",
         "28.122",
         "28.170002",
         "28.1",
         "28.156",
         "28.292002",
         "28.289999",
         "28.207998",
         "28.192001",
         "28.105999",
         "28.052002",
         "28.105999",
         "27.988",
         "27.576",
         "26.59",
         "25.198002",
         "23.897999",
         "23.18",
         "22.902",
         "22.782001",
         "22.868",
         "23.067999",
         "23.382",
         "23.808",
         "24.326",
         "25.11",
         "26.726002",
         "28.908",
         "30.616001",
         "32.118",
         "32.222",
         "31.786",
         "31.39",
         "30.618",
         "29.112",
         "26.564001",
         "23.855999",
         "21.26",
         "18.789999",
         "16.49",
         null,
         null,
         null,
         null,
         null,
         null,
         "0"
        ],
        [
         "2",
         "2016",
         "6",
         "3236",
         "28943.0",
         "0.030000001",
         "0.014",
         "0.018",
         "0.01",
         "0.024",
         "0.063999996",
         "0.068",
         "0.066",
         "0.072000004",
         "0.076",
         "0.02",
         "0.05",
         "0.018",
         "0.02",
         "0.045999996",
         "0.042",
         "0.031999998",
         "0.018",
         "0.007999999",
         "0.014",
         "0.007999999",
         "0.053999998",
         "0.094",
         "0.126",
         "0.092",
         "0.05",
         "0.051999997",
         "0.028",
         "0.077999994",
         "0.066",
         "0.04",
         "0.15",
         "0.134",
         "0.089999996",
         "0.238",
         "0.34600002",
         "0.47800002",
         "0.634",
         "0.766",
         "0.78400004",
         "0.886",
         "0.9",
         "0.9",
         "0.87399995",
         "0.83000004",
         "0.746",
         "0.514",
         "0.302",
         "0.408",
         "0.268",
         "0.172",
         "0.063999996",
         "0.048",
         "0.034",
         "0.024",
         "0.058000006",
         "0.09199999",
         "0.114",
         "0.122",
         "0.14",
         "356.53165",
         "144.19",
         "355.53",
         "355.984",
         "4.5620003",
         "13.624001",
         "13.4800005",
         "6.814",
         "285.032",
         "350.398",
         "348.594",
         "348.062",
         "351.146",
         "353.38397",
         "354.41202",
         "352.76",
         "352.11002",
         "348.424",
         "343.34198",
         "342.836",
         "344.704",
         "329.16602",
         "301.046",
         "291.468",
         "304.08398",
         "313.812",
         "318.848",
         "317.58798",
         "310.898",
         "307.874",
         "309.08002",
         "314.614",
         "331.138",
         "149.44",
         "35.746002",
         "35.234",
         "81.626",
         "349.332",
         "342.378",
         "345.902",
         "352.782",
         "356.336",
         "358.64",
         "359.168",
         "357.414",
         "356.024",
         "357.476",
         "72.482",
         "285.53198",
         "335.888",
         "254.772",
         "183.522",
         "161.20999",
         "148.804",
         "146.844",
         "150.534",
         "151.20401",
         "154.528",
         "162.03",
         "164.376",
         "37.795002",
         "37.85",
         "37.874",
         "37.858",
         "37.884",
         "38.084",
         "38.318",
         "38.548",
         "38.85",
         "39.166",
         "39.302002",
         "39.148",
         "39.042",
         "39.054",
         "39.208",
         "39.185997",
         "39.034",
         "38.98",
         "38.984",
         "38.986",
         "38.97",
         "39.07",
         "39.272",
         "39.547997",
         "39.885998",
         "39.989998",
         "39.846",
         "39.941998",
         "39.868",
         "39.82",
         "39.584",
         "39.414",
         "38.670002",
         "38.484",
         "39.166",
         "40.418",
         "42.204002",
         "44.972",
         "48.504",
         "52.35",
         "56.614002",
         "61.068",
         "65.556",
         "69.956",
         "74.198",
         "78.054",
         "81.226",
         "82.91",
         "84.676",
         "86.254",
         "87.270004",
         "87.542",
         "87.652",
         "87.591995",
         "87.5",
         "87.312",
         "86.976",
         "86.532",
         "86.072",
         "85.482",
         "31.858332",
         "31.854",
         "31.8",
         "31.768",
         "31.707998",
         "31.592",
         "31.342",
         "31.123999",
         "30.957998",
         "30.744",
         "30.702",
         "30.808002",
         "30.848001",
         "30.854",
         "30.723999",
         "30.682001",
         "30.698002",
         "30.73",
         "30.780003",
         "30.798",
         "30.816",
         "30.789999",
         "30.938",
         "30.873999",
         "30.61",
         "30.616001",
         "30.636002",
         "30.672",
         "30.726002",
         "30.736002",
         "30.588001",
         "30.64",
         "30.632",
         "30.704",
         "31.314001",
         "32.21",
         "33.211998",
         "34.044",
         "34.424",
         "34.3",
         "33.986",
         "33.528",
         "33.120003",
         "32.711998",
         "32.384003",
         "32.478",
         "32.84",
         "32.697998",
         "32.098",
         "32.02",
         "32.288002",
         "32.35",
         "32.528",
         "32.59",
         "32.536",
         "32.454002",
         "32.254",
         "31.932001",
         "31.614002",
         "31.241999",
         null,
         null,
         null,
         null,
         null,
         null,
         "0"
        ],
        [
         "3",
         "2016",
         "6",
         "3236",
         "29414.0",
         "0.30166665",
         "0.294",
         "0.272",
         "0.23599999",
         "0.21199998",
         "0.15799999",
         "0.15",
         "0.138",
         "0.136",
         "0.11",
         "0.077999994",
         "0.074",
         "0.014",
         "0.02",
         "0.025999999",
         "0.034",
         "0.025999999",
         "0.038",
         "0.036",
         "0.066",
         "0.060000002",
         "0.086",
         "0.028",
         "0.05",
         "0.046",
         "0.042000003",
         "0.056",
         "0.044",
         "0.056",
         "0.048",
         "0.060000002",
         "0.092",
         "0.296",
         "0.304",
         "0.23799999",
         "0.31",
         "0.356",
         "0.47599998",
         "0.55",
         "0.646",
         "0.744",
         "0.752",
         "0.816",
         "0.838",
         "0.82600003",
         "0.8",
         "0.77",
         "0.684",
         "0.704",
         "0.586",
         "0.368",
         "0.21400002",
         "0.13399999",
         "0.11",
         "0.063999996",
         "0.042",
         "0.034",
         "0.033999998",
         "0.029999997",
         "0.031999998",
         "143.81834",
         "145.014",
         "147.3",
         "147.26001",
         "146.98",
         "150.462",
         "153.75601",
         "162.76999",
         "172.06601",
         "180.698",
         "186.24199",
         "186.944",
         "183.896",
         "182.338",
         "183.012",
         "183.382",
         "180.062",
         "175.1",
         "173.722",
         "174.538",
         "174.998",
         "170.874",
         "158.032",
         "144.828",
         "139.444",
         "140.088",
         "140.24399",
         "139.096",
         "137.42",
         "137.40201",
         "145.206",
         "162.626",
         "175.48001",
         "169.93001",
         "152.59201",
         "139.888",
         "118.636",
         "74.074",
         "41.073997",
         "24.506",
         "15.8619995",
         "11.194",
         "9.41",
         "7.746",
         "7.318",
         "4.13",
         "357.028",
         "354.05402",
         "345.878",
         "316.734",
         "297.354",
         "311.794",
         "329.192",
         "319.104",
         "267.076",
         "213.26599",
         "195.968",
         "194.034",
         "195.44",
         "201.614",
         "49.808334",
         "48.803997",
         "47.856",
         "47.042",
         "46.197998",
         "45.54",
         "44.938",
         "44.306",
         "43.672",
         "43.094",
         "42.670002",
         "42.316",
         "42.214",
         "42.242",
         "42.298",
         "42.379997",
         "42.323997",
         "42.464",
         "42.510002",
         "42.29",
         "42.028",
         "41.624",
         "41.420002",
         "41.252003",
         "41.068",
         "41.042",
         "40.984",
         "41.104",
         "40.97",
         "40.834",
         "41.079998",
         "41.045998",
         "40.090004",
         "38.952003",
         "37.924",
         "37.976",
         "38.668",
         "40.138",
         "42.406",
         "45.316",
         "48.874",
         "52.682",
         "56.538002",
         "60.71",
         "64.858",
         "68.886",
         "72.678",
         "75.96",
         "78.92",
         "81.882",
         "83.746",
         "84.98399",
         "85.645996",
         "85.97",
         "86.002",
         "86.078",
         "86.044",
         "85.932",
         "85.852005",
         "85.81999",
         "36.461666",
         "35.18",
         "34.118",
         "33.19",
         "32.447998",
         "31.9",
         "31.446",
         "31.14",
         "30.907999",
         "30.883999",
         "30.816",
         "30.978",
         "31.034",
         "31.029999",
         "30.929998",
         "30.798",
         "30.77",
         "30.679998",
         "30.691998",
         "30.864002",
         "31.004002",
         "30.901999",
         "30.929998",
         "31.032001",
         "31.207998",
         "31.324",
         "31.338001",
         "31.204",
         "31.322",
         "31.326",
         "31.11",
         "30.938",
         "30.338001",
         "29.385998",
         "28.578",
         "27.344",
         "25.776001",
         "24.286",
         "23.062",
         "22.312",
         "22.01",
         "21.722",
         "21.576",
         "21.614",
         "21.918",
         "22.414",
         "23.24",
         "24.560001",
         "26.41",
         "27.848001",
         "28.973999",
         "29.618",
         "30.038",
         "30.541998",
         "30.929998",
         "31.133999",
         "31.029999",
         "30.91",
         "30.794",
         "30.689999",
         null,
         null,
         null,
         null,
         null,
         null,
         "0"
        ],
        [
         "4",
         "2016",
         "6",
         "3236",
         "29963.0",
         "0.15",
         "0.15222223",
         "0.15444446",
         "0.15666667",
         "0.15888889",
         "0.16111112",
         "0.16333334",
         "0.16555555",
         "0.16777778",
         "0.17",
         "0.17300001",
         "0.176",
         "0.179",
         "0.182",
         "0.185",
         "0.18800001",
         "0.191",
         "0.194",
         "0.197",
         "0.2",
         "0.198",
         "0.19600001",
         "0.194",
         "0.192",
         "0.19",
         "0.18800001",
         "0.186",
         "0.184",
         "0.18200001",
         "0.18",
         "0.183",
         "0.186",
         "0.18900001",
         "0.192",
         "0.195",
         "0.198",
         "0.201",
         "0.204",
         "0.20699999",
         "0.21",
         "0.213",
         "0.21599999",
         "0.219",
         "0.22199999",
         "0.225",
         "0.228",
         "0.23099999",
         "0.234",
         "0.23699999",
         "0.24",
         "0.233",
         "0.226",
         "0.219",
         "0.212",
         "0.205",
         "0.198",
         "0.191",
         "0.184",
         "0.177",
         "0.17",
         "63.91",
         "63.984444",
         "64.05889",
         "64.13333",
         "64.20778",
         "64.28223",
         "64.35667",
         "64.431114",
         "64.505554",
         "64.58",
         "64.655",
         "64.73",
         "64.805",
         "64.880005",
         "64.955",
         "65.03",
         "65.105",
         "65.18",
         "65.255005",
         "65.33",
         "65.348",
         "65.366005",
         "65.384",
         "65.402",
         "65.42",
         "65.438",
         "65.456",
         "65.474",
         "65.492004",
         "65.51",
         "65.445",
         "65.380005",
         "65.315",
         "65.25",
         "65.185",
         "65.12",
         "65.055",
         "64.99",
         "64.925",
         "64.86",
         "64.714005",
         "64.568",
         "64.422",
         "64.276",
         "64.130005",
         "63.984",
         "63.838",
         "63.692",
         "63.546",
         "63.4",
         "63.243",
         "63.086002",
         "62.929",
         "62.772003",
         "62.615",
         "62.458",
         "62.301003",
         "62.144",
         "61.987003",
         "61.83",
         "40.14",
         "40.146667",
         "40.15333",
         "40.16",
         "40.166668",
         "40.173332",
         "40.18",
         "40.18667",
         "40.193333",
         "40.2",
         "40.206",
         "40.212",
         "40.218",
         "40.224",
         "40.23",
         "40.236",
         "40.242",
         "40.247997",
         "40.253998",
         "40.26",
         "40.267",
         "40.274",
         "40.281",
         "40.288",
         "40.295",
         "40.302002",
         "40.309002",
         "40.316",
         "40.323",
         "40.33",
         "40.338",
         "40.346",
         "40.354",
         "40.362",
         "40.370003",
         "40.378002",
         "40.386",
         "40.394",
         "40.402",
         "40.41",
         "40.417",
         "40.424",
         "40.431",
         "40.438",
         "40.445",
         "40.452",
         "40.459",
         "40.466",
         "40.473",
         "40.48",
         "40.488",
         "40.496",
         "40.504",
         "40.512",
         "40.52",
         "40.528",
         "40.536",
         "40.544003",
         "40.552002",
         "40.56",
         "0.63",
         "0.6122222",
         "0.59444445",
         "0.57666665",
         "0.5588889",
         "0.5411111",
         "0.5233333",
         "0.50555557",
         "0.48777777",
         "0.47",
         "0.451",
         "0.432",
         "0.413",
         "0.394",
         "0.375",
         "0.356",
         "0.337",
         "0.318",
         "0.299",
         "0.28",
         "0.263",
         "0.246",
         "0.229",
         "0.212",
         "0.195",
         "0.178",
         "0.161",
         "0.144",
         "0.127",
         "0.11",
         "0.091",
         "0.072",
         "0.053",
         "0.034",
         "0.015000001",
         "-0.0039999993",
         "-0.022999998",
         "-0.042",
         "-0.060999997",
         "-0.08",
         "-0.103",
         "-0.126",
         "-0.149",
         "-0.172",
         "-0.195",
         "-0.218",
         "-0.241",
         "-0.264",
         "-0.287",
         "-0.31",
         "-0.325",
         "-0.34",
         "-0.35500002",
         "-0.37",
         "-0.385",
         "-0.4",
         "-0.41500002",
         "-0.43",
         "-0.445",
         "-0.46",
         null,
         null,
         null,
         null,
         null,
         null,
         "0"
        ]
       ],
       "shape": {
        "columns": 251,
        "rows": 5
       }
      },
      "text/html": [
       "<div>\n",
       "<style scoped>\n",
       "    .dataframe tbody tr th:only-of-type {\n",
       "        vertical-align: middle;\n",
       "    }\n",
       "\n",
       "    .dataframe tbody tr th {\n",
       "        vertical-align: top;\n",
       "    }\n",
       "\n",
       "    .dataframe thead th {\n",
       "        text-align: right;\n",
       "    }\n",
       "</style>\n",
       "<table border=\"1\" class=\"dataframe\">\n",
       "  <thead>\n",
       "    <tr style=\"text-align: right;\">\n",
       "      <th></th>\n",
       "      <th>season_year</th>\n",
       "      <th>gamekey</th>\n",
       "      <th>playid</th>\n",
       "      <th>gsisid</th>\n",
       "      <th>dis_slice_0</th>\n",
       "      <th>dis_slice_1</th>\n",
       "      <th>dis_slice_2</th>\n",
       "      <th>dis_slice_3</th>\n",
       "      <th>dis_slice_4</th>\n",
       "      <th>dis_slice_5</th>\n",
       "      <th>...</th>\n",
       "      <th>y_slice_57</th>\n",
       "      <th>y_slice_58</th>\n",
       "      <th>y_slice_59</th>\n",
       "      <th>player_activity_derived</th>\n",
       "      <th>turnover_related</th>\n",
       "      <th>primary_impact_type</th>\n",
       "      <th>primary_partner_gsisid</th>\n",
       "      <th>primary_partner_activity_derived</th>\n",
       "      <th>friendly_fire</th>\n",
       "      <th>concussed</th>\n",
       "    </tr>\n",
       "  </thead>\n",
       "  <tbody>\n",
       "    <tr>\n",
       "      <th>0</th>\n",
       "      <td>2016</td>\n",
       "      <td>6</td>\n",
       "      <td>3236</td>\n",
       "      <td>26957.0</td>\n",
       "      <td>0.103333</td>\n",
       "      <td>0.068000</td>\n",
       "      <td>0.066000</td>\n",
       "      <td>0.056000</td>\n",
       "      <td>0.068000</td>\n",
       "      <td>0.022000</td>\n",
       "      <td>...</td>\n",
       "      <td>36.258003</td>\n",
       "      <td>35.993999</td>\n",
       "      <td>35.484001</td>\n",
       "      <td>NaN</td>\n",
       "      <td>NaN</td>\n",
       "      <td>NaN</td>\n",
       "      <td>NaN</td>\n",
       "      <td>NaN</td>\n",
       "      <td>NaN</td>\n",
       "      <td>0</td>\n",
       "    </tr>\n",
       "    <tr>\n",
       "      <th>1</th>\n",
       "      <td>2016</td>\n",
       "      <td>6</td>\n",
       "      <td>3236</td>\n",
       "      <td>28932.0</td>\n",
       "      <td>0.108333</td>\n",
       "      <td>0.096000</td>\n",
       "      <td>0.082000</td>\n",
       "      <td>0.064000</td>\n",
       "      <td>0.036000</td>\n",
       "      <td>0.034000</td>\n",
       "      <td>...</td>\n",
       "      <td>21.260000</td>\n",
       "      <td>18.789999</td>\n",
       "      <td>16.490000</td>\n",
       "      <td>NaN</td>\n",
       "      <td>NaN</td>\n",
       "      <td>NaN</td>\n",
       "      <td>NaN</td>\n",
       "      <td>NaN</td>\n",
       "      <td>NaN</td>\n",
       "      <td>0</td>\n",
       "    </tr>\n",
       "    <tr>\n",
       "      <th>2</th>\n",
       "      <td>2016</td>\n",
       "      <td>6</td>\n",
       "      <td>3236</td>\n",
       "      <td>28943.0</td>\n",
       "      <td>0.030000</td>\n",
       "      <td>0.014000</td>\n",
       "      <td>0.018000</td>\n",
       "      <td>0.010000</td>\n",
       "      <td>0.024000</td>\n",
       "      <td>0.064000</td>\n",
       "      <td>...</td>\n",
       "      <td>31.932001</td>\n",
       "      <td>31.614002</td>\n",
       "      <td>31.241999</td>\n",
       "      <td>NaN</td>\n",
       "      <td>NaN</td>\n",
       "      <td>NaN</td>\n",
       "      <td>NaN</td>\n",
       "      <td>NaN</td>\n",
       "      <td>NaN</td>\n",
       "      <td>0</td>\n",
       "    </tr>\n",
       "    <tr>\n",
       "      <th>3</th>\n",
       "      <td>2016</td>\n",
       "      <td>6</td>\n",
       "      <td>3236</td>\n",
       "      <td>29414.0</td>\n",
       "      <td>0.301667</td>\n",
       "      <td>0.294000</td>\n",
       "      <td>0.272000</td>\n",
       "      <td>0.236000</td>\n",
       "      <td>0.212000</td>\n",
       "      <td>0.158000</td>\n",
       "      <td>...</td>\n",
       "      <td>30.910000</td>\n",
       "      <td>30.794001</td>\n",
       "      <td>30.689999</td>\n",
       "      <td>NaN</td>\n",
       "      <td>NaN</td>\n",
       "      <td>NaN</td>\n",
       "      <td>NaN</td>\n",
       "      <td>NaN</td>\n",
       "      <td>NaN</td>\n",
       "      <td>0</td>\n",
       "    </tr>\n",
       "    <tr>\n",
       "      <th>4</th>\n",
       "      <td>2016</td>\n",
       "      <td>6</td>\n",
       "      <td>3236</td>\n",
       "      <td>29963.0</td>\n",
       "      <td>0.150000</td>\n",
       "      <td>0.152222</td>\n",
       "      <td>0.154444</td>\n",
       "      <td>0.156667</td>\n",
       "      <td>0.158889</td>\n",
       "      <td>0.161111</td>\n",
       "      <td>...</td>\n",
       "      <td>-0.430000</td>\n",
       "      <td>-0.445000</td>\n",
       "      <td>-0.460000</td>\n",
       "      <td>NaN</td>\n",
       "      <td>NaN</td>\n",
       "      <td>NaN</td>\n",
       "      <td>NaN</td>\n",
       "      <td>NaN</td>\n",
       "      <td>NaN</td>\n",
       "      <td>0</td>\n",
       "    </tr>\n",
       "  </tbody>\n",
       "</table>\n",
       "<p>5 rows × 251 columns</p>\n",
       "</div>"
      ],
      "text/plain": [
       "   season_year  gamekey  playid   gsisid  dis_slice_0  dis_slice_1  \\\n",
       "0         2016        6    3236  26957.0     0.103333     0.068000   \n",
       "1         2016        6    3236  28932.0     0.108333     0.096000   \n",
       "2         2016        6    3236  28943.0     0.030000     0.014000   \n",
       "3         2016        6    3236  29414.0     0.301667     0.294000   \n",
       "4         2016        6    3236  29963.0     0.150000     0.152222   \n",
       "\n",
       "   dis_slice_2  dis_slice_3  dis_slice_4  dis_slice_5  ...  y_slice_57  \\\n",
       "0     0.066000     0.056000     0.068000     0.022000  ...   36.258003   \n",
       "1     0.082000     0.064000     0.036000     0.034000  ...   21.260000   \n",
       "2     0.018000     0.010000     0.024000     0.064000  ...   31.932001   \n",
       "3     0.272000     0.236000     0.212000     0.158000  ...   30.910000   \n",
       "4     0.154444     0.156667     0.158889     0.161111  ...   -0.430000   \n",
       "\n",
       "   y_slice_58  y_slice_59  player_activity_derived  turnover_related  \\\n",
       "0   35.993999   35.484001                      NaN               NaN   \n",
       "1   18.789999   16.490000                      NaN               NaN   \n",
       "2   31.614002   31.241999                      NaN               NaN   \n",
       "3   30.794001   30.689999                      NaN               NaN   \n",
       "4   -0.445000   -0.460000                      NaN               NaN   \n",
       "\n",
       "   primary_impact_type  primary_partner_gsisid  \\\n",
       "0                  NaN                     NaN   \n",
       "1                  NaN                     NaN   \n",
       "2                  NaN                     NaN   \n",
       "3                  NaN                     NaN   \n",
       "4                  NaN                     NaN   \n",
       "\n",
       "   primary_partner_activity_derived  friendly_fire  concussed  \n",
       "0                               NaN            NaN          0  \n",
       "1                               NaN            NaN          0  \n",
       "2                               NaN            NaN          0  \n",
       "3                               NaN            NaN          0  \n",
       "4                               NaN            NaN          0  \n",
       "\n",
       "[5 rows x 251 columns]"
      ]
     },
     "execution_count": 15,
     "metadata": {},
     "output_type": "execute_result"
    }
   ],
   "source": [
    "df_final.head()"
   ]
  },
  {
   "cell_type": "code",
   "execution_count": 14,
   "id": "6d3d103f",
   "metadata": {},
   "outputs": [
    {
     "data": {
      "application/vnd.microsoft.datawrangler.viewer.v0+json": {
       "columns": [
        {
         "name": "index",
         "rawType": "int64",
         "type": "integer"
        },
        {
         "name": "Season_Year",
         "rawType": "int64",
         "type": "integer"
        },
        {
         "name": "GameKey",
         "rawType": "int64",
         "type": "integer"
        },
        {
         "name": "PlayID",
         "rawType": "int64",
         "type": "integer"
        },
        {
         "name": "GSISID",
         "rawType": "int64",
         "type": "integer"
        },
        {
         "name": "Role",
         "rawType": "object",
         "type": "string"
        }
       ],
       "ref": "bb409dfc-5ec4-4d50-8e96-bd54c82e8588",
       "rows": [
        [
         "0",
         "2017",
         "414",
         "188",
         "33704",
         "PDL2"
        ],
        [
         "1",
         "2017",
         "414",
         "1107",
         "33704",
         "PDL2"
        ],
        [
         "2",
         "2017",
         "424",
         "1113",
         "33704",
         "PDR3"
        ],
        [
         "3",
         "2017",
         "424",
         "1454",
         "33704",
         "PLR2"
        ],
        [
         "4",
         "2017",
         "424",
         "644",
         "33704",
         "PRG"
        ]
       ],
       "shape": {
        "columns": 5,
        "rows": 5
       }
      },
      "text/html": [
       "<div>\n",
       "<style scoped>\n",
       "    .dataframe tbody tr th:only-of-type {\n",
       "        vertical-align: middle;\n",
       "    }\n",
       "\n",
       "    .dataframe tbody tr th {\n",
       "        vertical-align: top;\n",
       "    }\n",
       "\n",
       "    .dataframe thead th {\n",
       "        text-align: right;\n",
       "    }\n",
       "</style>\n",
       "<table border=\"1\" class=\"dataframe\">\n",
       "  <thead>\n",
       "    <tr style=\"text-align: right;\">\n",
       "      <th></th>\n",
       "      <th>Season_Year</th>\n",
       "      <th>GameKey</th>\n",
       "      <th>PlayID</th>\n",
       "      <th>GSISID</th>\n",
       "      <th>Role</th>\n",
       "    </tr>\n",
       "  </thead>\n",
       "  <tbody>\n",
       "    <tr>\n",
       "      <th>0</th>\n",
       "      <td>2017</td>\n",
       "      <td>414</td>\n",
       "      <td>188</td>\n",
       "      <td>33704</td>\n",
       "      <td>PDL2</td>\n",
       "    </tr>\n",
       "    <tr>\n",
       "      <th>1</th>\n",
       "      <td>2017</td>\n",
       "      <td>414</td>\n",
       "      <td>1107</td>\n",
       "      <td>33704</td>\n",
       "      <td>PDL2</td>\n",
       "    </tr>\n",
       "    <tr>\n",
       "      <th>2</th>\n",
       "      <td>2017</td>\n",
       "      <td>424</td>\n",
       "      <td>1113</td>\n",
       "      <td>33704</td>\n",
       "      <td>PDR3</td>\n",
       "    </tr>\n",
       "    <tr>\n",
       "      <th>3</th>\n",
       "      <td>2017</td>\n",
       "      <td>424</td>\n",
       "      <td>1454</td>\n",
       "      <td>33704</td>\n",
       "      <td>PLR2</td>\n",
       "    </tr>\n",
       "    <tr>\n",
       "      <th>4</th>\n",
       "      <td>2017</td>\n",
       "      <td>424</td>\n",
       "      <td>644</td>\n",
       "      <td>33704</td>\n",
       "      <td>PRG</td>\n",
       "    </tr>\n",
       "  </tbody>\n",
       "</table>\n",
       "</div>"
      ],
      "text/plain": [
       "   Season_Year  GameKey  PlayID  GSISID  Role\n",
       "0         2017      414     188   33704  PDL2\n",
       "1         2017      414    1107   33704  PDL2\n",
       "2         2017      424    1113   33704  PDR3\n",
       "3         2017      424    1454   33704  PLR2\n",
       "4         2017      424     644   33704   PRG"
      ]
     },
     "execution_count": 14,
     "metadata": {},
     "output_type": "execute_result"
    }
   ],
   "source": [
    "df2.head()"
   ]
  },
  {
   "cell_type": "code",
   "execution_count": 16,
   "id": "d2211da2",
   "metadata": {},
   "outputs": [
    {
     "name": "stdout",
     "output_type": "stream",
     "text": [
      "<class 'pandas.core.frame.DataFrame'>\n",
      "RangeIndex: 146573 entries, 0 to 146572\n",
      "Data columns (total 5 columns):\n",
      " #   Column       Non-Null Count   Dtype \n",
      "---  ------       --------------   ----- \n",
      " 0   Season_Year  146573 non-null  int64 \n",
      " 1   GameKey      146573 non-null  int64 \n",
      " 2   PlayID       146573 non-null  int64 \n",
      " 3   GSISID       146573 non-null  int64 \n",
      " 4   Role         146573 non-null  object\n",
      "dtypes: int64(4), object(1)\n",
      "memory usage: 5.6+ MB\n"
     ]
    }
   ],
   "source": [
    "df2.info()"
   ]
  },
  {
   "cell_type": "code",
   "execution_count": 24,
   "id": "fb4942df",
   "metadata": {},
   "outputs": [],
   "source": [
    "player_play_counts = df2.groupby(['GSISID']).agg({'Season_Year': 'nunique', 'GameKey': 'nunique', 'PlayID': 'count', 'Role' : 'nunique'}).reset_index()"
   ]
  },
  {
   "cell_type": "code",
   "execution_count": 25,
   "id": "90267fc8",
   "metadata": {},
   "outputs": [
    {
     "data": {
      "application/vnd.microsoft.datawrangler.viewer.v0+json": {
       "columns": [
        {
         "name": "index",
         "rawType": "int64",
         "type": "integer"
        },
        {
         "name": "GSISID",
         "rawType": "int64",
         "type": "integer"
        },
        {
         "name": "Season_Year",
         "rawType": "int64",
         "type": "integer"
        },
        {
         "name": "GameKey",
         "rawType": "int64",
         "type": "integer"
        },
        {
         "name": "PlayID",
         "rawType": "int64",
         "type": "integer"
        },
        {
         "name": "Role",
         "rawType": "int64",
         "type": "integer"
        }
       ],
       "ref": "59006689-2b80-4f95-aa86-273fdff71d69",
       "rows": [
        [
         "0",
         "19714",
         "2",
         "41",
         "229",
         "1"
        ],
        [
         "1",
         "20578",
         "1",
         "1",
         "2",
         "1"
        ],
        [
         "2",
         "20712",
         "2",
         "4",
         "10",
         "5"
        ],
        [
         "3",
         "21140",
         "2",
         "14",
         "19",
         "3"
        ],
        [
         "4",
         "21146",
         "1",
         "3",
         "3",
         "2"
        ],
        [
         "5",
         "21451",
         "2",
         "20",
         "87",
         "1"
        ],
        [
         "6",
         "22017",
         "1",
         "1",
         "2",
         "1"
        ],
        [
         "7",
         "22045",
         "2",
         "8",
         "9",
         "2"
        ],
        [
         "8",
         "22247",
         "2",
         "25",
         "38",
         "9"
        ],
        [
         "9",
         "22455",
         "2",
         "39",
         "178",
         "1"
        ],
        [
         "10",
         "22684",
         "2",
         "42",
         "178",
         "1"
        ],
        [
         "11",
         "22824",
         "2",
         "32",
         "154",
         "1"
        ],
        [
         "12",
         "22839",
         "1",
         "2",
         "2",
         "1"
        ],
        [
         "13",
         "22923",
         "1",
         "1",
         "6",
         "1"
        ],
        [
         "14",
         "22927",
         "1",
         "2",
         "2",
         "2"
        ],
        [
         "15",
         "22999",
         "2",
         "6",
         "22",
         "7"
        ],
        [
         "16",
         "23003",
         "1",
         "23",
         "103",
         "1"
        ],
        [
         "17",
         "23013",
         "1",
         "3",
         "7",
         "2"
        ],
        [
         "18",
         "23173",
         "2",
         "38",
         "198",
         "1"
        ],
        [
         "19",
         "23177",
         "2",
         "40",
         "196",
         "2"
        ],
        [
         "20",
         "23259",
         "2",
         "37",
         "272",
         "13"
        ],
        [
         "21",
         "23298",
         "2",
         "40",
         "147",
         "1"
        ],
        [
         "22",
         "23368",
         "2",
         "10",
         "17",
         "2"
        ],
        [
         "23",
         "23441",
         "2",
         "17",
         "24",
         "1"
        ],
        [
         "24",
         "23449",
         "1",
         "3",
         "3",
         "2"
        ],
        [
         "25",
         "23534",
         "2",
         "42",
         "205",
         "1"
        ],
        [
         "26",
         "23564",
         "2",
         "18",
         "70",
         "1"
        ],
        [
         "27",
         "23740",
         "1",
         "6",
         "45",
         "2"
        ],
        [
         "28",
         "23742",
         "2",
         "42",
         "212",
         "1"
        ],
        [
         "29",
         "23750",
         "1",
         "5",
         "7",
         "3"
        ],
        [
         "30",
         "23853",
         "1",
         "1",
         "4",
         "1"
        ],
        [
         "31",
         "24030",
         "2",
         "13",
         "16",
         "5"
        ],
        [
         "32",
         "24061",
         "1",
         "10",
         "20",
         "4"
        ],
        [
         "33",
         "24183",
         "1",
         "6",
         "6",
         "1"
        ],
        [
         "34",
         "24217",
         "1",
         "7",
         "18",
         "4"
        ],
        [
         "35",
         "24220",
         "1",
         "1",
         "6",
         "4"
        ],
        [
         "36",
         "24227",
         "2",
         "6",
         "7",
         "3"
        ],
        [
         "37",
         "24232",
         "1",
         "7",
         "8",
         "5"
        ],
        [
         "38",
         "24237",
         "1",
         "2",
         "9",
         "2"
        ],
        [
         "39",
         "24258",
         "1",
         "3",
         "4",
         "3"
        ],
        [
         "40",
         "24272",
         "1",
         "14",
         "88",
         "1"
        ],
        [
         "41",
         "24278",
         "2",
         "9",
         "11",
         "4"
        ],
        [
         "42",
         "24323",
         "1",
         "2",
         "2",
         "1"
        ],
        [
         "43",
         "24330",
         "2",
         "12",
         "28",
         "8"
        ],
        [
         "44",
         "24338",
         "2",
         "7",
         "10",
         "3"
        ],
        [
         "45",
         "24341",
         "1",
         "6",
         "9",
         "3"
        ],
        [
         "46",
         "24348",
         "1",
         "7",
         "10",
         "1"
        ],
        [
         "47",
         "24349",
         "1",
         "7",
         "10",
         "7"
        ],
        [
         "48",
         "24417",
         "2",
         "39",
         "210",
         "1"
        ],
        [
         "49",
         "24421",
         "2",
         "3",
         "3",
         "2"
        ]
       ],
       "shape": {
        "columns": 5,
        "rows": 2426
       }
      },
      "text/html": [
       "<div>\n",
       "<style scoped>\n",
       "    .dataframe tbody tr th:only-of-type {\n",
       "        vertical-align: middle;\n",
       "    }\n",
       "\n",
       "    .dataframe tbody tr th {\n",
       "        vertical-align: top;\n",
       "    }\n",
       "\n",
       "    .dataframe thead th {\n",
       "        text-align: right;\n",
       "    }\n",
       "</style>\n",
       "<table border=\"1\" class=\"dataframe\">\n",
       "  <thead>\n",
       "    <tr style=\"text-align: right;\">\n",
       "      <th></th>\n",
       "      <th>GSISID</th>\n",
       "      <th>Season_Year</th>\n",
       "      <th>GameKey</th>\n",
       "      <th>PlayID</th>\n",
       "      <th>Role</th>\n",
       "    </tr>\n",
       "  </thead>\n",
       "  <tbody>\n",
       "    <tr>\n",
       "      <th>0</th>\n",
       "      <td>19714</td>\n",
       "      <td>2</td>\n",
       "      <td>41</td>\n",
       "      <td>229</td>\n",
       "      <td>1</td>\n",
       "    </tr>\n",
       "    <tr>\n",
       "      <th>1</th>\n",
       "      <td>20578</td>\n",
       "      <td>1</td>\n",
       "      <td>1</td>\n",
       "      <td>2</td>\n",
       "      <td>1</td>\n",
       "    </tr>\n",
       "    <tr>\n",
       "      <th>2</th>\n",
       "      <td>20712</td>\n",
       "      <td>2</td>\n",
       "      <td>4</td>\n",
       "      <td>10</td>\n",
       "      <td>5</td>\n",
       "    </tr>\n",
       "    <tr>\n",
       "      <th>3</th>\n",
       "      <td>21140</td>\n",
       "      <td>2</td>\n",
       "      <td>14</td>\n",
       "      <td>19</td>\n",
       "      <td>3</td>\n",
       "    </tr>\n",
       "    <tr>\n",
       "      <th>4</th>\n",
       "      <td>21146</td>\n",
       "      <td>1</td>\n",
       "      <td>3</td>\n",
       "      <td>3</td>\n",
       "      <td>2</td>\n",
       "    </tr>\n",
       "    <tr>\n",
       "      <th>...</th>\n",
       "      <td>...</td>\n",
       "      <td>...</td>\n",
       "      <td>...</td>\n",
       "      <td>...</td>\n",
       "      <td>...</td>\n",
       "    </tr>\n",
       "    <tr>\n",
       "      <th>2421</th>\n",
       "      <td>34038</td>\n",
       "      <td>1</td>\n",
       "      <td>1</td>\n",
       "      <td>3</td>\n",
       "      <td>2</td>\n",
       "    </tr>\n",
       "    <tr>\n",
       "      <th>2422</th>\n",
       "      <td>34042</td>\n",
       "      <td>1</td>\n",
       "      <td>1</td>\n",
       "      <td>2</td>\n",
       "      <td>2</td>\n",
       "    </tr>\n",
       "    <tr>\n",
       "      <th>2423</th>\n",
       "      <td>34046</td>\n",
       "      <td>1</td>\n",
       "      <td>2</td>\n",
       "      <td>9</td>\n",
       "      <td>5</td>\n",
       "    </tr>\n",
       "    <tr>\n",
       "      <th>2424</th>\n",
       "      <td>34048</td>\n",
       "      <td>1</td>\n",
       "      <td>1</td>\n",
       "      <td>1</td>\n",
       "      <td>1</td>\n",
       "    </tr>\n",
       "    <tr>\n",
       "      <th>2425</th>\n",
       "      <td>34050</td>\n",
       "      <td>1</td>\n",
       "      <td>1</td>\n",
       "      <td>7</td>\n",
       "      <td>3</td>\n",
       "    </tr>\n",
       "  </tbody>\n",
       "</table>\n",
       "<p>2426 rows × 5 columns</p>\n",
       "</div>"
      ],
      "text/plain": [
       "      GSISID  Season_Year  GameKey  PlayID  Role\n",
       "0      19714            2       41     229     1\n",
       "1      20578            1        1       2     1\n",
       "2      20712            2        4      10     5\n",
       "3      21140            2       14      19     3\n",
       "4      21146            1        3       3     2\n",
       "...      ...          ...      ...     ...   ...\n",
       "2421   34038            1        1       3     2\n",
       "2422   34042            1        1       2     2\n",
       "2423   34046            1        2       9     5\n",
       "2424   34048            1        1       1     1\n",
       "2425   34050            1        1       7     3\n",
       "\n",
       "[2426 rows x 5 columns]"
      ]
     },
     "execution_count": 25,
     "metadata": {},
     "output_type": "execute_result"
    }
   ],
   "source": [
    "player_play_counts"
   ]
  },
  {
   "cell_type": "code",
   "execution_count": 23,
   "id": "f4a285b3",
   "metadata": {},
   "outputs": [
    {
     "data": {
      "text/plain": [
       "556"
      ]
     },
     "execution_count": 23,
     "metadata": {},
     "output_type": "execute_result"
    }
   ],
   "source": [
    "len(player_play_counts.loc[player_play_counts['PlayID'] > 100])"
   ]
  },
  {
   "cell_type": "code",
   "execution_count": 30,
   "id": "32768932",
   "metadata": {},
   "outputs": [],
   "source": [
    "concussed_ids = df_final.query('concussed == 1')['gsisid'].to_list()"
   ]
  },
  {
   "cell_type": "code",
   "execution_count": 31,
   "id": "7b475e17",
   "metadata": {},
   "outputs": [
    {
     "data": {
      "text/plain": [
       "[31023.0,\n",
       " 32410.0,\n",
       " 28128.0,\n",
       " 28987.0,\n",
       " 27595.0,\n",
       " 32214.0,\n",
       " 28620.0,\n",
       " 23742.0,\n",
       " 32120.0,\n",
       " 27654.0]"
      ]
     },
     "execution_count": 31,
     "metadata": {},
     "output_type": "execute_result"
    }
   ],
   "source": [
    "concussed_ids[:10]  # Display first 10 concussed player IDs"
   ]
  },
  {
   "cell_type": "code",
   "execution_count": 33,
   "id": "b415c29c",
   "metadata": {},
   "outputs": [
    {
     "data": {
      "application/vnd.microsoft.datawrangler.viewer.v0+json": {
       "columns": [
        {
         "name": "index",
         "rawType": "int64",
         "type": "integer"
        },
        {
         "name": "GSISID",
         "rawType": "int64",
         "type": "integer"
        },
        {
         "name": "Season_Year",
         "rawType": "int64",
         "type": "integer"
        },
        {
         "name": "GameKey",
         "rawType": "int64",
         "type": "integer"
        },
        {
         "name": "PlayID",
         "rawType": "int64",
         "type": "integer"
        },
        {
         "name": "Role",
         "rawType": "int64",
         "type": "integer"
        }
       ],
       "ref": "98abb388-bf24-4bc6-a311-d9716f821e20",
       "rows": [
        [
         "486",
         "29492",
         "2",
         "34",
         "286",
         "8"
        ],
        [
         "1267",
         "31950",
         "2",
         "34",
         "284",
         "7"
        ],
        [
         "336",
         "28128",
         "2",
         "38",
         "278",
         "24"
        ],
        [
         "203",
         "27654",
         "2",
         "31",
         "268",
         "19"
        ],
        [
         "405",
         "28987",
         "2",
         "41",
         "262",
         "10"
        ],
        [
         "558",
         "29793",
         "2",
         "36",
         "246",
         "13"
        ],
        [
         "1690",
         "32783",
         "2",
         "33",
         "239",
         "18"
        ],
        [
         "1469",
         "32403",
         "2",
         "29",
         "230",
         "20"
        ],
        [
         "1291",
         "32007",
         "2",
         "34",
         "221",
         "8"
        ],
        [
         "28",
         "23742",
         "2",
         "42",
         "212",
         "1"
        ],
        [
         "376",
         "28620",
         "1",
         "19",
         "207",
         "14"
        ],
        [
         "1717",
         "32820",
         "2",
         "33",
         "192",
         "10"
        ],
        [
         "1339",
         "32120",
         "2",
         "28",
         "183",
         "11"
        ],
        [
         "2288",
         "33838",
         "1",
         "22",
         "169",
         "14"
        ],
        [
         "2363",
         "33941",
         "1",
         "19",
         "162",
         "15"
        ],
        [
         "1757",
         "32894",
         "2",
         "25",
         "160",
         "14"
        ],
        [
         "1001",
         "31313",
         "2",
         "21",
         "144",
         "14"
        ],
        [
         "1473",
         "32410",
         "2",
         "30",
         "132",
         "9"
        ],
        [
         "1965",
         "33260",
         "1",
         "19",
         "118",
         "1"
        ],
        [
         "82",
         "26035",
         "2",
         "30",
         "109",
         "3"
        ],
        [
         "1387",
         "32214",
         "2",
         "16",
         "94",
         "4"
        ],
        [
         "26",
         "23564",
         "2",
         "18",
         "70",
         "1"
        ],
        [
         "197",
         "27595",
         "1",
         "14",
         "65",
         "6"
        ],
        [
         "655",
         "30171",
         "2",
         "7",
         "65",
         "9"
        ],
        [
         "1420",
         "32323",
         "2",
         "7",
         "32",
         "8"
        ],
        [
         "694",
         "30384",
         "2",
         "10",
         "28",
         "13"
        ],
        [
         "155",
         "27060",
         "2",
         "10",
         "25",
         "2"
        ],
        [
         "1870",
         "33069",
         "2",
         "9",
         "25",
         "7"
        ],
        [
         "1583",
         "32615",
         "2",
         "6",
         "22",
         "1"
        ],
        [
         "878",
         "31023",
         "1",
         "5",
         "13",
         "4"
        ],
        [
         "2275",
         "33813",
         "1",
         "3",
         "5",
         "5"
        ]
       ],
       "shape": {
        "columns": 5,
        "rows": 31
       }
      },
      "text/html": [
       "<div>\n",
       "<style scoped>\n",
       "    .dataframe tbody tr th:only-of-type {\n",
       "        vertical-align: middle;\n",
       "    }\n",
       "\n",
       "    .dataframe tbody tr th {\n",
       "        vertical-align: top;\n",
       "    }\n",
       "\n",
       "    .dataframe thead th {\n",
       "        text-align: right;\n",
       "    }\n",
       "</style>\n",
       "<table border=\"1\" class=\"dataframe\">\n",
       "  <thead>\n",
       "    <tr style=\"text-align: right;\">\n",
       "      <th></th>\n",
       "      <th>GSISID</th>\n",
       "      <th>Season_Year</th>\n",
       "      <th>GameKey</th>\n",
       "      <th>PlayID</th>\n",
       "      <th>Role</th>\n",
       "    </tr>\n",
       "  </thead>\n",
       "  <tbody>\n",
       "    <tr>\n",
       "      <th>486</th>\n",
       "      <td>29492</td>\n",
       "      <td>2</td>\n",
       "      <td>34</td>\n",
       "      <td>286</td>\n",
       "      <td>8</td>\n",
       "    </tr>\n",
       "    <tr>\n",
       "      <th>1267</th>\n",
       "      <td>31950</td>\n",
       "      <td>2</td>\n",
       "      <td>34</td>\n",
       "      <td>284</td>\n",
       "      <td>7</td>\n",
       "    </tr>\n",
       "    <tr>\n",
       "      <th>336</th>\n",
       "      <td>28128</td>\n",
       "      <td>2</td>\n",
       "      <td>38</td>\n",
       "      <td>278</td>\n",
       "      <td>24</td>\n",
       "    </tr>\n",
       "    <tr>\n",
       "      <th>203</th>\n",
       "      <td>27654</td>\n",
       "      <td>2</td>\n",
       "      <td>31</td>\n",
       "      <td>268</td>\n",
       "      <td>19</td>\n",
       "    </tr>\n",
       "    <tr>\n",
       "      <th>405</th>\n",
       "      <td>28987</td>\n",
       "      <td>2</td>\n",
       "      <td>41</td>\n",
       "      <td>262</td>\n",
       "      <td>10</td>\n",
       "    </tr>\n",
       "    <tr>\n",
       "      <th>558</th>\n",
       "      <td>29793</td>\n",
       "      <td>2</td>\n",
       "      <td>36</td>\n",
       "      <td>246</td>\n",
       "      <td>13</td>\n",
       "    </tr>\n",
       "    <tr>\n",
       "      <th>1690</th>\n",
       "      <td>32783</td>\n",
       "      <td>2</td>\n",
       "      <td>33</td>\n",
       "      <td>239</td>\n",
       "      <td>18</td>\n",
       "    </tr>\n",
       "    <tr>\n",
       "      <th>1469</th>\n",
       "      <td>32403</td>\n",
       "      <td>2</td>\n",
       "      <td>29</td>\n",
       "      <td>230</td>\n",
       "      <td>20</td>\n",
       "    </tr>\n",
       "    <tr>\n",
       "      <th>1291</th>\n",
       "      <td>32007</td>\n",
       "      <td>2</td>\n",
       "      <td>34</td>\n",
       "      <td>221</td>\n",
       "      <td>8</td>\n",
       "    </tr>\n",
       "    <tr>\n",
       "      <th>28</th>\n",
       "      <td>23742</td>\n",
       "      <td>2</td>\n",
       "      <td>42</td>\n",
       "      <td>212</td>\n",
       "      <td>1</td>\n",
       "    </tr>\n",
       "    <tr>\n",
       "      <th>376</th>\n",
       "      <td>28620</td>\n",
       "      <td>1</td>\n",
       "      <td>19</td>\n",
       "      <td>207</td>\n",
       "      <td>14</td>\n",
       "    </tr>\n",
       "    <tr>\n",
       "      <th>1717</th>\n",
       "      <td>32820</td>\n",
       "      <td>2</td>\n",
       "      <td>33</td>\n",
       "      <td>192</td>\n",
       "      <td>10</td>\n",
       "    </tr>\n",
       "    <tr>\n",
       "      <th>1339</th>\n",
       "      <td>32120</td>\n",
       "      <td>2</td>\n",
       "      <td>28</td>\n",
       "      <td>183</td>\n",
       "      <td>11</td>\n",
       "    </tr>\n",
       "    <tr>\n",
       "      <th>2288</th>\n",
       "      <td>33838</td>\n",
       "      <td>1</td>\n",
       "      <td>22</td>\n",
       "      <td>169</td>\n",
       "      <td>14</td>\n",
       "    </tr>\n",
       "    <tr>\n",
       "      <th>2363</th>\n",
       "      <td>33941</td>\n",
       "      <td>1</td>\n",
       "      <td>19</td>\n",
       "      <td>162</td>\n",
       "      <td>15</td>\n",
       "    </tr>\n",
       "    <tr>\n",
       "      <th>1757</th>\n",
       "      <td>32894</td>\n",
       "      <td>2</td>\n",
       "      <td>25</td>\n",
       "      <td>160</td>\n",
       "      <td>14</td>\n",
       "    </tr>\n",
       "    <tr>\n",
       "      <th>1001</th>\n",
       "      <td>31313</td>\n",
       "      <td>2</td>\n",
       "      <td>21</td>\n",
       "      <td>144</td>\n",
       "      <td>14</td>\n",
       "    </tr>\n",
       "    <tr>\n",
       "      <th>1473</th>\n",
       "      <td>32410</td>\n",
       "      <td>2</td>\n",
       "      <td>30</td>\n",
       "      <td>132</td>\n",
       "      <td>9</td>\n",
       "    </tr>\n",
       "    <tr>\n",
       "      <th>1965</th>\n",
       "      <td>33260</td>\n",
       "      <td>1</td>\n",
       "      <td>19</td>\n",
       "      <td>118</td>\n",
       "      <td>1</td>\n",
       "    </tr>\n",
       "    <tr>\n",
       "      <th>82</th>\n",
       "      <td>26035</td>\n",
       "      <td>2</td>\n",
       "      <td>30</td>\n",
       "      <td>109</td>\n",
       "      <td>3</td>\n",
       "    </tr>\n",
       "    <tr>\n",
       "      <th>1387</th>\n",
       "      <td>32214</td>\n",
       "      <td>2</td>\n",
       "      <td>16</td>\n",
       "      <td>94</td>\n",
       "      <td>4</td>\n",
       "    </tr>\n",
       "    <tr>\n",
       "      <th>26</th>\n",
       "      <td>23564</td>\n",
       "      <td>2</td>\n",
       "      <td>18</td>\n",
       "      <td>70</td>\n",
       "      <td>1</td>\n",
       "    </tr>\n",
       "    <tr>\n",
       "      <th>197</th>\n",
       "      <td>27595</td>\n",
       "      <td>1</td>\n",
       "      <td>14</td>\n",
       "      <td>65</td>\n",
       "      <td>6</td>\n",
       "    </tr>\n",
       "    <tr>\n",
       "      <th>655</th>\n",
       "      <td>30171</td>\n",
       "      <td>2</td>\n",
       "      <td>7</td>\n",
       "      <td>65</td>\n",
       "      <td>9</td>\n",
       "    </tr>\n",
       "    <tr>\n",
       "      <th>1420</th>\n",
       "      <td>32323</td>\n",
       "      <td>2</td>\n",
       "      <td>7</td>\n",
       "      <td>32</td>\n",
       "      <td>8</td>\n",
       "    </tr>\n",
       "    <tr>\n",
       "      <th>694</th>\n",
       "      <td>30384</td>\n",
       "      <td>2</td>\n",
       "      <td>10</td>\n",
       "      <td>28</td>\n",
       "      <td>13</td>\n",
       "    </tr>\n",
       "    <tr>\n",
       "      <th>155</th>\n",
       "      <td>27060</td>\n",
       "      <td>2</td>\n",
       "      <td>10</td>\n",
       "      <td>25</td>\n",
       "      <td>2</td>\n",
       "    </tr>\n",
       "    <tr>\n",
       "      <th>1870</th>\n",
       "      <td>33069</td>\n",
       "      <td>2</td>\n",
       "      <td>9</td>\n",
       "      <td>25</td>\n",
       "      <td>7</td>\n",
       "    </tr>\n",
       "    <tr>\n",
       "      <th>1583</th>\n",
       "      <td>32615</td>\n",
       "      <td>2</td>\n",
       "      <td>6</td>\n",
       "      <td>22</td>\n",
       "      <td>1</td>\n",
       "    </tr>\n",
       "    <tr>\n",
       "      <th>878</th>\n",
       "      <td>31023</td>\n",
       "      <td>1</td>\n",
       "      <td>5</td>\n",
       "      <td>13</td>\n",
       "      <td>4</td>\n",
       "    </tr>\n",
       "    <tr>\n",
       "      <th>2275</th>\n",
       "      <td>33813</td>\n",
       "      <td>1</td>\n",
       "      <td>3</td>\n",
       "      <td>5</td>\n",
       "      <td>5</td>\n",
       "    </tr>\n",
       "  </tbody>\n",
       "</table>\n",
       "</div>"
      ],
      "text/plain": [
       "      GSISID  Season_Year  GameKey  PlayID  Role\n",
       "486    29492            2       34     286     8\n",
       "1267   31950            2       34     284     7\n",
       "336    28128            2       38     278    24\n",
       "203    27654            2       31     268    19\n",
       "405    28987            2       41     262    10\n",
       "558    29793            2       36     246    13\n",
       "1690   32783            2       33     239    18\n",
       "1469   32403            2       29     230    20\n",
       "1291   32007            2       34     221     8\n",
       "28     23742            2       42     212     1\n",
       "376    28620            1       19     207    14\n",
       "1717   32820            2       33     192    10\n",
       "1339   32120            2       28     183    11\n",
       "2288   33838            1       22     169    14\n",
       "2363   33941            1       19     162    15\n",
       "1757   32894            2       25     160    14\n",
       "1001   31313            2       21     144    14\n",
       "1473   32410            2       30     132     9\n",
       "1965   33260            1       19     118     1\n",
       "82     26035            2       30     109     3\n",
       "1387   32214            2       16      94     4\n",
       "26     23564            2       18      70     1\n",
       "197    27595            1       14      65     6\n",
       "655    30171            2        7      65     9\n",
       "1420   32323            2        7      32     8\n",
       "694    30384            2       10      28    13\n",
       "155    27060            2       10      25     2\n",
       "1870   33069            2        9      25     7\n",
       "1583   32615            2        6      22     1\n",
       "878    31023            1        5      13     4\n",
       "2275   33813            1        3       5     5"
      ]
     },
     "execution_count": 33,
     "metadata": {},
     "output_type": "execute_result"
    }
   ],
   "source": [
    "player_play_counts.query('GSISID in @concussed_ids').sort_values(by='PlayID', ascending=False)"
   ]
  },
  {
   "cell_type": "code",
   "execution_count": 34,
   "id": "bc52d995",
   "metadata": {},
   "outputs": [],
   "source": [
    "concussion_movement = df_final.query('gsisid in @concussed_ids').copy()"
   ]
  },
  {
   "cell_type": "code",
   "execution_count": 36,
   "id": "c197ee71",
   "metadata": {},
   "outputs": [
    {
     "data": {
      "text/plain": [
       "5055"
      ]
     },
     "execution_count": 36,
     "metadata": {},
     "output_type": "execute_result"
    }
   ],
   "source": [
    "len(concussion_movement)"
   ]
  },
  {
   "cell_type": "code",
   "execution_count": 37,
   "id": "1b8cfff3",
   "metadata": {},
   "outputs": [],
   "source": [
    "player1 = concussion_movement.query('gsisid == 29492').copy()"
   ]
  },
  {
   "cell_type": "code",
   "execution_count": 48,
   "id": "739278c8",
   "metadata": {},
   "outputs": [
    {
     "data": {
      "application/vnd.microsoft.datawrangler.viewer.v0+json": {
       "columns": [
        {
         "name": "index",
         "rawType": "int64",
         "type": "integer"
        },
        {
         "name": "season_year",
         "rawType": "int64",
         "type": "integer"
        },
        {
         "name": "gamekey",
         "rawType": "int16",
         "type": "integer"
        },
        {
         "name": "playid",
         "rawType": "int16",
         "type": "integer"
        },
        {
         "name": "gsisid",
         "rawType": "float32",
         "type": "float"
        },
        {
         "name": "dis_slice_0",
         "rawType": "float32",
         "type": "float"
        },
        {
         "name": "dis_slice_1",
         "rawType": "float32",
         "type": "float"
        },
        {
         "name": "dis_slice_2",
         "rawType": "float32",
         "type": "float"
        },
        {
         "name": "dis_slice_3",
         "rawType": "float32",
         "type": "float"
        },
        {
         "name": "dis_slice_4",
         "rawType": "float32",
         "type": "float"
        },
        {
         "name": "dis_slice_5",
         "rawType": "float32",
         "type": "float"
        },
        {
         "name": "dis_slice_6",
         "rawType": "float32",
         "type": "float"
        },
        {
         "name": "dis_slice_7",
         "rawType": "float32",
         "type": "float"
        },
        {
         "name": "dis_slice_8",
         "rawType": "float32",
         "type": "float"
        },
        {
         "name": "dis_slice_9",
         "rawType": "float32",
         "type": "float"
        },
        {
         "name": "dis_slice_10",
         "rawType": "float32",
         "type": "float"
        },
        {
         "name": "dis_slice_11",
         "rawType": "float32",
         "type": "float"
        },
        {
         "name": "dis_slice_12",
         "rawType": "float32",
         "type": "float"
        },
        {
         "name": "dis_slice_13",
         "rawType": "float32",
         "type": "float"
        },
        {
         "name": "dis_slice_14",
         "rawType": "float32",
         "type": "float"
        },
        {
         "name": "dis_slice_15",
         "rawType": "float32",
         "type": "float"
        },
        {
         "name": "dis_slice_16",
         "rawType": "float32",
         "type": "float"
        },
        {
         "name": "dis_slice_17",
         "rawType": "float32",
         "type": "float"
        },
        {
         "name": "dis_slice_18",
         "rawType": "float32",
         "type": "float"
        },
        {
         "name": "dis_slice_19",
         "rawType": "float32",
         "type": "float"
        },
        {
         "name": "dis_slice_20",
         "rawType": "float32",
         "type": "float"
        },
        {
         "name": "dis_slice_21",
         "rawType": "float32",
         "type": "float"
        },
        {
         "name": "dis_slice_22",
         "rawType": "float32",
         "type": "float"
        },
        {
         "name": "dis_slice_23",
         "rawType": "float32",
         "type": "float"
        },
        {
         "name": "dis_slice_24",
         "rawType": "float32",
         "type": "float"
        },
        {
         "name": "dis_slice_25",
         "rawType": "float32",
         "type": "float"
        },
        {
         "name": "dis_slice_26",
         "rawType": "float32",
         "type": "float"
        },
        {
         "name": "dis_slice_27",
         "rawType": "float32",
         "type": "float"
        },
        {
         "name": "dis_slice_28",
         "rawType": "float32",
         "type": "float"
        },
        {
         "name": "dis_slice_29",
         "rawType": "float32",
         "type": "float"
        },
        {
         "name": "dis_slice_30",
         "rawType": "float32",
         "type": "float"
        },
        {
         "name": "dis_slice_31",
         "rawType": "float32",
         "type": "float"
        },
        {
         "name": "dis_slice_32",
         "rawType": "float32",
         "type": "float"
        },
        {
         "name": "dis_slice_33",
         "rawType": "float32",
         "type": "float"
        },
        {
         "name": "dis_slice_34",
         "rawType": "float32",
         "type": "float"
        },
        {
         "name": "dis_slice_35",
         "rawType": "float32",
         "type": "float"
        },
        {
         "name": "dis_slice_36",
         "rawType": "float32",
         "type": "float"
        },
        {
         "name": "dis_slice_37",
         "rawType": "float32",
         "type": "float"
        },
        {
         "name": "dis_slice_38",
         "rawType": "float32",
         "type": "float"
        },
        {
         "name": "dis_slice_39",
         "rawType": "float32",
         "type": "float"
        },
        {
         "name": "dis_slice_40",
         "rawType": "float32",
         "type": "float"
        },
        {
         "name": "dis_slice_41",
         "rawType": "float32",
         "type": "float"
        },
        {
         "name": "dis_slice_42",
         "rawType": "float32",
         "type": "float"
        },
        {
         "name": "dis_slice_43",
         "rawType": "float32",
         "type": "float"
        },
        {
         "name": "dis_slice_44",
         "rawType": "float32",
         "type": "float"
        },
        {
         "name": "dis_slice_45",
         "rawType": "float32",
         "type": "float"
        },
        {
         "name": "dis_slice_46",
         "rawType": "float32",
         "type": "float"
        },
        {
         "name": "dis_slice_47",
         "rawType": "float32",
         "type": "float"
        },
        {
         "name": "dis_slice_48",
         "rawType": "float32",
         "type": "float"
        },
        {
         "name": "dis_slice_49",
         "rawType": "float32",
         "type": "float"
        },
        {
         "name": "dis_slice_50",
         "rawType": "float32",
         "type": "float"
        },
        {
         "name": "dis_slice_51",
         "rawType": "float32",
         "type": "float"
        },
        {
         "name": "dis_slice_52",
         "rawType": "float32",
         "type": "float"
        },
        {
         "name": "dis_slice_53",
         "rawType": "float32",
         "type": "float"
        },
        {
         "name": "dis_slice_54",
         "rawType": "float32",
         "type": "float"
        },
        {
         "name": "dis_slice_55",
         "rawType": "float32",
         "type": "float"
        },
        {
         "name": "dis_slice_56",
         "rawType": "float32",
         "type": "float"
        },
        {
         "name": "dis_slice_57",
         "rawType": "float32",
         "type": "float"
        },
        {
         "name": "dis_slice_58",
         "rawType": "float32",
         "type": "float"
        },
        {
         "name": "dis_slice_59",
         "rawType": "float32",
         "type": "float"
        },
        {
         "name": "o_slice_0",
         "rawType": "float32",
         "type": "float"
        },
        {
         "name": "o_slice_1",
         "rawType": "float32",
         "type": "float"
        },
        {
         "name": "o_slice_2",
         "rawType": "float32",
         "type": "float"
        },
        {
         "name": "o_slice_3",
         "rawType": "float32",
         "type": "float"
        },
        {
         "name": "o_slice_4",
         "rawType": "float32",
         "type": "float"
        },
        {
         "name": "o_slice_5",
         "rawType": "float32",
         "type": "float"
        },
        {
         "name": "o_slice_6",
         "rawType": "float32",
         "type": "float"
        },
        {
         "name": "o_slice_7",
         "rawType": "float32",
         "type": "float"
        },
        {
         "name": "o_slice_8",
         "rawType": "float32",
         "type": "float"
        },
        {
         "name": "o_slice_9",
         "rawType": "float32",
         "type": "float"
        },
        {
         "name": "o_slice_10",
         "rawType": "float32",
         "type": "float"
        },
        {
         "name": "o_slice_11",
         "rawType": "float32",
         "type": "float"
        },
        {
         "name": "o_slice_12",
         "rawType": "float32",
         "type": "float"
        },
        {
         "name": "o_slice_13",
         "rawType": "float32",
         "type": "float"
        },
        {
         "name": "o_slice_14",
         "rawType": "float32",
         "type": "float"
        },
        {
         "name": "o_slice_15",
         "rawType": "float32",
         "type": "float"
        },
        {
         "name": "o_slice_16",
         "rawType": "float32",
         "type": "float"
        },
        {
         "name": "o_slice_17",
         "rawType": "float32",
         "type": "float"
        },
        {
         "name": "o_slice_18",
         "rawType": "float32",
         "type": "float"
        },
        {
         "name": "o_slice_19",
         "rawType": "float32",
         "type": "float"
        },
        {
         "name": "o_slice_20",
         "rawType": "float32",
         "type": "float"
        },
        {
         "name": "o_slice_21",
         "rawType": "float32",
         "type": "float"
        },
        {
         "name": "o_slice_22",
         "rawType": "float32",
         "type": "float"
        },
        {
         "name": "o_slice_23",
         "rawType": "float32",
         "type": "float"
        },
        {
         "name": "o_slice_24",
         "rawType": "float32",
         "type": "float"
        },
        {
         "name": "o_slice_25",
         "rawType": "float32",
         "type": "float"
        },
        {
         "name": "o_slice_26",
         "rawType": "float32",
         "type": "float"
        },
        {
         "name": "o_slice_27",
         "rawType": "float32",
         "type": "float"
        },
        {
         "name": "o_slice_28",
         "rawType": "float32",
         "type": "float"
        },
        {
         "name": "o_slice_29",
         "rawType": "float32",
         "type": "float"
        },
        {
         "name": "o_slice_30",
         "rawType": "float32",
         "type": "float"
        },
        {
         "name": "o_slice_31",
         "rawType": "float32",
         "type": "float"
        },
        {
         "name": "o_slice_32",
         "rawType": "float32",
         "type": "float"
        },
        {
         "name": "o_slice_33",
         "rawType": "float32",
         "type": "float"
        },
        {
         "name": "o_slice_34",
         "rawType": "float32",
         "type": "float"
        },
        {
         "name": "o_slice_35",
         "rawType": "float32",
         "type": "float"
        },
        {
         "name": "o_slice_36",
         "rawType": "float32",
         "type": "float"
        },
        {
         "name": "o_slice_37",
         "rawType": "float32",
         "type": "float"
        },
        {
         "name": "o_slice_38",
         "rawType": "float32",
         "type": "float"
        },
        {
         "name": "o_slice_39",
         "rawType": "float32",
         "type": "float"
        },
        {
         "name": "o_slice_40",
         "rawType": "float32",
         "type": "float"
        },
        {
         "name": "o_slice_41",
         "rawType": "float32",
         "type": "float"
        },
        {
         "name": "o_slice_42",
         "rawType": "float32",
         "type": "float"
        },
        {
         "name": "o_slice_43",
         "rawType": "float32",
         "type": "float"
        },
        {
         "name": "o_slice_44",
         "rawType": "float32",
         "type": "float"
        },
        {
         "name": "o_slice_45",
         "rawType": "float32",
         "type": "float"
        },
        {
         "name": "o_slice_46",
         "rawType": "float32",
         "type": "float"
        },
        {
         "name": "o_slice_47",
         "rawType": "float32",
         "type": "float"
        },
        {
         "name": "o_slice_48",
         "rawType": "float32",
         "type": "float"
        },
        {
         "name": "o_slice_49",
         "rawType": "float32",
         "type": "float"
        },
        {
         "name": "o_slice_50",
         "rawType": "float32",
         "type": "float"
        },
        {
         "name": "o_slice_51",
         "rawType": "float32",
         "type": "float"
        },
        {
         "name": "o_slice_52",
         "rawType": "float32",
         "type": "float"
        },
        {
         "name": "o_slice_53",
         "rawType": "float32",
         "type": "float"
        },
        {
         "name": "o_slice_54",
         "rawType": "float32",
         "type": "float"
        },
        {
         "name": "o_slice_55",
         "rawType": "float32",
         "type": "float"
        },
        {
         "name": "o_slice_56",
         "rawType": "float32",
         "type": "float"
        },
        {
         "name": "o_slice_57",
         "rawType": "float32",
         "type": "float"
        },
        {
         "name": "o_slice_58",
         "rawType": "float32",
         "type": "float"
        },
        {
         "name": "o_slice_59",
         "rawType": "float32",
         "type": "float"
        },
        {
         "name": "x_slice_0",
         "rawType": "float32",
         "type": "float"
        },
        {
         "name": "x_slice_1",
         "rawType": "float32",
         "type": "float"
        },
        {
         "name": "x_slice_2",
         "rawType": "float32",
         "type": "float"
        },
        {
         "name": "x_slice_3",
         "rawType": "float32",
         "type": "float"
        },
        {
         "name": "x_slice_4",
         "rawType": "float32",
         "type": "float"
        },
        {
         "name": "x_slice_5",
         "rawType": "float32",
         "type": "float"
        },
        {
         "name": "x_slice_6",
         "rawType": "float32",
         "type": "float"
        },
        {
         "name": "x_slice_7",
         "rawType": "float32",
         "type": "float"
        },
        {
         "name": "x_slice_8",
         "rawType": "float32",
         "type": "float"
        },
        {
         "name": "x_slice_9",
         "rawType": "float32",
         "type": "float"
        },
        {
         "name": "x_slice_10",
         "rawType": "float32",
         "type": "float"
        },
        {
         "name": "x_slice_11",
         "rawType": "float32",
         "type": "float"
        },
        {
         "name": "x_slice_12",
         "rawType": "float32",
         "type": "float"
        },
        {
         "name": "x_slice_13",
         "rawType": "float32",
         "type": "float"
        },
        {
         "name": "x_slice_14",
         "rawType": "float32",
         "type": "float"
        },
        {
         "name": "x_slice_15",
         "rawType": "float32",
         "type": "float"
        },
        {
         "name": "x_slice_16",
         "rawType": "float32",
         "type": "float"
        },
        {
         "name": "x_slice_17",
         "rawType": "float32",
         "type": "float"
        },
        {
         "name": "x_slice_18",
         "rawType": "float32",
         "type": "float"
        },
        {
         "name": "x_slice_19",
         "rawType": "float32",
         "type": "float"
        },
        {
         "name": "x_slice_20",
         "rawType": "float32",
         "type": "float"
        },
        {
         "name": "x_slice_21",
         "rawType": "float32",
         "type": "float"
        },
        {
         "name": "x_slice_22",
         "rawType": "float32",
         "type": "float"
        },
        {
         "name": "x_slice_23",
         "rawType": "float32",
         "type": "float"
        },
        {
         "name": "x_slice_24",
         "rawType": "float32",
         "type": "float"
        },
        {
         "name": "x_slice_25",
         "rawType": "float32",
         "type": "float"
        },
        {
         "name": "x_slice_26",
         "rawType": "float32",
         "type": "float"
        },
        {
         "name": "x_slice_27",
         "rawType": "float32",
         "type": "float"
        },
        {
         "name": "x_slice_28",
         "rawType": "float32",
         "type": "float"
        },
        {
         "name": "x_slice_29",
         "rawType": "float32",
         "type": "float"
        },
        {
         "name": "x_slice_30",
         "rawType": "float32",
         "type": "float"
        },
        {
         "name": "x_slice_31",
         "rawType": "float32",
         "type": "float"
        },
        {
         "name": "x_slice_32",
         "rawType": "float32",
         "type": "float"
        },
        {
         "name": "x_slice_33",
         "rawType": "float32",
         "type": "float"
        },
        {
         "name": "x_slice_34",
         "rawType": "float32",
         "type": "float"
        },
        {
         "name": "x_slice_35",
         "rawType": "float32",
         "type": "float"
        },
        {
         "name": "x_slice_36",
         "rawType": "float32",
         "type": "float"
        },
        {
         "name": "x_slice_37",
         "rawType": "float32",
         "type": "float"
        },
        {
         "name": "x_slice_38",
         "rawType": "float32",
         "type": "float"
        },
        {
         "name": "x_slice_39",
         "rawType": "float32",
         "type": "float"
        },
        {
         "name": "x_slice_40",
         "rawType": "float32",
         "type": "float"
        },
        {
         "name": "x_slice_41",
         "rawType": "float32",
         "type": "float"
        },
        {
         "name": "x_slice_42",
         "rawType": "float32",
         "type": "float"
        },
        {
         "name": "x_slice_43",
         "rawType": "float32",
         "type": "float"
        },
        {
         "name": "x_slice_44",
         "rawType": "float32",
         "type": "float"
        },
        {
         "name": "x_slice_45",
         "rawType": "float32",
         "type": "float"
        },
        {
         "name": "x_slice_46",
         "rawType": "float32",
         "type": "float"
        },
        {
         "name": "x_slice_47",
         "rawType": "float32",
         "type": "float"
        },
        {
         "name": "x_slice_48",
         "rawType": "float32",
         "type": "float"
        },
        {
         "name": "x_slice_49",
         "rawType": "float32",
         "type": "float"
        },
        {
         "name": "x_slice_50",
         "rawType": "float32",
         "type": "float"
        },
        {
         "name": "x_slice_51",
         "rawType": "float32",
         "type": "float"
        },
        {
         "name": "x_slice_52",
         "rawType": "float32",
         "type": "float"
        },
        {
         "name": "x_slice_53",
         "rawType": "float32",
         "type": "float"
        },
        {
         "name": "x_slice_54",
         "rawType": "float32",
         "type": "float"
        },
        {
         "name": "x_slice_55",
         "rawType": "float32",
         "type": "float"
        },
        {
         "name": "x_slice_56",
         "rawType": "float32",
         "type": "float"
        },
        {
         "name": "x_slice_57",
         "rawType": "float32",
         "type": "float"
        },
        {
         "name": "x_slice_58",
         "rawType": "float32",
         "type": "float"
        },
        {
         "name": "x_slice_59",
         "rawType": "float32",
         "type": "float"
        },
        {
         "name": "y_slice_0",
         "rawType": "float32",
         "type": "float"
        },
        {
         "name": "y_slice_1",
         "rawType": "float32",
         "type": "float"
        },
        {
         "name": "y_slice_2",
         "rawType": "float32",
         "type": "float"
        },
        {
         "name": "y_slice_3",
         "rawType": "float32",
         "type": "float"
        },
        {
         "name": "y_slice_4",
         "rawType": "float32",
         "type": "float"
        },
        {
         "name": "y_slice_5",
         "rawType": "float32",
         "type": "float"
        },
        {
         "name": "y_slice_6",
         "rawType": "float32",
         "type": "float"
        },
        {
         "name": "y_slice_7",
         "rawType": "float32",
         "type": "float"
        },
        {
         "name": "y_slice_8",
         "rawType": "float32",
         "type": "float"
        },
        {
         "name": "y_slice_9",
         "rawType": "float32",
         "type": "float"
        },
        {
         "name": "y_slice_10",
         "rawType": "float32",
         "type": "float"
        },
        {
         "name": "y_slice_11",
         "rawType": "float32",
         "type": "float"
        },
        {
         "name": "y_slice_12",
         "rawType": "float32",
         "type": "float"
        },
        {
         "name": "y_slice_13",
         "rawType": "float32",
         "type": "float"
        },
        {
         "name": "y_slice_14",
         "rawType": "float32",
         "type": "float"
        },
        {
         "name": "y_slice_15",
         "rawType": "float32",
         "type": "float"
        },
        {
         "name": "y_slice_16",
         "rawType": "float32",
         "type": "float"
        },
        {
         "name": "y_slice_17",
         "rawType": "float32",
         "type": "float"
        },
        {
         "name": "y_slice_18",
         "rawType": "float32",
         "type": "float"
        },
        {
         "name": "y_slice_19",
         "rawType": "float32",
         "type": "float"
        },
        {
         "name": "y_slice_20",
         "rawType": "float32",
         "type": "float"
        },
        {
         "name": "y_slice_21",
         "rawType": "float32",
         "type": "float"
        },
        {
         "name": "y_slice_22",
         "rawType": "float32",
         "type": "float"
        },
        {
         "name": "y_slice_23",
         "rawType": "float32",
         "type": "float"
        },
        {
         "name": "y_slice_24",
         "rawType": "float32",
         "type": "float"
        },
        {
         "name": "y_slice_25",
         "rawType": "float32",
         "type": "float"
        },
        {
         "name": "y_slice_26",
         "rawType": "float32",
         "type": "float"
        },
        {
         "name": "y_slice_27",
         "rawType": "float32",
         "type": "float"
        },
        {
         "name": "y_slice_28",
         "rawType": "float32",
         "type": "float"
        },
        {
         "name": "y_slice_29",
         "rawType": "float32",
         "type": "float"
        },
        {
         "name": "y_slice_30",
         "rawType": "float32",
         "type": "float"
        },
        {
         "name": "y_slice_31",
         "rawType": "float32",
         "type": "float"
        },
        {
         "name": "y_slice_32",
         "rawType": "float32",
         "type": "float"
        },
        {
         "name": "y_slice_33",
         "rawType": "float32",
         "type": "float"
        },
        {
         "name": "y_slice_34",
         "rawType": "float32",
         "type": "float"
        },
        {
         "name": "y_slice_35",
         "rawType": "float32",
         "type": "float"
        },
        {
         "name": "y_slice_36",
         "rawType": "float32",
         "type": "float"
        },
        {
         "name": "y_slice_37",
         "rawType": "float32",
         "type": "float"
        },
        {
         "name": "y_slice_38",
         "rawType": "float32",
         "type": "float"
        },
        {
         "name": "y_slice_39",
         "rawType": "float32",
         "type": "float"
        },
        {
         "name": "y_slice_40",
         "rawType": "float32",
         "type": "float"
        },
        {
         "name": "y_slice_41",
         "rawType": "float32",
         "type": "float"
        },
        {
         "name": "y_slice_42",
         "rawType": "float32",
         "type": "float"
        },
        {
         "name": "y_slice_43",
         "rawType": "float32",
         "type": "float"
        },
        {
         "name": "y_slice_44",
         "rawType": "float32",
         "type": "float"
        },
        {
         "name": "y_slice_45",
         "rawType": "float32",
         "type": "float"
        },
        {
         "name": "y_slice_46",
         "rawType": "float32",
         "type": "float"
        },
        {
         "name": "y_slice_47",
         "rawType": "float32",
         "type": "float"
        },
        {
         "name": "y_slice_48",
         "rawType": "float32",
         "type": "float"
        },
        {
         "name": "y_slice_49",
         "rawType": "float32",
         "type": "float"
        },
        {
         "name": "y_slice_50",
         "rawType": "float32",
         "type": "float"
        },
        {
         "name": "y_slice_51",
         "rawType": "float32",
         "type": "float"
        },
        {
         "name": "y_slice_52",
         "rawType": "float32",
         "type": "float"
        },
        {
         "name": "y_slice_53",
         "rawType": "float32",
         "type": "float"
        },
        {
         "name": "y_slice_54",
         "rawType": "float32",
         "type": "float"
        },
        {
         "name": "y_slice_55",
         "rawType": "float32",
         "type": "float"
        },
        {
         "name": "y_slice_56",
         "rawType": "float32",
         "type": "float"
        },
        {
         "name": "y_slice_57",
         "rawType": "float32",
         "type": "float"
        },
        {
         "name": "y_slice_58",
         "rawType": "float32",
         "type": "float"
        },
        {
         "name": "y_slice_59",
         "rawType": "float32",
         "type": "float"
        },
        {
         "name": "player_activity_derived",
         "rawType": "object",
         "type": "string"
        },
        {
         "name": "turnover_related",
         "rawType": "object",
         "type": "string"
        },
        {
         "name": "primary_impact_type",
         "rawType": "object",
         "type": "string"
        },
        {
         "name": "primary_partner_gsisid",
         "rawType": "object",
         "type": "string"
        },
        {
         "name": "primary_partner_activity_derived",
         "rawType": "object",
         "type": "string"
        },
        {
         "name": "friendly_fire",
         "rawType": "object",
         "type": "string"
        },
        {
         "name": "concussed",
         "rawType": "int64",
         "type": "integer"
        }
       ],
       "ref": "76caf0e3-3d99-47be-8b60-050af7565760",
       "rows": [
        [
         "183845",
         "2017",
         "473",
         "2072",
         "29492.0",
         "0.13",
         "0.1",
         "0.08166667",
         "0.058",
         "0.060000002",
         "0.03",
         "0.024",
         "0.023333333",
         "0.05",
         "0.108",
         "0.11666667",
         "0.135",
         "0.082",
         "0.06333333",
         "0.016666666",
         "0.012",
         "0.0066666664",
         "0.005",
         "0.0",
         "0.0",
         "0.0",
         "0.0",
         "0.0",
         "0.0",
         "0.0",
         "0.0",
         "0.005",
         "0.07333333",
         "0.588",
         "0.66833335",
         "0.83166665",
         "0.90200007",
         "0.93",
         "0.94166666",
         "0.952",
         "0.94166666",
         "0.9166667",
         "0.892",
         "0.84666663",
         "0.73499995",
         "0.59",
         "0.432",
         "0.22166665",
         "0.14166667",
         "0.062",
         "0.031666666",
         "0.045",
         "0.018",
         "0.02833333",
         "0.013333333",
         "0.02",
         "0.021666666",
         "0.008333333",
         "0.048",
         "0.04",
         "0.065",
         "0.031999998",
         "0.05",
         "0.024999999",
         "0.043333333",
         "174.53168",
         "181.40167",
         "184.445",
         "179.662",
         "167.40167",
         "166.66667",
         "178.03",
         "182.07335",
         "176.23",
         "169.85",
         "162.07832",
         "152.86",
         "147.588",
         "147.10834",
         "158.35167",
         "181.904",
         "202.54",
         "208.65501",
         "206.95",
         "205.65498",
         "205.28166",
         "205.27167",
         "205.624",
         "206.06834",
         "204.51666",
         "200.344",
         "194.90668",
         "185.20667",
         "174.92801",
         "168.22833",
         "171.19666",
         "177.62999",
         "174.09334",
         "162.18001",
         "153.60599",
         "154.11833",
         "159.90001",
         "164.76799",
         "166.15834",
         "158.125",
         "157.86833",
         "206.306",
         "232.35333",
         "213.86168",
         "201.308",
         "177.15498",
         "138.10333",
         "123.54201",
         "131.72499",
         "135.04668",
         "134.892",
         "135.41333",
         "139.68001",
         "164.16",
         "188.20833",
         "209.76833",
         "229.002",
         "225.63167",
         "199.75835",
         "182.63832",
         "90.285",
         "89.611664",
         "89.09167",
         "88.732",
         "88.416664",
         "88.206665",
         "88.292",
         "88.33834",
         "88.27",
         "88.44",
         "88.738335",
         "88.543335",
         "88.352005",
         "88.37333",
         "88.45166",
         "88.472",
         "88.47833",
         "88.475",
         "88.456",
         "88.445",
         "88.44",
         "88.44",
         "88.432",
         "88.43",
         "88.420006",
         "88.42",
         "88.43167",
         "88.41333",
         "86.934",
         "83.840004",
         "79.456665",
         "74.83",
         "69.85667",
         "64.245",
         "59.053997",
         "53.841663",
         "48.27",
         "43.362",
         "38.741665",
         "34.363335",
         "31.381668",
         "30.146",
         "29.331667",
         "28.351667",
         "27.87",
         "27.938334",
         "28.178331",
         "28.256",
         "28.144999",
         "28.073334",
         "27.998001",
         "28.031668",
         "28.105001",
         "27.99",
         "27.945",
         "28.26",
         "28.418",
         "28.256668",
         "28.101667",
         "28.144999",
         "24.743332",
         "24.726667",
         "24.615",
         "24.53",
         "24.493332",
         "24.481667",
         "24.560001",
         "24.598333",
         "24.708334",
         "24.544",
         "24.195",
         "24.4",
         "24.366001",
         "24.436666",
         "24.538332",
         "24.574",
         "24.605001",
         "24.615",
         "24.628",
         "24.625",
         "24.613335",
         "24.596666",
         "24.584",
         "24.566666",
         "24.56",
         "24.55",
         "24.533335",
         "24.613335",
         "26.072",
         "27.423334",
         "28.906668",
         "30.304",
         "31.296667",
         "31.56",
         "31.372",
         "31.305",
         "31.113333",
         "30.426",
         "29.235",
         "27.576666",
         "25.116667",
         "22.698002",
         "21.346666",
         "21.08",
         "21.19",
         "21.256666",
         "21.386667",
         "21.404",
         "21.365",
         "21.338333",
         "21.328",
         "21.338333",
         "21.365",
         "21.3",
         "21.225",
         "21.048334",
         "20.967999",
         "20.998333",
         "21.048334",
         "21.233332",
         "Tackling",
         "No",
         "Helmet-to-body",
         "33445",
         "Tackling",
         "Yes",
         "1"
        ]
       ],
       "shape": {
        "columns": 251,
        "rows": 1
       }
      },
      "text/html": [
       "<div>\n",
       "<style scoped>\n",
       "    .dataframe tbody tr th:only-of-type {\n",
       "        vertical-align: middle;\n",
       "    }\n",
       "\n",
       "    .dataframe tbody tr th {\n",
       "        vertical-align: top;\n",
       "    }\n",
       "\n",
       "    .dataframe thead th {\n",
       "        text-align: right;\n",
       "    }\n",
       "</style>\n",
       "<table border=\"1\" class=\"dataframe\">\n",
       "  <thead>\n",
       "    <tr style=\"text-align: right;\">\n",
       "      <th></th>\n",
       "      <th>season_year</th>\n",
       "      <th>gamekey</th>\n",
       "      <th>playid</th>\n",
       "      <th>gsisid</th>\n",
       "      <th>dis_slice_0</th>\n",
       "      <th>dis_slice_1</th>\n",
       "      <th>dis_slice_2</th>\n",
       "      <th>dis_slice_3</th>\n",
       "      <th>dis_slice_4</th>\n",
       "      <th>dis_slice_5</th>\n",
       "      <th>...</th>\n",
       "      <th>y_slice_57</th>\n",
       "      <th>y_slice_58</th>\n",
       "      <th>y_slice_59</th>\n",
       "      <th>player_activity_derived</th>\n",
       "      <th>turnover_related</th>\n",
       "      <th>primary_impact_type</th>\n",
       "      <th>primary_partner_gsisid</th>\n",
       "      <th>primary_partner_activity_derived</th>\n",
       "      <th>friendly_fire</th>\n",
       "      <th>concussed</th>\n",
       "    </tr>\n",
       "  </thead>\n",
       "  <tbody>\n",
       "    <tr>\n",
       "      <th>183845</th>\n",
       "      <td>2017</td>\n",
       "      <td>473</td>\n",
       "      <td>2072</td>\n",
       "      <td>29492.0</td>\n",
       "      <td>0.13</td>\n",
       "      <td>0.1</td>\n",
       "      <td>0.081667</td>\n",
       "      <td>0.058</td>\n",
       "      <td>0.06</td>\n",
       "      <td>0.03</td>\n",
       "      <td>...</td>\n",
       "      <td>20.998333</td>\n",
       "      <td>21.048334</td>\n",
       "      <td>21.233332</td>\n",
       "      <td>Tackling</td>\n",
       "      <td>No</td>\n",
       "      <td>Helmet-to-body</td>\n",
       "      <td>33445</td>\n",
       "      <td>Tackling</td>\n",
       "      <td>Yes</td>\n",
       "      <td>1</td>\n",
       "    </tr>\n",
       "  </tbody>\n",
       "</table>\n",
       "<p>1 rows × 251 columns</p>\n",
       "</div>"
      ],
      "text/plain": [
       "        season_year  gamekey  playid   gsisid  dis_slice_0  dis_slice_1  \\\n",
       "183845         2017      473    2072  29492.0         0.13          0.1   \n",
       "\n",
       "        dis_slice_2  dis_slice_3  dis_slice_4  dis_slice_5  ...  y_slice_57  \\\n",
       "183845     0.081667        0.058         0.06         0.03  ...   20.998333   \n",
       "\n",
       "        y_slice_58  y_slice_59  player_activity_derived  turnover_related  \\\n",
       "183845   21.048334   21.233332                 Tackling                No   \n",
       "\n",
       "        primary_impact_type  primary_partner_gsisid  \\\n",
       "183845       Helmet-to-body                   33445   \n",
       "\n",
       "        primary_partner_activity_derived  friendly_fire  concussed  \n",
       "183845                          Tackling            Yes          1  \n",
       "\n",
       "[1 rows x 251 columns]"
      ]
     },
     "execution_count": 48,
     "metadata": {},
     "output_type": "execute_result"
    }
   ],
   "source": [
    "player1.query('concussed == 1')  # How many concussions for player 29492"
   ]
  },
  {
   "cell_type": "code",
   "execution_count": 39,
   "id": "050bf22f",
   "metadata": {},
   "outputs": [],
   "source": [
    "player1.to_csv('scripts/punt_analytics/player_29492_movement.csv', index=False)"
   ]
  },
  {
   "cell_type": "code",
   "execution_count": 44,
   "id": "7c6b376c",
   "metadata": {},
   "outputs": [],
   "source": [
    "player1_raw = df.query('gsisid == 29492').copy()  # Assuming you want the raw data for player 29492"
   ]
  },
  {
   "cell_type": "code",
   "execution_count": 42,
   "id": "5c76f945",
   "metadata": {},
   "outputs": [],
   "source": [
    "player1_raw.head(1000).to_csv('scripts/punt_analytics/player_29492_raw.csv', index=False)"
   ]
  },
  {
   "cell_type": "code",
   "execution_count": 46,
   "id": "1c5a36fd",
   "metadata": {},
   "outputs": [
    {
     "name": "stdout",
     "output_type": "stream",
     "text": [
      "Sample data: 103390 records across 279 plays\n",
      "Extracted 288 play-level feature sets\n",
      "Features per play: 31\n",
      "\n",
      "Sample features for first play:\n",
      "  season_year: 2016.000\n",
      "  gamekey: 13.000\n",
      "  playid: 2034.000\n",
      "  gsisid: 29492.000\n",
      "  play_duration: 37.400\n",
      "  total_distance: 8.748\n",
      "  displacement: 51.990\n",
      "  max_speed: 1.050\n",
      "  avg_speed: 0.277\n",
      "  speed_std: 0.336\n",
      "  speed_95th: 1.022\n",
      "  time_above_avg_speed: 0.294\n",
      "  max_acceleration: 20.396\n",
      "  avg_acceleration: 4.397\n",
      "  acceleration_std: 3.587\n",
      "  max_deceleration: -0.000\n",
      "  rapid_decelerations: 0.000\n",
      "  rapid_accelerations: 176.000\n",
      "  max_jerk: 163.957\n",
      "  avg_jerk: 25.591\n",
      "  jerk_95th: 83.841\n",
      "  high_jerk_events: 32.000\n",
      "  total_direction_change: 2733.360\n",
      "  max_angular_velocity: 1125.900\n",
      "  avg_angular_velocity: 83.131\n",
      "  sharp_turns: 147.000\n",
      "  speed_cv: 1.215\n",
      "  acceleration_cv: 0.816\n",
      "  has_snap: 1.000\n",
      "  has_punt: 1.000\n",
      "  num_events: 8.000\n",
      "  x_range: 57.390\n",
      "  y_range: 23.560\n",
      "  field_coverage: 1352.108\n",
      "  movement_efficiency: 5.943\n",
      "\n",
      "Anomaly detection results:\n",
      "  Anomalous plays: 29/288\n",
      "  Anomaly scores range: -0.203 to 0.142\n",
      "  Anomalous play characteristics:\n",
      "    Avg max speed: 0.656\n",
      "    Avg max acceleration: 41.310\n",
      "    Avg max jerk: 348.299\n",
      "\n",
      "Detailed anomalous plays:\n",
      "Season Game     Play     GSISID   Score    Max Speed  Max Accel  Max Jerk  \n",
      "--------------------------------------------------------------------------------\n",
      "2016   30       1501     29492    -0.105   0.330      24.427     244.202   \n",
      "2016   72       1993     29492    -0.126   0.340      33.838     338.377   \n",
      "2016   94       303      29492    -0.129   0.200      5.385      39.710    \n",
      "2016   106      996      29492    -0.115   0.280      28.071     230.713   \n",
      "2016   153      2125     29492    -0.007   0.960      15.999     129.997   \n",
      "2016   162      2801     29492    -0.028   0.450      36.345     290.833   \n",
      "2016   162      2828     29492    -0.023   0.930      70.831     476.359   \n",
      "2016   162      3179     29492    -0.057   0.890      46.957     469.572   \n",
      "2016   181      1727     29492    -0.085   0.320      13.001     109.997   \n",
      "2016   197      1803     29492    -0.188   0.170      6.083      40.002    \n",
      "2016   197      2899     29492    -0.010   0.540      12.207     96.618    \n",
      "2016   252      4086     29492    -0.074   0.800      12.370     68.335    \n",
      "2016   258      1620     29492    -0.055   0.960      14.036     100.355   \n",
      "2016   287      2474     29492    -0.038   0.940      16.763     147.414   \n",
      "2016   318      1432     29492    -0.010   0.970      14.422     111.804   \n",
      "2016   318      3411     29492    -0.134   1.850      184.000    1820.000  \n",
      "2016   318      3726     29492    -0.203   0.260      11.705     94.403    \n",
      "2016   322      1709     29492    -0.116   0.120      5.657      46.575    \n",
      "2016   322      2968     29492    -0.126   0.110      5.000      40.001    \n",
      "2017   460      566      29492    -0.051   1.000      22.472     122.736   \n",
      "2017   460      1430     29492    -0.124   0.140      7.071      43.854    \n",
      "2017   460      2691     29492    -0.044   0.370      14.865     126.301   \n",
      "2017   473      1749     29492    -0.133   0.130      9.219      78.054    \n",
      "2017   491      3828     29492    -0.036   0.980      126.373    709.025   \n",
      "2017   572      2730     29492    -0.032   0.940      83.024     728.259   \n",
      "2017   588      331      29492    -0.129   1.300      149.626    1446.261  \n",
      "2017   588      1757     29492    -0.031   0.810      103.755    736.146   \n",
      "2017   621      682      29492    -0.043   0.880      21.470     204.718   \n",
      "2017   652      588      29492    -0.009   1.050      103.005    1010.053  \n",
      "\n",
      "Saved detailed anomalous plays to 'anomalous_plays_lookup.csv'\n"
     ]
    }
   ],
   "source": [
    "import pandas as pd\n",
    "import numpy as np\n",
    "from sklearn.ensemble import IsolationForest\n",
    "from sklearn.preprocessing import StandardScaler\n",
    "from sklearn.metrics import classification_report, precision_recall_curve, roc_auc_score\n",
    "import warnings\n",
    "warnings.filterwarnings('ignore')\n",
    "\n",
    "def extract_enhanced_play_features(df):\n",
    "    \"\"\"\n",
    "    Extract comprehensive features from raw NFL tracking data\n",
    "    Designed to work with your exact data format\n",
    "    \"\"\"\n",
    "    \n",
    "    def process_single_play(play_data):\n",
    "        \"\"\"Process one play for one player\"\"\"\n",
    "        if len(play_data) < 5:\n",
    "            return None\n",
    "            \n",
    "        play_data = play_data.sort_values('time').reset_index(drop=True)\n",
    "        \n",
    "        # Convert time to seconds from start\n",
    "        play_data['time'] = pd.to_datetime(play_data['time'])\n",
    "        play_data['seconds'] = (play_data['time'] - play_data['time'].min()).dt.total_seconds()\n",
    "        play_data['dt'] = play_data['seconds'].diff().fillna(0.1)\n",
    "        \n",
    "        # Calculate velocities from position changes\n",
    "        play_data['vx'] = play_data['x'].diff() / play_data['dt']\n",
    "        play_data['vy'] = play_data['y'].diff() / play_data['dt']\n",
    "        play_data['speed_calc'] = np.sqrt(play_data['vx']**2 + play_data['vy']**2)\n",
    "        \n",
    "        # Use provided speed where available, calculated as backup\n",
    "        play_data['speed'] = play_data['dis'].fillna(play_data['speed_calc'])\n",
    "        \n",
    "        # Calculate accelerations\n",
    "        play_data['ax'] = play_data['vx'].diff() / play_data['dt']\n",
    "        play_data['ay'] = play_data['vy'].diff() / play_data['dt']\n",
    "        play_data['acceleration'] = np.sqrt(play_data['ax']**2 + play_data['ay']**2)\n",
    "        \n",
    "        # Jerk (rate of acceleration change)\n",
    "        play_data['jerk'] = play_data['acceleration'].diff() / play_data['dt']\n",
    "        \n",
    "        # Direction changes\n",
    "        play_data['dir_change'] = play_data['dir'].diff()\n",
    "        play_data['orient_change'] = play_data['o'].diff()\n",
    "        \n",
    "        # Handle angle wraparound\n",
    "        for col in ['dir_change', 'orient_change']:\n",
    "            play_data[col] = np.where(play_data[col] > 180, play_data[col] - 360, play_data[col])\n",
    "            play_data[col] = np.where(play_data[col] < -180, play_data[col] + 360, play_data[col])\n",
    "        \n",
    "        # Angular velocities\n",
    "        play_data['angular_vel'] = play_data['dir_change'] / play_data['dt']\n",
    "        \n",
    "        # Key events timing\n",
    "        events = play_data[play_data['event'].notna() & (play_data['event'] != 'nan')]['event'].tolist()\n",
    "        snap_time = None\n",
    "        if 'ball_snap' in events:\n",
    "            snap_time = play_data[play_data['event'] == 'ball_snap']['seconds'].iloc[0]\n",
    "        \n",
    "        # Aggregate features\n",
    "        features = {\n",
    "            # Identifiers\n",
    "            'season_year': play_data['season_year'].iloc[0],\n",
    "            'gamekey': play_data['gamekey'].iloc[0], \n",
    "            'playid': play_data['playid'].iloc[0],\n",
    "            'gsisid': play_data['gsisid'].iloc[0],\n",
    "            \n",
    "            # Basic metrics\n",
    "            'play_duration': play_data['seconds'].max(),\n",
    "            'total_distance': play_data['speed'].sum() * 0.1,  # Approximate with 10Hz\n",
    "            'displacement': np.sqrt((play_data['x'].iloc[-1] - play_data['x'].iloc[0])**2 + \n",
    "                                  (play_data['y'].iloc[-1] - play_data['y'].iloc[0])**2),\n",
    "            \n",
    "            # Speed characteristics\n",
    "            'max_speed': play_data['speed'].max(),\n",
    "            'avg_speed': play_data['speed'].mean(),\n",
    "            'speed_std': play_data['speed'].std(),\n",
    "            'speed_95th': play_data['speed'].quantile(0.95),\n",
    "            'time_above_avg_speed': (play_data['speed'] > play_data['speed'].mean()).sum() / len(play_data),\n",
    "            \n",
    "            # Acceleration patterns\n",
    "            'max_acceleration': play_data['acceleration'].max(),\n",
    "            'avg_acceleration': play_data['acceleration'].mean(),\n",
    "            'acceleration_std': play_data['acceleration'].std(),\n",
    "            'max_deceleration': -play_data['acceleration'].min(),  # Most negative as positive\n",
    "            'rapid_decelerations': (play_data['acceleration'] < -3.0).sum(),\n",
    "            'rapid_accelerations': (play_data['acceleration'] > 3.0).sum(),\n",
    "            \n",
    "            # Jerk and smoothness\n",
    "            'max_jerk': play_data['jerk'].abs().max(),\n",
    "            'avg_jerk': play_data['jerk'].abs().mean(),\n",
    "            'jerk_95th': play_data['jerk'].abs().quantile(0.95),\n",
    "            'high_jerk_events': (play_data['jerk'].abs() > play_data['jerk'].abs().quantile(0.9)).sum(),\n",
    "            \n",
    "            # Direction and agility\n",
    "            'total_direction_change': play_data['dir_change'].abs().sum(),\n",
    "            'max_angular_velocity': play_data['angular_vel'].abs().max(),\n",
    "            'avg_angular_velocity': play_data['angular_vel'].abs().mean(),\n",
    "            'sharp_turns': (play_data['angular_vel'].abs() > 45).sum(),  # >45 deg/sec\n",
    "            \n",
    "            # Movement variability\n",
    "            'speed_cv': play_data['speed'].std() / (play_data['speed'].mean() + 1e-6),\n",
    "            'acceleration_cv': play_data['acceleration'].std() / (play_data['acceleration'].mean() + 1e-6),\n",
    "            \n",
    "            # Event-based features\n",
    "            'has_snap': 1 if 'ball_snap' in events else 0,\n",
    "            'has_punt': 1 if 'punt' in events else 0,\n",
    "            'num_events': len(events),\n",
    "            \n",
    "            # Position characteristics\n",
    "            'x_range': play_data['x'].max() - play_data['x'].min(),\n",
    "            'y_range': play_data['y'].max() - play_data['y'].min(),\n",
    "            'field_coverage': (play_data['x'].max() - play_data['x'].min()) * (play_data['y'].max() - play_data['y'].min()),\n",
    "        }\n",
    "        \n",
    "        # Movement efficiency\n",
    "        if features['total_distance'] > 0:\n",
    "            features['movement_efficiency'] = features['displacement'] / features['total_distance']\n",
    "        else:\n",
    "            features['movement_efficiency'] = 0\n",
    "            \n",
    "        return features\n",
    "    \n",
    "    # Process all plays\n",
    "    all_features = []\n",
    "    \n",
    "    for (season, game, play, player), play_data in df.groupby(['season_year', 'gamekey', 'playid', 'gsisid']):\n",
    "        features = process_single_play(play_data)\n",
    "        if features is not None:\n",
    "            all_features.append(features)\n",
    "    \n",
    "    return pd.DataFrame(all_features)\n",
    "\n",
    "def build_individualized_model(features_df, min_plays=15):\n",
    "    \"\"\"\n",
    "    Build anomaly detection model for each player individually\n",
    "    \"\"\"\n",
    "    results = []\n",
    "    \n",
    "    for player_id in features_df['gsisid'].unique():\n",
    "        player_data = features_df[features_df['gsisid'] == player_id].copy()\n",
    "        \n",
    "        if len(player_data) < min_plays:\n",
    "            # Not enough data for reliable baseline\n",
    "            player_data['anomaly_score'] = 0\n",
    "            player_data['is_anomaly'] = False\n",
    "            player_data['baseline_plays'] = len(player_data)\n",
    "            results.append(player_data)\n",
    "            continue\n",
    "        \n",
    "        # Features for anomaly detection (exclude identifiers)\n",
    "        feature_cols = [col for col in player_data.columns \n",
    "                       if col not in ['season_year', 'gamekey', 'playid', 'gsisid']]\n",
    "        \n",
    "        # Handle missing values\n",
    "        X = player_data[feature_cols].fillna(player_data[feature_cols].median())\n",
    "        \n",
    "        # Standardize features\n",
    "        scaler = StandardScaler()\n",
    "        X_scaled = scaler.fit_transform(X)\n",
    "        \n",
    "        # Fit isolation forest\n",
    "        iso_forest = IsolationForest(\n",
    "            contamination=0.1,  # Expect 10% of plays to be anomalous\n",
    "            random_state=42,\n",
    "            n_estimators=100\n",
    "        )\n",
    "        \n",
    "        anomaly_labels = iso_forest.fit_predict(X_scaled)\n",
    "        anomaly_scores = iso_forest.decision_function(X_scaled)\n",
    "        \n",
    "        # Add results\n",
    "        player_data['anomaly_score'] = anomaly_scores\n",
    "        player_data['is_anomaly'] = anomaly_labels == -1\n",
    "        player_data['baseline_plays'] = len(player_data)\n",
    "        \n",
    "        # Identify top risk factors for anomalous plays\n",
    "        if anomaly_labels.sum() < 0:  # If any anomalies detected\n",
    "            feature_importance = np.abs(X_scaled[anomaly_labels == -1].mean(axis=0) - \n",
    "                                      X_scaled[anomaly_labels == 1].mean(axis=0))\n",
    "            top_features = np.argsort(feature_importance)[-3:][::-1]  # Top 3\n",
    "            risk_factors = [feature_cols[i] for i in top_features]\n",
    "        else:\n",
    "            risk_factors = []\n",
    "        \n",
    "        player_data['top_risk_factors'] = str(risk_factors)\n",
    "        results.append(player_data)\n",
    "    \n",
    "    return pd.concat(results, ignore_index=True)\n",
    "\n",
    "def evaluate_injury_prediction(results_df, injury_labels_df):\n",
    "    \"\"\"\n",
    "    Evaluate how well anomaly detection predicts injuries\n",
    "    \"\"\"\n",
    "    # Merge with injury labels\n",
    "    merged = results_df.merge(\n",
    "        injury_labels_df[['season_year', 'gamekey', 'playid', 'gsisid', 'concussed']], \n",
    "        on=['season_year', 'gamekey', 'playid', 'gsisid'], \n",
    "        how='left'\n",
    "    )\n",
    "    merged['concussed'] = merged['concussed'].fillna(0)\n",
    "    \n",
    "    # Only evaluate players with sufficient baseline\n",
    "    reliable_data = merged[merged['baseline_plays'] >= 15]\n",
    "    \n",
    "    if len(reliable_data) == 0:\n",
    "        print(\"No players have sufficient baseline data (15+ plays)\")\n",
    "        return None\n",
    "    \n",
    "    print(f\"Evaluation on {len(reliable_data)} plays from players with 15+ baseline plays\")\n",
    "    print(f\"Injury rate: {reliable_data['concussed'].mean():.4f}\")\n",
    "    print(f\"Anomaly rate: {reliable_data['is_anomaly'].mean():.4f}\")\n",
    "    \n",
    "    # Basic classification metrics\n",
    "    if reliable_data['concussed'].sum() > 0:\n",
    "        print(\"\\nClassification Report:\")\n",
    "        print(classification_report(reliable_data['concussed'], reliable_data['is_anomaly']))\n",
    "        \n",
    "        # Precision-Recall analysis\n",
    "        precision, recall, thresholds = precision_recall_curve(\n",
    "            reliable_data['concussed'], reliable_data['anomaly_score']\n",
    "        )\n",
    "        \n",
    "        print(f\"\\nBest threshold analysis:\")\n",
    "        best_f1_idx = np.argmax(2 * precision * recall / (precision + recall + 1e-6))\n",
    "        best_threshold = thresholds[best_f1_idx]\n",
    "        \n",
    "        predictions_best = (reliable_data['anomaly_score'] >= best_threshold).astype(int)\n",
    "        print(f\"Best threshold: {best_threshold:.3f}\")\n",
    "        print(classification_report(reliable_data['concussed'], predictions_best))\n",
    "        \n",
    "        # ROC-AUC if possible\n",
    "        if len(np.unique(reliable_data['concussed'])) > 1:\n",
    "            auc = roc_auc_score(reliable_data['concussed'], reliable_data['anomaly_score'])\n",
    "            print(f\"ROC-AUC: {auc:.3f}\")\n",
    "    \n",
    "    return reliable_data\n",
    "\n",
    "# Main pipeline function\n",
    "def run_injury_prediction_pipeline(tracking_data_path, injury_labels_path):\n",
    "    \"\"\"\n",
    "    Complete pipeline from raw data to injury prediction evaluation\n",
    "    \"\"\"\n",
    "    print(\"Loading data...\")\n",
    "    tracking_df = pd.read_csv(tracking_data_path)\n",
    "    injury_df = pd.read_csv(injury_labels_path)\n",
    "    \n",
    "    print(f\"Loaded {len(tracking_df)} tracking records for {tracking_df['gsisid'].nunique()} players\")\n",
    "    print(f\"Loaded {len(injury_df)} injury labels\")\n",
    "    \n",
    "    print(\"\\nExtracting play-level features...\")\n",
    "    features_df = extract_enhanced_play_features(tracking_df)\n",
    "    print(f\"Extracted features for {len(features_df)} plays\")\n",
    "    \n",
    "    print(\"\\nBuilding individualized anomaly models...\")\n",
    "    results_df = build_individualized_model(features_df)\n",
    "    \n",
    "    print(\"\\nEvaluating injury prediction performance...\")\n",
    "    evaluation_results = evaluate_injury_prediction(results_df, injury_df)\n",
    "    \n",
    "    return results_df, evaluation_results\n",
    "\n",
    "# Quick test function for your sample data\n",
    "def test_on_sample_data():\n",
    "    \"\"\"\n",
    "    Test the pipeline on your player 29492 sample\n",
    "    \"\"\"\n",
    "    # Load your sample file\n",
    "    #df = pd.read_csv('player_29492_raw.csv')\n",
    "    df = player1_raw.copy()  # Use the player 29492 raw data\n",
    "    \n",
    "    print(f\"Sample data: {len(df)} records across {df['playid'].nunique()} plays\")\n",
    "    \n",
    "    # Extract features\n",
    "    features = extract_enhanced_play_features(df)\n",
    "    print(f\"Extracted {len(features)} play-level feature sets\")\n",
    "    print(f\"Features per play: {len(features.columns) - 4}\")  # Minus identifiers\n",
    "    \n",
    "    # Show sample features\n",
    "    print(\"\\nSample features for first play:\")\n",
    "    first_play_features = features.iloc[0]\n",
    "    for key, value in first_play_features.items():\n",
    "        if isinstance(value, (int, float)):\n",
    "            print(f\"  {key}: {value:.3f}\")\n",
    "        else:\n",
    "            print(f\"  {key}: {value}\")\n",
    "    \n",
    "    # Build anomaly model (if enough plays)\n",
    "    if len(features) >= 15:\n",
    "        results = build_individualized_model(features)\n",
    "        print(f\"\\nAnomaly detection results:\")\n",
    "        print(f\"  Anomalous plays: {results['is_anomaly'].sum()}/{len(results)}\")\n",
    "        print(f\"  Anomaly scores range: {results['anomaly_score'].min():.3f} to {results['anomaly_score'].max():.3f}\")\n",
    "        \n",
    "        if results['is_anomaly'].sum() > 0:\n",
    "            anomalous_plays = results[results['is_anomaly']]\n",
    "            print(f\"  Anomalous play characteristics:\")\n",
    "            print(f\"    Avg max speed: {anomalous_plays['max_speed'].mean():.3f}\")\n",
    "            print(f\"    Avg max acceleration: {anomalous_plays['max_acceleration'].mean():.3f}\")\n",
    "            print(f\"    Avg max jerk: {anomalous_plays['max_jerk'].mean():.3f}\")\n",
    "            \n",
    "            # Show detailed anomalous plays for lookup\n",
    "            print(f\"\\nDetailed anomalous plays:\")\n",
    "            print(f\"{'Season':<6} {'Game':<8} {'Play':<8} {'GSISID':<8} {'Score':<8} {'Max Speed':<10} {'Max Accel':<10} {'Max Jerk':<10}\")\n",
    "            print(\"-\" * 80)\n",
    "            \n",
    "            for _, play in anomalous_plays.iterrows():\n",
    "                print(f\"{play['season_year']:<6.0f} {play['gamekey']:<8.0f} {play['playid']:<8.0f} {play['gsisid']:<8.0f} \"\n",
    "                      f\"{play['anomaly_score']:<8.3f} {play['max_speed']:<10.3f} {play['max_acceleration']:<10.3f} {play['max_jerk']:<10.3f}\")\n",
    "            \n",
    "            # Also save to CSV for easy lookup\n",
    "            anomaly_lookup = anomalous_plays[['season_year', 'gamekey', 'playid', 'gsisid', 'anomaly_score', \n",
    "                                            'max_speed', 'max_acceleration', 'max_jerk', 'top_risk_factors']].copy()\n",
    "            anomaly_lookup.to_csv('anomalous_plays_lookup.csv', index=False)\n",
    "            print(f\"\\nSaved detailed anomalous plays to 'anomalous_plays_lookup.csv'\")\n",
    "            \n",
    "    else:\n",
    "        print(f\"Need at least 15 plays for anomaly detection, only have {len(features)}\")\n",
    "    \n",
    "    return features\n",
    "\n",
    "# Example usage\n",
    "if __name__ == \"__main__\":\n",
    "    # Test on your sample data\n",
    "    sample_features = test_on_sample_data()\n",
    "    \n",
    "    # For full pipeline (when you have complete data):\n",
    "    # results, evaluation = run_injury_prediction_pipeline(\n",
    "    #     'your_full_tracking_data.csv', \n",
    "    #     'your_injury_labels.csv'\n",
    "    # )"
   ]
  },
  {
   "cell_type": "code",
   "execution_count": 49,
   "id": "9ac55823",
   "metadata": {},
   "outputs": [
    {
     "data": {
      "application/vnd.microsoft.datawrangler.viewer.v0+json": {
       "columns": [
        {
         "name": "index",
         "rawType": "int64",
         "type": "integer"
        },
        {
         "name": "season_year",
         "rawType": "int64",
         "type": "integer"
        },
        {
         "name": "gamekey",
         "rawType": "int16",
         "type": "integer"
        },
        {
         "name": "playid",
         "rawType": "int16",
         "type": "integer"
        },
        {
         "name": "gsisid",
         "rawType": "float32",
         "type": "float"
        },
        {
         "name": "dis_slice_0",
         "rawType": "float32",
         "type": "float"
        },
        {
         "name": "dis_slice_1",
         "rawType": "float32",
         "type": "float"
        },
        {
         "name": "dis_slice_2",
         "rawType": "float32",
         "type": "float"
        },
        {
         "name": "dis_slice_3",
         "rawType": "float32",
         "type": "float"
        },
        {
         "name": "dis_slice_4",
         "rawType": "float32",
         "type": "float"
        },
        {
         "name": "dis_slice_5",
         "rawType": "float32",
         "type": "float"
        },
        {
         "name": "dis_slice_6",
         "rawType": "float32",
         "type": "float"
        },
        {
         "name": "dis_slice_7",
         "rawType": "float32",
         "type": "float"
        },
        {
         "name": "dis_slice_8",
         "rawType": "float32",
         "type": "float"
        },
        {
         "name": "dis_slice_9",
         "rawType": "float32",
         "type": "float"
        },
        {
         "name": "dis_slice_10",
         "rawType": "float32",
         "type": "float"
        },
        {
         "name": "dis_slice_11",
         "rawType": "float32",
         "type": "float"
        },
        {
         "name": "dis_slice_12",
         "rawType": "float32",
         "type": "float"
        },
        {
         "name": "dis_slice_13",
         "rawType": "float32",
         "type": "float"
        },
        {
         "name": "dis_slice_14",
         "rawType": "float32",
         "type": "float"
        },
        {
         "name": "dis_slice_15",
         "rawType": "float32",
         "type": "float"
        },
        {
         "name": "dis_slice_16",
         "rawType": "float32",
         "type": "float"
        },
        {
         "name": "dis_slice_17",
         "rawType": "float32",
         "type": "float"
        },
        {
         "name": "dis_slice_18",
         "rawType": "float32",
         "type": "float"
        },
        {
         "name": "dis_slice_19",
         "rawType": "float32",
         "type": "float"
        },
        {
         "name": "dis_slice_20",
         "rawType": "float32",
         "type": "float"
        },
        {
         "name": "dis_slice_21",
         "rawType": "float32",
         "type": "float"
        },
        {
         "name": "dis_slice_22",
         "rawType": "float32",
         "type": "float"
        },
        {
         "name": "dis_slice_23",
         "rawType": "float32",
         "type": "float"
        },
        {
         "name": "dis_slice_24",
         "rawType": "float32",
         "type": "float"
        },
        {
         "name": "dis_slice_25",
         "rawType": "float32",
         "type": "float"
        },
        {
         "name": "dis_slice_26",
         "rawType": "float32",
         "type": "float"
        },
        {
         "name": "dis_slice_27",
         "rawType": "float32",
         "type": "float"
        },
        {
         "name": "dis_slice_28",
         "rawType": "float32",
         "type": "float"
        },
        {
         "name": "dis_slice_29",
         "rawType": "float32",
         "type": "float"
        },
        {
         "name": "dis_slice_30",
         "rawType": "float32",
         "type": "float"
        },
        {
         "name": "dis_slice_31",
         "rawType": "float32",
         "type": "float"
        },
        {
         "name": "dis_slice_32",
         "rawType": "float32",
         "type": "float"
        },
        {
         "name": "dis_slice_33",
         "rawType": "float32",
         "type": "float"
        },
        {
         "name": "dis_slice_34",
         "rawType": "float32",
         "type": "float"
        },
        {
         "name": "dis_slice_35",
         "rawType": "float32",
         "type": "float"
        },
        {
         "name": "dis_slice_36",
         "rawType": "float32",
         "type": "float"
        },
        {
         "name": "dis_slice_37",
         "rawType": "float32",
         "type": "float"
        },
        {
         "name": "dis_slice_38",
         "rawType": "float32",
         "type": "float"
        },
        {
         "name": "dis_slice_39",
         "rawType": "float32",
         "type": "float"
        },
        {
         "name": "dis_slice_40",
         "rawType": "float32",
         "type": "float"
        },
        {
         "name": "dis_slice_41",
         "rawType": "float32",
         "type": "float"
        },
        {
         "name": "dis_slice_42",
         "rawType": "float32",
         "type": "float"
        },
        {
         "name": "dis_slice_43",
         "rawType": "float32",
         "type": "float"
        },
        {
         "name": "dis_slice_44",
         "rawType": "float32",
         "type": "float"
        },
        {
         "name": "dis_slice_45",
         "rawType": "float32",
         "type": "float"
        },
        {
         "name": "dis_slice_46",
         "rawType": "float32",
         "type": "float"
        },
        {
         "name": "dis_slice_47",
         "rawType": "float32",
         "type": "float"
        },
        {
         "name": "dis_slice_48",
         "rawType": "float32",
         "type": "float"
        },
        {
         "name": "dis_slice_49",
         "rawType": "float32",
         "type": "float"
        },
        {
         "name": "dis_slice_50",
         "rawType": "float32",
         "type": "float"
        },
        {
         "name": "dis_slice_51",
         "rawType": "float32",
         "type": "float"
        },
        {
         "name": "dis_slice_52",
         "rawType": "float32",
         "type": "float"
        },
        {
         "name": "dis_slice_53",
         "rawType": "float32",
         "type": "float"
        },
        {
         "name": "dis_slice_54",
         "rawType": "float32",
         "type": "float"
        },
        {
         "name": "dis_slice_55",
         "rawType": "float32",
         "type": "float"
        },
        {
         "name": "dis_slice_56",
         "rawType": "float32",
         "type": "float"
        },
        {
         "name": "dis_slice_57",
         "rawType": "float32",
         "type": "float"
        },
        {
         "name": "dis_slice_58",
         "rawType": "float32",
         "type": "float"
        },
        {
         "name": "dis_slice_59",
         "rawType": "float32",
         "type": "float"
        },
        {
         "name": "o_slice_0",
         "rawType": "float32",
         "type": "float"
        },
        {
         "name": "o_slice_1",
         "rawType": "float32",
         "type": "float"
        },
        {
         "name": "o_slice_2",
         "rawType": "float32",
         "type": "float"
        },
        {
         "name": "o_slice_3",
         "rawType": "float32",
         "type": "float"
        },
        {
         "name": "o_slice_4",
         "rawType": "float32",
         "type": "float"
        },
        {
         "name": "o_slice_5",
         "rawType": "float32",
         "type": "float"
        },
        {
         "name": "o_slice_6",
         "rawType": "float32",
         "type": "float"
        },
        {
         "name": "o_slice_7",
         "rawType": "float32",
         "type": "float"
        },
        {
         "name": "o_slice_8",
         "rawType": "float32",
         "type": "float"
        },
        {
         "name": "o_slice_9",
         "rawType": "float32",
         "type": "float"
        },
        {
         "name": "o_slice_10",
         "rawType": "float32",
         "type": "float"
        },
        {
         "name": "o_slice_11",
         "rawType": "float32",
         "type": "float"
        },
        {
         "name": "o_slice_12",
         "rawType": "float32",
         "type": "float"
        },
        {
         "name": "o_slice_13",
         "rawType": "float32",
         "type": "float"
        },
        {
         "name": "o_slice_14",
         "rawType": "float32",
         "type": "float"
        },
        {
         "name": "o_slice_15",
         "rawType": "float32",
         "type": "float"
        },
        {
         "name": "o_slice_16",
         "rawType": "float32",
         "type": "float"
        },
        {
         "name": "o_slice_17",
         "rawType": "float32",
         "type": "float"
        },
        {
         "name": "o_slice_18",
         "rawType": "float32",
         "type": "float"
        },
        {
         "name": "o_slice_19",
         "rawType": "float32",
         "type": "float"
        },
        {
         "name": "o_slice_20",
         "rawType": "float32",
         "type": "float"
        },
        {
         "name": "o_slice_21",
         "rawType": "float32",
         "type": "float"
        },
        {
         "name": "o_slice_22",
         "rawType": "float32",
         "type": "float"
        },
        {
         "name": "o_slice_23",
         "rawType": "float32",
         "type": "float"
        },
        {
         "name": "o_slice_24",
         "rawType": "float32",
         "type": "float"
        },
        {
         "name": "o_slice_25",
         "rawType": "float32",
         "type": "float"
        },
        {
         "name": "o_slice_26",
         "rawType": "float32",
         "type": "float"
        },
        {
         "name": "o_slice_27",
         "rawType": "float32",
         "type": "float"
        },
        {
         "name": "o_slice_28",
         "rawType": "float32",
         "type": "float"
        },
        {
         "name": "o_slice_29",
         "rawType": "float32",
         "type": "float"
        },
        {
         "name": "o_slice_30",
         "rawType": "float32",
         "type": "float"
        },
        {
         "name": "o_slice_31",
         "rawType": "float32",
         "type": "float"
        },
        {
         "name": "o_slice_32",
         "rawType": "float32",
         "type": "float"
        },
        {
         "name": "o_slice_33",
         "rawType": "float32",
         "type": "float"
        },
        {
         "name": "o_slice_34",
         "rawType": "float32",
         "type": "float"
        },
        {
         "name": "o_slice_35",
         "rawType": "float32",
         "type": "float"
        },
        {
         "name": "o_slice_36",
         "rawType": "float32",
         "type": "float"
        },
        {
         "name": "o_slice_37",
         "rawType": "float32",
         "type": "float"
        },
        {
         "name": "o_slice_38",
         "rawType": "float32",
         "type": "float"
        },
        {
         "name": "o_slice_39",
         "rawType": "float32",
         "type": "float"
        },
        {
         "name": "o_slice_40",
         "rawType": "float32",
         "type": "float"
        },
        {
         "name": "o_slice_41",
         "rawType": "float32",
         "type": "float"
        },
        {
         "name": "o_slice_42",
         "rawType": "float32",
         "type": "float"
        },
        {
         "name": "o_slice_43",
         "rawType": "float32",
         "type": "float"
        },
        {
         "name": "o_slice_44",
         "rawType": "float32",
         "type": "float"
        },
        {
         "name": "o_slice_45",
         "rawType": "float32",
         "type": "float"
        },
        {
         "name": "o_slice_46",
         "rawType": "float32",
         "type": "float"
        },
        {
         "name": "o_slice_47",
         "rawType": "float32",
         "type": "float"
        },
        {
         "name": "o_slice_48",
         "rawType": "float32",
         "type": "float"
        },
        {
         "name": "o_slice_49",
         "rawType": "float32",
         "type": "float"
        },
        {
         "name": "o_slice_50",
         "rawType": "float32",
         "type": "float"
        },
        {
         "name": "o_slice_51",
         "rawType": "float32",
         "type": "float"
        },
        {
         "name": "o_slice_52",
         "rawType": "float32",
         "type": "float"
        },
        {
         "name": "o_slice_53",
         "rawType": "float32",
         "type": "float"
        },
        {
         "name": "o_slice_54",
         "rawType": "float32",
         "type": "float"
        },
        {
         "name": "o_slice_55",
         "rawType": "float32",
         "type": "float"
        },
        {
         "name": "o_slice_56",
         "rawType": "float32",
         "type": "float"
        },
        {
         "name": "o_slice_57",
         "rawType": "float32",
         "type": "float"
        },
        {
         "name": "o_slice_58",
         "rawType": "float32",
         "type": "float"
        },
        {
         "name": "o_slice_59",
         "rawType": "float32",
         "type": "float"
        },
        {
         "name": "x_slice_0",
         "rawType": "float32",
         "type": "float"
        },
        {
         "name": "x_slice_1",
         "rawType": "float32",
         "type": "float"
        },
        {
         "name": "x_slice_2",
         "rawType": "float32",
         "type": "float"
        },
        {
         "name": "x_slice_3",
         "rawType": "float32",
         "type": "float"
        },
        {
         "name": "x_slice_4",
         "rawType": "float32",
         "type": "float"
        },
        {
         "name": "x_slice_5",
         "rawType": "float32",
         "type": "float"
        },
        {
         "name": "x_slice_6",
         "rawType": "float32",
         "type": "float"
        },
        {
         "name": "x_slice_7",
         "rawType": "float32",
         "type": "float"
        },
        {
         "name": "x_slice_8",
         "rawType": "float32",
         "type": "float"
        },
        {
         "name": "x_slice_9",
         "rawType": "float32",
         "type": "float"
        },
        {
         "name": "x_slice_10",
         "rawType": "float32",
         "type": "float"
        },
        {
         "name": "x_slice_11",
         "rawType": "float32",
         "type": "float"
        },
        {
         "name": "x_slice_12",
         "rawType": "float32",
         "type": "float"
        },
        {
         "name": "x_slice_13",
         "rawType": "float32",
         "type": "float"
        },
        {
         "name": "x_slice_14",
         "rawType": "float32",
         "type": "float"
        },
        {
         "name": "x_slice_15",
         "rawType": "float32",
         "type": "float"
        },
        {
         "name": "x_slice_16",
         "rawType": "float32",
         "type": "float"
        },
        {
         "name": "x_slice_17",
         "rawType": "float32",
         "type": "float"
        },
        {
         "name": "x_slice_18",
         "rawType": "float32",
         "type": "float"
        },
        {
         "name": "x_slice_19",
         "rawType": "float32",
         "type": "float"
        },
        {
         "name": "x_slice_20",
         "rawType": "float32",
         "type": "float"
        },
        {
         "name": "x_slice_21",
         "rawType": "float32",
         "type": "float"
        },
        {
         "name": "x_slice_22",
         "rawType": "float32",
         "type": "float"
        },
        {
         "name": "x_slice_23",
         "rawType": "float32",
         "type": "float"
        },
        {
         "name": "x_slice_24",
         "rawType": "float32",
         "type": "float"
        },
        {
         "name": "x_slice_25",
         "rawType": "float32",
         "type": "float"
        },
        {
         "name": "x_slice_26",
         "rawType": "float32",
         "type": "float"
        },
        {
         "name": "x_slice_27",
         "rawType": "float32",
         "type": "float"
        },
        {
         "name": "x_slice_28",
         "rawType": "float32",
         "type": "float"
        },
        {
         "name": "x_slice_29",
         "rawType": "float32",
         "type": "float"
        },
        {
         "name": "x_slice_30",
         "rawType": "float32",
         "type": "float"
        },
        {
         "name": "x_slice_31",
         "rawType": "float32",
         "type": "float"
        },
        {
         "name": "x_slice_32",
         "rawType": "float32",
         "type": "float"
        },
        {
         "name": "x_slice_33",
         "rawType": "float32",
         "type": "float"
        },
        {
         "name": "x_slice_34",
         "rawType": "float32",
         "type": "float"
        },
        {
         "name": "x_slice_35",
         "rawType": "float32",
         "type": "float"
        },
        {
         "name": "x_slice_36",
         "rawType": "float32",
         "type": "float"
        },
        {
         "name": "x_slice_37",
         "rawType": "float32",
         "type": "float"
        },
        {
         "name": "x_slice_38",
         "rawType": "float32",
         "type": "float"
        },
        {
         "name": "x_slice_39",
         "rawType": "float32",
         "type": "float"
        },
        {
         "name": "x_slice_40",
         "rawType": "float32",
         "type": "float"
        },
        {
         "name": "x_slice_41",
         "rawType": "float32",
         "type": "float"
        },
        {
         "name": "x_slice_42",
         "rawType": "float32",
         "type": "float"
        },
        {
         "name": "x_slice_43",
         "rawType": "float32",
         "type": "float"
        },
        {
         "name": "x_slice_44",
         "rawType": "float32",
         "type": "float"
        },
        {
         "name": "x_slice_45",
         "rawType": "float32",
         "type": "float"
        },
        {
         "name": "x_slice_46",
         "rawType": "float32",
         "type": "float"
        },
        {
         "name": "x_slice_47",
         "rawType": "float32",
         "type": "float"
        },
        {
         "name": "x_slice_48",
         "rawType": "float32",
         "type": "float"
        },
        {
         "name": "x_slice_49",
         "rawType": "float32",
         "type": "float"
        },
        {
         "name": "x_slice_50",
         "rawType": "float32",
         "type": "float"
        },
        {
         "name": "x_slice_51",
         "rawType": "float32",
         "type": "float"
        },
        {
         "name": "x_slice_52",
         "rawType": "float32",
         "type": "float"
        },
        {
         "name": "x_slice_53",
         "rawType": "float32",
         "type": "float"
        },
        {
         "name": "x_slice_54",
         "rawType": "float32",
         "type": "float"
        },
        {
         "name": "x_slice_55",
         "rawType": "float32",
         "type": "float"
        },
        {
         "name": "x_slice_56",
         "rawType": "float32",
         "type": "float"
        },
        {
         "name": "x_slice_57",
         "rawType": "float32",
         "type": "float"
        },
        {
         "name": "x_slice_58",
         "rawType": "float32",
         "type": "float"
        },
        {
         "name": "x_slice_59",
         "rawType": "float32",
         "type": "float"
        },
        {
         "name": "y_slice_0",
         "rawType": "float32",
         "type": "float"
        },
        {
         "name": "y_slice_1",
         "rawType": "float32",
         "type": "float"
        },
        {
         "name": "y_slice_2",
         "rawType": "float32",
         "type": "float"
        },
        {
         "name": "y_slice_3",
         "rawType": "float32",
         "type": "float"
        },
        {
         "name": "y_slice_4",
         "rawType": "float32",
         "type": "float"
        },
        {
         "name": "y_slice_5",
         "rawType": "float32",
         "type": "float"
        },
        {
         "name": "y_slice_6",
         "rawType": "float32",
         "type": "float"
        },
        {
         "name": "y_slice_7",
         "rawType": "float32",
         "type": "float"
        },
        {
         "name": "y_slice_8",
         "rawType": "float32",
         "type": "float"
        },
        {
         "name": "y_slice_9",
         "rawType": "float32",
         "type": "float"
        },
        {
         "name": "y_slice_10",
         "rawType": "float32",
         "type": "float"
        },
        {
         "name": "y_slice_11",
         "rawType": "float32",
         "type": "float"
        },
        {
         "name": "y_slice_12",
         "rawType": "float32",
         "type": "float"
        },
        {
         "name": "y_slice_13",
         "rawType": "float32",
         "type": "float"
        },
        {
         "name": "y_slice_14",
         "rawType": "float32",
         "type": "float"
        },
        {
         "name": "y_slice_15",
         "rawType": "float32",
         "type": "float"
        },
        {
         "name": "y_slice_16",
         "rawType": "float32",
         "type": "float"
        },
        {
         "name": "y_slice_17",
         "rawType": "float32",
         "type": "float"
        },
        {
         "name": "y_slice_18",
         "rawType": "float32",
         "type": "float"
        },
        {
         "name": "y_slice_19",
         "rawType": "float32",
         "type": "float"
        },
        {
         "name": "y_slice_20",
         "rawType": "float32",
         "type": "float"
        },
        {
         "name": "y_slice_21",
         "rawType": "float32",
         "type": "float"
        },
        {
         "name": "y_slice_22",
         "rawType": "float32",
         "type": "float"
        },
        {
         "name": "y_slice_23",
         "rawType": "float32",
         "type": "float"
        },
        {
         "name": "y_slice_24",
         "rawType": "float32",
         "type": "float"
        },
        {
         "name": "y_slice_25",
         "rawType": "float32",
         "type": "float"
        },
        {
         "name": "y_slice_26",
         "rawType": "float32",
         "type": "float"
        },
        {
         "name": "y_slice_27",
         "rawType": "float32",
         "type": "float"
        },
        {
         "name": "y_slice_28",
         "rawType": "float32",
         "type": "float"
        },
        {
         "name": "y_slice_29",
         "rawType": "float32",
         "type": "float"
        },
        {
         "name": "y_slice_30",
         "rawType": "float32",
         "type": "float"
        },
        {
         "name": "y_slice_31",
         "rawType": "float32",
         "type": "float"
        },
        {
         "name": "y_slice_32",
         "rawType": "float32",
         "type": "float"
        },
        {
         "name": "y_slice_33",
         "rawType": "float32",
         "type": "float"
        },
        {
         "name": "y_slice_34",
         "rawType": "float32",
         "type": "float"
        },
        {
         "name": "y_slice_35",
         "rawType": "float32",
         "type": "float"
        },
        {
         "name": "y_slice_36",
         "rawType": "float32",
         "type": "float"
        },
        {
         "name": "y_slice_37",
         "rawType": "float32",
         "type": "float"
        },
        {
         "name": "y_slice_38",
         "rawType": "float32",
         "type": "float"
        },
        {
         "name": "y_slice_39",
         "rawType": "float32",
         "type": "float"
        },
        {
         "name": "y_slice_40",
         "rawType": "float32",
         "type": "float"
        },
        {
         "name": "y_slice_41",
         "rawType": "float32",
         "type": "float"
        },
        {
         "name": "y_slice_42",
         "rawType": "float32",
         "type": "float"
        },
        {
         "name": "y_slice_43",
         "rawType": "float32",
         "type": "float"
        },
        {
         "name": "y_slice_44",
         "rawType": "float32",
         "type": "float"
        },
        {
         "name": "y_slice_45",
         "rawType": "float32",
         "type": "float"
        },
        {
         "name": "y_slice_46",
         "rawType": "float32",
         "type": "float"
        },
        {
         "name": "y_slice_47",
         "rawType": "float32",
         "type": "float"
        },
        {
         "name": "y_slice_48",
         "rawType": "float32",
         "type": "float"
        },
        {
         "name": "y_slice_49",
         "rawType": "float32",
         "type": "float"
        },
        {
         "name": "y_slice_50",
         "rawType": "float32",
         "type": "float"
        },
        {
         "name": "y_slice_51",
         "rawType": "float32",
         "type": "float"
        },
        {
         "name": "y_slice_52",
         "rawType": "float32",
         "type": "float"
        },
        {
         "name": "y_slice_53",
         "rawType": "float32",
         "type": "float"
        },
        {
         "name": "y_slice_54",
         "rawType": "float32",
         "type": "float"
        },
        {
         "name": "y_slice_55",
         "rawType": "float32",
         "type": "float"
        },
        {
         "name": "y_slice_56",
         "rawType": "float32",
         "type": "float"
        },
        {
         "name": "y_slice_57",
         "rawType": "float32",
         "type": "float"
        },
        {
         "name": "y_slice_58",
         "rawType": "float32",
         "type": "float"
        },
        {
         "name": "y_slice_59",
         "rawType": "float32",
         "type": "float"
        },
        {
         "name": "player_activity_derived",
         "rawType": "object",
         "type": "string"
        },
        {
         "name": "turnover_related",
         "rawType": "object",
         "type": "string"
        },
        {
         "name": "primary_impact_type",
         "rawType": "object",
         "type": "string"
        },
        {
         "name": "primary_partner_gsisid",
         "rawType": "object",
         "type": "string"
        },
        {
         "name": "primary_partner_activity_derived",
         "rawType": "object",
         "type": "string"
        },
        {
         "name": "friendly_fire",
         "rawType": "object",
         "type": "string"
        },
        {
         "name": "concussed",
         "rawType": "int64",
         "type": "integer"
        }
       ],
       "ref": "cc1b253c-7665-46ce-8b6a-7bdf6b51d826",
       "rows": [
        [
         "183845",
         "2017",
         "473",
         "2072",
         "29492.0",
         "0.13",
         "0.1",
         "0.08166667",
         "0.058",
         "0.060000002",
         "0.03",
         "0.024",
         "0.023333333",
         "0.05",
         "0.108",
         "0.11666667",
         "0.135",
         "0.082",
         "0.06333333",
         "0.016666666",
         "0.012",
         "0.0066666664",
         "0.005",
         "0.0",
         "0.0",
         "0.0",
         "0.0",
         "0.0",
         "0.0",
         "0.0",
         "0.0",
         "0.005",
         "0.07333333",
         "0.588",
         "0.66833335",
         "0.83166665",
         "0.90200007",
         "0.93",
         "0.94166666",
         "0.952",
         "0.94166666",
         "0.9166667",
         "0.892",
         "0.84666663",
         "0.73499995",
         "0.59",
         "0.432",
         "0.22166665",
         "0.14166667",
         "0.062",
         "0.031666666",
         "0.045",
         "0.018",
         "0.02833333",
         "0.013333333",
         "0.02",
         "0.021666666",
         "0.008333333",
         "0.048",
         "0.04",
         "0.065",
         "0.031999998",
         "0.05",
         "0.024999999",
         "0.043333333",
         "174.53168",
         "181.40167",
         "184.445",
         "179.662",
         "167.40167",
         "166.66667",
         "178.03",
         "182.07335",
         "176.23",
         "169.85",
         "162.07832",
         "152.86",
         "147.588",
         "147.10834",
         "158.35167",
         "181.904",
         "202.54",
         "208.65501",
         "206.95",
         "205.65498",
         "205.28166",
         "205.27167",
         "205.624",
         "206.06834",
         "204.51666",
         "200.344",
         "194.90668",
         "185.20667",
         "174.92801",
         "168.22833",
         "171.19666",
         "177.62999",
         "174.09334",
         "162.18001",
         "153.60599",
         "154.11833",
         "159.90001",
         "164.76799",
         "166.15834",
         "158.125",
         "157.86833",
         "206.306",
         "232.35333",
         "213.86168",
         "201.308",
         "177.15498",
         "138.10333",
         "123.54201",
         "131.72499",
         "135.04668",
         "134.892",
         "135.41333",
         "139.68001",
         "164.16",
         "188.20833",
         "209.76833",
         "229.002",
         "225.63167",
         "199.75835",
         "182.63832",
         "90.285",
         "89.611664",
         "89.09167",
         "88.732",
         "88.416664",
         "88.206665",
         "88.292",
         "88.33834",
         "88.27",
         "88.44",
         "88.738335",
         "88.543335",
         "88.352005",
         "88.37333",
         "88.45166",
         "88.472",
         "88.47833",
         "88.475",
         "88.456",
         "88.445",
         "88.44",
         "88.44",
         "88.432",
         "88.43",
         "88.420006",
         "88.42",
         "88.43167",
         "88.41333",
         "86.934",
         "83.840004",
         "79.456665",
         "74.83",
         "69.85667",
         "64.245",
         "59.053997",
         "53.841663",
         "48.27",
         "43.362",
         "38.741665",
         "34.363335",
         "31.381668",
         "30.146",
         "29.331667",
         "28.351667",
         "27.87",
         "27.938334",
         "28.178331",
         "28.256",
         "28.144999",
         "28.073334",
         "27.998001",
         "28.031668",
         "28.105001",
         "27.99",
         "27.945",
         "28.26",
         "28.418",
         "28.256668",
         "28.101667",
         "28.144999",
         "24.743332",
         "24.726667",
         "24.615",
         "24.53",
         "24.493332",
         "24.481667",
         "24.560001",
         "24.598333",
         "24.708334",
         "24.544",
         "24.195",
         "24.4",
         "24.366001",
         "24.436666",
         "24.538332",
         "24.574",
         "24.605001",
         "24.615",
         "24.628",
         "24.625",
         "24.613335",
         "24.596666",
         "24.584",
         "24.566666",
         "24.56",
         "24.55",
         "24.533335",
         "24.613335",
         "26.072",
         "27.423334",
         "28.906668",
         "30.304",
         "31.296667",
         "31.56",
         "31.372",
         "31.305",
         "31.113333",
         "30.426",
         "29.235",
         "27.576666",
         "25.116667",
         "22.698002",
         "21.346666",
         "21.08",
         "21.19",
         "21.256666",
         "21.386667",
         "21.404",
         "21.365",
         "21.338333",
         "21.328",
         "21.338333",
         "21.365",
         "21.3",
         "21.225",
         "21.048334",
         "20.967999",
         "20.998333",
         "21.048334",
         "21.233332",
         "Tackling",
         "No",
         "Helmet-to-body",
         "33445",
         "Tackling",
         "Yes",
         "1"
        ]
       ],
       "shape": {
        "columns": 251,
        "rows": 1
       }
      },
      "text/html": [
       "<div>\n",
       "<style scoped>\n",
       "    .dataframe tbody tr th:only-of-type {\n",
       "        vertical-align: middle;\n",
       "    }\n",
       "\n",
       "    .dataframe tbody tr th {\n",
       "        vertical-align: top;\n",
       "    }\n",
       "\n",
       "    .dataframe thead th {\n",
       "        text-align: right;\n",
       "    }\n",
       "</style>\n",
       "<table border=\"1\" class=\"dataframe\">\n",
       "  <thead>\n",
       "    <tr style=\"text-align: right;\">\n",
       "      <th></th>\n",
       "      <th>season_year</th>\n",
       "      <th>gamekey</th>\n",
       "      <th>playid</th>\n",
       "      <th>gsisid</th>\n",
       "      <th>dis_slice_0</th>\n",
       "      <th>dis_slice_1</th>\n",
       "      <th>dis_slice_2</th>\n",
       "      <th>dis_slice_3</th>\n",
       "      <th>dis_slice_4</th>\n",
       "      <th>dis_slice_5</th>\n",
       "      <th>...</th>\n",
       "      <th>y_slice_57</th>\n",
       "      <th>y_slice_58</th>\n",
       "      <th>y_slice_59</th>\n",
       "      <th>player_activity_derived</th>\n",
       "      <th>turnover_related</th>\n",
       "      <th>primary_impact_type</th>\n",
       "      <th>primary_partner_gsisid</th>\n",
       "      <th>primary_partner_activity_derived</th>\n",
       "      <th>friendly_fire</th>\n",
       "      <th>concussed</th>\n",
       "    </tr>\n",
       "  </thead>\n",
       "  <tbody>\n",
       "    <tr>\n",
       "      <th>183845</th>\n",
       "      <td>2017</td>\n",
       "      <td>473</td>\n",
       "      <td>2072</td>\n",
       "      <td>29492.0</td>\n",
       "      <td>0.13</td>\n",
       "      <td>0.1</td>\n",
       "      <td>0.081667</td>\n",
       "      <td>0.058</td>\n",
       "      <td>0.06</td>\n",
       "      <td>0.03</td>\n",
       "      <td>...</td>\n",
       "      <td>20.998333</td>\n",
       "      <td>21.048334</td>\n",
       "      <td>21.233332</td>\n",
       "      <td>Tackling</td>\n",
       "      <td>No</td>\n",
       "      <td>Helmet-to-body</td>\n",
       "      <td>33445</td>\n",
       "      <td>Tackling</td>\n",
       "      <td>Yes</td>\n",
       "      <td>1</td>\n",
       "    </tr>\n",
       "  </tbody>\n",
       "</table>\n",
       "<p>1 rows × 251 columns</p>\n",
       "</div>"
      ],
      "text/plain": [
       "        season_year  gamekey  playid   gsisid  dis_slice_0  dis_slice_1  \\\n",
       "183845         2017      473    2072  29492.0         0.13          0.1   \n",
       "\n",
       "        dis_slice_2  dis_slice_3  dis_slice_4  dis_slice_5  ...  y_slice_57  \\\n",
       "183845     0.081667        0.058         0.06         0.03  ...   20.998333   \n",
       "\n",
       "        y_slice_58  y_slice_59  player_activity_derived  turnover_related  \\\n",
       "183845   21.048334   21.233332                 Tackling                No   \n",
       "\n",
       "        primary_impact_type  primary_partner_gsisid  \\\n",
       "183845       Helmet-to-body                   33445   \n",
       "\n",
       "        primary_partner_activity_derived  friendly_fire  concussed  \n",
       "183845                          Tackling            Yes          1  \n",
       "\n",
       "[1 rows x 251 columns]"
      ]
     },
     "execution_count": 49,
     "metadata": {},
     "output_type": "execute_result"
    }
   ],
   "source": [
    "player1.query('concussed == 1')  # How many concussions for player 29492"
   ]
  },
  {
   "cell_type": "code",
   "execution_count": 50,
   "id": "b5c958d5",
   "metadata": {},
   "outputs": [],
   "source": [
    "concussions = df_final.query('concussed == 1')[['season_year', 'gamekey', 'playid', 'gsisid']].copy()"
   ]
  },
  {
   "cell_type": "code",
   "execution_count": 56,
   "id": "5f571968",
   "metadata": {},
   "outputs": [
    {
     "data": {
      "application/vnd.microsoft.datawrangler.viewer.v0+json": {
       "columns": [
        {
         "name": "index",
         "rawType": "int64",
         "type": "integer"
        },
        {
         "name": "season_year",
         "rawType": "int64",
         "type": "integer"
        },
        {
         "name": "gamekey",
         "rawType": "int16",
         "type": "integer"
        },
        {
         "name": "playid",
         "rawType": "int16",
         "type": "integer"
        },
        {
         "name": "gsisid",
         "rawType": "float32",
         "type": "float"
        }
       ],
       "ref": "7baef3c9-749b-4ec3-9939-9de97a4783d4",
       "rows": [
        [
         "984",
         "2016",
         "29",
         "538",
         "31023.0"
        ],
        [
         "43873",
         "2016",
         "144",
         "2342",
         "32410.0"
        ],
        [
         "45407",
         "2016",
         "149",
         "3663",
         "28128.0"
        ],
        [
         "59696",
         "2016",
         "218",
         "3468",
         "28987.0"
        ],
        [
         "63375",
         "2016",
         "189",
         "3509",
         "27595.0"
        ],
        [
         "70803",
         "2016",
         "231",
         "1976",
         "32214.0"
        ],
        [
         "71934",
         "2016",
         "234",
         "3278",
         "28620.0"
        ],
        [
         "92916",
         "2016",
         "274",
         "3609",
         "23742.0"
        ],
        [
         "93459",
         "2016",
         "280",
         "2918",
         "32120.0"
        ],
        [
         "93546",
         "2016",
         "280",
         "3746",
         "27654.0"
        ],
        [
         "100803",
         "2016",
         "281",
         "1526",
         "28987.0"
        ],
        [
         "115231",
         "2016",
         "296",
         "2667",
         "32783.0"
        ],
        [
         "116161",
         "2016",
         "266",
         "2902",
         "23564.0"
        ],
        [
         "118934",
         "2016",
         "289",
         "2341",
         "32007.0"
        ],
        [
         "130313",
         "2017",
         "357",
         "3630",
         "30171.0"
        ],
        [
         "134166",
         "2017",
         "397",
         "1526",
         "32894.0"
        ],
        [
         "138053",
         "2017",
         "384",
         "183",
         "33813.0"
        ],
        [
         "144968",
         "2017",
         "364",
         "2489",
         "31313.0"
        ],
        [
         "145055",
         "2017",
         "364",
         "2764",
         "32323.0"
        ],
        [
         "150384",
         "2017",
         "392",
         "1088",
         "32615.0"
        ],
        [
         "157480",
         "2017",
         "399",
         "3312",
         "26035.0"
        ],
        [
         "163497",
         "2017",
         "448",
         "2792",
         "33838.0"
        ],
        [
         "183845",
         "2017",
         "473",
         "2072",
         "29492.0"
        ],
        [
         "191739",
         "2017",
         "414",
         "1262",
         "33941.0"
        ],
        [
         "204684",
         "2017",
         "506",
         "1988",
         "27060.0"
        ],
        [
         "217901",
         "2017",
         "567",
         "1407",
         "32403.0"
        ],
        [
         "226261",
         "2017",
         "553",
         "1683",
         "32820.0"
        ],
        [
         "252978",
         "2017",
         "618",
         "2792",
         "31950.0"
        ],
        [
         "261463",
         "2017",
         "607",
         "978",
         "29793.0"
        ],
        [
         "262686",
         "2017",
         "585",
         "733",
         "30384.0"
        ],
        [
         "262790",
         "2017",
         "585",
         "2208",
         "33069.0"
        ],
        [
         "269578",
         "2017",
         "601",
         "602",
         "33260.0"
        ]
       ],
       "shape": {
        "columns": 4,
        "rows": 32
       }
      },
      "text/html": [
       "<div>\n",
       "<style scoped>\n",
       "    .dataframe tbody tr th:only-of-type {\n",
       "        vertical-align: middle;\n",
       "    }\n",
       "\n",
       "    .dataframe tbody tr th {\n",
       "        vertical-align: top;\n",
       "    }\n",
       "\n",
       "    .dataframe thead th {\n",
       "        text-align: right;\n",
       "    }\n",
       "</style>\n",
       "<table border=\"1\" class=\"dataframe\">\n",
       "  <thead>\n",
       "    <tr style=\"text-align: right;\">\n",
       "      <th></th>\n",
       "      <th>season_year</th>\n",
       "      <th>gamekey</th>\n",
       "      <th>playid</th>\n",
       "      <th>gsisid</th>\n",
       "    </tr>\n",
       "  </thead>\n",
       "  <tbody>\n",
       "    <tr>\n",
       "      <th>984</th>\n",
       "      <td>2016</td>\n",
       "      <td>29</td>\n",
       "      <td>538</td>\n",
       "      <td>31023.0</td>\n",
       "    </tr>\n",
       "    <tr>\n",
       "      <th>43873</th>\n",
       "      <td>2016</td>\n",
       "      <td>144</td>\n",
       "      <td>2342</td>\n",
       "      <td>32410.0</td>\n",
       "    </tr>\n",
       "    <tr>\n",
       "      <th>45407</th>\n",
       "      <td>2016</td>\n",
       "      <td>149</td>\n",
       "      <td>3663</td>\n",
       "      <td>28128.0</td>\n",
       "    </tr>\n",
       "    <tr>\n",
       "      <th>59696</th>\n",
       "      <td>2016</td>\n",
       "      <td>218</td>\n",
       "      <td>3468</td>\n",
       "      <td>28987.0</td>\n",
       "    </tr>\n",
       "    <tr>\n",
       "      <th>63375</th>\n",
       "      <td>2016</td>\n",
       "      <td>189</td>\n",
       "      <td>3509</td>\n",
       "      <td>27595.0</td>\n",
       "    </tr>\n",
       "    <tr>\n",
       "      <th>70803</th>\n",
       "      <td>2016</td>\n",
       "      <td>231</td>\n",
       "      <td>1976</td>\n",
       "      <td>32214.0</td>\n",
       "    </tr>\n",
       "    <tr>\n",
       "      <th>71934</th>\n",
       "      <td>2016</td>\n",
       "      <td>234</td>\n",
       "      <td>3278</td>\n",
       "      <td>28620.0</td>\n",
       "    </tr>\n",
       "    <tr>\n",
       "      <th>92916</th>\n",
       "      <td>2016</td>\n",
       "      <td>274</td>\n",
       "      <td>3609</td>\n",
       "      <td>23742.0</td>\n",
       "    </tr>\n",
       "    <tr>\n",
       "      <th>93459</th>\n",
       "      <td>2016</td>\n",
       "      <td>280</td>\n",
       "      <td>2918</td>\n",
       "      <td>32120.0</td>\n",
       "    </tr>\n",
       "    <tr>\n",
       "      <th>93546</th>\n",
       "      <td>2016</td>\n",
       "      <td>280</td>\n",
       "      <td>3746</td>\n",
       "      <td>27654.0</td>\n",
       "    </tr>\n",
       "    <tr>\n",
       "      <th>100803</th>\n",
       "      <td>2016</td>\n",
       "      <td>281</td>\n",
       "      <td>1526</td>\n",
       "      <td>28987.0</td>\n",
       "    </tr>\n",
       "    <tr>\n",
       "      <th>115231</th>\n",
       "      <td>2016</td>\n",
       "      <td>296</td>\n",
       "      <td>2667</td>\n",
       "      <td>32783.0</td>\n",
       "    </tr>\n",
       "    <tr>\n",
       "      <th>116161</th>\n",
       "      <td>2016</td>\n",
       "      <td>266</td>\n",
       "      <td>2902</td>\n",
       "      <td>23564.0</td>\n",
       "    </tr>\n",
       "    <tr>\n",
       "      <th>118934</th>\n",
       "      <td>2016</td>\n",
       "      <td>289</td>\n",
       "      <td>2341</td>\n",
       "      <td>32007.0</td>\n",
       "    </tr>\n",
       "    <tr>\n",
       "      <th>130313</th>\n",
       "      <td>2017</td>\n",
       "      <td>357</td>\n",
       "      <td>3630</td>\n",
       "      <td>30171.0</td>\n",
       "    </tr>\n",
       "    <tr>\n",
       "      <th>134166</th>\n",
       "      <td>2017</td>\n",
       "      <td>397</td>\n",
       "      <td>1526</td>\n",
       "      <td>32894.0</td>\n",
       "    </tr>\n",
       "    <tr>\n",
       "      <th>138053</th>\n",
       "      <td>2017</td>\n",
       "      <td>384</td>\n",
       "      <td>183</td>\n",
       "      <td>33813.0</td>\n",
       "    </tr>\n",
       "    <tr>\n",
       "      <th>144968</th>\n",
       "      <td>2017</td>\n",
       "      <td>364</td>\n",
       "      <td>2489</td>\n",
       "      <td>31313.0</td>\n",
       "    </tr>\n",
       "    <tr>\n",
       "      <th>145055</th>\n",
       "      <td>2017</td>\n",
       "      <td>364</td>\n",
       "      <td>2764</td>\n",
       "      <td>32323.0</td>\n",
       "    </tr>\n",
       "    <tr>\n",
       "      <th>150384</th>\n",
       "      <td>2017</td>\n",
       "      <td>392</td>\n",
       "      <td>1088</td>\n",
       "      <td>32615.0</td>\n",
       "    </tr>\n",
       "    <tr>\n",
       "      <th>157480</th>\n",
       "      <td>2017</td>\n",
       "      <td>399</td>\n",
       "      <td>3312</td>\n",
       "      <td>26035.0</td>\n",
       "    </tr>\n",
       "    <tr>\n",
       "      <th>163497</th>\n",
       "      <td>2017</td>\n",
       "      <td>448</td>\n",
       "      <td>2792</td>\n",
       "      <td>33838.0</td>\n",
       "    </tr>\n",
       "    <tr>\n",
       "      <th>183845</th>\n",
       "      <td>2017</td>\n",
       "      <td>473</td>\n",
       "      <td>2072</td>\n",
       "      <td>29492.0</td>\n",
       "    </tr>\n",
       "    <tr>\n",
       "      <th>191739</th>\n",
       "      <td>2017</td>\n",
       "      <td>414</td>\n",
       "      <td>1262</td>\n",
       "      <td>33941.0</td>\n",
       "    </tr>\n",
       "    <tr>\n",
       "      <th>204684</th>\n",
       "      <td>2017</td>\n",
       "      <td>506</td>\n",
       "      <td>1988</td>\n",
       "      <td>27060.0</td>\n",
       "    </tr>\n",
       "    <tr>\n",
       "      <th>217901</th>\n",
       "      <td>2017</td>\n",
       "      <td>567</td>\n",
       "      <td>1407</td>\n",
       "      <td>32403.0</td>\n",
       "    </tr>\n",
       "    <tr>\n",
       "      <th>226261</th>\n",
       "      <td>2017</td>\n",
       "      <td>553</td>\n",
       "      <td>1683</td>\n",
       "      <td>32820.0</td>\n",
       "    </tr>\n",
       "    <tr>\n",
       "      <th>252978</th>\n",
       "      <td>2017</td>\n",
       "      <td>618</td>\n",
       "      <td>2792</td>\n",
       "      <td>31950.0</td>\n",
       "    </tr>\n",
       "    <tr>\n",
       "      <th>261463</th>\n",
       "      <td>2017</td>\n",
       "      <td>607</td>\n",
       "      <td>978</td>\n",
       "      <td>29793.0</td>\n",
       "    </tr>\n",
       "    <tr>\n",
       "      <th>262686</th>\n",
       "      <td>2017</td>\n",
       "      <td>585</td>\n",
       "      <td>733</td>\n",
       "      <td>30384.0</td>\n",
       "    </tr>\n",
       "    <tr>\n",
       "      <th>262790</th>\n",
       "      <td>2017</td>\n",
       "      <td>585</td>\n",
       "      <td>2208</td>\n",
       "      <td>33069.0</td>\n",
       "    </tr>\n",
       "    <tr>\n",
       "      <th>269578</th>\n",
       "      <td>2017</td>\n",
       "      <td>601</td>\n",
       "      <td>602</td>\n",
       "      <td>33260.0</td>\n",
       "    </tr>\n",
       "  </tbody>\n",
       "</table>\n",
       "</div>"
      ],
      "text/plain": [
       "        season_year  gamekey  playid   gsisid\n",
       "984            2016       29     538  31023.0\n",
       "43873          2016      144    2342  32410.0\n",
       "45407          2016      149    3663  28128.0\n",
       "59696          2016      218    3468  28987.0\n",
       "63375          2016      189    3509  27595.0\n",
       "70803          2016      231    1976  32214.0\n",
       "71934          2016      234    3278  28620.0\n",
       "92916          2016      274    3609  23742.0\n",
       "93459          2016      280    2918  32120.0\n",
       "93546          2016      280    3746  27654.0\n",
       "100803         2016      281    1526  28987.0\n",
       "115231         2016      296    2667  32783.0\n",
       "116161         2016      266    2902  23564.0\n",
       "118934         2016      289    2341  32007.0\n",
       "130313         2017      357    3630  30171.0\n",
       "134166         2017      397    1526  32894.0\n",
       "138053         2017      384     183  33813.0\n",
       "144968         2017      364    2489  31313.0\n",
       "145055         2017      364    2764  32323.0\n",
       "150384         2017      392    1088  32615.0\n",
       "157480         2017      399    3312  26035.0\n",
       "163497         2017      448    2792  33838.0\n",
       "183845         2017      473    2072  29492.0\n",
       "191739         2017      414    1262  33941.0\n",
       "204684         2017      506    1988  27060.0\n",
       "217901         2017      567    1407  32403.0\n",
       "226261         2017      553    1683  32820.0\n",
       "252978         2017      618    2792  31950.0\n",
       "261463         2017      607     978  29793.0\n",
       "262686         2017      585     733  30384.0\n",
       "262790         2017      585    2208  33069.0\n",
       "269578         2017      601     602  33260.0"
      ]
     },
     "execution_count": 56,
     "metadata": {},
     "output_type": "execute_result"
    }
   ],
   "source": [
    "concussions"
   ]
  },
  {
   "cell_type": "code",
   "execution_count": 52,
   "id": "bf0e262f",
   "metadata": {},
   "outputs": [],
   "source": [
    "concussions.to_csv('scripts/punt_analytics/concussions.csv', index=False)"
   ]
  },
  {
   "cell_type": "code",
   "execution_count": 53,
   "id": "329a9903",
   "metadata": {},
   "outputs": [],
   "source": [
    "test2 = df.query('gsisid in @concussed_ids').copy()"
   ]
  },
  {
   "cell_type": "code",
   "execution_count": 54,
   "id": "83af739f",
   "metadata": {},
   "outputs": [
    {
     "data": {
      "application/vnd.microsoft.datawrangler.viewer.v0+json": {
       "columns": [
        {
         "name": "index",
         "rawType": "int64",
         "type": "integer"
        },
        {
         "name": "season_year",
         "rawType": "int64",
         "type": "integer"
        },
        {
         "name": "gamekey",
         "rawType": "int16",
         "type": "integer"
        },
        {
         "name": "playid",
         "rawType": "int16",
         "type": "integer"
        },
        {
         "name": "gsisid",
         "rawType": "float32",
         "type": "float"
        },
        {
         "name": "time",
         "rawType": "object",
         "type": "string"
        },
        {
         "name": "x",
         "rawType": "float32",
         "type": "float"
        },
        {
         "name": "y",
         "rawType": "float32",
         "type": "float"
        },
        {
         "name": "dis",
         "rawType": "float32",
         "type": "float"
        },
        {
         "name": "o",
         "rawType": "float32",
         "type": "float"
        },
        {
         "name": "dir",
         "rawType": "float64",
         "type": "float"
        },
        {
         "name": "event",
         "rawType": "object",
         "type": "string"
        }
       ],
       "ref": "8f1825ee-809f-4a62-9639-57416a206f57",
       "rows": [
        [
         "7176",
         "2016",
         "16",
         "254",
         "30171.0",
         "2016-08-11 23:14:50.300",
         "75.5",
         "22.21",
         "0.03",
         "347.98",
         "109.9499969",
         "nan"
        ],
        [
         "7185",
         "2016",
         "16",
         "254",
         "30171.0",
         "2016-08-11 23:14:50.700",
         "75.84",
         "21.88",
         "0.17",
         "343.39",
         "100.3499985",
         "nan"
        ],
        [
         "7196",
         "2016",
         "16",
         "254",
         "30171.0",
         "2016-08-11 23:14:50.900",
         "76.11",
         "21.55",
         "0.26",
         "336.88",
         "102.3000031",
         "nan"
        ],
        [
         "7214",
         "2016",
         "16",
         "254",
         "30171.0",
         "2016-08-11 23:14:50.400",
         "75.54",
         "22.19",
         "0.05",
         "348.56",
         "103.2799988",
         "nan"
        ],
        [
         "7225",
         "2016",
         "16",
         "254",
         "30171.0",
         "2016-08-11 23:14:50.600",
         "75.73",
         "22.0",
         "0.15",
         "346.42",
         "98.29000092",
         "nan"
        ]
       ],
       "shape": {
        "columns": 11,
        "rows": 5
       }
      },
      "text/html": [
       "<div>\n",
       "<style scoped>\n",
       "    .dataframe tbody tr th:only-of-type {\n",
       "        vertical-align: middle;\n",
       "    }\n",
       "\n",
       "    .dataframe tbody tr th {\n",
       "        vertical-align: top;\n",
       "    }\n",
       "\n",
       "    .dataframe thead th {\n",
       "        text-align: right;\n",
       "    }\n",
       "</style>\n",
       "<table border=\"1\" class=\"dataframe\">\n",
       "  <thead>\n",
       "    <tr style=\"text-align: right;\">\n",
       "      <th></th>\n",
       "      <th>season_year</th>\n",
       "      <th>gamekey</th>\n",
       "      <th>playid</th>\n",
       "      <th>gsisid</th>\n",
       "      <th>time</th>\n",
       "      <th>x</th>\n",
       "      <th>y</th>\n",
       "      <th>dis</th>\n",
       "      <th>o</th>\n",
       "      <th>dir</th>\n",
       "      <th>event</th>\n",
       "    </tr>\n",
       "  </thead>\n",
       "  <tbody>\n",
       "    <tr>\n",
       "      <th>7176</th>\n",
       "      <td>2016</td>\n",
       "      <td>16</td>\n",
       "      <td>254</td>\n",
       "      <td>30171.0</td>\n",
       "      <td>2016-08-11 23:14:50.300</td>\n",
       "      <td>75.500000</td>\n",
       "      <td>22.209999</td>\n",
       "      <td>0.03</td>\n",
       "      <td>347.980011</td>\n",
       "      <td>109.949997</td>\n",
       "      <td>nan</td>\n",
       "    </tr>\n",
       "    <tr>\n",
       "      <th>7185</th>\n",
       "      <td>2016</td>\n",
       "      <td>16</td>\n",
       "      <td>254</td>\n",
       "      <td>30171.0</td>\n",
       "      <td>2016-08-11 23:14:50.700</td>\n",
       "      <td>75.839996</td>\n",
       "      <td>21.879999</td>\n",
       "      <td>0.17</td>\n",
       "      <td>343.390015</td>\n",
       "      <td>100.349998</td>\n",
       "      <td>nan</td>\n",
       "    </tr>\n",
       "    <tr>\n",
       "      <th>7196</th>\n",
       "      <td>2016</td>\n",
       "      <td>16</td>\n",
       "      <td>254</td>\n",
       "      <td>30171.0</td>\n",
       "      <td>2016-08-11 23:14:50.900</td>\n",
       "      <td>76.110001</td>\n",
       "      <td>21.549999</td>\n",
       "      <td>0.26</td>\n",
       "      <td>336.880005</td>\n",
       "      <td>102.300003</td>\n",
       "      <td>nan</td>\n",
       "    </tr>\n",
       "    <tr>\n",
       "      <th>7214</th>\n",
       "      <td>2016</td>\n",
       "      <td>16</td>\n",
       "      <td>254</td>\n",
       "      <td>30171.0</td>\n",
       "      <td>2016-08-11 23:14:50.400</td>\n",
       "      <td>75.540001</td>\n",
       "      <td>22.190001</td>\n",
       "      <td>0.05</td>\n",
       "      <td>348.559998</td>\n",
       "      <td>103.279999</td>\n",
       "      <td>nan</td>\n",
       "    </tr>\n",
       "    <tr>\n",
       "      <th>7225</th>\n",
       "      <td>2016</td>\n",
       "      <td>16</td>\n",
       "      <td>254</td>\n",
       "      <td>30171.0</td>\n",
       "      <td>2016-08-11 23:14:50.600</td>\n",
       "      <td>75.730003</td>\n",
       "      <td>22.000000</td>\n",
       "      <td>0.15</td>\n",
       "      <td>346.420013</td>\n",
       "      <td>98.290001</td>\n",
       "      <td>nan</td>\n",
       "    </tr>\n",
       "  </tbody>\n",
       "</table>\n",
       "</div>"
      ],
      "text/plain": [
       "      season_year  gamekey  playid   gsisid                     time  \\\n",
       "7176         2016       16     254  30171.0  2016-08-11 23:14:50.300   \n",
       "7185         2016       16     254  30171.0  2016-08-11 23:14:50.700   \n",
       "7196         2016       16     254  30171.0  2016-08-11 23:14:50.900   \n",
       "7214         2016       16     254  30171.0  2016-08-11 23:14:50.400   \n",
       "7225         2016       16     254  30171.0  2016-08-11 23:14:50.600   \n",
       "\n",
       "              x          y   dis           o         dir event  \n",
       "7176  75.500000  22.209999  0.03  347.980011  109.949997   nan  \n",
       "7185  75.839996  21.879999  0.17  343.390015  100.349998   nan  \n",
       "7196  76.110001  21.549999  0.26  336.880005  102.300003   nan  \n",
       "7214  75.540001  22.190001  0.05  348.559998  103.279999   nan  \n",
       "7225  75.730003  22.000000  0.15  346.420013   98.290001   nan  "
      ]
     },
     "execution_count": 54,
     "metadata": {},
     "output_type": "execute_result"
    }
   ],
   "source": [
    "test2.head()"
   ]
  },
  {
   "cell_type": "code",
   "execution_count": 57,
   "id": "8ae77892",
   "metadata": {},
   "outputs": [
    {
     "name": "stdout",
     "output_type": "stream",
     "text": [
      "Loading concussion player data...\n",
      "Found 31 unique players with concussions\n",
      "Total concussion events: 32\n",
      "Loaded tracking data for concussion players: 1603766 records\n",
      "Covers 31 players across 2329 plays\n",
      "Could not load position data - proceeding without position analysis\n",
      "\n",
      "Evaluating anomaly detection for each concussion case...\n",
      "\n",
      "Processing Player 31023.0...\n",
      "  Extracted 88 plays\n",
      "  Player had 1 concussion events\n",
      "  Detected 9 anomalous plays out of 88\n",
      "    Concussion play 538.0: DETECTED (score: -0.041)\n",
      "\n",
      "Processing Player 32410.0...\n",
      "  Extracted 210 plays\n",
      "  Player had 1 concussion events\n",
      "  Detected 21 anomalous plays out of 210\n",
      "    Concussion play 2342.0: MISSED (score: 0.108)\n",
      "\n",
      "Processing Player 28128.0...\n",
      "  Extracted 270 plays\n",
      "  Player had 1 concussion events\n",
      "  Detected 27 anomalous plays out of 270\n",
      "    Concussion play 3663.0: MISSED (score: 0.042)\n",
      "\n",
      "Processing Player 28987.0...\n",
      "  Extracted 292 plays\n",
      "  Player had 2 concussion events\n",
      "  Detected 30 anomalous plays out of 292\n",
      "    Concussion play 3468.0: MISSED (score: 0.132)\n",
      "    Concussion play 1526.0: MISSED (score: 0.119)\n",
      "\n",
      "Processing Player 27595.0...\n",
      "  Extracted 62 plays\n",
      "  Player had 1 concussion events\n",
      "  Detected 7 anomalous plays out of 62\n",
      "    Concussion play 3509.0: MISSED (score: 0.130)\n",
      "\n",
      "Processing Player 32214.0...\n",
      "  Extracted 186 plays\n",
      "  Player had 1 concussion events\n",
      "  Detected 19 anomalous plays out of 186\n",
      "    Concussion play 1976.0: MISSED (score: 0.087)\n",
      "\n",
      "Processing Player 28620.0...\n",
      "  Extracted 181 plays\n",
      "  Player had 1 concussion events\n",
      "  Detected 18 anomalous plays out of 181\n",
      "    Concussion play 3278.0: MISSED (score: 0.078)\n",
      "\n",
      "Processing Player 23742.0...\n",
      "  Extracted 198 plays\n",
      "  Player had 1 concussion events\n",
      "  Detected 20 anomalous plays out of 198\n",
      "    Concussion play 3609.0: DETECTED (score: -0.161)\n",
      "\n",
      "Processing Player 32120.0...\n",
      "  Extracted 174 plays\n",
      "  Player had 1 concussion events\n",
      "  Detected 18 anomalous plays out of 174\n",
      "    Concussion play 2918.0: MISSED (score: 0.049)\n",
      "\n",
      "Processing Player 27654.0...\n",
      "  Extracted 252 plays\n",
      "  Player had 1 concussion events\n",
      "  Detected 26 anomalous plays out of 252\n",
      "    Concussion play 3746.0: MISSED (score: 0.119)\n",
      "\n",
      "Processing Player 32783.0...\n",
      "  Extracted 240 plays\n",
      "  Player had 1 concussion events\n",
      "  Detected 24 anomalous plays out of 240\n",
      "    Concussion play 2667.0: MISSED (score: 0.155)\n",
      "\n",
      "Processing Player 23564.0...\n",
      "  Extracted 88 plays\n",
      "  Player had 1 concussion events\n",
      "  Detected 9 anomalous plays out of 88\n",
      "    Concussion play 2902.0: DETECTED (score: -0.033)\n",
      "\n",
      "Processing Player 32007.0...\n",
      "  Extracted 244 plays\n",
      "  Player had 1 concussion events\n",
      "  Detected 25 anomalous plays out of 244\n",
      "    Concussion play 2341.0: MISSED (score: 0.125)\n",
      "\n",
      "Processing Player 30171.0...\n",
      "  Extracted 34 plays\n",
      "  Player had 1 concussion events\n",
      "  Detected 4 anomalous plays out of 34\n",
      "    Concussion play 3630.0: MISSED (score: 0.011)\n",
      "\n",
      "Processing Player 32894.0...\n",
      "  Extracted 156 plays\n",
      "  Player had 1 concussion events\n",
      "  Detected 16 anomalous plays out of 156\n",
      "    Concussion play 1526.0: MISSED (score: 0.054)\n",
      "\n",
      "Processing Player 33813.0...\n",
      "  Extracted 6 plays\n",
      "  Player had 1 concussion events\n",
      "  Insufficient baseline data (6 < 15)\n",
      "\n",
      "Processing Player 31313.0...\n",
      "  Extracted 131 plays\n",
      "  Player had 1 concussion events\n",
      "  Detected 13 anomalous plays out of 131\n",
      "    Concussion play 2489.0: MISSED (score: 0.168)\n",
      "\n",
      "Processing Player 32323.0...\n",
      "  Extracted 33 plays\n",
      "  Player had 1 concussion events\n",
      "  Detected 4 anomalous plays out of 33\n",
      "    Concussion play 2764.0: MISSED (score: 0.159)\n",
      "\n",
      "Processing Player 32615.0...\n",
      "  Extracted 15 plays\n",
      "  Player had 1 concussion events\n",
      "  Detected 2 anomalous plays out of 15\n",
      "    Concussion play 1088.0: MISSED (score: 0.046)\n",
      "\n",
      "Processing Player 26035.0...\n",
      "  Extracted 162 plays\n",
      "  Player had 1 concussion events\n",
      "  Detected 17 anomalous plays out of 162\n",
      "    Concussion play 3312.0: DETECTED (score: -0.080)\n",
      "\n",
      "Processing Player 33838.0...\n",
      "  Extracted 171 plays\n",
      "  Player had 1 concussion events\n",
      "  Detected 17 anomalous plays out of 171\n",
      "    Concussion play 2792.0: MISSED (score: 0.125)\n",
      "\n",
      "Processing Player 29492.0...\n",
      "  Extracted 288 plays\n",
      "  Player had 1 concussion events\n",
      "  Detected 29 anomalous plays out of 288\n",
      "    Concussion play 2072.0: MISSED (score: 0.025)\n",
      "\n",
      "Processing Player 33941.0...\n",
      "  Extracted 168 plays\n",
      "  Player had 1 concussion events\n",
      "  Detected 17 anomalous plays out of 168\n",
      "    Concussion play 1262.0: MISSED (score: 0.134)\n",
      "\n",
      "Processing Player 27060.0...\n",
      "  Extracted 125 plays\n",
      "  Player had 1 concussion events\n",
      "  Detected 13 anomalous plays out of 125\n",
      "    Concussion play 1988.0: DETECTED (score: -0.086)\n",
      "\n",
      "Processing Player 32403.0...\n",
      "  Extracted 276 plays\n",
      "  Player had 1 concussion events\n",
      "  Detected 28 anomalous plays out of 276\n",
      "    Concussion play 1407.0: MISSED (score: 0.102)\n",
      "\n",
      "Processing Player 32820.0...\n",
      "  Extracted 198 plays\n",
      "  Player had 1 concussion events\n",
      "  Detected 20 anomalous plays out of 198\n",
      "    Concussion play 1683.0: MISSED (score: 0.081)\n",
      "\n",
      "Processing Player 31950.0...\n",
      "  Extracted 271 plays\n",
      "  Player had 1 concussion events\n",
      "  Detected 27 anomalous plays out of 271\n",
      "    Concussion play 2792.0: MISSED (score: 0.094)\n",
      "\n",
      "Processing Player 29793.0...\n",
      "  Extracted 259 plays\n",
      "  Player had 1 concussion events\n",
      "  Detected 26 anomalous plays out of 259\n",
      "    Concussion play 978.0: DETECTED (score: -0.028)\n",
      "\n",
      "Processing Player 30384.0...\n",
      "  Extracted 80 plays\n",
      "  Player had 1 concussion events\n",
      "  Detected 8 anomalous plays out of 80\n",
      "    Concussion play 733.0: DETECTED (score: -0.134)\n",
      "\n",
      "Processing Player 33069.0...\n",
      "  Extracted 61 plays\n",
      "  Player had 1 concussion events\n",
      "  Detected 6 anomalous plays out of 61\n",
      "    Concussion play 2208.0: MISSED (score: 0.062)\n",
      "\n",
      "Processing Player 33260.0...\n",
      "  Extracted 119 plays\n",
      "  Player had 1 concussion events\n",
      "  Detected 12 anomalous plays out of 119\n",
      "    Concussion play 602.0: MISSED (score: 0.087)\n",
      "\n",
      "Analyzing results...\n",
      "\n",
      "============================================================\n",
      "CONCUSSION DETECTION SUMMARY\n",
      "============================================================\n",
      "Total concussion events: 32\n",
      "Evaluable (sufficient baseline): 31\n",
      "Detected by anomaly model: 7\n",
      "Detection rate: 22.58%\n",
      "\n",
      "Breakdown by evaluation status:\n",
      "  evaluated: 31\n",
      "  insufficient_baseline: 1\n",
      "\n",
      "Detected concussions:\n",
      "  Avg anomaly score: -0.080\n",
      "  Avg max speed: 0.957\n",
      "  Avg max acceleration: 74.891\n",
      "  Avg max jerk: 637.953\n",
      "\n",
      "Missed concussions:\n",
      "  Avg anomaly score: 0.096\n",
      "  Avg max speed: 0.860\n",
      "  Avg max acceleration: 22.926\n",
      "  Avg max jerk: 182.905\n",
      "\n",
      "Saved detailed results to 'concussion_detection_results.csv'\n"
     ]
    }
   ],
   "source": [
    "import pandas as pd\n",
    "import numpy as np\n",
    "from sklearn.ensemble import IsolationForest\n",
    "from sklearn.preprocessing import StandardScaler\n",
    "import warnings\n",
    "warnings.filterwarnings('ignore')\n",
    "\n",
    "def load_all_concussion_players(tracking_data_path, concussion_events_path):\n",
    "    \"\"\"\n",
    "    Load tracking data for all players who had concussions\n",
    "    \"\"\"\n",
    "    # Load concussion events\n",
    "    concussions_df = concussions\n",
    "    concussion_players = concussions_df['gsisid'].unique()\n",
    "\n",
    "    print(f\"Found {len(concussion_players)} unique players with concussions\")\n",
    "    print(f\"Total concussion events: {len(concussions)}\")\n",
    "    \n",
    "    # Load tracking data\n",
    "    tracking_df = df\n",
    "    \n",
    "    # Filter to only players who had concussions\n",
    "    concussion_tracking = tracking_df[tracking_df['gsisid'].isin(concussion_players)]\n",
    "    \n",
    "    print(f\"Loaded tracking data for concussion players: {len(concussion_tracking)} records\")\n",
    "    print(f\"Covers {concussion_tracking['gsisid'].nunique()} players across {concussion_tracking['playid'].nunique()} plays\")\n",
    "    \n",
    "    return concussion_tracking, concussions\n",
    "\n",
    "def extract_enhanced_play_features_v2(df):\n",
    "    \"\"\"\n",
    "    Enhanced version that handles potential data quality issues better\n",
    "    \"\"\"\n",
    "    \n",
    "    def process_single_play(play_data):\n",
    "        \"\"\"Process one play for one player with better error handling\"\"\"\n",
    "        if len(play_data) < 5:\n",
    "            return None\n",
    "            \n",
    "        play_data = play_data.sort_values('time').reset_index(drop=True)\n",
    "        \n",
    "        try:\n",
    "            # Convert time to seconds from start\n",
    "            play_data['time'] = pd.to_datetime(play_data['time'])\n",
    "            play_data['seconds'] = (play_data['time'] - play_data['time'].min()).dt.total_seconds()\n",
    "            play_data['dt'] = play_data['seconds'].diff().fillna(0.1)\n",
    "            \n",
    "            # Handle edge case where dt might be 0\n",
    "            play_data['dt'] = play_data['dt'].replace(0, 0.1)\n",
    "            \n",
    "            # Calculate velocities from position changes\n",
    "            play_data['vx'] = play_data['x'].diff() / play_data['dt']\n",
    "            play_data['vy'] = play_data['y'].diff() / play_data['dt']\n",
    "            play_data['speed_calc'] = np.sqrt(play_data['vx']**2 + play_data['vy']**2)\n",
    "            \n",
    "            # Use provided speed where available, calculated as backup\n",
    "            play_data['speed'] = play_data['dis'].fillna(play_data['speed_calc'])\n",
    "            \n",
    "            # Calculate accelerations\n",
    "            play_data['ax'] = play_data['vx'].diff() / play_data['dt']\n",
    "            play_data['ay'] = play_data['vy'].diff() / play_data['dt']\n",
    "            play_data['acceleration'] = np.sqrt(play_data['ax']**2 + play_data['ay']**2)\n",
    "            \n",
    "            # Handle infinite values\n",
    "            for col in ['vx', 'vy', 'speed_calc', 'ax', 'ay', 'acceleration']:\n",
    "                play_data[col] = play_data[col].replace([np.inf, -np.inf], np.nan)\n",
    "                play_data[col] = play_data[col].fillna(0)\n",
    "            \n",
    "            # Jerk (rate of acceleration change)\n",
    "            play_data['jerk'] = play_data['acceleration'].diff() / play_data['dt']\n",
    "            play_data['jerk'] = play_data['jerk'].replace([np.inf, -np.inf], np.nan).fillna(0)\n",
    "            \n",
    "            # Direction changes\n",
    "            play_data['dir_change'] = play_data['dir'].diff()\n",
    "            play_data['orient_change'] = play_data['o'].diff()\n",
    "            \n",
    "            # Handle angle wraparound\n",
    "            for col in ['dir_change', 'orient_change']:\n",
    "                play_data[col] = np.where(play_data[col] > 180, play_data[col] - 360, play_data[col])\n",
    "                play_data[col] = np.where(play_data[col] < -180, play_data[col] + 360, play_data[col])\n",
    "            \n",
    "            # Angular velocities\n",
    "            play_data['angular_vel'] = play_data['dir_change'] / play_data['dt']\n",
    "            play_data['angular_vel'] = play_data['angular_vel'].replace([np.inf, -np.inf], np.nan).fillna(0)\n",
    "            \n",
    "            # Key events\n",
    "            events = play_data[play_data['event'].notna() & (play_data['event'] != 'nan')]['event'].tolist()\n",
    "            \n",
    "            # Aggregate features with error handling\n",
    "            features = {\n",
    "                # Identifiers\n",
    "                'season_year': play_data['season_year'].iloc[0],\n",
    "                'gamekey': play_data['gamekey'].iloc[0], \n",
    "                'playid': play_data['playid'].iloc[0],\n",
    "                'gsisid': play_data['gsisid'].iloc[0],\n",
    "                \n",
    "                # Basic metrics\n",
    "                'play_duration': play_data['seconds'].max(),\n",
    "                'total_distance': max(0, play_data['speed'].sum() * 0.1),\n",
    "                'displacement': np.sqrt((play_data['x'].iloc[-1] - play_data['x'].iloc[0])**2 + \n",
    "                                      (play_data['y'].iloc[-1] - play_data['y'].iloc[0])**2),\n",
    "                \n",
    "                # Speed characteristics\n",
    "                'max_speed': play_data['speed'].max(),\n",
    "                'avg_speed': play_data['speed'].mean(),\n",
    "                'speed_std': play_data['speed'].std() if len(play_data) > 1 else 0,\n",
    "                'speed_95th': play_data['speed'].quantile(0.95),\n",
    "                'time_above_avg_speed': (play_data['speed'] > play_data['speed'].mean()).sum() / len(play_data),\n",
    "                \n",
    "                # Acceleration patterns\n",
    "                'max_acceleration': play_data['acceleration'].max(),\n",
    "                'avg_acceleration': play_data['acceleration'].mean(),\n",
    "                'acceleration_std': play_data['acceleration'].std() if len(play_data) > 1 else 0,\n",
    "                'max_deceleration': max(0, -play_data['acceleration'].min()),\n",
    "                'rapid_decelerations': (play_data['acceleration'] < -3.0).sum(),\n",
    "                'rapid_accelerations': (play_data['acceleration'] > 3.0).sum(),\n",
    "                \n",
    "                # Jerk and smoothness\n",
    "                'max_jerk': play_data['jerk'].abs().max(),\n",
    "                'avg_jerk': play_data['jerk'].abs().mean(),\n",
    "                'jerk_95th': play_data['jerk'].abs().quantile(0.95),\n",
    "                'high_jerk_events': (play_data['jerk'].abs() > play_data['jerk'].abs().quantile(0.9)).sum(),\n",
    "                \n",
    "                # Direction and agility\n",
    "                'total_direction_change': play_data['dir_change'].abs().sum(),\n",
    "                'max_angular_velocity': play_data['angular_vel'].abs().max(),\n",
    "                'avg_angular_velocity': play_data['angular_vel'].abs().mean(),\n",
    "                'sharp_turns': (play_data['angular_vel'].abs() > 45).sum(),\n",
    "                \n",
    "                # Movement variability\n",
    "                'speed_cv': play_data['speed'].std() / (play_data['speed'].mean() + 1e-6),\n",
    "                'acceleration_cv': play_data['acceleration'].std() / (play_data['acceleration'].mean() + 1e-6),\n",
    "                \n",
    "                # Event-based features\n",
    "                'has_snap': 1 if 'ball_snap' in events else 0,\n",
    "                'has_punt': 1 if 'punt' in events else 0,\n",
    "                'num_events': len(events),\n",
    "                \n",
    "                # Position characteristics\n",
    "                'x_range': play_data['x'].max() - play_data['x'].min(),\n",
    "                'y_range': play_data['y'].max() - play_data['y'].min(),\n",
    "                'field_coverage': (play_data['x'].max() - play_data['x'].min()) * (play_data['y'].max() - play_data['y'].min()),\n",
    "            }\n",
    "            \n",
    "            # Movement efficiency\n",
    "            if features['total_distance'] > 0:\n",
    "                features['movement_efficiency'] = features['displacement'] / features['total_distance']\n",
    "            else:\n",
    "                features['movement_efficiency'] = 0\n",
    "                \n",
    "            return features\n",
    "            \n",
    "        except Exception as e:\n",
    "            print(f\"Error processing play {play_data['playid'].iloc[0]} for player {play_data['gsisid'].iloc[0]}: {e}\")\n",
    "            return None\n",
    "    \n",
    "    # Process all plays\n",
    "    all_features = []\n",
    "    \n",
    "    for (season, game, play, player), play_data in df.groupby(['season_year', 'gamekey', 'playid', 'gsisid']):\n",
    "        features = process_single_play(play_data)\n",
    "        if features is not None:\n",
    "            all_features.append(features)\n",
    "    \n",
    "    return pd.DataFrame(all_features)\n",
    "\n",
    "def evaluate_concussion_detection_by_player(tracking_df, concussions_df, min_baseline_plays=15):\n",
    "    \"\"\"\n",
    "    Test anomaly detection for each player who had a concussion\n",
    "    \"\"\"\n",
    "    results_summary = []\n",
    "    detailed_results = []\n",
    "    \n",
    "    for player_id in concussions_df['gsisid'].unique():\n",
    "        print(f\"\\nProcessing Player {player_id}...\")\n",
    "        \n",
    "        # Get this player's data\n",
    "        player_tracking = tracking_df[tracking_df['gsisid'] == player_id]\n",
    "        player_concussions = concussions_df[concussions_df['gsisid'] == player_id]\n",
    "        \n",
    "        # Extract features\n",
    "        try:\n",
    "            player_features = extract_enhanced_play_features_v2(player_tracking)\n",
    "        except Exception as e:\n",
    "            print(f\"  Error extracting features: {e}\")\n",
    "            continue\n",
    "            \n",
    "        if len(player_features) == 0:\n",
    "            print(f\"  No valid features extracted\")\n",
    "            continue\n",
    "            \n",
    "        print(f\"  Extracted {len(player_features)} plays\")\n",
    "        print(f\"  Player had {len(player_concussions)} concussion events\")\n",
    "        \n",
    "        # Check if we have enough plays for baseline\n",
    "        if len(player_features) < min_baseline_plays:\n",
    "            print(f\"  Insufficient baseline data ({len(player_features)} < {min_baseline_plays})\")\n",
    "            \n",
    "            # Still record basic info\n",
    "            for _, concussion in player_concussions.iterrows():\n",
    "                results_summary.append({\n",
    "                    'player_id': player_id,\n",
    "                    'season_year': concussion['season_year'],\n",
    "                    'gamekey': concussion['gamekey'],\n",
    "                    'playid': concussion['playid'],\n",
    "                    'total_plays': len(player_features),\n",
    "                    'baseline_sufficient': False,\n",
    "                    'concussion_detected': False,\n",
    "                    'anomaly_score': None,\n",
    "                    'reason': 'insufficient_baseline'\n",
    "                })\n",
    "            continue\n",
    "        \n",
    "        # Build anomaly model\n",
    "        feature_cols = [col for col in player_features.columns \n",
    "                       if col not in ['season_year', 'gamekey', 'playid', 'gsisid']]\n",
    "        \n",
    "        X = player_features[feature_cols].fillna(player_features[feature_cols].median())\n",
    "        \n",
    "        # Handle edge case where all features are the same\n",
    "        if X.std().sum() == 0:\n",
    "            print(f\"  No variation in features - skipping anomaly detection\")\n",
    "            continue\n",
    "            \n",
    "        # Standardize and fit model\n",
    "        scaler = StandardScaler()\n",
    "        X_scaled = scaler.fit_transform(X)\n",
    "        \n",
    "        iso_forest = IsolationForest(contamination=0.1, random_state=42, n_estimators=100)\n",
    "        anomaly_labels = iso_forest.fit_predict(X_scaled)\n",
    "        anomaly_scores = iso_forest.decision_function(X_scaled)\n",
    "        \n",
    "        # Add anomaly results to features\n",
    "        player_features['anomaly_score'] = anomaly_scores\n",
    "        player_features['is_anomaly'] = anomaly_labels == -1\n",
    "        \n",
    "        print(f\"  Detected {(anomaly_labels == -1).sum()} anomalous plays out of {len(player_features)}\")\n",
    "        \n",
    "        # Check each concussion event\n",
    "        for _, concussion in player_concussions.iterrows():\n",
    "            # Find matching play in features\n",
    "            matching_play = player_features[\n",
    "                (player_features['season_year'] == concussion['season_year']) &\n",
    "                (player_features['gamekey'] == concussion['gamekey']) &\n",
    "                (player_features['playid'] == concussion['playid'])\n",
    "            ]\n",
    "            \n",
    "            if len(matching_play) == 0:\n",
    "                print(f\"    Concussion play not found in features: {concussion['season_year']}-{concussion['gamekey']}-{concussion['playid']}\")\n",
    "                results_summary.append({\n",
    "                    'player_id': player_id,\n",
    "                    'season_year': concussion['season_year'],\n",
    "                    'gamekey': concussion['gamekey'],\n",
    "                    'playid': concussion['playid'],\n",
    "                    'total_plays': len(player_features),\n",
    "                    'baseline_sufficient': True,\n",
    "                    'concussion_detected': False,\n",
    "                    'anomaly_score': None,\n",
    "                    'reason': 'play_not_found'\n",
    "                })\n",
    "            else:\n",
    "                play_data = matching_play.iloc[0]\n",
    "                detected = play_data['is_anomaly']\n",
    "                score = play_data['anomaly_score']\n",
    "                \n",
    "                print(f\"    Concussion play {concussion['playid']}: {'DETECTED' if detected else 'MISSED'} (score: {score:.3f})\")\n",
    "                \n",
    "                results_summary.append({\n",
    "                    'player_id': player_id,\n",
    "                    'season_year': concussion['season_year'],\n",
    "                    'gamekey': concussion['gamekey'],\n",
    "                    'playid': concussion['playid'],\n",
    "                    'total_plays': len(player_features),\n",
    "                    'baseline_sufficient': True,\n",
    "                    'concussion_detected': detected,\n",
    "                    'anomaly_score': score,\n",
    "                    'max_speed': play_data['max_speed'],\n",
    "                    'max_acceleration': play_data['max_acceleration'],\n",
    "                    'max_jerk': play_data['max_jerk'],\n",
    "                    'reason': 'evaluated'\n",
    "                })\n",
    "        \n",
    "        # Store detailed results for this player\n",
    "        detailed_results.append({\n",
    "            'player_id': player_id,\n",
    "            'features': player_features,\n",
    "            'concussions': player_concussions\n",
    "        })\n",
    "    \n",
    "    return pd.DataFrame(results_summary), detailed_results\n",
    "\n",
    "def analyze_results_by_position(results_df, position_mapping=None):\n",
    "    \"\"\"\n",
    "    Analyze detection performance by player position if position data available\n",
    "    \"\"\"\n",
    "    print(\"\\n\" + \"=\"*60)\n",
    "    print(\"CONCUSSION DETECTION SUMMARY\")\n",
    "    print(\"=\"*60)\n",
    "    \n",
    "    # Overall statistics\n",
    "    total_concussions = len(results_df)\n",
    "    evaluable_concussions = len(results_df[results_df['baseline_sufficient'] == True])\n",
    "    detected_concussions = len(results_df[results_df['concussion_detected'] == True])\n",
    "    \n",
    "    print(f\"Total concussion events: {total_concussions}\")\n",
    "    print(f\"Evaluable (sufficient baseline): {evaluable_concussions}\")\n",
    "    print(f\"Detected by anomaly model: {detected_concussions}\")\n",
    "    \n",
    "    if evaluable_concussions > 0:\n",
    "        detection_rate = detected_concussions / evaluable_concussions\n",
    "        print(f\"Detection rate: {detection_rate:.2%}\")\n",
    "        \n",
    "        # Show breakdown by reason\n",
    "        print(f\"\\nBreakdown by evaluation status:\")\n",
    "        status_counts = results_df['reason'].value_counts()\n",
    "        for reason, count in status_counts.items():\n",
    "            print(f\"  {reason}: {count}\")\n",
    "        \n",
    "        # Show anomaly scores for detected vs missed\n",
    "        detected = results_df[results_df['concussion_detected'] == True]\n",
    "        missed = results_df[(results_df['concussion_detected'] == False) & (results_df['baseline_sufficient'] == True)]\n",
    "        \n",
    "        if len(detected) > 0:\n",
    "            print(f\"\\nDetected concussions:\")\n",
    "            print(f\"  Avg anomaly score: {detected['anomaly_score'].mean():.3f}\")\n",
    "            print(f\"  Avg max speed: {detected['max_speed'].mean():.3f}\")\n",
    "            print(f\"  Avg max acceleration: {detected['max_acceleration'].mean():.3f}\")\n",
    "            print(f\"  Avg max jerk: {detected['max_jerk'].mean():.3f}\")\n",
    "        \n",
    "        if len(missed) > 0:\n",
    "            print(f\"\\nMissed concussions:\")\n",
    "            print(f\"  Avg anomaly score: {missed['anomaly_score'].mean():.3f}\")\n",
    "            print(f\"  Avg max speed: {missed['max_speed'].mean():.3f}\")\n",
    "            print(f\"  Avg max acceleration: {missed['max_acceleration'].mean():.3f}\")\n",
    "            print(f\"  Avg max jerk: {missed['max_jerk'].mean():.3f}\")\n",
    "    \n",
    "    # Position analysis if available\n",
    "    if position_mapping is not None:\n",
    "        print(f\"\\nPosition-based analysis:\")\n",
    "        results_with_pos = results_df.merge(position_mapping, left_on='player_id', right_on='gsisid', how='left')\n",
    "        \n",
    "        if 'position' in results_with_pos.columns:\n",
    "            for position in results_with_pos['position'].unique():\n",
    "                if pd.isna(position):\n",
    "                    continue\n",
    "                pos_data = results_with_pos[results_with_pos['position'] == position]\n",
    "                pos_evaluable = pos_data[pos_data['baseline_sufficient'] == True]\n",
    "                pos_detected = pos_data[pos_data['concussion_detected'] == True]\n",
    "                \n",
    "                if len(pos_evaluable) > 0:\n",
    "                    pos_rate = len(pos_detected) / len(pos_evaluable)\n",
    "                    print(f\"  {position}: {len(pos_detected)}/{len(pos_evaluable)} detected ({pos_rate:.2%})\")\n",
    "    \n",
    "    return results_df\n",
    "\n",
    "# Main execution function\n",
    "def run_comprehensive_concussion_evaluation(tracking_data_path, concussion_events_path, position_data_path=None):\n",
    "    \"\"\"\n",
    "    Run complete evaluation across all concussion cases\n",
    "    \"\"\"\n",
    "    print(\"Loading concussion player data...\")\n",
    "    tracking_df, concussions_df = load_all_concussion_players(tracking_data_path, concussion_events_path)\n",
    "    \n",
    "    # Load position data if available\n",
    "    position_mapping = None\n",
    "    if position_data_path:\n",
    "        try:\n",
    "            position_mapping = pd.read_csv(position_data_path)\n",
    "            print(f\"Loaded position data for {len(position_mapping)} players\")\n",
    "        except:\n",
    "            print(\"Could not load position data - proceeding without position analysis\")\n",
    "    \n",
    "    print(\"\\nEvaluating anomaly detection for each concussion case...\")\n",
    "    results_df, detailed_results = evaluate_concussion_detection_by_player(tracking_df, concussions_df)\n",
    "    \n",
    "    print(\"\\nAnalyzing results...\")\n",
    "    final_results = analyze_results_by_position(results_df, position_mapping)\n",
    "    \n",
    "    # Save results\n",
    "    final_results.to_csv('concussion_detection_results.csv', index=False)\n",
    "    print(f\"\\nSaved detailed results to 'concussion_detection_results.csv'\")\n",
    "    \n",
    "    return final_results, detailed_results\n",
    "\n",
    "# Example usage\n",
    "if __name__ == \"__main__\":\n",
    "    # Run the comprehensive evaluation\n",
    "    results, details = run_comprehensive_concussion_evaluation(\n",
    "        'your_full_tracking_data.csv',  # Path to complete tracking data\n",
    "        'concussions.csv',              # Your concussion events file\n",
    "        'player_positions.csv'          # Optional: player position mapping\n",
    "    )"
   ]
  },
  {
   "cell_type": "code",
   "execution_count": 60,
   "id": "5a530688",
   "metadata": {},
   "outputs": [],
   "source": [
    "test2.to_csv('scripts/punt_analytics/concussedplayer_movement.csv', index=False)"
   ]
  },
  {
   "cell_type": "code",
   "execution_count": 62,
   "id": "a5882cbc",
   "metadata": {},
   "outputs": [
    {
     "name": "stdout",
     "output_type": "stream",
     "text": [
      "Loading datasets...\n",
      "Analyzing detected concussion cases...\n",
      "\n",
      "============================================================\n",
      "CASE: Player 31023 - Game 24 Play 538\n",
      "Anomaly Score: -0.041\n",
      "============================================================\n"
     ]
    },
    {
     "ename": "KeyError",
     "evalue": "'season_year'",
     "output_type": "error",
     "traceback": [
      "\u001b[31m---------------------------------------------------------------------------\u001b[39m",
      "\u001b[31mKeyError\u001b[39m                                  Traceback (most recent call last)",
      "\u001b[36mFile \u001b[39m\u001b[32m~/miniconda3/envs/rapids-25.02/lib/python3.12/site-packages/pandas/core/indexes/base.py:3805\u001b[39m, in \u001b[36mIndex.get_loc\u001b[39m\u001b[34m(self, key)\u001b[39m\n\u001b[32m   3804\u001b[39m \u001b[38;5;28;01mtry\u001b[39;00m:\n\u001b[32m-> \u001b[39m\u001b[32m3805\u001b[39m     \u001b[38;5;28;01mreturn\u001b[39;00m \u001b[38;5;28;43mself\u001b[39;49m\u001b[43m.\u001b[49m\u001b[43m_engine\u001b[49m\u001b[43m.\u001b[49m\u001b[43mget_loc\u001b[49m\u001b[43m(\u001b[49m\u001b[43mcasted_key\u001b[49m\u001b[43m)\u001b[49m\n\u001b[32m   3806\u001b[39m \u001b[38;5;28;01mexcept\u001b[39;00m \u001b[38;5;167;01mKeyError\u001b[39;00m \u001b[38;5;28;01mas\u001b[39;00m err:\n",
      "\u001b[36mFile \u001b[39m\u001b[32mindex.pyx:167\u001b[39m, in \u001b[36mpandas._libs.index.IndexEngine.get_loc\u001b[39m\u001b[34m()\u001b[39m\n",
      "\u001b[36mFile \u001b[39m\u001b[32mindex.pyx:196\u001b[39m, in \u001b[36mpandas._libs.index.IndexEngine.get_loc\u001b[39m\u001b[34m()\u001b[39m\n",
      "\u001b[36mFile \u001b[39m\u001b[32mpandas/_libs/hashtable_class_helper.pxi:7081\u001b[39m, in \u001b[36mpandas._libs.hashtable.PyObjectHashTable.get_item\u001b[39m\u001b[34m()\u001b[39m\n",
      "\u001b[36mFile \u001b[39m\u001b[32mpandas/_libs/hashtable_class_helper.pxi:7089\u001b[39m, in \u001b[36mpandas._libs.hashtable.PyObjectHashTable.get_item\u001b[39m\u001b[34m()\u001b[39m\n",
      "\u001b[31mKeyError\u001b[39m: 'season_year'",
      "\nThe above exception was the direct cause of the following exception:\n",
      "\u001b[31mKeyError\u001b[39m                                  Traceback (most recent call last)",
      "\u001b[36mCell\u001b[39m\u001b[36m \u001b[39m\u001b[32mIn[62]\u001b[39m\u001b[32m, line 250\u001b[39m\n\u001b[32m    247\u001b[39m \u001b[38;5;66;03m# Example usage\u001b[39;00m\n\u001b[32m    248\u001b[39m \u001b[38;5;28;01mif\u001b[39;00m \u001b[34m__name__\u001b[39m == \u001b[33m\"\u001b[39m\u001b[33m__main__\u001b[39m\u001b[33m\"\u001b[39m:\n\u001b[32m    249\u001b[39m     \u001b[38;5;66;03m# Run the detailed analysis\u001b[39;00m\n\u001b[32m--> \u001b[39m\u001b[32m250\u001b[39m     results = \u001b[43manalyze_detected_concussions\u001b[49m\u001b[43m(\u001b[49m\n\u001b[32m    251\u001b[39m \u001b[43m        \u001b[49m\u001b[43mtracking_data_path\u001b[49m\u001b[43m=\u001b[49m\u001b[43m \u001b[49m\u001b[33;43m'\u001b[39;49m\u001b[33;43mscripts/punt_analytics/concussedplayer_movement.csv\u001b[39;49m\u001b[33;43m'\u001b[39;49m\u001b[43m,\u001b[49m\n\u001b[32m    252\u001b[39m \u001b[43m        \u001b[49m\u001b[43mvideo_review_path\u001b[49m\u001b[43m=\u001b[49m\u001b[33;43m'\u001b[39;49m\u001b[33;43m/home/pshmo/summer_milestone_2-1/datasets/NFL-Punt-Analytics-Competition/video_review.csv\u001b[39;49m\u001b[33;43m'\u001b[39;49m\u001b[43m,\u001b[49m\u001b[43m \u001b[49m\n\u001b[32m    253\u001b[39m \u001b[43m        \u001b[49m\u001b[43mplay_player_role_path\u001b[49m\u001b[43m=\u001b[49m\u001b[33;43m'\u001b[39;49m\u001b[33;43m/home/pshmo/summer_milestone_2-1/datasets/NFL-Punt-Analytics-Competition/play_player_role_data.csv\u001b[39;49m\u001b[33;43m'\u001b[39;49m\u001b[43m,\u001b[49m\n\u001b[32m    254\u001b[39m \u001b[43m        \u001b[49m\u001b[43mgame_data_path\u001b[49m\u001b[43m=\u001b[49m\u001b[33;43m'\u001b[39;49m\u001b[33;43m/home/pshmo/summer_milestone_2-1/datasets/NFL-Punt-Analytics-Competition/game_data.csv\u001b[39;49m\u001b[33;43m'\u001b[39;49m\u001b[43m,\u001b[49m\n\u001b[32m    255\u001b[39m \u001b[43m        \u001b[49m\u001b[43mplay_info_path\u001b[49m\u001b[43m=\u001b[49m\u001b[33;43m'\u001b[39;49m\u001b[33;43m/home/pshmo/summer_milestone_2-1/datasets/NFL-Punt-Analytics-Competition/play_information.csv\u001b[39;49m\u001b[33;43m'\u001b[39;49m\n\u001b[32m    256\u001b[39m \u001b[43m    \u001b[49m\u001b[43m)\u001b[49m\n\u001b[32m    258\u001b[39m     \u001b[38;5;66;03m# Compare with missed cases\u001b[39;00m\n\u001b[32m    259\u001b[39m     compare_detected_vs_missed(results, \u001b[33m'\u001b[39m\u001b[33mconcussion_detection_results.csv\u001b[39m\u001b[33m'\u001b[39m)\n",
      "\u001b[36mCell\u001b[39m\u001b[36m \u001b[39m\u001b[32mIn[62]\u001b[39m\u001b[32m, line 45\u001b[39m, in \u001b[36manalyze_detected_concussions\u001b[39m\u001b[34m(tracking_data_path, video_review_path, play_player_role_path, game_data_path, play_info_path)\u001b[39m\n\u001b[32m     41\u001b[39m \u001b[38;5;28mprint\u001b[39m(\u001b[33mf\u001b[39m\u001b[33m\"\u001b[39m\u001b[38;5;132;01m{\u001b[39;00m\u001b[33m'\u001b[39m\u001b[33m=\u001b[39m\u001b[33m'\u001b[39m*\u001b[32m60\u001b[39m\u001b[38;5;132;01m}\u001b[39;00m\u001b[33m\"\u001b[39m)\n\u001b[32m     43\u001b[39m \u001b[38;5;66;03m# Get video review details for this case\u001b[39;00m\n\u001b[32m     44\u001b[39m video_details = video_review[\n\u001b[32m---> \u001b[39m\u001b[32m45\u001b[39m     (\u001b[43mvideo_review\u001b[49m\u001b[43m[\u001b[49m\u001b[33;43m'\u001b[39;49m\u001b[33;43mseason_year\u001b[39;49m\u001b[33;43m'\u001b[39;49m\u001b[43m]\u001b[49m == case[\u001b[33m'\u001b[39m\u001b[33mseason_year\u001b[39m\u001b[33m'\u001b[39m]) &\n\u001b[32m     46\u001b[39m     (video_review[\u001b[33m'\u001b[39m\u001b[33mgamekey\u001b[39m\u001b[33m'\u001b[39m] == case[\u001b[33m'\u001b[39m\u001b[33mgamekey\u001b[39m\u001b[33m'\u001b[39m]) &\n\u001b[32m     47\u001b[39m     (video_review[\u001b[33m'\u001b[39m\u001b[33mplayid\u001b[39m\u001b[33m'\u001b[39m] == case[\u001b[33m'\u001b[39m\u001b[33mplayid\u001b[39m\u001b[33m'\u001b[39m]) &\n\u001b[32m     48\u001b[39m     (video_review[\u001b[33m'\u001b[39m\u001b[33mgsisid\u001b[39m\u001b[33m'\u001b[39m] == case[\u001b[33m'\u001b[39m\u001b[33mplayer_id\u001b[39m\u001b[33m'\u001b[39m])\n\u001b[32m     49\u001b[39m ]\n\u001b[32m     51\u001b[39m \u001b[38;5;28;01mif\u001b[39;00m \u001b[38;5;28mlen\u001b[39m(video_details) > \u001b[32m0\u001b[39m:\n\u001b[32m     52\u001b[39m     vd = video_details.iloc[\u001b[32m0\u001b[39m]\n",
      "\u001b[36mFile \u001b[39m\u001b[32m~/miniconda3/envs/rapids-25.02/lib/python3.12/site-packages/pandas/core/frame.py:4102\u001b[39m, in \u001b[36mDataFrame.__getitem__\u001b[39m\u001b[34m(self, key)\u001b[39m\n\u001b[32m   4100\u001b[39m \u001b[38;5;28;01mif\u001b[39;00m \u001b[38;5;28mself\u001b[39m.columns.nlevels > \u001b[32m1\u001b[39m:\n\u001b[32m   4101\u001b[39m     \u001b[38;5;28;01mreturn\u001b[39;00m \u001b[38;5;28mself\u001b[39m._getitem_multilevel(key)\n\u001b[32m-> \u001b[39m\u001b[32m4102\u001b[39m indexer = \u001b[38;5;28;43mself\u001b[39;49m\u001b[43m.\u001b[49m\u001b[43mcolumns\u001b[49m\u001b[43m.\u001b[49m\u001b[43mget_loc\u001b[49m\u001b[43m(\u001b[49m\u001b[43mkey\u001b[49m\u001b[43m)\u001b[49m\n\u001b[32m   4103\u001b[39m \u001b[38;5;28;01mif\u001b[39;00m is_integer(indexer):\n\u001b[32m   4104\u001b[39m     indexer = [indexer]\n",
      "\u001b[36mFile \u001b[39m\u001b[32m~/miniconda3/envs/rapids-25.02/lib/python3.12/site-packages/pandas/core/indexes/base.py:3812\u001b[39m, in \u001b[36mIndex.get_loc\u001b[39m\u001b[34m(self, key)\u001b[39m\n\u001b[32m   3807\u001b[39m     \u001b[38;5;28;01mif\u001b[39;00m \u001b[38;5;28misinstance\u001b[39m(casted_key, \u001b[38;5;28mslice\u001b[39m) \u001b[38;5;129;01mor\u001b[39;00m (\n\u001b[32m   3808\u001b[39m         \u001b[38;5;28misinstance\u001b[39m(casted_key, abc.Iterable)\n\u001b[32m   3809\u001b[39m         \u001b[38;5;129;01mand\u001b[39;00m \u001b[38;5;28many\u001b[39m(\u001b[38;5;28misinstance\u001b[39m(x, \u001b[38;5;28mslice\u001b[39m) \u001b[38;5;28;01mfor\u001b[39;00m x \u001b[38;5;129;01min\u001b[39;00m casted_key)\n\u001b[32m   3810\u001b[39m     ):\n\u001b[32m   3811\u001b[39m         \u001b[38;5;28;01mraise\u001b[39;00m InvalidIndexError(key)\n\u001b[32m-> \u001b[39m\u001b[32m3812\u001b[39m     \u001b[38;5;28;01mraise\u001b[39;00m \u001b[38;5;167;01mKeyError\u001b[39;00m(key) \u001b[38;5;28;01mfrom\u001b[39;00m\u001b[38;5;250m \u001b[39m\u001b[34;01merr\u001b[39;00m\n\u001b[32m   3813\u001b[39m \u001b[38;5;28;01mexcept\u001b[39;00m \u001b[38;5;167;01mTypeError\u001b[39;00m:\n\u001b[32m   3814\u001b[39m     \u001b[38;5;66;03m# If we have a listlike key, _check_indexing_error will raise\u001b[39;00m\n\u001b[32m   3815\u001b[39m     \u001b[38;5;66;03m#  InvalidIndexError. Otherwise we fall through and re-raise\u001b[39;00m\n\u001b[32m   3816\u001b[39m     \u001b[38;5;66;03m#  the TypeError.\u001b[39;00m\n\u001b[32m   3817\u001b[39m     \u001b[38;5;28mself\u001b[39m._check_indexing_error(key)\n",
      "\u001b[31mKeyError\u001b[39m: 'season_year'"
     ]
    }
   ],
   "source": [
    "import pandas as pd\n",
    "import numpy as np\n",
    "import matplotlib.pyplot as plt\n",
    "import seaborn as sns\n",
    "from datetime import datetime\n",
    "\n",
    "def analyze_detected_concussions(tracking_data_path, video_review_path, play_player_role_path, \n",
    "                                game_data_path, play_info_path):\n",
    "    \"\"\"\n",
    "    Deep dive analysis of the 7 detected concussion cases\n",
    "    \"\"\"\n",
    "    \n",
    "    # The 7 detected concussion cases from your results\n",
    "    detected_cases = [\n",
    "        {'player_id': 31023.0, 'season_year': 2016, 'gamekey': 24, 'playid': 538.0, 'score': -0.041},\n",
    "        {'player_id': 23742.0, 'season_year': 2016, 'gamekey': 31, 'playid': 3609.0, 'score': -0.161},\n",
    "        {'player_id': 23564.0, 'season_year': 2016, 'gamekey': 29, 'playid': 2902.0, 'score': -0.033},\n",
    "        {'player_id': 26035.0, 'season_year': 2016, 'gamekey': 15, 'playid': 3312.0, 'score': -0.080},\n",
    "        {'player_id': 27060.0, 'season_year': 2016, 'gamekey': 34, 'playid': 1988.0, 'score': -0.086},\n",
    "        {'player_id': 29793.0, 'season_year': 2016, 'gamekey': 14, 'playid': 978.0, 'score': -0.028},\n",
    "        {'player_id': 30384.0, 'season_year': 2016, 'gamekey': 24, 'playid': 733.0, 'score': -0.134}\n",
    "    ]\n",
    "    \n",
    "    print(\"Loading datasets...\")\n",
    "    \n",
    "    # Load all datasets\n",
    "    tracking_df = pd.read_csv(tracking_data_path)\n",
    "    video_review = pd.read_csv(video_review_path)\n",
    "    play_roles = pd.read_csv(play_player_role_path)\n",
    "    game_data = pd.read_csv(game_data_path)\n",
    "    play_info = pd.read_csv(play_info_path)\n",
    "    \n",
    "    print(\"Analyzing detected concussion cases...\")\n",
    "    \n",
    "    analysis_results = []\n",
    "    \n",
    "    for case in detected_cases:\n",
    "        print(f\"\\n{'='*60}\")\n",
    "        print(f\"CASE: Player {case['player_id']:.0f} - Game {case['gamekey']} Play {case['playid']:.0f}\")\n",
    "        print(f\"Anomaly Score: {case['score']:.3f}\")\n",
    "        print(f\"{'='*60}\")\n",
    "        \n",
    "        # Get video review details for this case\n",
    "        video_details = video_review[\n",
    "            (video_review['season_year'] == case['season_year']) &\n",
    "            (video_review['gamekey'] == case['gamekey']) &\n",
    "            (video_review['playid'] == case['playid']) &\n",
    "            (video_review['gsisid'] == case['player_id'])\n",
    "        ]\n",
    "        \n",
    "        if len(video_details) > 0:\n",
    "            vd = video_details.iloc[0]\n",
    "            print(f\"INJURY DETAILS:\")\n",
    "            print(f\"  Player Activity: {vd.get('player_activity_derived', 'N/A')}\")\n",
    "            print(f\"  Impact Type: {vd.get('primary_impact_type', 'N/A')}\")\n",
    "            print(f\"  Partner Activity: {vd.get('primary_partner_activity_derived', 'N/A')}\")\n",
    "            print(f\"  Friendly Fire: {vd.get('friendly_fire', 'N/A')}\")\n",
    "            print(f\"  Turnover Related: {vd.get('turnover_related', 'N/A')}\")\n",
    "            \n",
    "            if pd.notna(vd.get('primary_partner_gsisid')):\n",
    "                print(f\"  Partner Player ID: {vd.get('primary_partner_gsisid')}\")\n",
    "        else:\n",
    "            print(\"  No video review data found\")\n",
    "            vd = None\n",
    "        \n",
    "        # Get player role for this play\n",
    "        player_role = play_roles[\n",
    "            (play_roles['season_year'] == case['season_year']) &\n",
    "            (play_roles['gamekey'] == case['gamekey']) &\n",
    "            (play_roles['playid'] == case['playid']) &\n",
    "            (play_roles['gsisid'] == case['player_id'])\n",
    "        ]\n",
    "        \n",
    "        role = player_role['role'].iloc[0] if len(player_role) > 0 else 'Unknown'\n",
    "        print(f\"  Player Role: {role}\")\n",
    "        \n",
    "        # Get play context\n",
    "        play_context = play_info[\n",
    "            (play_info['season_year'] == case['season_year']) &\n",
    "            (play_info['gamekey'] == case['gamekey']) &\n",
    "            (play_info['playid'] == case['playid'])\n",
    "        ]\n",
    "        \n",
    "        if len(play_context) > 0:\n",
    "            pc = play_context.iloc[0]\n",
    "            print(f\"PLAY CONTEXT:\")\n",
    "            print(f\"  Quarter: {pc.get('quarter', 'N/A')}\")\n",
    "            print(f\"  Game Clock: {pc.get('game_clock', 'N/A')}\")\n",
    "            print(f\"  Yard Line: {pc.get('yardline', 'N/A')}\")\n",
    "            print(f\"  Score: {pc.get('score_home_visiting', 'N/A')}\")\n",
    "            print(f\"  Play Description: {pc.get('playdescription', 'N/A')[:100]}...\")\n",
    "        \n",
    "        # Get game details\n",
    "        game_details = game_data[\n",
    "            (game_data['season_year'] == case['season_year']) &\n",
    "            (game_data['gamekey'] == case['gamekey'])\n",
    "        ]\n",
    "        \n",
    "        if len(game_details) > 0:\n",
    "            gd = game_details.iloc[0]\n",
    "            print(f\"GAME CONDITIONS:\")\n",
    "            print(f\"  Weather: {gd.get('gameweather', 'N/A')}\")\n",
    "            print(f\"  Temperature: {gd.get('temperature', 'N/A')}\")\n",
    "            print(f\"  Turf: {gd.get('turf', 'N/A')}\")\n",
    "            print(f\"  Stadium Type: {gd.get('stadiumtype', 'N/A')}\")\n",
    "        \n",
    "        # Get tracking data for this specific play\n",
    "        play_tracking = tracking_df[\n",
    "            (tracking_df['season_year'] == case['season_year']) &\n",
    "            (tracking_df['gamekey'] == case['gamekey']) &\n",
    "            (tracking_df['playid'] == case['playid']) &\n",
    "            (tracking_df['gsisid'] == case['player_id'])\n",
    "        ].copy()\n",
    "        \n",
    "        if len(play_tracking) > 0:\n",
    "            # Analyze movement patterns\n",
    "            play_tracking = play_tracking.sort_values('time')\n",
    "            play_tracking['time'] = pd.to_datetime(play_tracking['time'])\n",
    "            play_tracking['seconds'] = (play_tracking['time'] - play_tracking['time'].min()).dt.total_seconds()\n",
    "            \n",
    "            # Calculate velocities and accelerations\n",
    "            play_tracking['dt'] = play_tracking['seconds'].diff().fillna(0.1)\n",
    "            play_tracking['vx'] = play_tracking['x'].diff() / play_tracking['dt']\n",
    "            play_tracking['vy'] = play_tracking['y'].diff() / play_tracking['dt']\n",
    "            play_tracking['speed_calc'] = np.sqrt(play_tracking['vx']**2 + play_tracking['vy']**2)\n",
    "            play_tracking['ax'] = play_tracking['vx'].diff() / play_tracking['dt']\n",
    "            play_tracking['ay'] = play_tracking['vy'].diff() / play_tracking['dt']\n",
    "            play_tracking['acceleration'] = np.sqrt(play_tracking['ax']**2 + play_tracking['ay']**2)\n",
    "            \n",
    "            # Clean infinite values\n",
    "            for col in ['vx', 'vy', 'speed_calc', 'ax', 'ay', 'acceleration']:\n",
    "                play_tracking[col] = play_tracking[col].replace([np.inf, -np.inf], np.nan).fillna(0)\n",
    "            \n",
    "            print(f\"MOVEMENT ANALYSIS:\")\n",
    "            print(f\"  Play Duration: {play_tracking['seconds'].max():.1f} seconds\")\n",
    "            print(f\"  Max Speed: {play_tracking['dis'].max():.2f} yards/sec\")\n",
    "            print(f\"  Max Acceleration: {play_tracking['acceleration'].max():.2f} yards/sec²\")\n",
    "            print(f\"  Total Distance: {play_tracking['dis'].sum() * 0.1:.2f} yards\")\n",
    "            \n",
    "            # Look for key events during the play\n",
    "            events = play_tracking[play_tracking['event'].notna() & (play_tracking['event'] != 'nan')]\n",
    "            if len(events) > 0:\n",
    "                print(f\"  Key Events:\")\n",
    "                for _, event in events.iterrows():\n",
    "                    print(f\"    {event['seconds']:.1f}s: {event['event']} (speed: {event['dis']:.2f})\")\n",
    "            \n",
    "            # Find peak movement moments\n",
    "            max_speed_time = play_tracking.loc[play_tracking['dis'].idxmax(), 'seconds']\n",
    "            max_accel_time = play_tracking.loc[play_tracking['acceleration'].idxmax(), 'seconds']\n",
    "            print(f\"  Peak speed at: {max_speed_time:.1f}s\")\n",
    "            print(f\"  Peak acceleration at: {max_accel_time:.1f}s\")\n",
    "        \n",
    "        # Store for summary analysis\n",
    "        analysis_results.append({\n",
    "            'player_id': case['player_id'],\n",
    "            'anomaly_score': case['score'],\n",
    "            'role': role,\n",
    "            'impact_type': vd.get('primary_impact_type') if vd is not None else None,\n",
    "            'player_activity': vd.get('player_activity_derived') if vd is not None else None,\n",
    "            'partner_activity': vd.get('primary_partner_activity_derived') if vd is not None else None,\n",
    "            'friendly_fire': vd.get('friendly_fire') if vd is not None else None,\n",
    "            'max_speed': play_tracking['dis'].max() if len(play_tracking) > 0 else None,\n",
    "            'max_acceleration': play_tracking['acceleration'].max() if len(play_tracking) > 0 else None,\n",
    "            'play_duration': play_tracking['seconds'].max() if len(play_tracking) > 0 else None\n",
    "        })\n",
    "    \n",
    "    # Summary analysis\n",
    "    print(f\"\\n{'='*60}\")\n",
    "    print(\"SUMMARY ANALYSIS OF DETECTED CASES\")\n",
    "    print(f\"{'='*60}\")\n",
    "    \n",
    "    results_df = pd.DataFrame(analysis_results)\n",
    "    \n",
    "    # Role distribution\n",
    "    if 'role' in results_df.columns:\n",
    "        print(\"Role Distribution:\")\n",
    "        role_counts = results_df['role'].value_counts()\n",
    "        for role, count in role_counts.items():\n",
    "            print(f\"  {role}: {count}\")\n",
    "    \n",
    "    # Impact type distribution\n",
    "    if 'impact_type' in results_df.columns:\n",
    "        print(\"\\nImpact Type Distribution:\")\n",
    "        impact_counts = results_df['impact_type'].value_counts()\n",
    "        for impact, count in impact_counts.items():\n",
    "            print(f\"  {impact}: {count}\")\n",
    "    \n",
    "    # Activity distribution\n",
    "    if 'player_activity' in results_df.columns:\n",
    "        print(\"\\nPlayer Activity Distribution:\")\n",
    "        activity_counts = results_df['player_activity'].value_counts()\n",
    "        for activity, count in activity_counts.items():\n",
    "            print(f\"  {activity}: {count}\")\n",
    "    \n",
    "    # Movement characteristics\n",
    "    print(f\"\\nMovement Characteristics:\")\n",
    "    if 'max_speed' in results_df.columns and results_df['max_speed'].notna().any():\n",
    "        print(f\"  Avg Max Speed: {results_df['max_speed'].mean():.2f} yards/sec\")\n",
    "        print(f\"  Max Speed Range: {results_df['max_speed'].min():.2f} - {results_df['max_speed'].max():.2f}\")\n",
    "    \n",
    "    if 'max_acceleration' in results_df.columns and results_df['max_acceleration'].notna().any():\n",
    "        print(f\"  Avg Max Acceleration: {results_df['max_acceleration'].mean():.2f} yards/sec²\")\n",
    "        print(f\"  Acceleration Range: {results_df['max_acceleration'].min():.2f} - {results_df['max_acceleration'].max():.2f}\")\n",
    "    \n",
    "    # Friendly fire analysis\n",
    "    if 'friendly_fire' in results_df.columns:\n",
    "        print(f\"\\nFriendly Fire Analysis:\")\n",
    "        ff_counts = results_df['friendly_fire'].value_counts()\n",
    "        for ff, count in ff_counts.items():\n",
    "            print(f\"  {ff}: {count}\")\n",
    "    \n",
    "    return results_df\n",
    "\n",
    "def compare_detected_vs_missed(detected_results, all_concussion_results_path):\n",
    "    \"\"\"\n",
    "    Compare characteristics of detected vs missed concussions\n",
    "    \"\"\"\n",
    "    print(f\"\\n{'='*60}\")\n",
    "    print(\"DETECTED VS MISSED COMPARISON\")\n",
    "    print(f\"{'='*60}\")\n",
    "    \n",
    "    # Load the full results\n",
    "    all_results = pd.read_csv(all_concussion_results_path)\n",
    "    \n",
    "    detected = all_results[all_results['concussion_detected'] == True]\n",
    "    missed = all_results[all_results['concussion_detected'] == False]\n",
    "    \n",
    "    print(f\"Detected: {len(detected)} cases\")\n",
    "    print(f\"Missed: {len(missed)} cases\")\n",
    "    \n",
    "    # Compare anomaly scores\n",
    "    print(f\"\\nAnomaly Scores:\")\n",
    "    print(f\"  Detected avg: {detected['anomaly_score'].mean():.3f}\")\n",
    "    print(f\"  Missed avg: {missed['anomaly_score'].mean():.3f}\")\n",
    "    \n",
    "    # Compare movement characteristics\n",
    "    for metric in ['max_speed', 'max_acceleration', 'max_jerk']:\n",
    "        if metric in detected.columns and metric in missed.columns:\n",
    "            det_val = detected[metric].mean()\n",
    "            miss_val = missed[metric].mean()\n",
    "            ratio = det_val / miss_val if miss_val > 0 else np.inf\n",
    "            print(f\"  {metric}:\")\n",
    "            print(f\"    Detected: {det_val:.2f}\")\n",
    "            print(f\"    Missed: {miss_val:.2f}\")\n",
    "            print(f\"    Ratio: {ratio:.1f}x\")\n",
    "\n",
    "# Example usage\n",
    "if __name__ == \"__main__\":\n",
    "    # Run the detailed analysis\n",
    "    results = analyze_detected_concussions(\n",
    "        tracking_data_path= 'scripts/punt_analytics/concussedplayer_movement.csv',\n",
    "        video_review_path='/home/pshmo/summer_milestone_2-1/datasets/NFL-Punt-Analytics-Competition/video_review.csv', \n",
    "        play_player_role_path='/home/pshmo/summer_milestone_2-1/datasets/NFL-Punt-Analytics-Competition/play_player_role_data.csv',\n",
    "        game_data_path='/home/pshmo/summer_milestone_2-1/datasets/NFL-Punt-Analytics-Competition/game_data.csv',\n",
    "        play_info_path='/home/pshmo/summer_milestone_2-1/datasets/NFL-Punt-Analytics-Competition/play_information.csv'\n",
    "    )\n",
    "    \n",
    "    # Compare with missed cases\n",
    "    compare_detected_vs_missed(results, 'concussion_detection_results.csv')\n",
    "    \n",
    "    print(\"\\nDetailed analysis complete! Key patterns to look for:\")\n",
    "    print(\"1. Are detected cases concentrated in specific roles (gunners, returners)?\")\n",
    "    print(\"2. Do they show specific impact types (helmet-to-helmet vs helmet-to-ground)?\")\n",
    "    print(\"3. Are there common movement signatures (sudden stops, direction changes)?\")\n",
    "    print(\"4. Do game conditions play a role (weather, turf type)?\")\n",
    "    print(\"5. Are there temporal patterns (when during play injury occurred)?\")"
   ]
  },
  {
   "cell_type": "code",
   "execution_count": 64,
   "id": "1d6955b6",
   "metadata": {},
   "outputs": [
    {
     "name": "stdout",
     "output_type": "stream",
     "text": [
      "Loading and exploring datasets...\n",
      "\n",
      "Video Review:\n",
      "  Shape: (37, 10)\n",
      "  Columns: ['Season_Year', 'GameKey', 'PlayID', 'GSISID', 'Player_Activity_Derived', 'Turnover_Related', 'Primary_Impact_Type', 'Primary_Partner_GSISID', 'Primary_Partner_Activity_Derived', 'Friendly_Fire']\n",
      "  First few rows:\n",
      "   Season_Year  GameKey  PlayID  GSISID Player_Activity_Derived  \\\n",
      "0         2016        5    3129   31057                Tackling   \n",
      "1         2016       21    2587   29343                 Blocked   \n",
      "\n",
      "  Turnover_Related Primary_Impact_Type Primary_Partner_GSISID  \\\n",
      "0               No      Helmet-to-body                  32482   \n",
      "1               No    Helmet-to-helmet                  31059   \n",
      "\n",
      "  Primary_Partner_Activity_Derived Friendly_Fire  \n",
      "0                          Tackled            No  \n",
      "1                         Blocking            No  \n",
      "\n",
      "Play Player Role:\n",
      "  Shape: (146573, 5)\n",
      "  Columns: ['Season_Year', 'GameKey', 'PlayID', 'GSISID', 'Role']\n",
      "  First few rows:\n",
      "   Season_Year  GameKey  PlayID  GSISID  Role\n",
      "0         2017      414     188   33704  PDL2\n",
      "1         2017      414    1107   33704  PDL2\n",
      "\n",
      "Game Data:\n",
      "  Shape: (666, 18)\n",
      "  Columns: ['GameKey', 'Season_Year', 'Season_Type', 'Week', 'Game_Date', 'Game_Day', 'Game_Site', 'Start_Time', 'Home_Team', 'HomeTeamCode', 'Visit_Team', 'VisitTeamCode', 'Stadium', 'StadiumType', 'Turf', 'GameWeather', 'Temperature', 'OutdoorWeather']\n",
      "  First few rows:\n",
      "   GameKey  Season_Year Season_Type  Week                Game_Date  Game_Day  \\\n",
      "0        1         2016         Pre     1  2016-08-07 00:00:00.000    Sunday   \n",
      "1        2         2016         Pre     2  2016-08-13 00:00:00.000  Saturday   \n",
      "\n",
      "      Game_Site Start_Time           Home_Team HomeTeamCode  \\\n",
      "0  Indianapolis      20:00  Indianapolis Colts          IND   \n",
      "1   Los Angeles      17:00    Los Angeles Rams           LA   \n",
      "\n",
      "          Visit_Team VisitTeamCode                          Stadium  \\\n",
      "0  Green Bay Packers            GB  Tom Benson Hall of Fame Stadium   \n",
      "1     Dallas Cowboys           DAL   Los  Angeles Memorial Coliseum   \n",
      "\n",
      "  StadiumType   Turf GameWeather  Temperature OutdoorWeather  \n",
      "0     Outdoor   Turf         NaN          NaN            NaN  \n",
      "1     Outdoor  Grass       Sunny         79.0          Sunny  \n",
      "\n",
      "Play Info:\n",
      "  Shape: (6681, 14)\n",
      "  Columns: ['Season_Year', 'Season_Type', 'GameKey', 'Game_Date', 'Week', 'PlayID', 'Game_Clock', 'YardLine', 'Quarter', 'Play_Type', 'Poss_Team', 'Home_Team_Visit_Team', 'Score_Home_Visiting', 'PlayDescription']\n",
      "  First few rows:\n",
      "   Season_Year Season_Type  GameKey   Game_Date  Week  PlayID Game_Clock  \\\n",
      "0         2016         Pre        2  08/13/2016     2     191      12:30   \n",
      "1         2016         Pre        2  08/13/2016     2    1132      12:08   \n",
      "\n",
      "  YardLine  Quarter Play_Type Poss_Team Home_Team_Visit_Team  \\\n",
      "0    LA 47        1      Punt        LA               LA-DAL   \n",
      "1    LA 29        2      Punt        LA               LA-DAL   \n",
      "\n",
      "  Score_Home_Visiting                                    PlayDescription  \n",
      "0               0 - 7  (12:30) J.Hekker punts 52 yards to DAL 1, Cent...  \n",
      "1              7 - 21  (12:08) J.Hekker punts 51 yards to DAL 20, Cen...  \n",
      "\n",
      "============================================================\n",
      "Video review columns: ['Season_Year', 'GameKey', 'PlayID', 'GSISID', 'Player_Activity_Derived', 'Turnover_Related', 'Primary_Impact_Type', 'Primary_Partner_GSISID', 'Primary_Partner_Activity_Derived', 'Friendly_Fire']\n",
      "\n",
      "Searching for detected concussion cases in video review data...\n",
      "\n",
      "Case 1: Player 31023, Game 24, Play 538\n",
      "  Available game columns: ['GameKey']\n",
      "  Available play columns: ['PlayID', 'Player_Activity_Derived']\n",
      "  Available player columns: ['GSISID', 'Player_Activity_Derived', 'Primary_Partner_GSISID']\n",
      "  No match found\n",
      "\n",
      "Case 2: Player 23742, Game 31, Play 3609\n",
      "  Available game columns: ['GameKey']\n",
      "  Available play columns: ['PlayID', 'Player_Activity_Derived']\n",
      "  Available player columns: ['GSISID', 'Player_Activity_Derived', 'Primary_Partner_GSISID']\n",
      "  No match found\n",
      "\n",
      "Case 3: Player 23564, Game 29, Play 2902\n",
      "  Available game columns: ['GameKey']\n",
      "  Available play columns: ['PlayID', 'Player_Activity_Derived']\n",
      "  Available player columns: ['GSISID', 'Player_Activity_Derived', 'Primary_Partner_GSISID']\n",
      "  No match found\n",
      "\n",
      "Case 4: Player 26035, Game 15, Play 3312\n",
      "  Available game columns: ['GameKey']\n",
      "  Available play columns: ['PlayID', 'Player_Activity_Derived']\n",
      "  Available player columns: ['GSISID', 'Player_Activity_Derived', 'Primary_Partner_GSISID']\n",
      "  No match found\n",
      "\n",
      "Case 5: Player 27060, Game 34, Play 1988\n",
      "  Available game columns: ['GameKey']\n",
      "  Available play columns: ['PlayID', 'Player_Activity_Derived']\n",
      "  Available player columns: ['GSISID', 'Player_Activity_Derived', 'Primary_Partner_GSISID']\n",
      "  No match found\n",
      "\n",
      "Case 6: Player 29793, Game 14, Play 978\n",
      "  Available game columns: ['GameKey']\n",
      "  Available play columns: ['PlayID', 'Player_Activity_Derived']\n",
      "  Available player columns: ['GSISID', 'Player_Activity_Derived', 'Primary_Partner_GSISID']\n",
      "  No match found\n",
      "\n",
      "Case 7: Player 30384, Game 24, Play 733\n",
      "  Available game columns: ['GameKey']\n",
      "  Available play columns: ['PlayID', 'Player_Activity_Derived']\n",
      "  Available player columns: ['GSISID', 'Player_Activity_Derived', 'Primary_Partner_GSISID']\n",
      "  No match found\n"
     ]
    }
   ],
   "source": [
    "import pandas as pd\n",
    "\n",
    "def explore_datasets(video_review_path, play_player_role_path, game_data_path, play_info_path):\n",
    "    \"\"\"\n",
    "    Quick exploration to see what columns we have available\n",
    "    \"\"\"\n",
    "    print(\"Loading and exploring datasets...\")\n",
    "    \n",
    "    # Load each dataset and show columns\n",
    "    datasets = {\n",
    "        'Video Review': video_review_path,\n",
    "        'Play Player Role': play_player_role_path, \n",
    "        'Game Data': game_data_path,\n",
    "        'Play Info': play_info_path\n",
    "    }\n",
    "    \n",
    "    for name, path in datasets.items():\n",
    "        try:\n",
    "            df = pd.read_csv(path)\n",
    "            print(f\"\\n{name}:\")\n",
    "            print(f\"  Shape: {df.shape}\")\n",
    "            print(f\"  Columns: {list(df.columns)}\")\n",
    "            print(f\"  First few rows:\")\n",
    "            print(df.head(2))\n",
    "        except Exception as e:\n",
    "            print(f\"  Error loading {name}: {e}\")\n",
    "\n",
    "def simple_concussion_analysis(video_review_path):\n",
    "    \"\"\"\n",
    "    Simple analysis of just the video review data for the 7 detected cases\n",
    "    \"\"\"\n",
    "    detected_cases = [\n",
    "        {'player_id': 31023.0, 'gamekey': 24, 'playid': 538.0},\n",
    "        {'player_id': 23742.0, 'gamekey': 31, 'playid': 3609.0},\n",
    "        {'player_id': 23564.0, 'gamekey': 29, 'playid': 2902.0},\n",
    "        {'player_id': 26035.0, 'gamekey': 15, 'playid': 3312.0},\n",
    "        {'player_id': 27060.0, 'gamekey': 34, 'playid': 1988.0},\n",
    "        {'player_id': 29793.0, 'gamekey': 14, 'playid': 978.0},\n",
    "        {'player_id': 30384.0, 'gamekey': 24, 'playid': 733.0}\n",
    "    ]\n",
    "    \n",
    "    # Load video review\n",
    "    video_review = pd.read_csv(video_review_path)\n",
    "    print(f\"Video review columns: {list(video_review.columns)}\")\n",
    "    \n",
    "    # Look for our cases\n",
    "    print(f\"\\nSearching for detected concussion cases in video review data...\")\n",
    "    \n",
    "    for i, case in enumerate(detected_cases):\n",
    "        print(f\"\\nCase {i+1}: Player {case['player_id']:.0f}, Game {case['gamekey']}, Play {case['playid']:.0f}\")\n",
    "        \n",
    "        # Try different column name variations\n",
    "        possible_filters = []\n",
    "        \n",
    "        # Check what columns exist for matching\n",
    "        gamekey_cols = [col for col in video_review.columns if 'game' in col.lower()]\n",
    "        playid_cols = [col for col in video_review.columns if 'play' in col.lower()]\n",
    "        gsisid_cols = [col for col in video_review.columns if 'gsis' in col.lower() or 'player' in col.lower()]\n",
    "        \n",
    "        print(f\"  Available game columns: {gamekey_cols}\")\n",
    "        print(f\"  Available play columns: {playid_cols}\")\n",
    "        print(f\"  Available player columns: {gsisid_cols}\")\n",
    "        \n",
    "        # Try to find matching row\n",
    "        matches = []\n",
    "        for gc in gamekey_cols:\n",
    "            for pc in playid_cols:\n",
    "                for gsc in gsisid_cols:\n",
    "                    try:\n",
    "                        match = video_review[\n",
    "                            (video_review[gc] == case['gamekey']) &\n",
    "                            (video_review[pc] == case['playid']) &\n",
    "                            (video_review[gsc] == case['player_id'])\n",
    "                        ]\n",
    "                        if len(match) > 0:\n",
    "                            matches.append(match)\n",
    "                            print(f\"  FOUND MATCH using {gc}, {pc}, {gsc}\")\n",
    "                            print(f\"    Data: {match.iloc[0].to_dict()}\")\n",
    "                            break\n",
    "                    except:\n",
    "                        continue\n",
    "                if matches:\n",
    "                    break\n",
    "            if matches:\n",
    "                break\n",
    "        \n",
    "        if not matches:\n",
    "            print(f\"  No match found\")\n",
    "\n",
    "# Run exploration\n",
    "if __name__ == \"__main__\":\n",
    "    explore_datasets(\n",
    "        video_review_path='/home/pshmo/summer_milestone_2-1/datasets/NFL-Punt-Analytics-Competition/video_review.csv',\n",
    "        play_player_role_path='/home/pshmo/summer_milestone_2-1/datasets/NFL-Punt-Analytics-Competition/play_player_role_data.csv',\n",
    "        game_data_path='/home/pshmo/summer_milestone_2-1/datasets/NFL-Punt-Analytics-Competition/game_data.csv',\n",
    "        play_info_path='/home/pshmo/summer_milestone_2-1/datasets/NFL-Punt-Analytics-Competition/play_information.csv'\n",
    "    )\n",
    "    \n",
    "    print(\"\\n\" + \"=\"*60)\n",
    "    \n",
    "    simple_concussion_analysis(\n",
    "        video_review_path='/home/pshmo/summer_milestone_2-1/datasets/NFL-Punt-Analytics-Competition/video_review.csv'\n",
    "    )"
   ]
  },
  {
   "cell_type": "code",
   "execution_count": 66,
   "id": "d9863bf5",
   "metadata": {},
   "outputs": [
    {
     "name": "stdout",
     "output_type": "stream",
     "text": [
      "Loading datasets...\n",
      "Simple concussions.csv: 32 events\n",
      "Video review database: 37 events\n",
      "Play roles database: 146573 roles\n",
      "\n",
      "============================================================\n",
      "ANALYZING 7 DETECTED CASES\n",
      "============================================================\n",
      "Checking if detected cases are in concussions.csv...\n",
      "  ✗ Case 1: NOT FOUND in concussions.csv\n",
      "  ✗ Case 2: NOT FOUND in concussions.csv\n",
      "  ✗ Case 3: NOT FOUND in concussions.csv\n",
      "  ✗ Case 4: NOT FOUND in concussions.csv\n",
      "  ✗ Case 5: NOT FOUND in concussions.csv\n",
      "  ✗ Case 6: NOT FOUND in concussions.csv\n",
      "  ✗ Case 7: NOT FOUND in concussions.csv\n",
      "\n",
      "============================================================\n",
      "COMPARING CONCUSSION DATASETS\n",
      "============================================================\n",
      "Looking for overlaps between datasets...\n",
      "Overlapping cases (in both datasets): 32\n",
      "Video review only: 5\n",
      "Concussions.csv only: 0\n",
      "\n",
      "Sample overlapping cases:\n",
      "  Player 31023, Game 29, Play 538\n",
      "  Player 32410, Game 144, Play 2342\n",
      "  Player 28128, Game 149, Play 3663\n",
      "\n",
      "============================================================\n",
      "TRUTH CHECK: ARE DETECTED CASES REAL CONCUSSIONS?\n",
      "============================================================\n",
      "Case 1 (Player 31023, Game 24, Play 538):\n",
      "  Anomaly Score: -0.041\n",
      "  Is Real Concussion: NO\n",
      "  → This is a FALSE POSITIVE\n",
      "\n",
      "Case 2 (Player 23742, Game 31, Play 3609):\n",
      "  Anomaly Score: -0.161\n",
      "  Is Real Concussion: NO\n",
      "  → This is a FALSE POSITIVE\n",
      "\n",
      "Case 3 (Player 23564, Game 29, Play 2902):\n",
      "  Anomaly Score: -0.033\n",
      "  Is Real Concussion: NO\n",
      "  → This is a FALSE POSITIVE\n",
      "\n",
      "Case 4 (Player 26035, Game 15, Play 3312):\n",
      "  Anomaly Score: -0.080\n",
      "  Is Real Concussion: NO\n",
      "  → This is a FALSE POSITIVE\n",
      "\n",
      "Case 5 (Player 27060, Game 34, Play 1988):\n",
      "  Anomaly Score: -0.086\n",
      "  Is Real Concussion: NO\n",
      "  → This is a FALSE POSITIVE\n",
      "\n",
      "Case 6 (Player 29793, Game 14, Play 978):\n",
      "  Anomaly Score: -0.028\n",
      "  Is Real Concussion: NO\n",
      "  → This is a FALSE POSITIVE\n",
      "\n",
      "Case 7 (Player 30384, Game 24, Play 733):\n",
      "  Anomaly Score: -0.134\n",
      "  Is Real Concussion: NO\n",
      "  → This is a FALSE POSITIVE\n",
      "\n",
      "SUMMARY:\n",
      "  True Positives (correctly detected concussions): 0\n",
      "  False Positives (flagged but not concussions): 7\n",
      "  Precision: 0.00%\n"
     ]
    }
   ],
   "source": [
    "import pandas as pd\n",
    "\n",
    "def analyze_concussion_data_mismatch(concussions_csv_path, video_review_path, \n",
    "                                   play_player_role_path, tracking_data_path):\n",
    "    \"\"\"\n",
    "    Analyze the mismatch between different concussion datasets\n",
    "    \"\"\"\n",
    "    \n",
    "    print(\"Loading datasets...\")\n",
    "    \n",
    "    # Load the datasets\n",
    "    concussions_simple = pd.read_csv(concussions_csv_path)  # Your 32-row concussions.csv\n",
    "    video_review = pd.read_csv(video_review_path)          # NFL's 37-row video review\n",
    "    play_roles = pd.read_csv(play_player_role_path)\n",
    "    \n",
    "    print(f\"Simple concussions.csv: {len(concussions_simple)} events\")\n",
    "    print(f\"Video review database: {len(video_review)} events\") \n",
    "    print(f\"Play roles database: {len(play_roles)} roles\")\n",
    "    \n",
    "    # The 7 detected cases\n",
    "    detected_cases = [\n",
    "        {'player_id': 31023.0, 'gamekey': 24, 'playid': 538.0, 'score': -0.041},\n",
    "        {'player_id': 23742.0, 'gamekey': 31, 'playid': 3609.0, 'score': -0.161},\n",
    "        {'player_id': 23564.0, 'gamekey': 29, 'playid': 2902.0, 'score': -0.033},\n",
    "        {'player_id': 26035.0, 'gamekey': 15, 'playid': 3312.0, 'score': -0.080},\n",
    "        {'player_id': 27060.0, 'gamekey': 34, 'playid': 1988.0, 'score': -0.086},\n",
    "        {'player_id': 29793.0, 'gamekey': 14, 'playid': 978.0, 'score': -0.028},\n",
    "        {'player_id': 30384.0, 'gamekey': 24, 'playid': 733.0, 'score': -0.134}\n",
    "    ]\n",
    "    \n",
    "    print(f\"\\n{'='*60}\")\n",
    "    print(\"ANALYZING 7 DETECTED CASES\")\n",
    "    print(f\"{'='*60}\")\n",
    "    \n",
    "    # Check if detected cases are in the simple concussions.csv\n",
    "    print(\"Checking if detected cases are in concussions.csv...\")\n",
    "    for i, case in enumerate(detected_cases):\n",
    "        match = concussions_simple[\n",
    "            (concussions_simple['gamekey'] == case['gamekey']) &\n",
    "            (concussions_simple['playid'] == case['playid']) &\n",
    "            (concussions_simple['gsisid'] == case['player_id'])\n",
    "        ]\n",
    "        \n",
    "        if len(match) > 0:\n",
    "            print(f\"  ✓ Case {i+1}: FOUND in concussions.csv\")\n",
    "        else:\n",
    "            print(f\"  ✗ Case {i+1}: NOT FOUND in concussions.csv\")\n",
    "    \n",
    "    # Check what's in video review vs simple concussions\n",
    "    print(f\"\\n{'='*60}\")\n",
    "    print(\"COMPARING CONCUSSION DATASETS\")\n",
    "    print(f\"{'='*60}\")\n",
    "    \n",
    "    # Standardize column names for comparison\n",
    "    vr_std = video_review.copy()\n",
    "    vr_std.columns = vr_std.columns.str.lower()\n",
    "    \n",
    "    cs_std = concussions_simple.copy() \n",
    "    cs_std.columns = cs_std.columns.str.lower()\n",
    "    \n",
    "    # Find overlaps\n",
    "    print(\"Looking for overlaps between datasets...\")\n",
    "    \n",
    "    overlaps = []\n",
    "    vr_only = []\n",
    "    cs_only = []\n",
    "    \n",
    "    # Check each video review case\n",
    "    for _, vr_case in vr_std.iterrows():\n",
    "        match = cs_std[\n",
    "            (cs_std['gamekey'] == vr_case['gamekey']) &\n",
    "            (cs_std['playid'] == vr_case['playid']) &\n",
    "            (cs_std['gsisid'] == vr_case['gsisid'])\n",
    "        ]\n",
    "        \n",
    "        if len(match) > 0:\n",
    "            overlaps.append(vr_case)\n",
    "        else:\n",
    "            vr_only.append(vr_case)\n",
    "    \n",
    "    # Check each simple concussion case\n",
    "    for _, cs_case in cs_std.iterrows():\n",
    "        match = vr_std[\n",
    "            (vr_std['gamekey'] == cs_case['gamekey']) &\n",
    "            (vr_std['playid'] == cs_case['playid']) &\n",
    "            (vr_std['gsisid'] == cs_case['gsisid'])\n",
    "        ]\n",
    "        \n",
    "        if len(match) == 0:\n",
    "            cs_only.append(cs_case)\n",
    "    \n",
    "    print(f\"Overlapping cases (in both datasets): {len(overlaps)}\")\n",
    "    print(f\"Video review only: {len(vr_only)}\")\n",
    "    print(f\"Concussions.csv only: {len(cs_only)}\")\n",
    "    \n",
    "    # Show some examples\n",
    "    if len(overlaps) > 0:\n",
    "        print(f\"\\nSample overlapping cases:\")\n",
    "        for i, case in enumerate(overlaps[:3]):\n",
    "            print(f\"  Player {case['gsisid']:.0f}, Game {case['gamekey']}, Play {case['playid']:.0f}\")\n",
    "    \n",
    "    if len(cs_only) > 0:\n",
    "        print(f\"\\nSample concussions.csv only cases:\")\n",
    "        for i, case in enumerate(cs_only[:5]):\n",
    "            print(f\"  Player {case['gsisid']:.0f}, Game {case['gamekey']}, Play {case['playid']:.0f}\")\n",
    "    \n",
    "    # Now the key question: Are our detected cases actual concussions?\n",
    "    print(f\"\\n{'='*60}\")\n",
    "    print(\"TRUTH CHECK: ARE DETECTED CASES REAL CONCUSSIONS?\")\n",
    "    print(f\"{'='*60}\")\n",
    "    \n",
    "    detected_are_concussions = 0\n",
    "    detected_not_concussions = 0\n",
    "    \n",
    "    for i, case in enumerate(detected_cases):\n",
    "        # Check in simple concussions\n",
    "        match_simple = cs_std[\n",
    "            (cs_std['gamekey'] == case['gamekey']) &\n",
    "            (cs_std['playid'] == case['playid']) &\n",
    "            (cs_std['gsisid'] == case['player_id'])\n",
    "        ]\n",
    "        \n",
    "        # Check in video review  \n",
    "        match_video = vr_std[\n",
    "            (vr_std['gamekey'] == case['gamekey']) &\n",
    "            (vr_std['playid'] == case['playid']) &\n",
    "            (vr_std['gsisid'] == case['player_id'])\n",
    "        ]\n",
    "        \n",
    "        is_concussion = len(match_simple) > 0 or len(match_video) > 0\n",
    "        \n",
    "        print(f\"Case {i+1} (Player {case['player_id']:.0f}, Game {case['gamekey']}, Play {case['playid']:.0f}):\")\n",
    "        print(f\"  Anomaly Score: {case['score']:.3f}\")\n",
    "        print(f\"  Is Real Concussion: {'YES' if is_concussion else 'NO'}\")\n",
    "        \n",
    "        if is_concussion:\n",
    "            detected_are_concussions += 1\n",
    "            # Get role for this player/play\n",
    "            role_match = play_roles[\n",
    "                (play_roles['GameKey'] == case['gamekey']) &\n",
    "                (play_roles['PlayID'] == case['playid']) &\n",
    "                (play_roles['GSISID'] == case['player_id'])\n",
    "            ]\n",
    "            role = role_match['Role'].iloc[0] if len(role_match) > 0 else 'Unknown'\n",
    "            print(f\"  Role: {role}\")\n",
    "            \n",
    "            # Get video review details if available\n",
    "            if len(match_video) > 0:\n",
    "                vd = match_video.iloc[0]\n",
    "                print(f\"  Impact Type: {vd.get('primary_impact_type', 'N/A')}\")\n",
    "                print(f\"  Player Activity: {vd.get('player_activity_derived', 'N/A')}\")\n",
    "                print(f\"  Friendly Fire: {vd.get('friendly_fire', 'N/A')}\")\n",
    "        else:\n",
    "            detected_not_concussions += 1\n",
    "            print(f\"  → This is a FALSE POSITIVE\")\n",
    "        \n",
    "        print()\n",
    "    \n",
    "    print(f\"SUMMARY:\")\n",
    "    print(f\"  True Positives (correctly detected concussions): {detected_are_concussions}\")\n",
    "    print(f\"  False Positives (flagged but not concussions): {detected_not_concussions}\")\n",
    "    print(f\"  Precision: {detected_are_concussions / len(detected_cases):.2%}\")\n",
    "    \n",
    "    # If we have some true positives, analyze what made them detectable\n",
    "    if detected_are_concussions > 0:\n",
    "        print(f\"\\n{'='*60}\")\n",
    "        print(\"ANALYZING TRUE POSITIVE CHARACTERISTICS\")\n",
    "        print(f\"{'='*60}\")\n",
    "        \n",
    "        # Get roles for all true positive cases\n",
    "        tp_roles = []\n",
    "        for case in detected_cases:\n",
    "            match_simple = cs_std[\n",
    "                (cs_std['gamekey'] == case['gamekey']) &\n",
    "                (cs_std['playid'] == case['playid']) &\n",
    "                (cs_std['gsisid'] == case['player_id'])\n",
    "            ]\n",
    "            \n",
    "            if len(match_simple) > 0:\n",
    "                role_match = play_roles[\n",
    "                    (play_roles['GameKey'] == case['gamekey']) &\n",
    "                    (play_roles['PlayID'] == case['playid']) &\n",
    "                    (play_roles['GSISID'] == case['player_id'])\n",
    "                ]\n",
    "                if len(role_match) > 0:\n",
    "                    tp_roles.append(role_match['Role'].iloc[0])\n",
    "        \n",
    "        if tp_roles:\n",
    "            role_counts = pd.Series(tp_roles).value_counts()\n",
    "            print(\"Roles of correctly detected concussions:\")\n",
    "            for role, count in role_counts.items():\n",
    "                print(f\"  {role}: {count}\")\n",
    "    \n",
    "    return {\n",
    "        'detected_cases': detected_cases,\n",
    "        'true_positives': detected_are_concussions,\n",
    "        'false_positives': detected_not_concussions,\n",
    "        'overlaps': overlaps,\n",
    "        'cs_only': cs_only,\n",
    "        'vr_only': vr_only\n",
    "    }\n",
    "\n",
    "# Run the analysis\n",
    "if __name__ == \"__main__\":\n",
    "    results = analyze_concussion_data_mismatch(\n",
    "        concussions_csv_path='scripts/punt_analytics/concussions.csv',  # Your 32-event file\n",
    "        video_review_path='/home/pshmo/summer_milestone_2-1/datasets/NFL-Punt-Analytics-Competition/video_review.csv',\n",
    "        play_player_role_path='/home/pshmo/summer_milestone_2-1/datasets/NFL-Punt-Analytics-Competition/play_player_role_data.csv',\n",
    "        tracking_data_path='scripts/punt_analytics/concussedplayer_movement.csv'\n",
    "    )"
   ]
  },
  {
   "cell_type": "code",
   "execution_count": 68,
   "id": "86f2880c",
   "metadata": {},
   "outputs": [
    {
     "name": "stdout",
     "output_type": "stream",
     "text": [
      "Loading datasets...\n",
      "Simple concussions.csv: 32 events\n",
      "Video review database: 37 events\n",
      "Play roles database: 146573 roles\n",
      "\n",
      "============================================================\n",
      "ANALYZING 7 DETECTED CASES\n",
      "============================================================\n",
      "Checking if detected cases are in concussions.csv...\n",
      "  ✗ Case 1: NOT FOUND in concussions.csv\n",
      "    Looking for: Game 24, Play 538, Player 31023\n",
      "    No events found in game 24\n",
      "  ✗ Case 2: NOT FOUND in concussions.csv\n",
      "    Looking for: Game 31, Play 3609, Player 23742\n",
      "    No events found in game 31\n",
      "  ✗ Case 3: NOT FOUND in concussions.csv\n",
      "    Looking for: Game 29, Play 2902, Player 23564\n",
      "    Found 1 events in same game:\n",
      "      Game 29.0, Play 538.0, Player 31023.0\n",
      "  ✗ Case 4: NOT FOUND in concussions.csv\n",
      "    Looking for: Game 15, Play 3312, Player 26035\n",
      "    No events found in game 15\n",
      "  ✗ Case 5: NOT FOUND in concussions.csv\n",
      "    Looking for: Game 34, Play 1988, Player 27060\n",
      "    No events found in game 34\n",
      "  ✗ Case 6: NOT FOUND in concussions.csv\n",
      "    Looking for: Game 14, Play 978, Player 29793\n",
      "    No events found in game 14\n",
      "  ✗ Case 7: NOT FOUND in concussions.csv\n",
      "    Looking for: Game 24, Play 733, Player 30384\n",
      "    No events found in game 24\n",
      "\n",
      "============================================================\n",
      "COMPARING CONCUSSION DATASETS\n",
      "============================================================\n",
      "Looking for overlaps between datasets...\n",
      "Overlapping cases (in both datasets): 32\n",
      "Video review only: 5\n",
      "Concussions.csv only: 0\n",
      "\n",
      "Sample overlapping cases:\n",
      "  Player 31023, Game 29, Play 538\n",
      "  Player 32410, Game 144, Play 2342\n",
      "  Player 28128, Game 149, Play 3663\n",
      "\n",
      "============================================================\n",
      "TRUTH CHECK: ARE DETECTED CASES REAL CONCUSSIONS?\n",
      "============================================================\n",
      "Case 1 (Player 31023, Game 24, Play 538):\n",
      "  Anomaly Score: -0.041\n",
      "  Is Real Concussion: NO\n",
      "  → This is a FALSE POSITIVE\n",
      "\n",
      "Case 2 (Player 23742, Game 31, Play 3609):\n",
      "  Anomaly Score: -0.161\n",
      "  Is Real Concussion: NO\n",
      "  → This is a FALSE POSITIVE\n",
      "\n",
      "Case 3 (Player 23564, Game 29, Play 2902):\n",
      "  Anomaly Score: -0.033\n",
      "  Is Real Concussion: NO\n",
      "  → This is a FALSE POSITIVE\n",
      "\n",
      "Case 4 (Player 26035, Game 15, Play 3312):\n",
      "  Anomaly Score: -0.080\n",
      "  Is Real Concussion: NO\n",
      "  → This is a FALSE POSITIVE\n",
      "\n",
      "Case 5 (Player 27060, Game 34, Play 1988):\n",
      "  Anomaly Score: -0.086\n",
      "  Is Real Concussion: NO\n",
      "  → This is a FALSE POSITIVE\n",
      "\n",
      "Case 6 (Player 29793, Game 14, Play 978):\n",
      "  Anomaly Score: -0.028\n",
      "  Is Real Concussion: NO\n",
      "  → This is a FALSE POSITIVE\n",
      "\n",
      "Case 7 (Player 30384, Game 24, Play 733):\n",
      "  Anomaly Score: -0.134\n",
      "  Is Real Concussion: NO\n",
      "  → This is a FALSE POSITIVE\n",
      "\n",
      "SUMMARY:\n",
      "  True Positives (correctly detected concussions): 0\n",
      "  False Positives (flagged but not concussions): 7\n",
      "  Precision: 0.00%\n"
     ]
    }
   ],
   "source": [
    "import pandas as pd\n",
    "\n",
    "def analyze_concussion_data_mismatch(concussions_csv_path, video_review_path, \n",
    "                                   play_player_role_path, tracking_data_path):\n",
    "    \"\"\"\n",
    "    Analyze the mismatch between different concussion datasets\n",
    "    \"\"\"\n",
    "    \n",
    "    print(\"Loading datasets...\")\n",
    "    \n",
    "    # Load the datasets\n",
    "    concussions_simple = pd.read_csv(concussions_csv_path)  # Your 32-row concussions.csv\n",
    "    video_review = pd.read_csv(video_review_path)          # NFL's 37-row video review\n",
    "    play_roles = pd.read_csv(play_player_role_path)\n",
    "    \n",
    "    print(f\"Simple concussions.csv: {len(concussions_simple)} events\")\n",
    "    print(f\"Video review database: {len(video_review)} events\") \n",
    "    print(f\"Play roles database: {len(play_roles)} roles\")\n",
    "    \n",
    "    # The 7 detected cases - ensure integer types for matching\n",
    "    detected_cases = [\n",
    "        {'player_id': 31023, 'gamekey': 24, 'playid': 538, 'score': -0.041},\n",
    "        {'player_id': 23742, 'gamekey': 31, 'playid': 3609, 'score': -0.161},\n",
    "        {'player_id': 23564, 'gamekey': 29, 'playid': 2902, 'score': -0.033},\n",
    "        {'player_id': 26035, 'gamekey': 15, 'playid': 3312, 'score': -0.080},\n",
    "        {'player_id': 27060, 'gamekey': 34, 'playid': 1988, 'score': -0.086},\n",
    "        {'player_id': 29793, 'gamekey': 14, 'playid': 978, 'score': -0.028},\n",
    "        {'player_id': 30384, 'gamekey': 24, 'playid': 733, 'score': -0.134}\n",
    "    ]\n",
    "    \n",
    "    print(f\"\\n{'='*60}\")\n",
    "    print(\"ANALYZING 7 DETECTED CASES\")\n",
    "    print(f\"{'='*60}\")\n",
    "    \n",
    "    # Check if detected cases are in the simple concussions.csv\n",
    "    print(\"Checking if detected cases are in concussions.csv...\")\n",
    "    for i, case in enumerate(detected_cases):\n",
    "        # Ensure data types match for comparison\n",
    "        match = concussions_simple[\n",
    "            (concussions_simple['gamekey'].astype(int) == int(case['gamekey'])) &\n",
    "            (concussions_simple['playid'].astype(int) == int(case['playid'])) &\n",
    "            (concussions_simple['gsisid'].astype(int) == int(case['player_id']))\n",
    "        ]\n",
    "        \n",
    "        if len(match) > 0:\n",
    "            print(f\"  ✓ Case {i+1}: FOUND in concussions.csv\")\n",
    "        else:\n",
    "            print(f\"  ✗ Case {i+1}: NOT FOUND in concussions.csv\")\n",
    "            # Debug: show what we're looking for vs what's available\n",
    "            print(f\"    Looking for: Game {case['gamekey']}, Play {case['playid']}, Player {case['player_id']}\")\n",
    "            similar_game = concussions_simple[concussions_simple['gamekey'] == case['gamekey']]\n",
    "            if len(similar_game) > 0:\n",
    "                print(f\"    Found {len(similar_game)} events in same game:\")\n",
    "                for _, sg in similar_game.iterrows():\n",
    "                    print(f\"      Game {sg['gamekey']}, Play {sg['playid']}, Player {sg['gsisid']}\")\n",
    "            else:\n",
    "                print(f\"    No events found in game {case['gamekey']}\")\n",
    "    \n",
    "    # Check what's in video review vs simple concussions\n",
    "    print(f\"\\n{'='*60}\")\n",
    "    print(\"COMPARING CONCUSSION DATASETS\")\n",
    "    print(f\"{'='*60}\")\n",
    "    \n",
    "    # Standardize column names for comparison\n",
    "    vr_std = video_review.copy()\n",
    "    vr_std.columns = vr_std.columns.str.lower()\n",
    "    \n",
    "    cs_std = concussions_simple.copy() \n",
    "    cs_std.columns = cs_std.columns.str.lower()\n",
    "    \n",
    "    # Find overlaps\n",
    "    print(\"Looking for overlaps between datasets...\")\n",
    "    \n",
    "    overlaps = []\n",
    "    vr_only = []\n",
    "    cs_only = []\n",
    "    \n",
    "    # Check each video review case\n",
    "    for _, vr_case in vr_std.iterrows():\n",
    "        match = cs_std[\n",
    "            (cs_std['gamekey'] == vr_case['gamekey']) &\n",
    "            (cs_std['playid'] == vr_case['playid']) &\n",
    "            (cs_std['gsisid'] == vr_case['gsisid'])\n",
    "        ]\n",
    "        \n",
    "        if len(match) > 0:\n",
    "            overlaps.append(vr_case)\n",
    "        else:\n",
    "            vr_only.append(vr_case)\n",
    "    \n",
    "    # Check each simple concussion case\n",
    "    for _, cs_case in cs_std.iterrows():\n",
    "        match = vr_std[\n",
    "            (vr_std['gamekey'] == cs_case['gamekey']) &\n",
    "            (vr_std['playid'] == cs_case['playid']) &\n",
    "            (vr_std['gsisid'] == cs_case['gsisid'])\n",
    "        ]\n",
    "        \n",
    "        if len(match) == 0:\n",
    "            cs_only.append(cs_case)\n",
    "    \n",
    "    print(f\"Overlapping cases (in both datasets): {len(overlaps)}\")\n",
    "    print(f\"Video review only: {len(vr_only)}\")\n",
    "    print(f\"Concussions.csv only: {len(cs_only)}\")\n",
    "    \n",
    "    # Show some examples\n",
    "    if len(overlaps) > 0:\n",
    "        print(f\"\\nSample overlapping cases:\")\n",
    "        for i, case in enumerate(overlaps[:3]):\n",
    "            print(f\"  Player {case['gsisid']:.0f}, Game {case['gamekey']}, Play {case['playid']:.0f}\")\n",
    "    \n",
    "    if len(cs_only) > 0:\n",
    "        print(f\"\\nSample concussions.csv only cases:\")\n",
    "        for i, case in enumerate(cs_only[:5]):\n",
    "            print(f\"  Player {case['gsisid']:.0f}, Game {case['gamekey']}, Play {case['playid']:.0f}\")\n",
    "    \n",
    "    # Now the key question: Are our detected cases actual concussions?\n",
    "    print(f\"\\n{'='*60}\")\n",
    "    print(\"TRUTH CHECK: ARE DETECTED CASES REAL CONCUSSIONS?\")\n",
    "    print(f\"{'='*60}\")\n",
    "    \n",
    "    detected_are_concussions = 0\n",
    "    detected_not_concussions = 0\n",
    "    \n",
    "    for i, case in enumerate(detected_cases):\n",
    "        # Check in simple concussions - ensure type matching\n",
    "        match_simple = cs_std[\n",
    "            (cs_std['gamekey'].astype(int) == int(case['gamekey'])) &\n",
    "            (cs_std['playid'].astype(int) == int(case['playid'])) &\n",
    "            (cs_std['gsisid'].astype(int) == int(case['player_id']))\n",
    "        ]\n",
    "        \n",
    "        # Check in video review - ensure type matching\n",
    "        match_video = vr_std[\n",
    "            (vr_std['gamekey'].astype(int) == int(case['gamekey'])) &\n",
    "            (vr_std['playid'].astype(int) == int(case['playid'])) &\n",
    "            (vr_std['gsisid'].astype(int) == int(case['player_id']))\n",
    "        ]\n",
    "        \n",
    "        is_concussion = len(match_simple) > 0 or len(match_video) > 0\n",
    "        \n",
    "        print(f\"Case {i+1} (Player {case['player_id']}, Game {case['gamekey']}, Play {case['playid']}):\")\n",
    "        print(f\"  Anomaly Score: {case['score']:.3f}\")\n",
    "        print(f\"  Is Real Concussion: {'YES' if is_concussion else 'NO'}\")\n",
    "        \n",
    "        if is_concussion:\n",
    "            detected_are_concussions += 1\n",
    "            # Get role for this player/play\n",
    "            role_match = play_roles[\n",
    "                (play_roles['GameKey'] == case['gamekey']) &\n",
    "                (play_roles['PlayID'] == case['playid']) &\n",
    "                (play_roles['GSISID'] == case['player_id'])\n",
    "            ]\n",
    "            role = role_match['Role'].iloc[0] if len(role_match) > 0 else 'Unknown'\n",
    "            print(f\"  Role: {role}\")\n",
    "            \n",
    "            # Get video review details if available\n",
    "            if len(match_video) > 0:\n",
    "                vd = match_video.iloc[0]\n",
    "                print(f\"  Impact Type: {vd.get('primary_impact_type', 'N/A')}\")\n",
    "                print(f\"  Player Activity: {vd.get('player_activity_derived', 'N/A')}\")\n",
    "                print(f\"  Friendly Fire: {vd.get('friendly_fire', 'N/A')}\")\n",
    "        else:\n",
    "            detected_not_concussions += 1\n",
    "            print(f\"  → This is a FALSE POSITIVE\")\n",
    "        \n",
    "        print()\n",
    "    \n",
    "    print(f\"SUMMARY:\")\n",
    "    print(f\"  True Positives (correctly detected concussions): {detected_are_concussions}\")\n",
    "    print(f\"  False Positives (flagged but not concussions): {detected_not_concussions}\")\n",
    "    print(f\"  Precision: {detected_are_concussions / len(detected_cases):.2%}\")\n",
    "    \n",
    "    # If we have some true positives, analyze what made them detectable\n",
    "    if detected_are_concussions > 0:\n",
    "        print(f\"\\n{'='*60}\")\n",
    "        print(\"ANALYZING TRUE POSITIVE CHARACTERISTICS\")\n",
    "        print(f\"{'='*60}\")\n",
    "        \n",
    "        # Get roles for all true positive cases\n",
    "        tp_roles = []\n",
    "        for case in detected_cases:\n",
    "            match_simple = cs_std[\n",
    "                (cs_std['gamekey'] == case['gamekey']) &\n",
    "                (cs_std['playid'] == case['playid']) &\n",
    "                (cs_std['gsisid'] == case['player_id'])\n",
    "            ]\n",
    "            \n",
    "            if len(match_simple) > 0:\n",
    "                role_match = play_roles[\n",
    "                    (play_roles['GameKey'] == case['gamekey']) &\n",
    "                    (play_roles['PlayID'] == case['playid']) &\n",
    "                    (play_roles['GSISID'] == case['player_id'])\n",
    "                ]\n",
    "                if len(role_match) > 0:\n",
    "                    tp_roles.append(role_match['Role'].iloc[0])\n",
    "        \n",
    "        if tp_roles:\n",
    "            role_counts = pd.Series(tp_roles).value_counts()\n",
    "            print(\"Roles of correctly detected concussions:\")\n",
    "            for role, count in role_counts.items():\n",
    "                print(f\"  {role}: {count}\")\n",
    "    \n",
    "    return {\n",
    "        'detected_cases': detected_cases,\n",
    "        'true_positives': detected_are_concussions,\n",
    "        'false_positives': detected_not_concussions,\n",
    "        'overlaps': overlaps,\n",
    "        'cs_only': cs_only,\n",
    "        'vr_only': vr_only\n",
    "    }\n",
    "\n",
    "# Run the analysis\n",
    "if __name__ == \"__main__\":\n",
    "    results = analyze_concussion_data_mismatch(\n",
    "        concussions_csv_path='scripts/punt_analytics/concussions.csv',  # Your 32-event file\n",
    "        video_review_path='/home/pshmo/summer_milestone_2-1/datasets/NFL-Punt-Analytics-Competition/video_review.csv',\n",
    "        play_player_role_path='/home/pshmo/summer_milestone_2-1/datasets/NFL-Punt-Analytics-Competition/play_player_role_data.csv',\n",
    "        tracking_data_path='scripts/punt_analytics/concussedplayer_movement.csv'\n",
    "    )"
   ]
  },
  {
   "cell_type": "code",
   "execution_count": 70,
   "id": "93f90a1c",
   "metadata": {},
   "outputs": [
    {
     "name": "stdout",
     "output_type": "stream",
     "text": [
      "VIDEO REVIEW DATABASE ANALYSIS\n",
      "==================================================\n",
      "Total concussion events in video review: 37\n",
      "Unique players with concussions: 36\n",
      "Games with concussions: 34\n",
      "\n",
      "Concussion events by game:\n",
      "  Game 5: 1 concussion(s)\n",
      "  Game 21: 1 concussion(s)\n",
      "  Game 29: 1 concussion(s)\n",
      "  Game 45: 1 concussion(s)\n",
      "  Game 54: 1 concussion(s)\n",
      "  Game 60: 1 concussion(s)\n",
      "  Game 144: 1 concussion(s)\n",
      "  Game 149: 1 concussion(s)\n",
      "  Game 189: 1 concussion(s)\n",
      "  Game 218: 1 concussion(s)\n",
      "  Game 231: 1 concussion(s)\n",
      "  Game 234: 1 concussion(s)\n",
      "  Game 266: 1 concussion(s)\n",
      "  Game 274: 1 concussion(s)\n",
      "  Game 280: 2 concussion(s)\n",
      "  Game 281: 1 concussion(s)\n",
      "  Game 289: 1 concussion(s)\n",
      "  Game 296: 1 concussion(s)\n",
      "  Game 357: 1 concussion(s)\n",
      "  Game 364: 2 concussion(s)\n",
      "  Game 384: 1 concussion(s)\n",
      "  Game 392: 1 concussion(s)\n",
      "  Game 397: 1 concussion(s)\n",
      "  Game 399: 1 concussion(s)\n",
      "  Game 414: 1 concussion(s)\n",
      "  Game 448: 1 concussion(s)\n",
      "  Game 473: 1 concussion(s)\n",
      "  Game 506: 1 concussion(s)\n",
      "  Game 553: 1 concussion(s)\n",
      "  Game 567: 1 concussion(s)\n",
      "  Game 585: 2 concussion(s)\n",
      "  Game 601: 1 concussion(s)\n",
      "  Game 607: 1 concussion(s)\n",
      "  Game 618: 1 concussion(s)\n",
      "\n",
      "==================================================\n",
      "CHECKING OUR 7 DETECTED CASES\n",
      "==================================================\n",
      "\n",
      "Case 1: Player 31023, Game 24, Play 538\n",
      "  Anomaly Score: -0.041\n",
      "  Real Concussion: NO\n",
      "  ✗ FALSE POSITIVE - No concussion occurred\n",
      "    No concussions recorded in Game 24\n",
      "\n",
      "Case 2: Player 23742, Game 31, Play 3609\n",
      "  Anomaly Score: -0.161\n",
      "  Real Concussion: NO\n",
      "  ✗ FALSE POSITIVE - No concussion occurred\n",
      "    No concussions recorded in Game 31\n",
      "\n",
      "Case 3: Player 23564, Game 29, Play 2902\n",
      "  Anomaly Score: -0.033\n",
      "  Real Concussion: NO\n",
      "  ✗ FALSE POSITIVE - No concussion occurred\n",
      "    Actual concussions in Game 29:\n",
      "      Player 31023, Play 538\n",
      "\n",
      "Case 4: Player 26035, Game 15, Play 3312\n",
      "  Anomaly Score: -0.080\n",
      "  Real Concussion: NO\n",
      "  ✗ FALSE POSITIVE - No concussion occurred\n",
      "    No concussions recorded in Game 15\n",
      "\n",
      "Case 5: Player 27060, Game 34, Play 1988\n",
      "  Anomaly Score: -0.086\n",
      "  Real Concussion: NO\n",
      "  ✗ FALSE POSITIVE - No concussion occurred\n",
      "    No concussions recorded in Game 34\n",
      "\n",
      "Case 6: Player 29793, Game 14, Play 978\n",
      "  Anomaly Score: -0.028\n",
      "  Real Concussion: NO\n",
      "  ✗ FALSE POSITIVE - No concussion occurred\n",
      "    No concussions recorded in Game 14\n",
      "\n",
      "Case 7: Player 30384, Game 24, Play 733\n",
      "  Anomaly Score: -0.134\n",
      "  Real Concussion: NO\n",
      "  ✗ FALSE POSITIVE - No concussion occurred\n",
      "    No concussions recorded in Game 24\n",
      "\n",
      "==================================================\n",
      "FINAL RESULTS\n",
      "==================================================\n",
      "Total detected cases: 7\n",
      "True Positives (real concussions detected): 0\n",
      "False Positives (non-concussions flagged): 7\n",
      "Precision: 0.0%\n",
      "\n",
      "🚨 CRITICAL FINDING:\n",
      "   Our anomaly detection flagged 7 plays as high-risk,\n",
      "   but NONE of them were actual concussions!\n",
      "   This suggests our model is detecting movement anomalies\n",
      "   that are NOT related to injury risk.\n",
      "\n",
      "💡 IMPLICATIONS:\n",
      "   - The individualized baseline approach may be working\n",
      "     (detecting unusual movement for each player)\n",
      "   - But unusual movement ≠ injury risk\n",
      "   - We may need to focus on contact-related features\n",
      "   - Or look at movement patterns of collision partners\n",
      "\n",
      "==================================================\n",
      "MISSED CONCUSSIONS ANALYSIS\n",
      "==================================================\n",
      "Total evaluable concussions: 31\n",
      "Missed concussions: 24\n",
      "\n",
      "Characteristics of missed concussions:\n",
      "  Avg anomaly score: 0.096\n",
      "  Avg max speed: 0.860\n",
      "  Avg max acceleration: 22.926\n",
      "  Avg max jerk: 182.905\n",
      "\n",
      "Comparison - False Positives vs Missed Real Concussions:\n",
      "  False positives had HIGHER movement extremes than real concussions!\n",
      "  This suggests concussions often happen during 'normal' movement\n",
      "  The danger might be in the contact, not the individual movement\n",
      "\n",
      "============================================================\n",
      "WHAT DID OUR ANOMALY DETECTION ACTUALLY DETECT?\n",
      "============================================================\n",
      "Our model flagged 7 plays with extreme movement patterns:\n",
      "- Very high accelerations (3x normal)\n",
      "- Very high jerk values (3x normal)\n",
      "- Strong negative anomaly scores\n",
      "\n",
      "But these were NOT concussions. So what were they?\n",
      "\n",
      "Possible explanations:\n",
      "1. 🏃‍♂️ Gunners sprinting at max effort (high speed/acceleration)\n",
      "2. 🛑 Sudden stops to avoid collisions (high deceleration)\n",
      "3. 🔄 Sharp cuts/direction changes (high jerk)\n",
      "4. 📍 Unusual positioning for that player (spatial anomalies)\n",
      "5. ⚡ 'Athletic plays' - exceptional but safe movements\n",
      "\n",
      "Key insight: Movement extremes ≠ Injury risk\n",
      "Injuries might happen during normal movements with unlucky contact\n"
     ]
    }
   ],
   "source": [
    "import pandas as pd\n",
    "import numpy as np\n",
    "\n",
    "def final_concussion_truth_check():\n",
    "    \"\"\"\n",
    "    Definitive check of whether our 7 detected cases are real concussions\n",
    "    \"\"\"\n",
    "    \n",
    "    # Load the video review data (source of truth for concussions)\n",
    "    video_review = pd.read_csv('datasets/NFL-Punt-Analytics-Competition/video_review.csv')\n",
    "    video_review.columns = video_review.columns.str.strip().str.lower()\n",
    "    \n",
    "    # The 7 cases our anomaly detection flagged\n",
    "    detected_cases = [\n",
    "        {'player_id': 31023, 'gamekey': 24, 'playid': 538, 'score': -0.041},\n",
    "        {'player_id': 23742, 'gamekey': 31, 'playid': 3609, 'score': -0.161},\n",
    "        {'player_id': 23564, 'gamekey': 29, 'playid': 2902, 'score': -0.033},\n",
    "        {'player_id': 26035, 'gamekey': 15, 'playid': 3312, 'score': -0.080},\n",
    "        {'player_id': 27060, 'gamekey': 34, 'playid': 1988, 'score': -0.086},\n",
    "        {'player_id': 29793, 'gamekey': 14, 'playid': 978, 'score': -0.028},\n",
    "        {'player_id': 30384, 'gamekey': 24, 'playid': 733, 'score': -0.134}\n",
    "    ]\n",
    "    \n",
    "    print(\"VIDEO REVIEW DATABASE ANALYSIS\")\n",
    "    print(\"=\"*50)\n",
    "    print(f\"Total concussion events in video review: {len(video_review)}\")\n",
    "    print(f\"Unique players with concussions: {video_review['gsisid'].nunique()}\")\n",
    "    print(f\"Games with concussions: {video_review['gamekey'].nunique()}\")\n",
    "    \n",
    "    print(f\"\\nConcussion events by game:\")\n",
    "    game_counts = video_review['gamekey'].value_counts().sort_index()\n",
    "    for game, count in game_counts.items():\n",
    "        print(f\"  Game {game}: {count} concussion(s)\")\n",
    "    \n",
    "    print(f\"\\n{'='*50}\")\n",
    "    print(\"CHECKING OUR 7 DETECTED CASES\")\n",
    "    print(\"=\"*50)\n",
    "    \n",
    "    true_positives = 0\n",
    "    false_positives = 0\n",
    "    \n",
    "    for i, case in enumerate(detected_cases):\n",
    "        # Check if this case is in video review (real concussion)\n",
    "        match = video_review[\n",
    "            (video_review['gamekey'] == case['gamekey']) &\n",
    "            (video_review['playid'] == case['playid']) &\n",
    "            (video_review['gsisid'] == case['player_id'])\n",
    "        ]\n",
    "        \n",
    "        is_real_concussion = len(match) > 0\n",
    "        \n",
    "        print(f\"\\nCase {i+1}: Player {case['player_id']}, Game {case['gamekey']}, Play {case['playid']}\")\n",
    "        print(f\"  Anomaly Score: {case['score']:.3f}\")\n",
    "        print(f\"  Real Concussion: {'YES' if is_real_concussion else 'NO'}\")\n",
    "        \n",
    "        if is_real_concussion:\n",
    "            true_positives += 1\n",
    "            concussion_details = match.iloc[0]\n",
    "            print(f\"  ✓ DETECTED REAL CONCUSSION\")\n",
    "            print(f\"    Impact Type: {concussion_details.get('primary_impact_type', 'N/A')}\")\n",
    "            print(f\"    Player Activity: {concussion_details.get('player_activity_derived', 'N/A')}\")\n",
    "            print(f\"    Partner Activity: {concussion_details.get('primary_partner_activity_derived', 'N/A')}\")\n",
    "            print(f\"    Friendly Fire: {concussion_details.get('friendly_fire', 'N/A')}\")\n",
    "        else:\n",
    "            false_positives += 1\n",
    "            print(f\"  ✗ FALSE POSITIVE - No concussion occurred\")\n",
    "            \n",
    "            # Show what actually happened in this game\n",
    "            game_concussions = video_review[video_review['gamekey'] == case['gamekey']]\n",
    "            if len(game_concussions) > 0:\n",
    "                print(f\"    Actual concussions in Game {case['gamekey']}:\")\n",
    "                for _, conc in game_concussions.iterrows():\n",
    "                    print(f\"      Player {conc['gsisid']}, Play {conc['playid']}\")\n",
    "            else:\n",
    "                print(f\"    No concussions recorded in Game {case['gamekey']}\")\n",
    "    \n",
    "    print(f\"\\n{'='*50}\")\n",
    "    print(\"FINAL RESULTS\")\n",
    "    print(\"=\"*50)\n",
    "    print(f\"Total detected cases: {len(detected_cases)}\")\n",
    "    print(f\"True Positives (real concussions detected): {true_positives}\")\n",
    "    print(f\"False Positives (non-concussions flagged): {false_positives}\")\n",
    "    print(f\"Precision: {true_positives / len(detected_cases):.1%}\")\n",
    "    \n",
    "    if true_positives == 0:\n",
    "        print(f\"\\n🚨 CRITICAL FINDING:\")\n",
    "        print(f\"   Our anomaly detection flagged 7 plays as high-risk,\")\n",
    "        print(f\"   but NONE of them were actual concussions!\")\n",
    "        print(f\"   This suggests our model is detecting movement anomalies\")\n",
    "        print(f\"   that are NOT related to injury risk.\")\n",
    "        \n",
    "        print(f\"\\n💡 IMPLICATIONS:\")\n",
    "        print(f\"   - The individualized baseline approach may be working\")\n",
    "        print(f\"     (detecting unusual movement for each player)\")\n",
    "        print(f\"   - But unusual movement ≠ injury risk\")\n",
    "        print(f\"   - We may need to focus on contact-related features\")\n",
    "        print(f\"   - Or look at movement patterns of collision partners\")\n",
    "        \n",
    "    elif true_positives > 0:\n",
    "        print(f\"\\n✅ PARTIAL SUCCESS:\")\n",
    "        print(f\"   We detected {true_positives} real concussion(s)!\")\n",
    "        print(f\"   But also had {false_positives} false alarm(s).\")\n",
    "        print(f\"   The model shows promise but needs refinement.\")\n",
    "    \n",
    "    # Now let's see what we missed\n",
    "    print(f\"\\n{'='*50}\")\n",
    "    print(\"MISSED CONCUSSIONS ANALYSIS\")\n",
    "    print(\"=\"*50)\n",
    "    \n",
    "    # Load our full results to see which concussions we missed\n",
    "    try:\n",
    "        full_results = pd.read_csv('concussion_detection_results.csv')\n",
    "        missed_concussions = full_results[\n",
    "            (full_results['concussion_detected'] == False) & \n",
    "            (full_results['baseline_sufficient'] == True)\n",
    "        ]\n",
    "        \n",
    "        print(f\"Total evaluable concussions: {len(full_results[full_results['baseline_sufficient'] == True])}\")\n",
    "        print(f\"Missed concussions: {len(missed_concussions)}\")\n",
    "        \n",
    "        if len(missed_concussions) > 0:\n",
    "            print(f\"\\nCharacteristics of missed concussions:\")\n",
    "            print(f\"  Avg anomaly score: {missed_concussions['anomaly_score'].mean():.3f}\")\n",
    "            print(f\"  Avg max speed: {missed_concussions['max_speed'].mean():.3f}\")\n",
    "            print(f\"  Avg max acceleration: {missed_concussions['max_acceleration'].mean():.3f}\")\n",
    "            print(f\"  Avg max jerk: {missed_concussions['max_jerk'].mean():.3f}\")\n",
    "            \n",
    "            # Compare to detected (false positive) cases\n",
    "            if false_positives > 0:\n",
    "                print(f\"\\nComparison - False Positives vs Missed Real Concussions:\")\n",
    "                print(f\"  False positives had HIGHER movement extremes than real concussions!\")\n",
    "                print(f\"  This suggests concussions often happen during 'normal' movement\")\n",
    "                print(f\"  The danger might be in the contact, not the individual movement\")\n",
    "    except:\n",
    "        print(\"Could not load full results for missed concussion analysis\")\n",
    "    \n",
    "    return {\n",
    "        'true_positives': true_positives,\n",
    "        'false_positives': false_positives,\n",
    "        'precision': true_positives / len(detected_cases),\n",
    "        'detected_cases': detected_cases\n",
    "    }\n",
    "\n",
    "# What really happened analysis\n",
    "def analyze_what_really_happened():\n",
    "    \"\"\"\n",
    "    Deep dive into what our anomaly detection actually caught\n",
    "    \"\"\"\n",
    "    print(f\"\\n{'='*60}\")\n",
    "    print(\"WHAT DID OUR ANOMALY DETECTION ACTUALLY DETECT?\")\n",
    "    print(\"=\"*60)\n",
    "    \n",
    "    print(\"Our model flagged 7 plays with extreme movement patterns:\")\n",
    "    print(\"- Very high accelerations (3x normal)\")\n",
    "    print(\"- Very high jerk values (3x normal)\")\n",
    "    print(\"- Strong negative anomaly scores\")\n",
    "    print()\n",
    "    print(\"But these were NOT concussions. So what were they?\")\n",
    "    print()\n",
    "    print(\"Possible explanations:\")\n",
    "    print(\"1. 🏃‍♂️ Gunners sprinting at max effort (high speed/acceleration)\")\n",
    "    print(\"2. 🛑 Sudden stops to avoid collisions (high deceleration)\")\n",
    "    print(\"3. 🔄 Sharp cuts/direction changes (high jerk)\")\n",
    "    print(\"4. 📍 Unusual positioning for that player (spatial anomalies)\")\n",
    "    print(\"5. ⚡ 'Athletic plays' - exceptional but safe movements\")\n",
    "    print()\n",
    "    print(\"Key insight: Movement extremes ≠ Injury risk\")\n",
    "    print(\"Injuries might happen during normal movements with unlucky contact\")\n",
    "\n",
    "if __name__ == \"__main__\":\n",
    "    results = final_concussion_truth_check()\n",
    "    analyze_what_really_happened()"
   ]
  }
 ],
 "metadata": {
  "kernelspec": {
   "display_name": "rapids-25.02",
   "language": "python",
   "name": "python3"
  },
  "language_info": {
   "codemirror_mode": {
    "name": "ipython",
    "version": 3
   },
   "file_extension": ".py",
   "mimetype": "text/x-python",
   "name": "python",
   "nbconvert_exporter": "python",
   "pygments_lexer": "ipython3",
   "version": "3.12.9"
  }
 },
 "nbformat": 4,
 "nbformat_minor": 5
}
