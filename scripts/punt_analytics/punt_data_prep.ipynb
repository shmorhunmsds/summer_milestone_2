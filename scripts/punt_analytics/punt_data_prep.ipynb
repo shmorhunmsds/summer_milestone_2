{
 "cells": [
  {
   "cell_type": "code",
   "execution_count": 1,
   "id": "7f798176",
   "metadata": {},
   "outputs": [
    {
     "name": "stderr",
     "output_type": "stream",
     "text": [
      "/var/folders/4k/nl2zz_ln4d55dcscl_vvjglh0000gn/T/ipykernel_5623/816962404.py:6: DtypeWarning: Columns (10) have mixed types. Specify dtype option on import or set low_memory=False.\n",
      "  df = pd.read_csv(path)\n"
     ]
    }
   ],
   "source": [
    "import pandas as pd\n",
    "import numpy as np\n",
    "\n",
    "def load_and_normalize(path):\n",
    "    \"\"\"Load a CSV, strip and lowercase its column names.\"\"\"\n",
    "    df = pd.read_csv(path)\n",
    "    df.columns = df.columns.str.strip().str.lower()\n",
    "    return df\n",
    "\n",
    "# 1. LOAD & NORMALIZE\n",
    "# -------------------\n",
    "games            = load_and_normalize('/Users/petershmorhun/Documents/GitHub/summer_milestone_2/datasets/NFL-Punt-Analytics-Competition/game_data.csv')\n",
    "play_info        = load_and_normalize('/Users/petershmorhun/Documents/GitHub/summer_milestone_2/datasets/NFL-Punt-Analytics-Competition/play_information.csv')\n",
    "player_roles     = load_and_normalize('/Users/petershmorhun/Documents/GitHub/summer_milestone_2/datasets/NFL-Punt-Analytics-Competition/play_player_role_data.csv')\n",
    "player_positions = load_and_normalize('/Users/petershmorhun/Documents/GitHub/summer_milestone_2/datasets/NFL-Punt-Analytics-Competition/player_punt_data.csv')\n",
    "video_review     = load_and_normalize('/Users/petershmorhun/Documents/GitHub/summer_milestone_2/datasets/NFL-Punt-Analytics-Competition/video_review.csv')\n",
    "\n",
    "# NGS chunks for 2016 & 2017\n",
    "ngs_paths = [\n",
    "    '/Users/petershmorhun/Documents/GitHub/summer_milestone_2/datasets/NFL-Punt-Analytics-Competition/NGS-2016-pre.csv',\n",
    "    '/Users/petershmorhun/Documents/GitHub/summer_milestone_2/datasets/NFL-Punt-Analytics-Competition/NGS-2016-post.csv',\n",
    "    '/Users/petershmorhun/Documents/GitHub/summer_milestone_2/datasets/NFL-Punt-Analytics-Competition/NGS-2016-reg-wk1-6.csv',\n",
    "    '/Users/petershmorhun/Documents/GitHub/summer_milestone_2/datasets/NFL-Punt-Analytics-Competition/NGS-2016-reg-wk7-12.csv',\n",
    "    '/Users/petershmorhun/Documents/GitHub/summer_milestone_2/datasets/NFL-Punt-Analytics-Competition/NGS-2016-reg-wk13-17.csv',\n",
    "    '/Users/petershmorhun/Documents/GitHub/summer_milestone_2/datasets/NFL-Punt-Analytics-Competition/NGS-2017-pre.csv',\n",
    "    '/Users/petershmorhun/Documents/GitHub/summer_milestone_2/datasets/NFL-Punt-Analytics-Competition/NGS-2017-post.csv',\n",
    "    '/Users/petershmorhun/Documents/GitHub/summer_milestone_2/datasets/NFL-Punt-Analytics-Competition/NGS-2017-reg-wk1-6.csv',\n",
    "    '/Users/petershmorhun/Documents/GitHub/summer_milestone_2/datasets/NFL-Punt-Analytics-Competition/NGS-2017-reg-wk7-12.csv',\n",
    "    '/Users/petershmorhun/Documents/GitHub/summer_milestone_2/datasets/NFL-Punt-Analytics-Competition/NGS-2017-reg-wk13-17.csv',\n",
    "]\n",
    "ngs = pd.concat([load_and_normalize(p) for p in ngs_paths], ignore_index=True)"
   ]
  },
  {
   "cell_type": "code",
   "execution_count": 2,
   "id": "7fa43a90",
   "metadata": {},
   "outputs": [
    {
     "data": {
      "application/vnd.microsoft.datawrangler.viewer.v0+json": {
       "columns": [
        {
         "name": "index",
         "rawType": "int64",
         "type": "integer"
        },
        {
         "name": "season_year",
         "rawType": "int64",
         "type": "integer"
        },
        {
         "name": "gamekey",
         "rawType": "int64",
         "type": "integer"
        },
        {
         "name": "playid",
         "rawType": "int64",
         "type": "integer"
        },
        {
         "name": "gsisid",
         "rawType": "float64",
         "type": "float"
        },
        {
         "name": "time",
         "rawType": "object",
         "type": "string"
        },
        {
         "name": "x",
         "rawType": "float64",
         "type": "float"
        },
        {
         "name": "y",
         "rawType": "float64",
         "type": "float"
        },
        {
         "name": "dis",
         "rawType": "float64",
         "type": "float"
        },
        {
         "name": "o",
         "rawType": "float64",
         "type": "float"
        },
        {
         "name": "dir",
         "rawType": "float64",
         "type": "float"
        },
        {
         "name": "event",
         "rawType": "object",
         "type": "unknown"
        }
       ],
       "ref": "0c1339f3-df21-4a08-aaa2-bb910f00d65a",
       "rows": [
        [
         "0",
         "2016",
         "6",
         "3236",
         "28943.0",
         "2016-08-13 01:38:02.900",
         "39.66999817",
         "30.69000053",
         "0.06",
         "308.0",
         "267.9400024",
         null
        ],
        [
         "1",
         "2016",
         "6",
         "3236",
         "32366.0",
         "2016-08-13 01:38:03.000",
         "39.56999969",
         "28.95000076",
         "0.02",
         "24.39999962",
         "284.35000610000003",
         null
        ],
        [
         "2",
         "2016",
         "6",
         "3236",
         "31810.0",
         "2016-08-13 01:38:03.000",
         "39.74000168",
         "47.20999908",
         "0.0",
         "15.76000023",
         "15.42000008",
         null
        ],
        [
         "3",
         "2016",
         "6",
         "3236",
         "32331.0",
         "2016-08-13 01:38:03.000",
         "40.36999893",
         "29.96999931",
         "0.02",
         "13.56999969",
         "246.4900055",
         null
        ],
        [
         "4",
         "2016",
         "6",
         "3236",
         "28932.0",
         "2016-08-13 01:38:03.000",
         "39.33000183",
         "28.02000046",
         "0.09",
         "324.89001460000003",
         "230.10000609999997",
         null
        ]
       ],
       "shape": {
        "columns": 11,
        "rows": 5
       }
      },
      "text/html": [
       "<div>\n",
       "<style scoped>\n",
       "    .dataframe tbody tr th:only-of-type {\n",
       "        vertical-align: middle;\n",
       "    }\n",
       "\n",
       "    .dataframe tbody tr th {\n",
       "        vertical-align: top;\n",
       "    }\n",
       "\n",
       "    .dataframe thead th {\n",
       "        text-align: right;\n",
       "    }\n",
       "</style>\n",
       "<table border=\"1\" class=\"dataframe\">\n",
       "  <thead>\n",
       "    <tr style=\"text-align: right;\">\n",
       "      <th></th>\n",
       "      <th>season_year</th>\n",
       "      <th>gamekey</th>\n",
       "      <th>playid</th>\n",
       "      <th>gsisid</th>\n",
       "      <th>time</th>\n",
       "      <th>x</th>\n",
       "      <th>y</th>\n",
       "      <th>dis</th>\n",
       "      <th>o</th>\n",
       "      <th>dir</th>\n",
       "      <th>event</th>\n",
       "    </tr>\n",
       "  </thead>\n",
       "  <tbody>\n",
       "    <tr>\n",
       "      <th>0</th>\n",
       "      <td>2016</td>\n",
       "      <td>6</td>\n",
       "      <td>3236</td>\n",
       "      <td>28943.0</td>\n",
       "      <td>2016-08-13 01:38:02.900</td>\n",
       "      <td>39.669998</td>\n",
       "      <td>30.690001</td>\n",
       "      <td>0.06</td>\n",
       "      <td>308.000000</td>\n",
       "      <td>267.940002</td>\n",
       "      <td>NaN</td>\n",
       "    </tr>\n",
       "    <tr>\n",
       "      <th>1</th>\n",
       "      <td>2016</td>\n",
       "      <td>6</td>\n",
       "      <td>3236</td>\n",
       "      <td>32366.0</td>\n",
       "      <td>2016-08-13 01:38:03.000</td>\n",
       "      <td>39.570000</td>\n",
       "      <td>28.950001</td>\n",
       "      <td>0.02</td>\n",
       "      <td>24.400000</td>\n",
       "      <td>284.350006</td>\n",
       "      <td>NaN</td>\n",
       "    </tr>\n",
       "    <tr>\n",
       "      <th>2</th>\n",
       "      <td>2016</td>\n",
       "      <td>6</td>\n",
       "      <td>3236</td>\n",
       "      <td>31810.0</td>\n",
       "      <td>2016-08-13 01:38:03.000</td>\n",
       "      <td>39.740002</td>\n",
       "      <td>47.209999</td>\n",
       "      <td>0.00</td>\n",
       "      <td>15.760000</td>\n",
       "      <td>15.420000</td>\n",
       "      <td>NaN</td>\n",
       "    </tr>\n",
       "    <tr>\n",
       "      <th>3</th>\n",
       "      <td>2016</td>\n",
       "      <td>6</td>\n",
       "      <td>3236</td>\n",
       "      <td>32331.0</td>\n",
       "      <td>2016-08-13 01:38:03.000</td>\n",
       "      <td>40.369999</td>\n",
       "      <td>29.969999</td>\n",
       "      <td>0.02</td>\n",
       "      <td>13.570000</td>\n",
       "      <td>246.490005</td>\n",
       "      <td>NaN</td>\n",
       "    </tr>\n",
       "    <tr>\n",
       "      <th>4</th>\n",
       "      <td>2016</td>\n",
       "      <td>6</td>\n",
       "      <td>3236</td>\n",
       "      <td>28932.0</td>\n",
       "      <td>2016-08-13 01:38:03.000</td>\n",
       "      <td>39.330002</td>\n",
       "      <td>28.020000</td>\n",
       "      <td>0.09</td>\n",
       "      <td>324.890015</td>\n",
       "      <td>230.100006</td>\n",
       "      <td>NaN</td>\n",
       "    </tr>\n",
       "  </tbody>\n",
       "</table>\n",
       "</div>"
      ],
      "text/plain": [
       "   season_year  gamekey  playid   gsisid                     time          x  \\\n",
       "0         2016        6    3236  28943.0  2016-08-13 01:38:02.900  39.669998   \n",
       "1         2016        6    3236  32366.0  2016-08-13 01:38:03.000  39.570000   \n",
       "2         2016        6    3236  31810.0  2016-08-13 01:38:03.000  39.740002   \n",
       "3         2016        6    3236  32331.0  2016-08-13 01:38:03.000  40.369999   \n",
       "4         2016        6    3236  28932.0  2016-08-13 01:38:03.000  39.330002   \n",
       "\n",
       "           y   dis           o         dir event  \n",
       "0  30.690001  0.06  308.000000  267.940002   NaN  \n",
       "1  28.950001  0.02   24.400000  284.350006   NaN  \n",
       "2  47.209999  0.00   15.760000   15.420000   NaN  \n",
       "3  29.969999  0.02   13.570000  246.490005   NaN  \n",
       "4  28.020000  0.09  324.890015  230.100006   NaN  "
      ]
     },
     "execution_count": 2,
     "metadata": {},
     "output_type": "execute_result"
    }
   ],
   "source": [
    "ngs.head()"
   ]
  },
  {
   "cell_type": "code",
   "execution_count": null,
   "id": "8659cb20",
   "metadata": {},
   "outputs": [],
   "source": [
    "ngs_grouped = ngs.groupby(['season_year', 'gamekey', 'playid', 'gsisid'])."
   ]
  },
  {
   "cell_type": "code",
   "execution_count": null,
   "id": "acb77640",
   "metadata": {},
   "outputs": [],
   "source": [
    "# 2. CLEAN & CAST\n",
    "# ----------------\n",
    "\n",
    "# Parse any ISO‐style dates in games & play_info\n",
    "for df in (games, play_info):\n",
    "    if 'game_date' in df.columns:\n",
    "        df['game_date'] = pd.to_datetime(df['game_date'])\n",
    "\n",
    "# Make sure keys are ints\n",
    "for df in (player_roles, player_positions, video_review):\n",
    "    for col in ('gamekey', 'playid', 'gsisid'):\n",
    "        if col in df.columns:\n",
    "            df[col] = df[col].astype(int)\n",
    "\n",
    "# Parse NGS timestamps if present\n",
    "if 'time' in ngs.columns:\n",
    "    ngs['time'] = pd.to_datetime(ngs['time'])"
   ]
  },
  {
   "cell_type": "code",
   "execution_count": null,
   "id": "82738d34",
   "metadata": {},
   "outputs": [],
   "source": [
    "# 2. CLEAN & CAST\n",
    "# ----------------\n",
    "\n",
    "# Parse any ISO‐style dates in games & play_info\n",
    "for df in (games, play_info):\n",
    "    if 'game_date' in df.columns:\n",
    "        df['game_date'] = pd.to_datetime(df['game_date'])\n",
    "\n",
    "# Make sure keys are ints\n",
    "for df in (player_roles, player_positions, video_review):\n",
    "    for col in ('gamekey', 'playid', 'gsisid'):\n",
    "        if col in df.columns:\n",
    "            df[col] = df[col].astype(int)\n",
    "\n",
    "# Parse NGS timestamps if present\n",
    "if 'time' in ngs.columns:\n",
    "    ngs['time'] = pd.to_datetime(ngs['time'])"
   ]
  },
  {
   "cell_type": "code",
   "execution_count": null,
   "id": "f5eecfbe",
   "metadata": {},
   "outputs": [],
   "source": [
    "# 3. MERGE BASE TABLE\n",
    "# -------------------\n",
    "\n",
    "# Start from each player’s role in each play\n",
    "df = player_roles.copy()\n",
    "\n",
    "# Merge play-level data\n",
    "df = df.merge(\n",
    "    play_info,\n",
    "    on=['gamekey','playid'],\n",
    "    how='left',\n",
    "    validate='many_to_one'\n",
    ")\n",
    "\n",
    "# Merge game-level data\n",
    "df = df.merge(\n",
    "    games.drop(columns=['game_date'], errors='ignore'),\n",
    "    on='gamekey',\n",
    "    how='left',\n",
    "    validate='many_to_one'\n",
    ")\n",
    "\n",
    "# Merge typical football position\n",
    "if {'gamekey','gsisid','position'}.issubset(player_positions.columns):\n",
    "    df = df.merge(\n",
    "        player_positions[['gamekey','gsisid','position']],\n",
    "        on=['gamekey','gsisid'],\n",
    "        how='left'\n",
    "    )\n",
    "\n",
    "# Select the video_review columns we want\n",
    "video_feats = video_review[[\n",
    "    'gamekey','playid','gsisid',\n",
    "    'player_activity_derived',\n",
    "    'turnover_related',\n",
    "    'primary_impact_type',\n",
    "    'primary_partner_activity_derived',\n",
    "    'friendly_fire'\n",
    "]]\n",
    "\n",
    "# Merge them in\n",
    "df = df.merge(\n",
    "    video_feats,\n",
    "    on=['gamekey','playid','gsisid'],\n",
    "    how='left'\n",
    ")\n",
    "\n",
    "# Fill NaNs for non-injured rows\n",
    "for c in [\n",
    "    'player_activity_derived',\n",
    "    'turnover_related',\n",
    "    'primary_impact_type',\n",
    "    'primary_partner_activity_derived',\n",
    "    'friendly_fire'\n",
    "]:\n",
    "    df[c] = df[c].fillna('NoInjury')\n",
    "\n",
    "# 5. BUILD TARGET—ANY INJURY\n",
    "# --------------------------\n",
    "\n",
    "inj = video_review[['gamekey','playid','gsisid']].copy()\n",
    "inj['injury'] = 1\n",
    "\n",
    "df = df.merge(inj, on=['gamekey','playid','gsisid'], how='left')\n",
    "df['injury'] = df['injury'].fillna(0).astype(int)"
   ]
  },
  {
   "cell_type": "code",
   "execution_count": null,
   "id": "9e453abe",
   "metadata": {},
   "outputs": [],
   "source": [
    "df.head()"
   ]
  },
  {
   "cell_type": "code",
   "execution_count": null,
   "id": "70c20648",
   "metadata": {},
   "outputs": [],
   "source": [
    "ngs.head()"
   ]
  },
  {
   "cell_type": "code",
   "execution_count": null,
   "id": "d6ab9195",
   "metadata": {},
   "outputs": [],
   "source": [
    "if {'gamekey','playid','gsisid','dis'}.issubset(ngs.columns):\n",
    "    ngs_summary = (\n",
    "        ngs\n",
    "        .groupby(['gamekey','playid','gsisid'], as_index=False)\n",
    "        .agg(\n",
    "            total_distance = ('dis','sum'),\n",
    "            max_step       = ('dis','max'),\n",
    "            mean_step      = ('dis','mean'),\n",
    "            n_timestamps   = ('time' if 'time' in ngs.columns else 'dis','count')     \n",
    "        )\n",
    "    )\n",
    "    df = df.merge(ngs_summary, on=['gamekey','playid','gsisid'], how='left')\n",
    "else:\n",
    "    df[['total_distance','max_step','mean_step','n_timestamps']] = 0"
   ]
  },
  {
   "cell_type": "code",
   "execution_count": null,
   "id": "af7cc2d2",
   "metadata": {},
   "outputs": [],
   "source": [
    "# Fill any remaining nulls in the summary stats\n",
    "for col in ['total_distance','max_step','mean_step','n_timestamps']:\n",
    "    if col in df.columns:\n",
    "        df[col] = df[col].fillna(0)\n",
    "\n",
    "# Define feature columns\n",
    "feature_cols = [\n",
    "    'position', 'role', 'season_year', 'week',\n",
    "    'player_activity_derived',\n",
    "    'turnover_related',\n",
    "    'primary_impact_type',\n",
    "    'primary_partner_activity_derived',\n",
    "    'friendly_fire',\n",
    "    'total_distance','max_step','mean_step','n_timestamps'\n",
    "]\n",
    "feature_cols = [c for c in feature_cols if c in df.columns]"
   ]
  },
  {
   "cell_type": "code",
   "execution_count": null,
   "id": "ce4c5bf3",
   "metadata": {},
   "outputs": [],
   "source": [
    "# One‑hot encode categoricals\n",
    "X = pd.get_dummies(df[feature_cols], drop_first=True)\n",
    "y = df['injury']\n",
    "\n",
    "# Quick check\n",
    "print(\"▶️  Data prep complete!\")\n",
    "print(\"   X shape:\", X.shape)\n",
    "print(\"   Injury prevalence:\", y.mean())"
   ]
  },
  {
   "cell_type": "code",
   "execution_count": null,
   "id": "f5e6e9f5",
   "metadata": {},
   "outputs": [],
   "source": [
    "X.isna().sum()"
   ]
  },
  {
   "cell_type": "code",
   "execution_count": null,
   "id": "a88b08bd",
   "metadata": {},
   "outputs": [],
   "source": [
    "mapping = {\n",
    "  'PR':'Returner',\n",
    "  'GL':'Gunner','GR':'Gunner',\n",
    "  'PLW':'Wing','PLG':'Wing','PRG':'Wing','PLL':'Wing',\n",
    "  # …etc…\n",
    "}\n",
    "df['role_group'] = df['role'].map(mapping)\n",
    "\n",
    "# 2) Drop all the old one‑hot role_ columns\n",
    "old_roles = [c for c in X.columns if c.startswith('role_')]\n",
    "X = X.drop(columns=old_roles)\n",
    "\n",
    "# 3) Add one‑hot encoding for the three groups\n",
    "role_group_dummies = pd.get_dummies(df['role_group'], prefix='role_group', drop_first=True)\n",
    "X = pd.concat([X.reset_index(drop=True), role_group_dummies.reset_index(drop=True)], axis=1)\n",
    "\n",
    "print(\"New feature set:\")\n",
    "print(X.filter(like='role_group_').columns)"
   ]
  },
  {
   "cell_type": "code",
   "execution_count": null,
   "id": "78ace3e3",
   "metadata": {},
   "outputs": [],
   "source": [
    "# Identify and drop all columns that came from video_review\n",
    "leak_cols = [c for c in X.columns if \n",
    "             c.startswith('player_activity_derived_') or\n",
    "             c.startswith('turnover_related_') or\n",
    "             c.startswith('primary_impact_type_') or\n",
    "             c.startswith('primary_partner_activity_derived_') or\n",
    "             c.startswith('friendly_fire_')]\n",
    "\n",
    "X_nomap = X.drop(columns=leak_cols)"
   ]
  },
  {
   "cell_type": "code",
   "execution_count": null,
   "id": "700b1841",
   "metadata": {},
   "outputs": [],
   "source": [
    "X_nomap.head()"
   ]
  },
  {
   "cell_type": "code",
   "execution_count": null,
   "id": "d01b980f",
   "metadata": {},
   "outputs": [],
   "source": [
    "from sklearn.model_selection import train_test_split\n",
    "X_train, X_test, y_train, y_test = train_test_split(X_nomap, y, test_size=0.2, random_state=42, stratify=y)\n",
    "X_train.to_csv('/Users/petershmorhun/Documents/GitHub/summer_milestone_2/scripts/punt_analytics/X_train.csv', index=False)\n",
    "X_test.to_csv('/Users/petershmorhun/Documents/GitHub/summer_milestone_2/scripts/punt_analytics/X_test.csv', index=False)\n",
    "y_train.to_csv('/Users/petershmorhun/Documents/GitHub/summer_milestone_2/scripts/punt_analytics/y_train.csv', index=False)\n",
    "y_test.to_csv('/Users/petershmorhun/Documents/GitHub/summer_milestone_2/scripts/punt_analytics/y_test.csv', index=False)"
   ]
  },
  {
   "cell_type": "code",
   "execution_count": null,
   "id": "55d33d48",
   "metadata": {},
   "outputs": [],
   "source": []
  }
 ],
 "metadata": {
  "kernelspec": {
   "display_name": "Python (uv)",
   "language": "python",
   "name": "uv"
  },
  "language_info": {
   "codemirror_mode": {
    "name": "ipython",
    "version": 3
   },
   "file_extension": ".py",
   "mimetype": "text/x-python",
   "name": "python",
   "nbconvert_exporter": "python",
   "pygments_lexer": "ipython3",
   "version": "3.11.7"
  }
 },
 "nbformat": 4,
 "nbformat_minor": 5
}
